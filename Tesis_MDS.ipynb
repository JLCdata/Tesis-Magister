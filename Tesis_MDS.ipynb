{
  "nbformat": 4,
  "nbformat_minor": 0,
  "metadata": {
    "colab": {
      "provenance": [],
      "authorship_tag": "ABX9TyMXoi6Q4KMO3iuXeJGOZpeN",
      "include_colab_link": true
    },
    "kernelspec": {
      "name": "python3",
      "display_name": "Python 3"
    },
    "language_info": {
      "name": "python"
    }
  },
  "cells": [
    {
      "cell_type": "markdown",
      "metadata": {
        "id": "view-in-github",
        "colab_type": "text"
      },
      "source": [
        "<a href=\"https://colab.research.google.com/github/JLCdata/Tesis-Magister/blob/main/Tesis_MDS.ipynb\" target=\"_parent\"><img src=\"https://colab.research.google.com/assets/colab-badge.svg\" alt=\"Open In Colab\"/></a>"
      ]
    },
    {
      "cell_type": "markdown",
      "source": [
        "# Lectura y guardado de información google colab\n",
        "\n"
      ],
      "metadata": {
        "id": "eZ42S_56FqAe"
      }
    },
    {
      "cell_type": "code",
      "execution_count": 1,
      "metadata": {
        "colab": {
          "base_uri": "https://localhost:8080/"
        },
        "id": "yewNOoDUsD4V",
        "outputId": "4d39e833-2136-4f08-c734-2c8f3d17d00d"
      },
      "outputs": [
        {
          "output_type": "stream",
          "name": "stdout",
          "text": [
            "Mounted at /content/drive\n"
          ]
        }
      ],
      "source": [
        "from google.colab import drive\n",
        "drive.mount('/content/drive')"
      ]
    },
    {
      "cell_type": "code",
      "source": [
        "!ls /content/drive/MyDrive/data_tesis_mds/"
      ],
      "metadata": {
        "colab": {
          "base_uri": "https://localhost:8080/"
        },
        "id": "HZvSJQAH33tK",
        "outputId": "bfdfc31f-297c-4c78-ce04-206648a1f01e"
      },
      "execution_count": 2,
      "outputs": [
        {
          "output_type": "stream",
          "name": "stdout",
          "text": [
            "consolidation_15December2022.csv\n"
          ]
        }
      ]
    },
    {
      "cell_type": "code",
      "source": [
        "file_path = '/content/drive/MyDrive/data_tesis_mds/consolidation_15December2022.csv'\n",
        "with open(file_path, 'r') as file:\n",
        "    content = file.read()"
      ],
      "metadata": {
        "id": "VcQY0Fc318gF"
      },
      "execution_count": 3,
      "outputs": []
    },
    {
      "cell_type": "code",
      "source": [
        "import pandas as pd\n",
        "from io import StringIO\n",
        "\n",
        "# Convierte la cadena de texto en un DataFrame\n",
        "df = pd.read_csv(StringIO(content))"
      ],
      "metadata": {
        "id": "gy6pywUXEB7m"
      },
      "execution_count": 14,
      "outputs": []
    },
    {
      "cell_type": "code",
      "source": [
        "df.shape"
      ],
      "metadata": {
        "colab": {
          "base_uri": "https://localhost:8080/"
        },
        "id": "n31-HCJsDvjS",
        "outputId": "669dd5f4-e35d-4794-80c4-ece98fa5d213"
      },
      "execution_count": 16,
      "outputs": [
        {
          "output_type": "execute_result",
          "data": {
            "text/plain": [
              "(2475480, 38)"
            ]
          },
          "metadata": {},
          "execution_count": 16
        }
      ]
    },
    {
      "cell_type": "code",
      "source": [
        "# Create a folder in the root directory\n",
        "!mkdir -p \"/content/drive/MyDrive/test\""
      ],
      "metadata": {
        "id": "qZ6F5TENF-eq"
      },
      "execution_count": 23,
      "outputs": []
    },
    {
      "cell_type": "code",
      "source": [
        "# Write a sample file to Google Drive\n",
        "with open('/content/drive/My Drive/test/sample.txt', 'w') as f:\n",
        "  f.write('Hello, World!')"
      ],
      "metadata": {
        "id": "MQSS41KsF1Og"
      },
      "execution_count": 22,
      "outputs": []
    }
  ]
}