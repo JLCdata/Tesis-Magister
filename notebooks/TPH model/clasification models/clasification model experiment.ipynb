{
 "cells": [
  {
   "cell_type": "markdown",
   "metadata": {},
   "source": [
    "# model TPH"
   ]
  },
  {
   "cell_type": "code",
   "execution_count": 1,
   "metadata": {},
   "outputs": [],
   "source": [
    "import pandas as pd\n",
    "import numpy as np\n",
    "import matplotlib.pyplot as plt\n",
    "import seaborn as sns\n",
    "from datetime import datetime\n",
    "from datetime import timedelta\n",
    "import re\n",
    "from dateutil.parser import parse\n",
    "import string\n",
    "import warnings\n",
    "warnings.filterwarnings('ignore')\n",
    "import plotly.graph_objects as go\n",
    "from sklearn.metrics import mean_absolute_percentage_error\n",
    "import missingno as msno\n",
    "from plotly.subplots import make_subplots\n",
    "from sklearn.preprocessing import MinMaxScaler\n",
    "import scipy\n",
    "import researchpy as rp\n",
    "from matplotlib.offsetbox import AnchoredText\n",
    "import pacmap\n",
    "from sklearn.compose import ColumnTransformer\n",
    "from sklearn.cluster import KMeans\n",
    "from sklearn.pipeline import Pipeline\n",
    "import plotly.express as px\n",
    "from sklearn.metrics import r2_score\n",
    "from sklearn.preprocessing import StandardScaler\n",
    "from sklearn.ensemble import RandomForestRegressor\n",
    "from imblearn.over_sampling import RandomOverSampler\n",
    "from sklearn.model_selection import train_test_split \n",
    "# Import Halving Grid Search\n",
    "from sklearn.experimental import enable_halving_search_cv \n",
    "from sklearn.model_selection import HalvingGridSearchCV\n",
    "import xgboost as xgb\n",
    "from scipy.stats import kurtosis,skew\n",
    "from numpy import mean,sqrt,square\n",
    "from scipy.fftpack import fft, fftfreq\n",
    "from sklearn.metrics import mean_squared_error\n",
    "from sklearn.model_selection import PredefinedSplit\n",
    "sns.set_style(\"darkgrid\")\n",
    "pd.set_option('display.max_columns', None)\n",
    "pd.options.display.max_colwidth = 100"
   ]
  },
  {
   "cell_type": "code",
   "execution_count": 2,
   "metadata": {},
   "outputs": [],
   "source": [
    "# Función que filtra tags por alta correlación\n",
    "def corrkill(dataframe, features, corr_cut=0.8):\n",
    "\n",
    "    df = dataframe[features]\n",
    "    dfcorr = pd.DataFrame(np.triu(df.corr()), columns=df.columns, index=df.columns)\n",
    "    dfcorr = dfcorr.stack().reset_index()\n",
    "    dfcorr.columns = ['Feat1','Feat2','Val']\n",
    "    dfcorr = dfcorr[~dfcorr['Val'].isin([0,1])]\n",
    "    dfcorr = dfcorr[dfcorr['Val'].abs()>corr_cut]\n",
    "    dfcorr[\"Val\"]=dfcorr[\"Val\"].abs()\n",
    "    \n",
    "    return list(dfcorr['Feat2']), dfcorr.sort_values(by=\"Val\",ascending=False)"
   ]
  },
  {
   "cell_type": "code",
   "execution_count": 3,
   "metadata": {},
   "outputs": [],
   "source": [
    "tag_select=['HH TPH',\n",
    " 'min_speed_3',\n",
    " 'min_solid percentage_10',\n",
    " 'rms_bornite law_3',\n",
    " 'sag power index_(t-2)',\n",
    " 'min_charge cell_5',\n",
    " 'rms_chalcopyrite law_3',\n",
    " 'min_ball work index_5',\n",
    " 'max_chalcocite law_3',\n",
    " 'rms_covelin law_3',\n",
    " 'Edad',\n",
    " 'max_granulometry_10',\n",
    " 'max_crusher index_3',\n",
    " 'var_speed_10',\n",
    " 'var_ball work index_3',\n",
    " 'min_pyrite law_3',\n",
    " 'var_charge cell_10',\n",
    " 'var_solid percentage_3',\n",
    " 'var_pyrite law_5',\n",
    " 'var_pyrite law_3',\n",
    " 'var_chalcopyrite law_3',\n",
    " 'var_solid percentage_5']"
   ]
  },
  {
   "cell_type": "code",
   "execution_count": 4,
   "metadata": {},
   "outputs": [
    {
     "name": "stdout",
     "output_type": "stream",
     "text": [
      "0\n",
      "0\n",
      "1\n",
      "1\n",
      "2\n",
      "2\n",
      "3\n",
      "3\n",
      "4\n",
      "4\n",
      "5\n",
      "5\n",
      "6\n",
      "6\n",
      "7\n",
      "7\n",
      "8\n",
      "8\n",
      "9\n",
      "9\n",
      "10\n",
      "10\n",
      "11\n",
      "11\n",
      "12\n",
      "12\n",
      "13\n",
      "13\n",
      "14\n",
      "14\n",
      "15\n",
      "15\n"
     ]
    }
   ],
   "source": [
    "list_r2=[]\n",
    "lis_rmse=[]\n",
    "list_std=[]\n",
    "list_error_mean=[]\n",
    "list_desfases=[]\n",
    "for desfase in range(16):\n",
    "    print(desfase)\n",
    "    # read df full csv\n",
    "    df_features=pd.read_csv('../../data/consolidated data/df_features_10November2022.csv', parse_dates=['Timestamp'], index_col='Timestamp')#[\"2020\":\"2021\"]\n",
    "    df_features[\"TPH\"]=df_features[\"TPH\"].shift(-desfase)\n",
    "    df_features[\"loss of TPH\"]=df_features[\"loss of TPH\"].shift(-desfase)\n",
    "    df_features.dropna(inplace=True)\n",
    "    df_features.sort_index(inplace=True)\n",
    "    # Verificando si hay duplicados\n",
    "    u=[i for i in df_features.columns if (not re.match(\".*water\",i)) and (not re.match(\".*power\",i)) ]\n",
    "    y=[i for i in df_features.columns if  re.match(\".*sag power index\",i)] \n",
    "    u=y+u\n",
    "    df_features=df_features[u]\n",
    "    # Entrenamiento\n",
    "    entrenamiento=pd.concat([df_features[\"2020-01\":\"2020-03\"],df_features[\"2020-05\"],df_features[\"2020-07\":\"2020-12\"],df_features[\"2021-01\":\"2021-08\"],df_features[\"2021-10\"],df_features[\"2021-12\"]])\n",
    "    # Validación\n",
    "    validacion=pd.concat([df_features[\"2020-06\"],df_features[\"2021-11\"]])\n",
    "    # Test\n",
    "    test=pd.concat([df_features[\"2020-04\"],df_features[\"2021-09\"],df_features[\"2022\"]])\n",
    "    tags=df_features.columns.to_list()\n",
    "    tags.remove(\"loss of TPH\")\n",
    "    #tags.remove(\"TPH\")\n",
    "    # Sobremuestreo: Aumentar numero de datos de la clase minoritaria\n",
    "    # ROS(Duplica clases):\n",
    "    ros=RandomOverSampler(random_state=0) # Random_state=0\n",
    "\n",
    "    # ROS:\n",
    "    Xtrain, Ytrain=ros.fit_resample(entrenamiento[tags],entrenamiento[\"loss of TPH\"])\n",
    "\n",
    "    # Ytrain reg\n",
    "    Ytrain=Xtrain[\"TPH\"]\n",
    "    Xtrain=Xtrain.drop(columns=[\"TPH\"])\n",
    "\n",
    "    # Yval reg\n",
    "    Yval=validacion[\"TPH\"]\n",
    "    Xval=validacion.drop(columns=[\"TPH\"])\n",
    "\n",
    "    # Ytest reg\n",
    "    Ytest=test[\"TPH\"]\n",
    "    Xtest=test.drop(columns=[\"TPH\"])\n",
    "\n",
    "    # Preprocesamiento de datos\n",
    "\n",
    "    preprocessing_transformer = ColumnTransformer(\n",
    "        transformers=[\n",
    "            ('MinMax', MinMaxScaler(),\n",
    "            tag_select\n",
    "            ),\n",
    "        ])\n",
    "\n",
    "    pipe = Pipeline(\n",
    "        [\n",
    "            (\"preprocesamiento\", preprocessing_transformer), \n",
    "        (\"clf\", xgb.XGBRegressor(seed=1,eval_metric='rmse',gamma= 12.525, learning_rate= 0.112, n_estimators= 100\n",
    "        \n",
    "        ))\n",
    "        ]\n",
    "    )\n",
    "    pipe.fit(Xtrain, Ytrain)\n",
    "\n",
    "    Ypred= pipe.predict(Xtest)\n",
    "\n",
    "    list_r2.append(r2_score(Ytest, Ypred))\n",
    "    lis_rmse.append(mean_squared_error(Ytest, Ypred, squared=False))\n",
    "    list_std.append((Ytest-Ypred).abs().std())\n",
    "    list_error_mean.append((Ytest-Ypred).abs().mean())  \n",
    "    list_desfases.append(desfase)  \n",
    "    del df_features,entrenamiento,validacion,test,Xtrain,Xval,Xtest,Ytrain,Yval,Ytest\n",
    "    print(desfase)"
   ]
  },
  {
   "cell_type": "code",
   "execution_count": 6,
   "metadata": {},
   "outputs": [
    {
     "data": {
      "application/vnd.plotly.v1+json": {
       "config": {
        "plotlyServerURL": "https://plot.ly"
       },
       "data": [
        {
         "legendgroup": "1",
         "line": {
          "width": 3
         },
         "mode": "lines",
         "name": "R2",
         "type": "scatter",
         "x": [
          0,
          1,
          2,
          3,
          4,
          5,
          6,
          7,
          8,
          9,
          10,
          11,
          12,
          13,
          14,
          15
         ],
         "xaxis": "x",
         "y": [
          0.599514688545143,
          0.5991502170378292,
          0.5950131812424871,
          0.5902047884772388,
          0.5868855280787222,
          0.581853348201331,
          0.5728236484508873,
          0.5651767899451603,
          0.5605546183961505,
          0.5564188626028392,
          0.5490548184073034,
          0.5473527164106182,
          0.5186563497697172,
          0.5227247535740593,
          0.5140474663825658,
          0.501559463191044
         ],
         "yaxis": "y"
        },
        {
         "legendgroup": "1",
         "line": {
          "width": 3
         },
         "mode": "lines",
         "name": "RMSE",
         "type": "scatter",
         "x": [
          0,
          1,
          2,
          3,
          4,
          5,
          6,
          7,
          8,
          9,
          10,
          11,
          12,
          13,
          14,
          15
         ],
         "xaxis": "x2",
         "y": [
          273.56112934969644,
          273.68634306541816,
          275.0959140052793,
          276.72508578475816,
          277.84445211720697,
          279.53253520271716,
          282.53558658760005,
          285.0541433424469,
          286.56627424594274,
          287.91249714835385,
          290.29343143551597,
          290.8417064461707,
          299.92019828586047,
          298.6511046527036,
          301.3548528719341,
          305.2033314918774
         ],
         "yaxis": "y2"
        },
        {
         "legendgroup": "1",
         "line": {
          "width": 3
         },
         "mode": "lines",
         "name": "Mean error",
         "type": "scatter",
         "x": [
          0,
          1,
          2,
          3,
          4,
          5,
          6,
          7,
          8,
          9,
          10,
          11,
          12,
          13,
          14,
          15
         ],
         "xaxis": "x3",
         "y": [
          184.8255169932355,
          186.7284299523836,
          186.60289985303876,
          186.91536965543418,
          187.1350229104488,
          187.47983015357372,
          190.00042837866422,
          190.37182387157057,
          192.3582753213966,
          190.72574326908386,
          192.08506326821035,
          195.22485525104338,
          199.84549368947282,
          200.04752560226657,
          200.619879666046,
          203.86205090930792
         ],
         "yaxis": "y3"
        },
        {
         "legendgroup": "1",
         "line": {
          "width": 3
         },
         "mode": "lines",
         "name": "STD",
         "type": "scatter",
         "x": [
          0,
          1,
          2,
          3,
          4,
          5,
          6,
          7,
          8,
          9,
          10,
          11,
          12,
          13,
          14,
          15
         ],
         "xaxis": "x4",
         "y": [
          201.68173956894583,
          200.09249703442748,
          202.1321977088445,
          204.0581515798762,
          205.37365542285283,
          207.34047643236832,
          209.1088760945345,
          212.16684498469348,
          212.4120077353389,
          215.67949581856078,
          217.6555978177346,
          215.5840946034573,
          223.63872251951037,
          221.75174800527026,
          224.8706063278263,
          227.13371341044862
         ],
         "yaxis": "y4"
        }
       ],
       "layout": {
        "annotations": [
         {
          "font": {
           "size": 16
          },
          "showarrow": false,
          "text": "R2",
          "x": 0.5,
          "xanchor": "center",
          "xref": "paper",
          "y": 1,
          "yanchor": "bottom",
          "yref": "paper"
         },
         {
          "font": {
           "size": 16
          },
          "showarrow": false,
          "text": "RMSE",
          "x": 0.5,
          "xanchor": "center",
          "xref": "paper",
          "y": 0.71875,
          "yanchor": "bottom",
          "yref": "paper"
         },
         {
          "font": {
           "size": 16
          },
          "showarrow": false,
          "text": "Mean error",
          "x": 0.5,
          "xanchor": "center",
          "xref": "paper",
          "y": 0.4375,
          "yanchor": "bottom",
          "yref": "paper"
         },
         {
          "font": {
           "size": 16
          },
          "showarrow": false,
          "text": "STD",
          "x": 0.5,
          "xanchor": "center",
          "xref": "paper",
          "y": 0.15625,
          "yanchor": "bottom",
          "yref": "paper"
         }
        ],
        "height": 1000,
        "hovermode": "x unified",
        "template": {
         "data": {
          "bar": [
           {
            "error_x": {
             "color": "#2a3f5f"
            },
            "error_y": {
             "color": "#2a3f5f"
            },
            "marker": {
             "line": {
              "color": "#E5ECF6",
              "width": 0.5
             },
             "pattern": {
              "fillmode": "overlay",
              "size": 10,
              "solidity": 0.2
             }
            },
            "type": "bar"
           }
          ],
          "barpolar": [
           {
            "marker": {
             "line": {
              "color": "#E5ECF6",
              "width": 0.5
             },
             "pattern": {
              "fillmode": "overlay",
              "size": 10,
              "solidity": 0.2
             }
            },
            "type": "barpolar"
           }
          ],
          "carpet": [
           {
            "aaxis": {
             "endlinecolor": "#2a3f5f",
             "gridcolor": "white",
             "linecolor": "white",
             "minorgridcolor": "white",
             "startlinecolor": "#2a3f5f"
            },
            "baxis": {
             "endlinecolor": "#2a3f5f",
             "gridcolor": "white",
             "linecolor": "white",
             "minorgridcolor": "white",
             "startlinecolor": "#2a3f5f"
            },
            "type": "carpet"
           }
          ],
          "choropleth": [
           {
            "colorbar": {
             "outlinewidth": 0,
             "ticks": ""
            },
            "type": "choropleth"
           }
          ],
          "contour": [
           {
            "colorbar": {
             "outlinewidth": 0,
             "ticks": ""
            },
            "colorscale": [
             [
              0,
              "#0d0887"
             ],
             [
              0.1111111111111111,
              "#46039f"
             ],
             [
              0.2222222222222222,
              "#7201a8"
             ],
             [
              0.3333333333333333,
              "#9c179e"
             ],
             [
              0.4444444444444444,
              "#bd3786"
             ],
             [
              0.5555555555555556,
              "#d8576b"
             ],
             [
              0.6666666666666666,
              "#ed7953"
             ],
             [
              0.7777777777777778,
              "#fb9f3a"
             ],
             [
              0.8888888888888888,
              "#fdca26"
             ],
             [
              1,
              "#f0f921"
             ]
            ],
            "type": "contour"
           }
          ],
          "contourcarpet": [
           {
            "colorbar": {
             "outlinewidth": 0,
             "ticks": ""
            },
            "type": "contourcarpet"
           }
          ],
          "heatmap": [
           {
            "colorbar": {
             "outlinewidth": 0,
             "ticks": ""
            },
            "colorscale": [
             [
              0,
              "#0d0887"
             ],
             [
              0.1111111111111111,
              "#46039f"
             ],
             [
              0.2222222222222222,
              "#7201a8"
             ],
             [
              0.3333333333333333,
              "#9c179e"
             ],
             [
              0.4444444444444444,
              "#bd3786"
             ],
             [
              0.5555555555555556,
              "#d8576b"
             ],
             [
              0.6666666666666666,
              "#ed7953"
             ],
             [
              0.7777777777777778,
              "#fb9f3a"
             ],
             [
              0.8888888888888888,
              "#fdca26"
             ],
             [
              1,
              "#f0f921"
             ]
            ],
            "type": "heatmap"
           }
          ],
          "heatmapgl": [
           {
            "colorbar": {
             "outlinewidth": 0,
             "ticks": ""
            },
            "colorscale": [
             [
              0,
              "#0d0887"
             ],
             [
              0.1111111111111111,
              "#46039f"
             ],
             [
              0.2222222222222222,
              "#7201a8"
             ],
             [
              0.3333333333333333,
              "#9c179e"
             ],
             [
              0.4444444444444444,
              "#bd3786"
             ],
             [
              0.5555555555555556,
              "#d8576b"
             ],
             [
              0.6666666666666666,
              "#ed7953"
             ],
             [
              0.7777777777777778,
              "#fb9f3a"
             ],
             [
              0.8888888888888888,
              "#fdca26"
             ],
             [
              1,
              "#f0f921"
             ]
            ],
            "type": "heatmapgl"
           }
          ],
          "histogram": [
           {
            "marker": {
             "pattern": {
              "fillmode": "overlay",
              "size": 10,
              "solidity": 0.2
             }
            },
            "type": "histogram"
           }
          ],
          "histogram2d": [
           {
            "colorbar": {
             "outlinewidth": 0,
             "ticks": ""
            },
            "colorscale": [
             [
              0,
              "#0d0887"
             ],
             [
              0.1111111111111111,
              "#46039f"
             ],
             [
              0.2222222222222222,
              "#7201a8"
             ],
             [
              0.3333333333333333,
              "#9c179e"
             ],
             [
              0.4444444444444444,
              "#bd3786"
             ],
             [
              0.5555555555555556,
              "#d8576b"
             ],
             [
              0.6666666666666666,
              "#ed7953"
             ],
             [
              0.7777777777777778,
              "#fb9f3a"
             ],
             [
              0.8888888888888888,
              "#fdca26"
             ],
             [
              1,
              "#f0f921"
             ]
            ],
            "type": "histogram2d"
           }
          ],
          "histogram2dcontour": [
           {
            "colorbar": {
             "outlinewidth": 0,
             "ticks": ""
            },
            "colorscale": [
             [
              0,
              "#0d0887"
             ],
             [
              0.1111111111111111,
              "#46039f"
             ],
             [
              0.2222222222222222,
              "#7201a8"
             ],
             [
              0.3333333333333333,
              "#9c179e"
             ],
             [
              0.4444444444444444,
              "#bd3786"
             ],
             [
              0.5555555555555556,
              "#d8576b"
             ],
             [
              0.6666666666666666,
              "#ed7953"
             ],
             [
              0.7777777777777778,
              "#fb9f3a"
             ],
             [
              0.8888888888888888,
              "#fdca26"
             ],
             [
              1,
              "#f0f921"
             ]
            ],
            "type": "histogram2dcontour"
           }
          ],
          "mesh3d": [
           {
            "colorbar": {
             "outlinewidth": 0,
             "ticks": ""
            },
            "type": "mesh3d"
           }
          ],
          "parcoords": [
           {
            "line": {
             "colorbar": {
              "outlinewidth": 0,
              "ticks": ""
             }
            },
            "type": "parcoords"
           }
          ],
          "pie": [
           {
            "automargin": true,
            "type": "pie"
           }
          ],
          "scatter": [
           {
            "marker": {
             "colorbar": {
              "outlinewidth": 0,
              "ticks": ""
             }
            },
            "type": "scatter"
           }
          ],
          "scatter3d": [
           {
            "line": {
             "colorbar": {
              "outlinewidth": 0,
              "ticks": ""
             }
            },
            "marker": {
             "colorbar": {
              "outlinewidth": 0,
              "ticks": ""
             }
            },
            "type": "scatter3d"
           }
          ],
          "scattercarpet": [
           {
            "marker": {
             "colorbar": {
              "outlinewidth": 0,
              "ticks": ""
             }
            },
            "type": "scattercarpet"
           }
          ],
          "scattergeo": [
           {
            "marker": {
             "colorbar": {
              "outlinewidth": 0,
              "ticks": ""
             }
            },
            "type": "scattergeo"
           }
          ],
          "scattergl": [
           {
            "marker": {
             "colorbar": {
              "outlinewidth": 0,
              "ticks": ""
             }
            },
            "type": "scattergl"
           }
          ],
          "scattermapbox": [
           {
            "marker": {
             "colorbar": {
              "outlinewidth": 0,
              "ticks": ""
             }
            },
            "type": "scattermapbox"
           }
          ],
          "scatterpolar": [
           {
            "marker": {
             "colorbar": {
              "outlinewidth": 0,
              "ticks": ""
             }
            },
            "type": "scatterpolar"
           }
          ],
          "scatterpolargl": [
           {
            "marker": {
             "colorbar": {
              "outlinewidth": 0,
              "ticks": ""
             }
            },
            "type": "scatterpolargl"
           }
          ],
          "scatterternary": [
           {
            "marker": {
             "colorbar": {
              "outlinewidth": 0,
              "ticks": ""
             }
            },
            "type": "scatterternary"
           }
          ],
          "surface": [
           {
            "colorbar": {
             "outlinewidth": 0,
             "ticks": ""
            },
            "colorscale": [
             [
              0,
              "#0d0887"
             ],
             [
              0.1111111111111111,
              "#46039f"
             ],
             [
              0.2222222222222222,
              "#7201a8"
             ],
             [
              0.3333333333333333,
              "#9c179e"
             ],
             [
              0.4444444444444444,
              "#bd3786"
             ],
             [
              0.5555555555555556,
              "#d8576b"
             ],
             [
              0.6666666666666666,
              "#ed7953"
             ],
             [
              0.7777777777777778,
              "#fb9f3a"
             ],
             [
              0.8888888888888888,
              "#fdca26"
             ],
             [
              1,
              "#f0f921"
             ]
            ],
            "type": "surface"
           }
          ],
          "table": [
           {
            "cells": {
             "fill": {
              "color": "#EBF0F8"
             },
             "line": {
              "color": "white"
             }
            },
            "header": {
             "fill": {
              "color": "#C8D4E3"
             },
             "line": {
              "color": "white"
             }
            },
            "type": "table"
           }
          ]
         },
         "layout": {
          "annotationdefaults": {
           "arrowcolor": "#2a3f5f",
           "arrowhead": 0,
           "arrowwidth": 1
          },
          "autotypenumbers": "strict",
          "coloraxis": {
           "colorbar": {
            "outlinewidth": 0,
            "ticks": ""
           }
          },
          "colorscale": {
           "diverging": [
            [
             0,
             "#8e0152"
            ],
            [
             0.1,
             "#c51b7d"
            ],
            [
             0.2,
             "#de77ae"
            ],
            [
             0.3,
             "#f1b6da"
            ],
            [
             0.4,
             "#fde0ef"
            ],
            [
             0.5,
             "#f7f7f7"
            ],
            [
             0.6,
             "#e6f5d0"
            ],
            [
             0.7,
             "#b8e186"
            ],
            [
             0.8,
             "#7fbc41"
            ],
            [
             0.9,
             "#4d9221"
            ],
            [
             1,
             "#276419"
            ]
           ],
           "sequential": [
            [
             0,
             "#0d0887"
            ],
            [
             0.1111111111111111,
             "#46039f"
            ],
            [
             0.2222222222222222,
             "#7201a8"
            ],
            [
             0.3333333333333333,
             "#9c179e"
            ],
            [
             0.4444444444444444,
             "#bd3786"
            ],
            [
             0.5555555555555556,
             "#d8576b"
            ],
            [
             0.6666666666666666,
             "#ed7953"
            ],
            [
             0.7777777777777778,
             "#fb9f3a"
            ],
            [
             0.8888888888888888,
             "#fdca26"
            ],
            [
             1,
             "#f0f921"
            ]
           ],
           "sequentialminus": [
            [
             0,
             "#0d0887"
            ],
            [
             0.1111111111111111,
             "#46039f"
            ],
            [
             0.2222222222222222,
             "#7201a8"
            ],
            [
             0.3333333333333333,
             "#9c179e"
            ],
            [
             0.4444444444444444,
             "#bd3786"
            ],
            [
             0.5555555555555556,
             "#d8576b"
            ],
            [
             0.6666666666666666,
             "#ed7953"
            ],
            [
             0.7777777777777778,
             "#fb9f3a"
            ],
            [
             0.8888888888888888,
             "#fdca26"
            ],
            [
             1,
             "#f0f921"
            ]
           ]
          },
          "colorway": [
           "#636efa",
           "#EF553B",
           "#00cc96",
           "#ab63fa",
           "#FFA15A",
           "#19d3f3",
           "#FF6692",
           "#B6E880",
           "#FF97FF",
           "#FECB52"
          ],
          "font": {
           "color": "#2a3f5f"
          },
          "geo": {
           "bgcolor": "white",
           "lakecolor": "white",
           "landcolor": "#E5ECF6",
           "showlakes": true,
           "showland": true,
           "subunitcolor": "white"
          },
          "hoverlabel": {
           "align": "left"
          },
          "hovermode": "closest",
          "mapbox": {
           "style": "light"
          },
          "paper_bgcolor": "white",
          "plot_bgcolor": "#E5ECF6",
          "polar": {
           "angularaxis": {
            "gridcolor": "white",
            "linecolor": "white",
            "ticks": ""
           },
           "bgcolor": "#E5ECF6",
           "radialaxis": {
            "gridcolor": "white",
            "linecolor": "white",
            "ticks": ""
           }
          },
          "scene": {
           "xaxis": {
            "backgroundcolor": "#E5ECF6",
            "gridcolor": "white",
            "gridwidth": 2,
            "linecolor": "white",
            "showbackground": true,
            "ticks": "",
            "zerolinecolor": "white"
           },
           "yaxis": {
            "backgroundcolor": "#E5ECF6",
            "gridcolor": "white",
            "gridwidth": 2,
            "linecolor": "white",
            "showbackground": true,
            "ticks": "",
            "zerolinecolor": "white"
           },
           "zaxis": {
            "backgroundcolor": "#E5ECF6",
            "gridcolor": "white",
            "gridwidth": 2,
            "linecolor": "white",
            "showbackground": true,
            "ticks": "",
            "zerolinecolor": "white"
           }
          },
          "shapedefaults": {
           "line": {
            "color": "#2a3f5f"
           }
          },
          "ternary": {
           "aaxis": {
            "gridcolor": "white",
            "linecolor": "white",
            "ticks": ""
           },
           "baxis": {
            "gridcolor": "white",
            "linecolor": "white",
            "ticks": ""
           },
           "bgcolor": "#E5ECF6",
           "caxis": {
            "gridcolor": "white",
            "linecolor": "white",
            "ticks": ""
           }
          },
          "title": {
           "x": 0.05
          },
          "xaxis": {
           "automargin": true,
           "gridcolor": "white",
           "linecolor": "white",
           "ticks": "",
           "title": {
            "standoff": 15
           },
           "zerolinecolor": "white",
           "zerolinewidth": 2
          },
          "yaxis": {
           "automargin": true,
           "gridcolor": "white",
           "linecolor": "white",
           "ticks": "",
           "title": {
            "standoff": 15
           },
           "zerolinecolor": "white",
           "zerolinewidth": 2
          }
         }
        },
        "title": {
         "text": "Metrics"
        },
        "width": 1500,
        "xaxis": {
         "anchor": "y",
         "domain": [
          0,
          1
         ]
        },
        "xaxis2": {
         "anchor": "y2",
         "domain": [
          0,
          1
         ]
        },
        "xaxis3": {
         "anchor": "y3",
         "domain": [
          0,
          1
         ]
        },
        "xaxis4": {
         "anchor": "y4",
         "domain": [
          0,
          1
         ]
        },
        "yaxis": {
         "anchor": "x",
         "domain": [
          0.84375,
          1
         ]
        },
        "yaxis2": {
         "anchor": "x2",
         "domain": [
          0.5625,
          0.71875
         ]
        },
        "yaxis3": {
         "anchor": "x3",
         "domain": [
          0.28125,
          0.4375
         ]
        },
        "yaxis4": {
         "anchor": "x4",
         "domain": [
          0,
          0.15625
         ]
        }
       }
      }
     },
     "metadata": {},
     "output_type": "display_data"
    }
   ],
   "source": [
    "titulos=tuple([\"R2\",\"RMSE\",\"Mean error\",\"STD\"])\n",
    "fig = make_subplots(\n",
    "    rows=4, cols=1,\n",
    "    subplot_titles=titulos,\n",
    "    #subplot_titles=tuple(\"TPH y HH TPH,\"),\n",
    "     #shared_xaxes=True\n",
    "    )\n",
    "\n",
    "\n",
    "fig.add_trace(go.Scatter(x=list_desfases, y=list_r2, ##FF6511\n",
    "                    mode='lines',\n",
    "                    name=\"R2\",line=dict(width=3, ),legendgroup = '1'),row=1, col=1)  \n",
    "\n",
    "fig.add_trace(go.Scatter(x=list_desfases, y=lis_rmse, ##FF6511\n",
    "                    mode='lines',\n",
    "                    name=\"RMSE\",line=dict(width=3, ),legendgroup = '1'),row=2, col=1)  \n",
    "\n",
    "fig.add_trace(go.Scatter(x=list_desfases, y=list_error_mean, ##FF6511\n",
    "                    mode='lines',\n",
    "                    name=\"Mean error\",line=dict(width=3, ),legendgroup = '1'),row=3, col=1)  \n",
    "\n",
    "#fig.add_trace(go.Scatter(x=list_desfases, y=data[\"TPH predict\"], ##FF6511\n",
    "#                    mode='lines',\n",
    "#                    name=\"regressor model TPH\",line=dict(width=1,color=\"black\" ),legendgroup = '1'),row=1, col=1)  \n",
    "\n",
    "fig.add_trace(go.Scatter(x=list_desfases, y=list_std, \n",
    "                    mode='lines',\n",
    "                    name=\"STD\",line=dict(width=3, ),legendgroup = '1'),row=4, col=1)  \n",
    "\n",
    "\n",
    "\n",
    "\n",
    "#for i in range(1,6):\n",
    "#   for j in range(1,4):\n",
    "#        fig.update_xaxes(tickformat=\"%H:%M\",row=i, col=j)\n",
    "\n",
    "\n",
    "fig.update_layout(height=1000, width=1500, title_text=\"Metrics\")\n",
    "fig.update_layout(hovermode=\"x unified\")\n",
    "#\n",
    "\n",
    "fig.show()"
   ]
  }
 ],
 "metadata": {
  "kernelspec": {
   "display_name": "Python 3.9.6 ('Programacion_Cientifica')",
   "language": "python",
   "name": "python3"
  },
  "language_info": {
   "codemirror_mode": {
    "name": "ipython",
    "version": 3
   },
   "file_extension": ".py",
   "mimetype": "text/x-python",
   "name": "python",
   "nbconvert_exporter": "python",
   "pygments_lexer": "ipython3",
   "version": "3.9.6"
  },
  "orig_nbformat": 4,
  "vscode": {
   "interpreter": {
    "hash": "65e97ffa20fbdd895c76c3a1d2c2ade704754874d6e45df701862667e65d73d7"
   }
  }
 },
 "nbformat": 4,
 "nbformat_minor": 2
}
