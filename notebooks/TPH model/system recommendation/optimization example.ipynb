{
 "cells": [
  {
   "cell_type": "code",
   "execution_count": 21,
   "metadata": {},
   "outputs": [],
   "source": [
    "from scipy.optimize import minimize\n",
    "import numpy as np\n",
    "\n",
    "def f(x,y):\n",
    "    fun=y*np.sin(x)\n",
    "    return fun"
   ]
  },
  {
   "cell_type": "code",
   "execution_count": 12,
   "metadata": {},
   "outputs": [
    {
     "name": "stdout",
     "output_type": "stream",
     "text": [
      "Mínimo -1.9999999999999503 encontrado en [4.71238876]\n"
     ]
    }
   ],
   "source": [
    "res=minimize(lambda x: f(x,2),2)\n",
    "print('Mínimo {} encontrado en {}'.format(res.fun,res.x))"
   ]
  },
  {
   "cell_type": "code",
   "execution_count": 24,
   "metadata": {},
   "outputs": [
    {
     "name": "stdout",
     "output_type": "stream",
     "text": [
      "Máximo 2.0 encontrado en [7.85398163]\n"
     ]
    }
   ],
   "source": [
    "res=minimize(lambda x: -f(x,2),10)\n",
    "print('Máximo {} encontrado en {}'.format(-res.fun,res.x))"
   ]
  },
  {
   "cell_type": "code",
   "execution_count": 26,
   "metadata": {},
   "outputs": [],
   "source": [
    "def f(x,y):\n",
    "    fun=y*x**2\n",
    "    return fun"
   ]
  },
  {
   "cell_type": "code",
   "execution_count": 28,
   "metadata": {},
   "outputs": [
    {
     "name": "stdout",
     "output_type": "stream",
     "text": [
      "Mínimo 0.0 encontrado en [0.]\n"
     ]
    }
   ],
   "source": [
    "res=minimize(lambda x: f(x,1),0)\n",
    "print('Mínimo {} encontrado en {}'.format(res.fun,res.x))"
   ]
  },
  {
   "attachments": {},
   "cell_type": "markdown",
   "metadata": {},
   "source": [
    "# Restricciones"
   ]
  },
  {
   "cell_type": "code",
   "execution_count": 46,
   "metadata": {},
   "outputs": [],
   "source": [
    "def f(x,y):\n",
    "    fun=y*x**2\n",
    "    return fun"
   ]
  },
  {
   "cell_type": "code",
   "execution_count": 56,
   "metadata": {},
   "outputs": [
    {
     "data": {
      "text/plain": [
       "     fun: array([100.])\n",
       "     jac: array([20.])\n",
       " message: 'Optimization terminated successfully'\n",
       "    nfev: 4\n",
       "     nit: 2\n",
       "    njev: 2\n",
       "  status: 0\n",
       " success: True\n",
       "       x: array([10.])"
      ]
     },
     "execution_count": 56,
     "metadata": {},
     "output_type": "execute_result"
    }
   ],
   "source": [
    "X0=12\n",
    "constraint1=lambda x: 25-x\n",
    "constraint2=lambda x: -10+x\n",
    "cons1={\"type\":\"ineq\",\"fun\":constraint1}\n",
    "cons2={\"type\":\"ineq\",\"fun\":constraint2}\n",
    "cons=[cons1,cons2]\n",
    "solution=minimize(lambda x:f(x,1),X0,constraints=cons)\n",
    "solution\n"
   ]
  },
  {
   "cell_type": "code",
   "execution_count": 57,
   "metadata": {},
   "outputs": [
    {
     "name": "stdout",
     "output_type": "stream",
     "text": [
      "Mínimo [100.] encontrado en [10.]\n"
     ]
    }
   ],
   "source": [
    "print('Mínimo {} encontrado en {}'.format(solution.fun,solution.x))"
   ]
  },
  {
   "cell_type": "code",
   "execution_count": 61,
   "metadata": {},
   "outputs": [
    {
     "name": "stdout",
     "output_type": "stream",
     "text": [
      "Máximo [625.] encontrado en [25.]\n"
     ]
    }
   ],
   "source": [
    "solution=minimize(lambda x:-f(x,1),X0,constraints=cons)\n",
    "solution\n",
    "print('Máximo {} encontrado en {}'.format(-solution.fun,solution.x))"
   ]
  }
 ],
 "metadata": {
  "kernelspec": {
   "display_name": "anglo_american",
   "language": "python",
   "name": "python3"
  },
  "language_info": {
   "codemirror_mode": {
    "name": "ipython",
    "version": 3
   },
   "file_extension": ".py",
   "mimetype": "text/x-python",
   "name": "python",
   "nbconvert_exporter": "python",
   "pygments_lexer": "ipython3",
   "version": "3.9.2"
  },
  "orig_nbformat": 4,
  "vscode": {
   "interpreter": {
    "hash": "ffcddc64120913561610521d74b4de27f3c5fcc7261dc5b14d51ddc2c606b013"
   }
  }
 },
 "nbformat": 4,
 "nbformat_minor": 2
}
