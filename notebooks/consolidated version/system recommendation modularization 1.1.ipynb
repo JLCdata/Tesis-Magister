{
 "cells": [
  {
   "attachments": {},
   "cell_type": "markdown",
   "metadata": {},
   "source": [
    "# System recommendation \n",
    "- **Paso 1:** Generar predicción de TPH.\n",
    "- **Paso 2:** Explorar espacio 10 minutos antes del inicio de la caida según el cluster al cual pertenece el modelo.\n",
    "- **Paso 3:** Generar recomendación a partir de la curva de molienda.\n",
    "- **Paso 4:** Dado el HH celda de carga recomendado --> Obtener LL celda de carga y con esto la celda de carga promedio.\n",
    "- **Paso 5:** Dadas las nuevas variables de la familia celda de carga, generar predicción de TPH, con el objetivo de obtener el TPH optimo que se obtendria si se siguiese la recomendación!"
   ]
  },
  {
   "cell_type": "code",
   "execution_count": null,
   "metadata": {},
   "outputs": [],
   "source": [
    "import warnings\n",
    "warnings.filterwarnings('ignore')"
   ]
  },
  {
   "cell_type": "code",
   "execution_count": null,
   "metadata": {},
   "outputs": [],
   "source": [
    "import pandas as pd\n",
    "import numpy as np\n",
    "import matplotlib.pyplot as plt\n",
    "import seaborn as sns\n",
    "from datetime import timedelta\n",
    "\n",
    "import plotly.graph_objects as go\n",
    "from plotly.subplots import make_subplots\n",
    "from sklearn.pipeline import Pipeline\n",
    "from sklearn.metrics import r2_score\n",
    "import xgboost as xgb\n",
    "\n",
    "from numpy import mean,sqrt,square\n",
    "from sklearn.metrics import mean_squared_error\n",
    "import pickle\n",
    "import missingno as msno\n",
    "import auxiliar_functions as af\n",
    "sns.set_style(\"darkgrid\")\n",
    "pd.set_option('display.max_columns', None)\n",
    "pd.options.display.max_colwidth = 100"
   ]
  },
  {
   "cell_type": "code",
   "execution_count": null,
   "metadata": {},
   "outputs": [],
   "source": [
    "tag_select=['min_water_3',# 1\n",
    " 'min_solid percentage_10',# 2\n",
    " 'HH TPH',# 3\n",
    " 'max_delta LL charge cell_10',# 4\n",
    " 'power',# 5\n",
    " 'rms_delta LL charge cell_3',# 6\n",
    " 'var_delta HH charge cell_10',# 7\n",
    " 'max_covelin law_10',# 8\n",
    " 'LL charge cell_(t-2)',# 9\n",
    " 'min_granulometry_5',# 10\n",
    " 'max_bornite law_10', # 11\n",
    " 'min_charge cell_5',# 12\n",
    " 'chalcocite law_(t-2)',# 13\n",
    " 'max_sag power index_5',# 14\n",
    " 'min_speed_3',# 15\n",
    " 'var_bornite law_3',# 16\n",
    " 'var_speed_3',# 17\n",
    " 'min_pyrite law_10', # 18\n",
    " 'crusher index_(t-5)', # 19\n",
    " 'var_power_3',# 20\n",
    " 'var_chalcocite law_3',# 21\n",
    " 'var_bornite law_5',# 22\n",
    " 'var_solid percentage_3',# 23\n",
    " 'var_speed_10',# 24\n",
    " 'ball work index_(t-1)',# 25\n",
    " 'var_chalcocite law_5', # 26\n",
    " 'var_water_3',# 27\n",
    " 'chalcopyrite law_(t-5)',# 28\n",
    " 'var_crusher index_10',# 29\n",
    " 'var_chalcopyrite law_3',# 30\n",
    " 'var_granulometry_3',# 31\n",
    " 'var_delta HH charge cell_3'# 32\n",
    " ]"
   ]
  },
  {
   "cell_type": "code",
   "execution_count": null,
   "metadata": {},
   "outputs": [],
   "source": [
    "variables_interes=['pyrite law', 'chalcopyrite law',\n",
    "       'chalcocite law', 'covelin law', 'crusher index', 'sag power index',\n",
    "       'ball work index', 'bornite law','charge cell', 'speed','HH TPH', 'granulometry','Edad','loss of TPH',\"solid percentage\",\"HH charge cell\",\"LL charge cell\",\"TPH\",\n",
    "       #\"recommendation base model carl\",\"recommendation base model acn\",\n",
    "       \"water\",\"power\"]"
   ]
  },
  {
   "cell_type": "code",
   "execution_count": null,
   "metadata": {},
   "outputs": [],
   "source": [
    "# read df full csv\n",
    "df_features=pd.read_csv('../../data/processed data/df_feature_engineering_18December2022.csv', parse_dates=['Timestamp'], index_col='Timestamp')#[variables_interes]#[\"2020\":\"2021\"]\n",
    "df_features.dropna(inplace=True)\n",
    "df_features.sort_index(inplace=True)\n",
    "df_features.shape"
   ]
  },
  {
   "attachments": {},
   "cell_type": "markdown",
   "metadata": {},
   "source": [
    "# Load pipeline, XGBoost"
   ]
  },
  {
   "cell_type": "code",
   "execution_count": null,
   "metadata": {},
   "outputs": [],
   "source": [
    "# Load: \n",
    "model= xgb.XGBRegressor()\n",
    "model.load_model(\"../../models/model_xgb_water.bin\")\n",
    "\n",
    "# Leer pipeline:\n",
    "data_process=pickle.load(open('../../models/pipe_xgb_water.pkl', 'rb'))\n",
    "\n",
    "# Preprocesamiento de datos:\n",
    "pipe = Pipeline(\n",
    "    [\n",
    "        (\"preprocesamiento\", data_process[0]), \n",
    "     (\"clf\", model)\n",
    "    ]\n",
    ")"
   ]
  },
  {
   "attachments": {},
   "cell_type": "markdown",
   "metadata": {},
   "source": [
    "# Data test para recomendación HH CC"
   ]
  },
  {
   "cell_type": "code",
   "execution_count": null,
   "metadata": {},
   "outputs": [],
   "source": [
    "# Test\n",
    "test=pd.concat([df_features[\"2020-04\"],df_features[\"2021-09\"],df_features[\"2022\"]])\n",
    "# Ytest reg\n",
    "Ytest=test[\"TPH\"]\n",
    "Xtest=test.drop(columns=[\"TPH\"])"
   ]
  },
  {
   "attachments": {},
   "cell_type": "markdown",
   "metadata": {},
   "source": [
    "# **Paso 1:** Generar predicción de TPH."
   ]
  },
  {
   "cell_type": "code",
   "execution_count": null,
   "metadata": {},
   "outputs": [],
   "source": [
    "# Test \n",
    "test_time_serie=Xtest\n",
    "test_time_serie[\"TPH\"]=Ytest\n",
    "test_time_serie[\"TPH predict\"]=pipe.predict(test_time_serie)\n",
    "\n",
    "# Métricas\n",
    "print('R2: ',r2_score(test_time_serie[\"TPH\"], \n",
    "                      test_time_serie[\"TPH predict\"]),\n",
    "                      '\\n','RMSE: ',mean_squared_error(test_time_serie[\"TPH\"], test_time_serie[\"TPH predict\"], squared=False))\n",
    "#test_time_serie[\"TPH\"]=test_time_serie[\"TPH predict\"].shift(10)\n",
    "test_time_serie.dropna(inplace=True)\n",
    "data=test_time_serie"
   ]
  },
  {
   "attachments": {},
   "cell_type": "markdown",
   "metadata": {},
   "source": [
    "# **Paso 2:** Explorar espacio 10 minutos antes del inicio de la caida.\n"
   ]
  },
  {
   "cell_type": "code",
   "execution_count": null,
   "metadata": {},
   "outputs": [],
   "source": [
    "# Generación de delta TPH y loss TPH según la predicción del modelo\n",
    "test_time_serie[\"delta HH TPH\"]=test_time_serie[\"HH TPH\"]-test_time_serie[\"TPH predict\"]\n",
    "test_time_serie[\"loss of TPH\"]=test_time_serie[\"delta HH TPH\"].apply(lambda x: 1 if x>100 else 0)\n",
    "\n",
    "# Información de perdida de TPH en los proximos 5 minutos\n",
    "for i in range(1,6):\n",
    "    test_time_serie[f\"loss of TPH_{i}\"]=test_time_serie[\"loss of TPH\"].shift(i)\n",
    "\n",
    "# Suavización del estado de perdida\n",
    "test_time_serie[\"loss of TPH\"]=test_time_serie.apply(lambda x: 1 if (x['loss of TPH']==1) or (x['loss of TPH_1']==1) or \n",
    "                                                     (x['loss of TPH_2']==1) or (x['loss of TPH_3']==1) or (x['loss of TPH_4']==1) or (x['loss of TPH_5']==1) else 0,axis=1)\n",
    "\n",
    "# Inicio de la perdida de tph\n",
    "test_time_serie[\"start loss tph\"]=af.loss_tph(test_time_serie,\"loss of TPH\")[\"start loss tph\"].to_list()"
   ]
  },
  {
   "cell_type": "code",
   "execution_count": null,
   "metadata": {},
   "outputs": [],
   "source": [
    "titulos=tuple([\"TPH\",\"loss of TPH\",\"start loss TPH\"])\n",
    "fig = make_subplots(\n",
    "    rows=3, cols=1,\n",
    "    subplot_titles=titulos,\n",
    "    #subplot_titles=tuple(\"TPH y HH TPH,\"),\n",
    "     shared_xaxes=True)\n",
    "\n",
    "fig.add_trace(go.Scatter(x=test_time_serie.index, y=test_time_serie[\"TPH predict\"],\n",
    "                    mode='lines',\n",
    "                    name='TPH predict'),row=1, col=1)\n",
    "\n",
    "fig.add_trace(go.Scatter(x=test_time_serie.index, y=test_time_serie[\"HH TPH\"],\n",
    "                    mode='lines',\n",
    "                    name='HH TPH'),row=1, col=1)\n",
    "\n",
    "fig.add_trace(go.Scatter(x=test_time_serie.index, y=test_time_serie[\"TPH\"],\n",
    "                    mode='lines',\n",
    "                    name='TPH'),row=1, col=1)\n",
    "\n",
    "fig.add_trace(go.Scatter(x=test_time_serie.index, y=test_time_serie[\"loss of TPH\"],\n",
    "                    mode='lines',\n",
    "                    name=\"loss of TPH\"),row=2, col=1)\n",
    "\n",
    "fig.add_trace(go.Scatter(x=test_time_serie.index, y=test_time_serie[\"start loss tph\"],\n",
    "                    mode='lines',\n",
    "                    name=\"start loss TPH\"),row=3, col=1)\n",
    "\n",
    "fig.update_layout(height=800, width=1200, title_text=\"Temporal signal analysis\")\n",
    "fig.update_layout(hovermode=\"x unified\")\n",
    "\n",
    "fig.show()"
   ]
  },
  {
   "attachments": {},
   "cell_type": "markdown",
   "metadata": {},
   "source": [
    "# **Paso 3:** Generar recomendación a partir de la curva de molienda.\n"
   ]
  },
  {
   "cell_type": "code",
   "execution_count": null,
   "metadata": {},
   "outputs": [],
   "source": [
    "range_hh_cc=np.arange(740,900,10)\n",
    "range_hh_cc"
   ]
  },
  {
   "cell_type": "code",
   "execution_count": null,
   "metadata": {},
   "outputs": [],
   "source": [
    "test_time_serie[\"start loss tph\"].value_counts()"
   ]
  },
  {
   "cell_type": "code",
   "execution_count": null,
   "metadata": {},
   "outputs": [],
   "source": [
    "timestamp_loss_tph=test_time_serie[\"start loss tph\"][test_time_serie[\"start loss tph\"]==1].index.to_list()\n",
    "len(timestamp_loss_tph)"
   ]
  },
  {
   "cell_type": "code",
   "execution_count": null,
   "metadata": {},
   "outputs": [],
   "source": [
    "df_grinding_curve=pd.DataFrame(index=range_hh_cc)\n",
    "list_df_recommendation=[]\n",
    "list_df_tph=[]\n",
    "list_index=[]\n",
    "k=0\n",
    "for i in timestamp_loss_tph:\n",
    "    \n",
    "    try:\n",
    "\n",
    "        inicio=i-timedelta(minutes=10)\n",
    "        fin=i\n",
    "        print(k)\n",
    "        print(fin)\n",
    "\n",
    "        df=test_time_serie.loc[inicio:fin]\n",
    "\n",
    "        #display(df[\"cluster_rec\"].iloc[-1])\n",
    "\n",
    "        rec,tph,fig=af.optimum_recommendation(df,range_hh_cc,pipe)\n",
    "        list_df_recommendation.append(rec)\n",
    "        list_df_tph.append(tph)\n",
    "        list_index.append(fin)\n",
    "\n",
    "        # Save curva tph vs cc\n",
    "        fecha=fin.strftime(\"%Y-%m-%d--%H-%M-%S\")\n",
    "        fig.write_image(f\"../../images/Curvas de molienda/fig_{k}_{fecha}.png\")\n",
    "\n",
    "        # Test\n",
    "        k=k+1\n",
    "        #if k>5:break\n",
    "\n",
    "    except Exception as e:\n",
    "        \n",
    "        print(\"Error :\",e)\n"
   ]
  },
  {
   "cell_type": "code",
   "execution_count": null,
   "metadata": {},
   "outputs": [],
   "source": [
    "len(list_df_recommendation)"
   ]
  },
  {
   "cell_type": "code",
   "execution_count": null,
   "metadata": {},
   "outputs": [],
   "source": [
    "k0=0\n",
    "test_time_serie[\"recommended HH charge cell\"]=0\n",
    "\n",
    "for i in timestamp_loss_tph:\n",
    "    try:\n",
    "        print(k0)\n",
    "        test_time_serie[\"recommended HH charge cell\"][timestamp_loss_tph[k0]:timestamp_loss_tph[k0+1]]=list_df_recommendation[k0]\n",
    "        k0=k0+1\n",
    "    \n",
    "    except:pass"
   ]
  },
  {
   "cell_type": "code",
   "execution_count": null,
   "metadata": {},
   "outputs": [],
   "source": [
    "test_time_serie[\"recommended HH charge cell\"]=test_time_serie[\"recommended HH charge cell\"].replace({0:np.nan}).fillna(method='ffill').fillna(method='bfill')\n",
    "test_time_serie[\"recommended HH charge cell\"]"
   ]
  },
  {
   "cell_type": "code",
   "execution_count": null,
   "metadata": {},
   "outputs": [],
   "source": [
    "titulos=tuple([\"TPH & HH TPH\",\"charge cell\",\"granulometry & SPI\",\"speed\",'water',\"solid percentage\",\"start loss tph\",\"loss of TPH\"])\n",
    "fig = make_subplots(\n",
    "    rows=7, cols=1,\n",
    "    subplot_titles=titulos,\n",
    "    #subplot_titles=tuple(\"TPH y HH TPH,\"),\n",
    "     shared_xaxes=True\n",
    "    )\n",
    "\n",
    "#fig.add_trace(go.Scatter(x=test_time_serie.index, y=test_time_serie[\"TPH optimum\"],\n",
    "#                    mode='lines',\n",
    "#                    name='TPH predict opt'),row=1, col=1)\n",
    "\n",
    "fig.add_trace(go.Scatter(x=test_time_serie.index, y=test_time_serie[\"TPH predict\"],\n",
    "                    mode='lines',\n",
    "                    name='TPH predict'),row=1, col=1)\n",
    "fig.add_trace(go.Scatter(x=test_time_serie.index, y=test_time_serie[\"HH TPH\"],\n",
    "                    mode='lines',\n",
    "                    name='HH TPH'),row=1, col=1)\n",
    "\n",
    "fig.add_trace(go.Scatter(x=test_time_serie.index, y=test_time_serie[\"TPH\"],\n",
    "                    mode='lines',\n",
    "                    name='TPH'),row=1, col=1)\n",
    "\n",
    "##\n",
    "fig.add_trace(go.Scatter(x=test_time_serie.index, y=test_time_serie[\"HH charge cell\"],\n",
    "                    mode='lines',\n",
    "                    name='HH charge cell'),row=2, col=1)\n",
    "\n",
    "\n",
    "fig.add_trace(go.Scatter(x=test_time_serie.index, y=test_time_serie[\"recommended HH charge cell\"],\n",
    "                    mode='lines',\n",
    "                    name='recommended HH charge cell ML model'),row=2, col=1)\n",
    "\n",
    "\n",
    "fig.add_trace(go.Scatter(x=test_time_serie.index, y=test_time_serie[\"LL charge cell\"],\n",
    "                    mode='lines',\n",
    "                    name='LL charge cell'),row=2, col=1)\n",
    "\n",
    "fig.add_trace(go.Scatter(x=test_time_serie.index, y=test_time_serie[\"charge cell\"],\n",
    "                    mode='lines',\n",
    "                    name='charge cell'),row=2, col=1)  \n",
    "\n",
    "\n",
    "fig.add_trace(go.Scatter(x=test_time_serie.index, y=test_time_serie['granulometry'], ##FF6511\n",
    "                    mode='lines',\n",
    "                    name='granulometry',line=dict(width=3,)),row=3, col=1)  \n",
    "\n",
    "\n",
    "fig.add_trace(go.Scatter(x=test_time_serie.index, y=test_time_serie['sag power index'], ##FF6511\n",
    "                    mode='lines',\n",
    "                    name=\"sag power index\",line=dict(width=3, )),row=3, col=1)  \n",
    "\n",
    "\n",
    "fig.add_trace(go.Scatter(x=test_time_serie.index, y=test_time_serie['speed'], ##FF6511\n",
    "                    mode='lines',\n",
    "                    name=\"speed\",line=dict(width=3, )),row=4, col=1)  \n",
    "\n",
    "fig.add_trace(go.Scatter(x=test_time_serie.index, y=test_time_serie['solid percentage'], ##FF6511\n",
    "                    mode='lines',\n",
    "                    name='solid percentage',line=dict(width=3, )),row=5, col=1)  \n",
    "\n",
    "fig.add_trace(go.Scatter(x=test_time_serie.index, y=test_time_serie['water'], ##FF6511\n",
    "                    mode='lines',\n",
    "                    name='water',line=dict(width=3, )),row=6, col=1)  \n",
    "\n",
    "\n",
    "#fig.add_trace(go.Scatter(x=test_time_serie.index, y=test_time_serie[\"predict start loss tph\"],\n",
    "#                    mode='lines',\n",
    "#                    name=\"start loss TPH\"),row=7, col=1)\n",
    "\n",
    "fig.add_trace(go.Scatter(x=test_time_serie.index, y=test_time_serie[\"loss of TPH\"],\n",
    "                    mode='lines',\n",
    "                    name=\"loss of TPH\"),row=7, col=1)\n",
    "\n",
    "\n",
    "fig.update_layout(height=2000, width=1500, title_text=\"Temporal signal analysis\")\n",
    "fig.update_layout(hovermode=\"x unified\")\n",
    "\n",
    "\n",
    "fig.show()"
   ]
  },
  {
   "attachments": {},
   "cell_type": "markdown",
   "metadata": {},
   "source": [
    "# **Paso 4:** Dado el HH celda de carga recomendado --> Obtener LL celda de carga y con esto la celda de carga promedio.\n"
   ]
  },
  {
   "cell_type": "code",
   "execution_count": null,
   "metadata": {},
   "outputs": [],
   "source": [
    "# Guardamos señales originales:\n",
    "test_time_serie[\"HH charge cell 0\"]=test_time_serie[\"HH charge cell\"]\n",
    "test_time_serie[\"LL charge cell 0\"]=test_time_serie[\"LL charge cell\"]\n",
    "test_time_serie[\"charge cell 0\"]=test_time_serie[\"charge cell\"]"
   ]
  },
  {
   "cell_type": "code",
   "execution_count": null,
   "metadata": {},
   "outputs": [],
   "source": [
    "# Actualizamos la familia charge cell para obtener el tph que se obtendria al seguir la recomendación\n",
    "test_time_serie[\"HH charge cell\"]=test_time_serie[\"recommended HH charge cell\"]\n",
    "test_time_serie[\"LL charge cell\"]=test_time_serie[\"HH charge cell\"]-80\n",
    "test_time_serie[\"charge cell\"]=(test_time_serie[\"HH charge cell\"]+test_time_serie[\"LL charge cell\"])/2"
   ]
  },
  {
   "cell_type": "code",
   "execution_count": null,
   "metadata": {},
   "outputs": [],
   "source": [
    "# Update feature engineering con actualización de familia charge cell dada la recomendación\n",
    "test_time_serie=af.feature_engineering_recommendation(test_time_serie)#[tag_select]"
   ]
  },
  {
   "attachments": {},
   "cell_type": "markdown",
   "metadata": {},
   "source": [
    "# **Paso 5:** Dadas las nuevas variables de la familia celda de carga, generar predicción de TPH, con el objetivo de obtener el TPH optimo que se obtendria si se siguiese la recomendación!"
   ]
  },
  {
   "cell_type": "code",
   "execution_count": null,
   "metadata": {},
   "outputs": [],
   "source": [
    "# Predict del modelo de TPH con la familia charge cell actualizada\n",
    "features=test_time_serie\n",
    "Ypred=pipe.predict(features)\n",
    "test_time_serie[\"TPH optimum\"]=Ypred"
   ]
  },
  {
   "attachments": {},
   "cell_type": "markdown",
   "metadata": {},
   "source": [
    "# **Visualización**"
   ]
  },
  {
   "cell_type": "code",
   "execution_count": null,
   "metadata": {},
   "outputs": [],
   "source": [
    "titulos=tuple([\"TPH & HH TPH\",\"charge cell\",\"granulometry & SPI\",\"speed\",'water',\"solid percentage\",\"start loss tph\",\"loss of TPH\"])\n",
    "fig = make_subplots(\n",
    "    rows=7, cols=1,\n",
    "    subplot_titles=titulos,\n",
    "    #subplot_titles=tuple(\"TPH y HH TPH,\"),\n",
    "     shared_xaxes=True\n",
    "    )\n",
    "\n",
    "fig.add_trace(go.Scatter(x=test_time_serie.index, y=test_time_serie[\"TPH optimum\"],\n",
    "                    mode='lines',\n",
    "                    name='TPH predict opt'),row=1, col=1)\n",
    "\n",
    "fig.add_trace(go.Scatter(x=test_time_serie.index, y=test_time_serie[\"TPH predict\"],\n",
    "                    mode='lines',\n",
    "                    name='TPH predict'),row=1, col=1)\n",
    "fig.add_trace(go.Scatter(x=test_time_serie.index, y=test_time_serie[\"HH TPH\"],\n",
    "                    mode='lines',\n",
    "                    name='HH TPH'),row=1, col=1)\n",
    "\n",
    "fig.add_trace(go.Scatter(x=test_time_serie.index, y=test_time_serie[\"TPH\"],\n",
    "                    mode='lines',\n",
    "                    name='TPH'),row=1, col=1)\n",
    "\n",
    "##\n",
    "fig.add_trace(go.Scatter(x=test_time_serie.index, y=test_time_serie[\"HH charge cell 0\"],\n",
    "                    mode='lines',\n",
    "                    name='HH charge cell'),row=2, col=1)\n",
    "\n",
    "\n",
    "fig.add_trace(go.Scatter(x=test_time_serie.index, y=test_time_serie[\"recommended HH charge cell\"],\n",
    "                    mode='lines',\n",
    "                    name='recommended HH charge cell ML model'),row=2, col=1)\n",
    "\n",
    "\n",
    "fig.add_trace(go.Scatter(x=test_time_serie.index, y=test_time_serie[\"LL charge cell 0\"],\n",
    "                    mode='lines',\n",
    "                    name='LL charge cell'),row=2, col=1)\n",
    "\n",
    "fig.add_trace(go.Scatter(x=test_time_serie.index, y=test_time_serie[\"charge cell 0\"],\n",
    "                    mode='lines',\n",
    "                    name='charge cell'),row=2, col=1)  \n",
    "\n",
    "\n",
    "fig.add_trace(go.Scatter(x=test_time_serie.index, y=test_time_serie['granulometry'], ##FF6511\n",
    "                    mode='lines',\n",
    "                    name='granulometry',line=dict(width=3,)),row=3, col=1)  \n",
    "\n",
    "\n",
    "fig.add_trace(go.Scatter(x=test_time_serie.index, y=test_time_serie['sag power index'], ##FF6511\n",
    "                    mode='lines',\n",
    "                    name=\"sag power index\",line=dict(width=3, )),row=3, col=1)  \n",
    "\n",
    "\n",
    "fig.add_trace(go.Scatter(x=test_time_serie.index, y=test_time_serie['speed'], ##FF6511\n",
    "                    mode='lines',\n",
    "                    name=\"speed\",line=dict(width=3, )),row=4, col=1)  \n",
    "\n",
    "fig.add_trace(go.Scatter(x=test_time_serie.index, y=test_time_serie['solid percentage'], ##FF6511\n",
    "                    mode='lines',\n",
    "                    name='solid percentage',line=dict(width=3, )),row=5, col=1)  \n",
    "\n",
    "fig.add_trace(go.Scatter(x=test_time_serie.index, y=test_time_serie['water'], ##FF6511\n",
    "                    mode='lines',\n",
    "                    name='water',line=dict(width=3, )),row=6, col=1)  \n",
    "\n",
    "\n",
    "#fig.add_trace(go.Scatter(x=test_time_serie.index, y=test_time_serie[\"predict start loss tph\"],\n",
    "#                    mode='lines',\n",
    "#                    name=\"start loss TPH\"),row=7, col=1)\n",
    "\n",
    "fig.add_trace(go.Scatter(x=test_time_serie.index, y=test_time_serie[\"loss of TPH\"],\n",
    "                    mode='lines',\n",
    "                    name=\"loss of TPH\"),row=7, col=1)\n",
    "\n",
    "\n",
    "fig.update_layout(height=2000, width=1500, title_text=\"Temporal signal analysis\")\n",
    "fig.update_layout(hovermode=\"x unified\")\n",
    "\n",
    "\n",
    "fig.show()"
   ]
  },
  {
   "attachments": {},
   "cell_type": "markdown",
   "metadata": {},
   "source": [
    "# Save recommendation"
   ]
  },
  {
   "cell_type": "code",
   "execution_count": null,
   "metadata": {},
   "outputs": [],
   "source": [
    "df_rec=test_time_serie[[\"recommended HH charge cell\",\"TPH optimum\",\"TPH predict\",\"loss of TPH\",\"start loss tph\"]]\n",
    "df_rec.head()"
   ]
  },
  {
   "cell_type": "code",
   "execution_count": null,
   "metadata": {},
   "outputs": [],
   "source": [
    "df_rec.to_csv('../../data/processed data/recommendation_'+pd.to_datetime('today').strftime('%d%B%Y')+'.csv', index=True)"
   ]
  },
  {
   "cell_type": "code",
   "execution_count": null,
   "metadata": {},
   "outputs": [],
   "source": [
    "list_TPH=np.array([1,1,1,1,2,2,2])\n",
    "    \n",
    "index_max=np.argmax(list_TPH)\n",
    "index_max\n"
   ]
  }
 ],
 "metadata": {
  "kernelspec": {
   "display_name": "anglo_american",
   "language": "python",
   "name": "python3"
  },
  "language_info": {
   "codemirror_mode": {
    "name": "ipython",
    "version": 3
   },
   "file_extension": ".py",
   "mimetype": "text/x-python",
   "name": "python",
   "nbconvert_exporter": "python",
   "pygments_lexer": "ipython3",
   "version": "3.9.16"
  },
  "orig_nbformat": 4,
  "vscode": {
   "interpreter": {
    "hash": "ffcddc64120913561610521d74b4de27f3c5fcc7261dc5b14d51ddc2c606b013"
   }
  }
 },
 "nbformat": 4,
 "nbformat_minor": 2
}
