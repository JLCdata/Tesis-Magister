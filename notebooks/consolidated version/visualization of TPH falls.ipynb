{
 "cells": [
  {
   "attachments": {},
   "cell_type": "markdown",
   "metadata": {},
   "source": [
    "# Visualization"
   ]
  },
  {
   "cell_type": "code",
   "execution_count": 4,
   "metadata": {},
   "outputs": [],
   "source": [
    "import warnings\n",
    "warnings.filterwarnings('ignore')"
   ]
  },
  {
   "cell_type": "code",
   "execution_count": 1,
   "metadata": {},
   "outputs": [],
   "source": [
    "import pandas as pd\n",
    "import numpy as np\n",
    "import matplotlib.pyplot as plt\n",
    "import seaborn as sns\n",
    "from datetime import timedelta\n",
    "\n",
    "import plotly.graph_objects as go\n",
    "from plotly.subplots import make_subplots\n",
    "from sklearn.pipeline import Pipeline\n",
    "from sklearn.metrics import r2_score\n",
    "import xgboost as xgb\n",
    "\n",
    "from numpy import mean,sqrt,square\n",
    "from sklearn.metrics import mean_squared_error\n",
    "import pickle\n",
    "import missingno as msno\n",
    "import auxiliar_functions as af\n",
    "sns.set_style(\"darkgrid\")\n",
    "pd.set_option('display.max_columns', None)\n",
    "pd.options.display.max_colwidth = 100"
   ]
  },
  {
   "cell_type": "code",
   "execution_count": 2,
   "metadata": {},
   "outputs": [
    {
     "data": {
      "text/plain": [
       "(859335, 403)"
      ]
     },
     "execution_count": 2,
     "metadata": {},
     "output_type": "execute_result"
    }
   ],
   "source": [
    "# read df full csv\n",
    "df_features=pd.read_csv('../../data/processed data/df_feature_engineering_18December2022.csv', parse_dates=['Timestamp'], index_col='Timestamp')#[variables_interes]#[\"2020\":\"2021\"]\n",
    "df_features.dropna(inplace=True)\n",
    "df_features.sort_index(inplace=True)\n",
    "df_features.shape"
   ]
  },
  {
   "attachments": {},
   "cell_type": "markdown",
   "metadata": {},
   "source": [
    "# Data test"
   ]
  },
  {
   "cell_type": "code",
   "execution_count": 5,
   "metadata": {},
   "outputs": [],
   "source": [
    "# Test\n",
    "test=pd.concat([df_features[\"2020-04\"],df_features[\"2021-09\"],df_features[\"2022\"]])\n",
    "# Ytest reg\n",
    "Ytest=test[\"TPH\"]\n",
    "Xtest=test.drop(columns=[\"TPH\"])"
   ]
  },
  {
   "cell_type": "code",
   "execution_count": 6,
   "metadata": {},
   "outputs": [],
   "source": [
    "df1=Xtest.copy()"
   ]
  },
  {
   "cell_type": "code",
   "execution_count": null,
   "metadata": {},
   "outputs": [],
   "source": [
    "df1[\"dif_TPH_HH\"]=df1[\"HH TPH\"]-df1[\"TPH\"]\n",
    "df1[\"dif_CC_HH\"]=df1[\"HH charge cell\"]-df1[\"charge cell\"]\n",
    "df1[\"dif_CC_LL\"]=df1[\"charge cell\"]-df1[\"LL charge cell\"]\n",
    "\n",
    "# Información de perdida de TPH en los proximos 5 minutos\n",
    "for i in range(1,6):\n",
    "    df1[f\"loss of TPH_{i}\"]=df1[\"loss of TPH\"].shift(i)\n",
    "\n",
    "df1[\"greater than HH CC\"]=df1[\"dif_CC_HH\"].apply(lambda x: 0 if x>1 else 1)\n",
    "for i in range(1,6):\n",
    "    df1[f\"greater than HH CC_{i}\"]=df1[\"greater than HH CC\"].shift(i)\n",
    "\n",
    "df1[\"less than LL CC\"]=df1[\"dif_CC_LL\"].apply(lambda x: 0 if x>1 else 1)\n",
    "for i in range(1,6):\n",
    "    df1[f\"less than LL CC_{i}\"]=df1[\"less than LL CC\"].shift(i)\n",
    "\n",
    "df1[\"greater than Rec HH CC\"]=df1.apply(lambda x: 1 if x[\"HH charge cell\"]<=x[\"charge cell\"] else 0,axis=1)\n",
    "for i in range(1,6):\n",
    "    df1[f\"greater than Rec HH CC_{i}\"]=df1[\"greater than Rec HH CC\"].shift(i)\n",
    "\n",
    "df1[\"Rec HH CC less than HH CC\"]=df1.apply(lambda x: 1 if x[\"HH charge cell\"]<x[\"HH charge cell\"] else 0,axis=1)\n",
    "for i in range(1,6):\n",
    "    df1[f\"Rec HH CC less than HH CC_{i}\"]=df1[\"Rec HH CC less than HH CC\"].shift(i)\n",
    "\n",
    "df1.dropna(inplace=True)\n",
    "df1[\"loss of TPH\"]=df1.apply(lambda x: 1 if (x['loss of TPH']==1) or (x['loss of TPH_1']==1) or (x['loss of TPH_2']==1) or (x['loss of TPH_3']==1) or (x['loss of TPH_4']==1) or (x['loss of TPH_5']==1) else 0,axis=1)\n",
    "df1=af.loss_tph(df1,\"loss of TPH\")\n",
    "\n",
    "df_full=df1.copy()\n",
    "\n",
    "list_df=[]\n",
    "for i in df_full[df_full[\"start loss tph\"]==1].index:\n",
    "    try:\n",
    "        #i=\"2022-02-27 12:31:00\"\n",
    "        inicio_perdida=i\n",
    "        test=df_full[inicio_perdida:inicio_perdida+timedelta(hours=5)]\n",
    "        fin_perdida=min(test[(test[\"end loss tph\"]==1)].index)+timedelta(minutes=1)\n",
    "        inicio_evento=inicio_perdida-timedelta(minutes=5)\n",
    "        data=df_full.copy()[inicio_evento:fin_perdida]\n",
    "        #display(data)\n",
    "        dic_df={\"inicio evento\":inicio_evento,\"inicio perdida\":inicio_perdida,\"fin perdida\":fin_perdida,\"variación HH TPH\":data[\"HH TPH\"].std()!=0,\"Actua sistema de control\":any(data[\"greater than HH CC\"]==1),\n",
    "        \"Supera recomendación del modelo\":any(data[\"greater than Rec HH CC\"]==1),\"Recomendación menor a HH CC\":any(data[\"Rec HH CC less than HH CC\"]==1),\"CC menor a LL CC\":any(data[\"less than LL CC\"]==1),\n",
    "        \"Causalidad\":any(data[data[\"greater than Rec HH CC\"]==1].index<=inicio_perdida)}\n",
    "        list_df.append(pd.DataFrame(dic_df,index=[1]))  \n",
    "    except:\n",
    "        #print(i)\n",
    "        pass\n",
    "\n",
    "df_tph_loss=pd.concat(list_df).reset_index(drop=True)\n"
   ]
  },
  {
   "cell_type": "code",
   "execution_count": null,
   "metadata": {},
   "outputs": [],
   "source": [
    "\n",
    "\n",
    "\n",
    "\n",
    "# Perdida de TPH por superar recomendación [+]\n",
    "evento1=df_tph_loss[(df_tph_loss[\"Actua sistema de control\"]==False) & (df_tph_loss[\"variación HH TPH\"]==False) & (df_tph_loss[\"CC menor a LL CC\"]==False) & (df_tph_loss[\"Recomendación menor a HH CC\"]==True) \\\n",
    "    & (df_tph_loss[\"Supera recomendación del modelo\"]==True)\\\n",
    "    & (df_tph_loss[\"Causalidad\"]==True)].reset_index(drop=True)#.sample(1)\n",
    "list_loss_tph=[]\n",
    "for i in range(len(evento1)):\n",
    "    data=df_full[evento1.iloc[i][\"inicio perdida\"]:evento1.iloc[i][\"fin perdida\"]]\n",
    "    list_loss_tph.append(data[\"dif_TPH_HH\"].sum())\n",
    "tph1=sum(list_loss_tph)\n",
    "\n",
    "# Perdida de TPH sin superar recomendación [-]\n",
    "evento2=df_tph_loss[(df_tph_loss[\"Actua sistema de control\"]==False) & (df_tph_loss[\"variación HH TPH\"]==False) & (df_tph_loss[\"CC menor a LL CC\"]==False) & (df_tph_loss[\"Recomendación menor a HH CC\"]==False)\\\n",
    "    & (df_tph_loss[\"Supera recomendación del modelo\"]==False)\\\n",
    "    ].reset_index(drop=True)\n",
    "list_loss_tph=[]\n",
    "for i in range(len(evento2)):\n",
    "    data=df_full[evento2.iloc[i][\"inicio perdida\"]:evento2.iloc[i][\"fin perdida\"]]\n",
    "    list_loss_tph.append(data[\"dif_TPH_HH\"].sum())\n",
    "tph2=sum(list_loss_tph)\n",
    "\n",
    "metric_final=tph1-tph2\n",
    "\n",
    "return metric_final"
   ]
  }
 ],
 "metadata": {
  "kernelspec": {
   "display_name": "anglo_american",
   "language": "python",
   "name": "python3"
  },
  "language_info": {
   "codemirror_mode": {
    "name": "ipython",
    "version": 3
   },
   "file_extension": ".py",
   "mimetype": "text/x-python",
   "name": "python",
   "nbconvert_exporter": "python",
   "pygments_lexer": "ipython3",
   "version": "3.9.2"
  },
  "orig_nbformat": 4
 },
 "nbformat": 4,
 "nbformat_minor": 2
}
