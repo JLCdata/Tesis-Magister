{
 "cells": [
  {
   "attachments": {},
   "cell_type": "markdown",
   "metadata": {},
   "source": [
    "# Comparation & evaluation of recommender systems "
   ]
  },
  {
   "cell_type": "code",
   "execution_count": null,
   "metadata": {},
   "outputs": [],
   "source": [
    "import warnings\n",
    "warnings.filterwarnings('ignore')\n",
    "import pandas as pd\n",
    "pd.set_option('display.max_columns', None)\n",
    "import numpy as np\n",
    "import pickle\n",
    "import xgboost as xgb\n",
    "from sklearn.metrics import r2_score\n",
    "from sklearn.metrics import mean_squared_error\n",
    "from numpy import mean,sqrt,square\n",
    "from plotly.subplots import make_subplots\n",
    "import plotly.graph_objects as go\n",
    "import auxiliar_functions as af\n",
    "from datetime import timedelta"
   ]
  },
  {
   "cell_type": "code",
   "execution_count": null,
   "metadata": {},
   "outputs": [],
   "source": [
    "variables_interes=['pyrite law', 'chalcopyrite law',\n",
    "       'chalcocite law', 'covelin law', 'crusher index', 'sag power index',\n",
    "       'ball work index', 'bornite law','charge cell', 'speed','HH TPH', 'granulometry','Edad','loss of TPH',\"solid percentage\",\"HH charge cell\",\"LL charge cell\",\"TPH\",\n",
    "       #\"recommendation base model carl\",\"recommendation base model acn\",\n",
    "       \"water\",\"power\"]"
   ]
  },
  {
   "cell_type": "code",
   "execution_count": null,
   "metadata": {},
   "outputs": [],
   "source": [
    "# read df full csv\n",
    "df_features=pd.read_csv('../../data/processed data/df_feature_engineering_18December2022.csv', parse_dates=['Timestamp'], index_col='Timestamp')[variables_interes]\n",
    "df_features.dropna(inplace=True)\n",
    "df_features.sort_index(inplace=True)\n",
    "df_features.shape"
   ]
  },
  {
   "cell_type": "code",
   "execution_count": null,
   "metadata": {},
   "outputs": [],
   "source": [
    "# Test\n",
    "df_features=pd.concat([df_features[\"2020-04\"],df_features[\"2021-09\"],df_features[\"2022\"]])\n",
    "df_features.shape"
   ]
  },
  {
   "attachments": {},
   "cell_type": "markdown",
   "metadata": {},
   "source": [
    "# Recommendation base model ACN"
   ]
  },
  {
   "cell_type": "code",
   "execution_count": null,
   "metadata": {},
   "outputs": [],
   "source": [
    "# Se carga clasificador de mineralogia\n",
    "kmeans = pickle.load(open('..//..//models//pickles//Modelo update Accenture//Clasificador_dispatch_n_4.pkl', 'rb'))\n",
    "#kmeans.feature_names_in_\n",
    "# Se carga la curva de celda de carga v/s granulometria (dado un subcontexto)\n",
    "dicK = pickle.load(open('..//..//models//pickles//Modelo update Accenture//cc_recommendations_prod.pkl', 'rb'))\n",
    "\n",
    "# Recomendación \n",
    "def recommendationcc(granulometria,edad_sag,cluster):\n",
    " \n",
    "    # Generación del subcontexto\n",
    "    subcontexto = str(int(edad_sag)) + str(int(cluster))\n",
    "   \n",
    "    # Obtención de la recomendación\n",
    "    consejo=dicK['s'+subcontexto].loc[granulometria][\"cc\"]\n",
    "  \n",
    "    return consejo #pd.DataFrame({\"recommendation\":list(consejo)})"
   ]
  },
  {
   "cell_type": "code",
   "execution_count": null,
   "metadata": {},
   "outputs": [],
   "source": [
    "# Predict cluster\n",
    "df_features[\"cluster\"]=kmeans.predict(df_features[['crusher index',\n",
    "                                              'sag power index',\n",
    "                                               'ball work index',\n",
    "                                              'chalcopyrite law',\n",
    "                                              'pyrite law',\n",
    "                                              'chalcocite law',\n",
    "                                              'bornite law',\n",
    "                                              'covelin law']])"
   ]
  },
  {
   "cell_type": "code",
   "execution_count": null,
   "metadata": {},
   "outputs": [],
   "source": [
    "# Recomendación \n",
    "Rec_HH_CC=df_features.apply(lambda row: recommendationcc(\n",
    "                                              row[\"granulometry\"],\n",
    "                                            row[\"Edad\"],\n",
    "                                            row[\"cluster\"]\n",
    "                                                    ),axis=1)\n",
    "\n",
    "# Columna de recomendación\n",
    "df_features[\"recommendation base model acn\"]=Rec_HH_CC"
   ]
  },
  {
   "attachments": {},
   "cell_type": "markdown",
   "metadata": {},
   "source": [
    "# Recommendation base model Carl"
   ]
  },
  {
   "cell_type": "code",
   "execution_count": null,
   "metadata": {},
   "outputs": [],
   "source": [
    "# Se carga clasificador de mineralogia\n",
    "kmeans = pickle.load(open('..//..//models//pickles//Clasificador_dispatch_n_4.pkl', 'rb'))\n",
    "#kmeans.feature_names_in_\n",
    "# Se carga la curva de celda de carga v/s granulometria (dado un subcontexto)\n",
    "dicK = pickle.load(open('..//..//models//pickles//Curvas de celda de carga vs granulometria productivo actualizado.pkl', 'rb'))\n",
    "\n",
    "# Recomendación \n",
    "def recommendationcc(granulometria,edad_sag,cluster):\n",
    " \n",
    "    # Generación del subcontexto\n",
    "    subcontexto = str(int(edad_sag)) + str(int(cluster))\n",
    "   \n",
    "    # Obtención de la recomendación\n",
    "    consejo=dicK[subcontexto].loc[granulometria][\"cc\"]\n",
    "    \n",
    "    return consejo #pd.DataFrame({\"recommendation\":list(consejo)})"
   ]
  },
  {
   "cell_type": "code",
   "execution_count": null,
   "metadata": {},
   "outputs": [],
   "source": [
    "# Predict cluster\n",
    "df_features[\"cluster\"]=kmeans.predict(df_features[['crusher index',\n",
    "                                              'sag power index',\n",
    "                                               'ball work index',\n",
    "                                              'chalcopyrite law',\n",
    "                                              'pyrite law',\n",
    "                                              'chalcocite law',\n",
    "                                              'bornite law',\n",
    "                                              'covelin law']])"
   ]
  },
  {
   "cell_type": "code",
   "execution_count": null,
   "metadata": {},
   "outputs": [],
   "source": [
    "# Recomendación \n",
    "Rec_HH_CC=df_features.apply(lambda row: recommendationcc(\n",
    "                                              row[\"granulometry\"],\n",
    "                                            row[\"Edad\"],\n",
    "                                            row[\"cluster\"]\n",
    "                                                    ),axis=1)\n",
    "\n",
    "# Columna de recomendación\n",
    "df_features[\"recommendation base model carl\"]=Rec_HH_CC"
   ]
  },
  {
   "attachments": {},
   "cell_type": "markdown",
   "metadata": {},
   "source": [
    "# Recommendation ML model"
   ]
  },
  {
   "cell_type": "code",
   "execution_count": null,
   "metadata": {},
   "outputs": [],
   "source": [
    "df_rec_ml_model=pd.read_csv('../../data/processed data/recommendation_30March2023.csv',parse_dates=[\"Timestamp\"],index_col=\"Timestamp\").rename(columns={\"start loss tph\":\"predict start loss tph\"}).drop(columns=[\"loss of TPH\"])\n",
    "print(df_rec_ml_model.shape)\n",
    "df_rec_ml_model.head()"
   ]
  },
  {
   "cell_type": "code",
   "execution_count": null,
   "metadata": {},
   "outputs": [],
   "source": [
    "df_merge=df_features.merge(df_rec_ml_model, left_index=True, right_index=True,how='left',suffixes=('_x', '_y'))\n",
    "df_merge.head()"
   ]
  },
  {
   "attachments": {},
   "cell_type": "markdown",
   "metadata": {},
   "source": [
    "# Distribution recommendations"
   ]
  },
  {
   "cell_type": "code",
   "execution_count": null,
   "metadata": {},
   "outputs": [],
   "source": [
    "df_merge[[\"recommendation base model acn\",\"recommendation base model carl\",\"recommended HH charge cell\"]].describe()"
   ]
  },
  {
   "cell_type": "code",
   "execution_count": null,
   "metadata": {},
   "outputs": [],
   "source": [
    "\n",
    "fig = go.Figure()\n",
    "fig.add_trace(go.Histogram(x=df_merge[\"recommended HH charge cell\"],name=\"recommendation ML model\",opacity=1))\n",
    "fig.add_trace(go.Histogram(x=df_merge[\"recommendation base model carl\"],name=\"recommendation base model carl\",opacity=0.75))\n",
    "fig.add_trace(go.Histogram(x=df_merge[\"recommendation base model acn\"],name=\"recommendation base model acn\",opacity=0.5))\n",
    "\n",
    "fig.update_layout(barmode='stack')\n",
    "fig.update_layout(height=600, width=1200, title_text=\"Distribution of recommendations\")\n",
    "fig.show()"
   ]
  },
  {
   "attachments": {},
   "cell_type": "markdown",
   "metadata": {},
   "source": [
    "# Visualization"
   ]
  },
  {
   "cell_type": "code",
   "execution_count": null,
   "metadata": {},
   "outputs": [],
   "source": [
    "titulos=tuple([\"TPH & HH TPH\",\"charge cell\",\"granulometry & SPI\",\"speed\",'water',\"solid percentage\",\"start loss tph\",\"loss of TPH\"])\n",
    "fig = make_subplots(\n",
    "    rows=8, cols=1,\n",
    "    subplot_titles=titulos,\n",
    "    #subplot_titles=tuple(\"TPH y HH TPH,\"),\n",
    "     shared_xaxes=True\n",
    "    )\n",
    "\n",
    "fig.add_trace(go.Scatter(x=df_merge.index, y=df_merge[\"TPH optimum\"],\n",
    "                    mode='lines',\n",
    "                    name='TPH predict opt'),row=1, col=1)\n",
    "\n",
    "fig.add_trace(go.Scatter(x=df_merge.index, y=df_merge[\"TPH predict\"],\n",
    "                    mode='lines',\n",
    "                    name='TPH predict'),row=1, col=1)\n",
    "fig.add_trace(go.Scatter(x=df_merge.index, y=df_merge[\"HH TPH\"],\n",
    "                    mode='lines',\n",
    "                    name='HH TPH'),row=1, col=1)\n",
    "\n",
    "fig.add_trace(go.Scatter(x=df_merge.index, y=df_merge[\"TPH\"],\n",
    "                    mode='lines',\n",
    "                    name='TPH'),row=1, col=1)\n",
    "\n",
    "##\n",
    "fig.add_trace(go.Scatter(x=df_merge.index, y=df_merge[\"HH charge cell\"],\n",
    "                    mode='lines',\n",
    "                    name='HH charge cell'),row=2, col=1)\n",
    "\n",
    "fig.add_trace(go.Scatter(x=df_merge.index, y=df_merge['recommendation base model acn'],\n",
    "                    mode='lines',\n",
    "                    name='recommendation base model acn'),row=2, col=1)\n",
    "\n",
    "fig.add_trace(go.Scatter(x=df_merge.index, y=df_merge['recommendation base model carl'],\n",
    "                    mode='lines',\n",
    "                    name='recommendation base model carl'),row=2, col=1)\n",
    "\n",
    "\n",
    "fig.add_trace(go.Scatter(x=df_merge.index, y=df_merge[\"recommended HH charge cell\"],\n",
    "                    mode='lines',\n",
    "                    name='recommended HH charge cell ML model'),row=2, col=1)\n",
    "\n",
    "\n",
    "fig.add_trace(go.Scatter(x=df_merge.index, y=df_merge[\"LL charge cell\"],\n",
    "                    mode='lines',\n",
    "                    name='LL charge cell'),row=2, col=1)\n",
    "\n",
    "fig.add_trace(go.Scatter(x=df_merge.index, y=df_merge[\"charge cell\"],\n",
    "                    mode='lines',\n",
    "                    name='charge cell'),row=2, col=1)  \n",
    "\n",
    "\n",
    "fig.add_trace(go.Scatter(x=df_merge.index, y=df_merge['granulometry'], ##FF6511\n",
    "                    mode='lines',\n",
    "                    name='granulometry',line=dict(width=3,)),row=3, col=1)  \n",
    "\n",
    "\n",
    "fig.add_trace(go.Scatter(x=df_merge.index, y=df_merge['sag power index'], ##FF6511\n",
    "                    mode='lines',\n",
    "                    name=\"sag power index\",line=dict(width=3, )),row=3, col=1)  \n",
    "\n",
    "\n",
    "fig.add_trace(go.Scatter(x=df_merge.index, y=df_merge['speed'], ##FF6511\n",
    "                    mode='lines',\n",
    "                    name=\"speed\",line=dict(width=3, )),row=4, col=1)  \n",
    "\n",
    "fig.add_trace(go.Scatter(x=df_merge.index, y=df_merge['solid percentage'], ##FF6511\n",
    "                    mode='lines',\n",
    "                    name='solid percentage',line=dict(width=3, )),row=5, col=1)  \n",
    "\n",
    "fig.add_trace(go.Scatter(x=df_merge.index, y=df_merge['water'], ##FF6511\n",
    "                    mode='lines',\n",
    "                    name='water',line=dict(width=3, )),row=6, col=1)  \n",
    "\n",
    "\n",
    "fig.add_trace(go.Scatter(x=df_merge.index, y=df_merge[\"predict start loss tph\"],\n",
    "                    mode='lines',\n",
    "                    name=\"start loss TPH\"),row=7, col=1)\n",
    "\n",
    "fig.add_trace(go.Scatter(x=df_merge.index, y=df_merge[\"loss of TPH\"],\n",
    "                    mode='lines',\n",
    "                    name=\"loss of TPH\"),row=8, col=1)\n",
    "\n",
    "\n",
    "fig.update_layout(height=2000, width=1500, title_text=\"Temporal signal analysis\")\n",
    "fig.update_layout(hovermode=\"x unified\")\n",
    "\n",
    "\n",
    "fig.show()"
   ]
  },
  {
   "attachments": {},
   "cell_type": "markdown",
   "metadata": {},
   "source": [
    "# Evaluation"
   ]
  },
  {
   "cell_type": "code",
   "execution_count": null,
   "metadata": {},
   "outputs": [],
   "source": [
    "sistem_recommender='recommendation base model carl'\n",
    "\n",
    "def metric_system_recommendation(sistem_recommender,df1):\n",
    "\n",
    "    df1[\"dif_TPH_HH\"]=df1[\"HH TPH\"]-df1[\"TPH\"]\n",
    "    df1[\"dif_CC_HH\"]=df1[\"HH charge cell\"]-df1[\"charge cell\"]\n",
    "    df1[\"dif_CC_LL\"]=df1[\"charge cell\"]-df1[\"LL charge cell\"]\n",
    "\n",
    "    # Información de perdida de TPH en los proximos 5 minutos\n",
    "    for i in range(1,6):\n",
    "        df1[f\"loss of TPH_{i}\"]=df1[\"loss of TPH\"].shift(i)\n",
    "\n",
    "    df1[\"greater than HH CC\"]=df1[\"dif_CC_HH\"].apply(lambda x: 0 if x>1 else 1)\n",
    "    for i in range(1,6):\n",
    "        df1[f\"greater than HH CC_{i}\"]=df1[\"greater than HH CC\"].shift(i)\n",
    "\n",
    "    df1[\"less than LL CC\"]=df1[\"dif_CC_LL\"].apply(lambda x: 0 if x>1 else 1)\n",
    "    for i in range(1,6):\n",
    "        df1[f\"less than LL CC_{i}\"]=df1[\"less than LL CC\"].shift(i)\n",
    "\n",
    "    df1[\"greater than Rec HH CC\"]=df1.apply(lambda x: 1 if x[sistem_recommender]<=x[\"charge cell\"] else 0,axis=1)\n",
    "    for i in range(1,6):\n",
    "        df1[f\"greater than Rec HH CC_{i}\"]=df1[\"greater than Rec HH CC\"].shift(i)\n",
    "\n",
    "    df1[\"Rec HH CC less than HH CC\"]=df1.apply(lambda x: 1 if x[sistem_recommender]<x[\"HH charge cell\"] else 0,axis=1)\n",
    "    for i in range(1,6):\n",
    "        df1[f\"Rec HH CC less than HH CC_{i}\"]=df1[\"Rec HH CC less than HH CC\"].shift(i)\n",
    "\n",
    "    df1.dropna(inplace=True)\n",
    "    df1[\"loss of TPH\"]=df1.apply(lambda x: 1 if (x['loss of TPH']==1) or (x['loss of TPH_1']==1) or (x['loss of TPH_2']==1) or (x['loss of TPH_3']==1) or (x['loss of TPH_4']==1) or (x['loss of TPH_5']==1) else 0,axis=1)\n",
    "    df1=af.loss_tph(df1,\"loss of TPH\")\n",
    "\n",
    "    df_full=df1.copy()\n",
    "\n",
    "    list_df=[]\n",
    "    for i in df_full[df_full[\"start loss tph\"]==1].index:\n",
    "        try:\n",
    "            #i=\"2022-02-27 12:31:00\"\n",
    "            inicio_perdida=i\n",
    "            test=df_full[inicio_perdida:inicio_perdida+timedelta(hours=5)]\n",
    "            fin_perdida=min(test[(test[\"end loss tph\"]==1)].index)+timedelta(minutes=1)\n",
    "            inicio_evento=inicio_perdida-timedelta(minutes=5)\n",
    "            data=df_full.copy()[inicio_evento:fin_perdida]\n",
    "            #display(data)\n",
    "            dic_df={\"inicio evento\":inicio_evento,\"inicio perdida\":inicio_perdida,\"fin perdida\":fin_perdida,\"variación HH TPH\":data[\"HH TPH\"].std()!=0,\"Actua sistema de control\":any(data[\"greater than HH CC\"]==1),\n",
    "            \"Supera recomendación del modelo\":any(data[\"greater than Rec HH CC\"]==1),\"Recomendación menor a HH CC\":any(data[\"Rec HH CC less than HH CC\"]==1),\"CC menor a LL CC\":any(data[\"less than LL CC\"]==1),\n",
    "            \"Causalidad\":any(data[data[\"greater than Rec HH CC\"]==1].index<=inicio_perdida)}\n",
    "            list_df.append(pd.DataFrame(dic_df,index=[1]))  \n",
    "        except:\n",
    "            #print(i)\n",
    "            pass\n",
    "\n",
    "    df_tph_loss=pd.concat(list_df).reset_index(drop=True)\n",
    "\n",
    "    # Perdida de TPH por superar recomendación [+]\n",
    "    evento1=df_tph_loss[(df_tph_loss[\"Actua sistema de control\"]==False) & (df_tph_loss[\"variación HH TPH\"]==False) & (df_tph_loss[\"CC menor a LL CC\"]==False) & (df_tph_loss[\"Recomendación menor a HH CC\"]==True) \\\n",
    "        & (df_tph_loss[\"Supera recomendación del modelo\"]==True)\\\n",
    "        & (df_tph_loss[\"Causalidad\"]==True)].reset_index(drop=True)#.sample(1)\n",
    "    list_loss_tph=[]\n",
    "    for i in range(len(evento1)):\n",
    "        data=df_full[evento1.iloc[i][\"inicio perdida\"]:evento1.iloc[i][\"fin perdida\"]]\n",
    "        list_loss_tph.append(data[\"dif_TPH_HH\"].sum())\n",
    "    tph1=sum(list_loss_tph)\n",
    "\n",
    "    # Perdida de TPH sin superar recomendación [-]\n",
    "    evento2=df_tph_loss[(df_tph_loss[\"Actua sistema de control\"]==False) & (df_tph_loss[\"variación HH TPH\"]==False) & (df_tph_loss[\"CC menor a LL CC\"]==False) & (df_tph_loss[\"Recomendación menor a HH CC\"]==False)\\\n",
    "        & (df_tph_loss[\"Supera recomendación del modelo\"]==False)\\\n",
    "        ].reset_index(drop=True)\n",
    "    list_loss_tph=[]\n",
    "    for i in range(len(evento2)):\n",
    "        data=df_full[evento2.iloc[i][\"inicio perdida\"]:evento2.iloc[i][\"fin perdida\"]]\n",
    "        list_loss_tph.append(data[\"dif_TPH_HH\"].sum())\n",
    "    tph2=sum(list_loss_tph)\n",
    "    print(tph1)\n",
    "    print(tph2)\n",
    "    metric_final=tph1-tph2\n",
    "    \n",
    "    return metric_final\n"
   ]
  },
  {
   "cell_type": "code",
   "execution_count": null,
   "metadata": {},
   "outputs": [],
   "source": [
    "sistem_recommender='recommendation base model carl'\n",
    "metric_system_recommendation(sistem_recommender,df_merge)"
   ]
  },
  {
   "cell_type": "code",
   "execution_count": null,
   "metadata": {},
   "outputs": [],
   "source": [
    "sistem_recommender=\"recommendation base model acn\"\n",
    "metric_system_recommendation(sistem_recommender,df_merge)"
   ]
  },
  {
   "cell_type": "code",
   "execution_count": null,
   "metadata": {},
   "outputs": [],
   "source": [
    "sistem_recommender=\"recommended HH charge cell\"\n",
    "metric_system_recommendation(sistem_recommender,df_merge)"
   ]
  },
  {
   "cell_type": "code",
   "execution_count": null,
   "metadata": {},
   "outputs": [],
   "source": []
  }
 ],
 "metadata": {
  "kernelspec": {
   "display_name": "anglo_american",
   "language": "python",
   "name": "python3"
  },
  "language_info": {
   "codemirror_mode": {
    "name": "ipython",
    "version": 3
   },
   "file_extension": ".py",
   "mimetype": "text/x-python",
   "name": "python",
   "nbconvert_exporter": "python",
   "pygments_lexer": "ipython3",
   "version": "3.9.16"
  },
  "orig_nbformat": 4,
  "vscode": {
   "interpreter": {
    "hash": "ffcddc64120913561610521d74b4de27f3c5fcc7261dc5b14d51ddc2c606b013"
   }
  }
 },
 "nbformat": 4,
 "nbformat_minor": 2
}
