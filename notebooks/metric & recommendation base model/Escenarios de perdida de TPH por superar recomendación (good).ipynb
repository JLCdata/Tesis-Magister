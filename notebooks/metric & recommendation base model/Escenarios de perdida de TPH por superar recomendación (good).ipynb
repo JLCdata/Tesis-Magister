{
 "cells": [
  {
   "cell_type": "code",
   "execution_count": 1,
   "metadata": {},
   "outputs": [],
   "source": [
    "import pandas as pd\n",
    "import numpy as np\n",
    "import matplotlib.pyplot as plt\n",
    "import seaborn as sns\n",
    "from datetime import datetime\n",
    "from datetime import timedelta\n",
    "import re\n",
    "from dateutil.parser import parse\n",
    "import string\n",
    "import warnings\n",
    "warnings.filterwarnings('ignore')\n",
    "import plotly.graph_objects as go\n",
    "import missingno as msno\n",
    "from plotly.subplots import make_subplots\n",
    "from sklearn.preprocessing import MinMaxScaler\n",
    "import scipy\n",
    "import researchpy as rp\n",
    "from matplotlib.offsetbox import AnchoredText\n",
    "import pacmap\n",
    "from sklearn.compose import ColumnTransformer\n",
    "from sklearn.cluster import KMeans\n",
    "from sklearn.pipeline import Pipeline\n",
    "import plotly.express as px\n",
    "import pickle\n",
    "import pmdarima as pm\n",
    "from ipywidgets import Button, HBox, VBox\n",
    "from ipywidgets import interactive\n",
    "import ipywidgets\n",
    "from sklearn.compose import ColumnTransformer\n",
    "from sklearn.cluster import KMeans\n",
    "from sklearn.pipeline import Pipeline\n",
    "import plotly.express as px\n",
    "from sklearn.metrics import r2_score\n",
    "from sklearn.preprocessing import StandardScaler\n",
    "from sklearn.ensemble import RandomForestRegressor\n",
    "from sklearn.model_selection import train_test_split \n",
    "import xgboost as xgb\n",
    "sns.set_style(\"darkgrid\")\n",
    "pd.set_option('display.max_columns', None)\n",
    "pd.options.display.max_colwidth = 100"
   ]
  },
  {
   "cell_type": "code",
   "execution_count": 2,
   "metadata": {},
   "outputs": [],
   "source": [
    "# Select first of vector of atollos cases (0) and append into DF:\n",
    "def inicio_perdida_tph(DF, variable):\n",
    "       first_case_atollo = [0]\n",
    "       for x in range(1, len(DF)):\n",
    "              if((DF.loc[DF.index[x], variable] == 1) & (DF.loc[DF.index[x-1], variable] == 0)):\n",
    "                     first_case_atollo.append(1)\n",
    "              else:\n",
    "                     first_case_atollo.append(0)\n",
    "       return first_case_atollo\n",
    "       \n",
    "# Select last of vector of atollos cases (0) and append into DF:\n",
    "def final_perdida_tph(DF, variable):\n",
    "       last_case_atollo = []\n",
    "       for x in range((len(DF)-1)):\n",
    "              if((DF.loc[DF.index[x], variable] == 1) & (DF.loc[DF.index[x+1], variable] == 0)):\n",
    "                     last_case_atollo.append(1)\n",
    "              else:\n",
    "                     last_case_atollo.append(0)\n",
    "       last_case_atollo.append(1)              \n",
    "       return last_case_atollo\n",
    "\n",
    "# Create function Atollo_mod: 0 when initial atollo; 2 when not initial atollo; 1 when no atollo:\n",
    "def loss_tph(DF,variable):\n",
    "    \n",
    "    DF['start loss tph']=inicio_perdida_tph(DF=DF, variable=variable)\n",
    "    DF['end loss tph']=final_perdida_tph(DF=DF, variable=variable)\n",
    "    #Create Atollo_mod:\n",
    "    variable_mod = str(variable+'_mod')    \n",
    "    DF[variable_mod] =  DF[variable].replace(1,2)   \n",
    "    DF.loc[DF['start loss tph']==1,variable_mod]=1\n",
    "    return DF"
   ]
  },
  {
   "cell_type": "code",
   "execution_count": 3,
   "metadata": {},
   "outputs": [],
   "source": [
    "# Se carga clasificador de mineralogia\n",
    "kmeans = pickle.load(open('..//..//models//pickles//Clasificador_dispatch_n_4.pkl', 'rb'))\n",
    "#kmeans.feature_names_in_\n",
    "# Se carga la curva de celda de carga v/s granulometria (dado un subcontexto)\n",
    "dicK = pickle.load(open('..//..//models//pickles//Curvas de celda de carga vs granulometria productivo actualizado.pkl', 'rb'))\n",
    "\n",
    "# Recomendación \n",
    "def recommendationcc(granulometria,edad_sag,cluster):\n",
    " \n",
    "    # Generación del subcontexto\n",
    "    subcontexto = str(int(edad_sag)) + str(int(cluster))\n",
    "   \n",
    "    # Obtención de la recomendación\n",
    "    consejo=dicK[subcontexto].loc[granulometria][\"cc\"]\n",
    "    \n",
    "    return consejo #pd.DataFrame({\"recommendation\":list(consejo)})"
   ]
  },
  {
   "cell_type": "code",
   "execution_count": 4,
   "metadata": {},
   "outputs": [],
   "source": [
    "# read\n",
    "tags=pd.read_excel(\"../../data/meta data/tags relevantes.xlsx\")\n",
    "tags_cc=tags.tag.to_list()\n",
    "dic={}\n",
    "for i,j in zip(tags.tag,tags.description):\n",
    "    dic[i]=j"
   ]
  },
  {
   "cell_type": "code",
   "execution_count": 5,
   "metadata": {},
   "outputs": [],
   "source": [
    "# Se lee csv\n",
    "liners_age=pd.read_csv('../../data/processed data/liners_age_30September2022.csv', parse_dates=['Timestamp'], index_col='Timestamp')\n",
    "# Se lee csv\n",
    "cleaned=pd.read_csv('../../data/processed data/cleaned_28September2022.csv', parse_dates=['Timestamp'], index_col='Timestamp')\n",
    "cleaned.sort_index(inplace=True)\n",
    "cleaned.rename(columns=dic,inplace=True)\n",
    "df_cleaned_age=cleaned.join(liners_age).dropna()\n",
    "df_cleaned_age[\"dif_TPH_HH\"]=df_cleaned_age[\"HH TPH\"]-df_cleaned_age[\"TPH\"]\n",
    "df_cleaned_age[\"dif_CC_HH\"]=df_cleaned_age[\"HH charge cell\"]-df_cleaned_age[\"charge cell\"]\n",
    "df_cleaned_age[\"dif_CC_LL\"]=df_cleaned_age[\"charge cell\"]-df_cleaned_age[\"LL charge cell\"]\n",
    "df_cleaned_age[\"loss of TPH\"]=df_cleaned_age[\"dif_TPH_HH\"].apply(lambda x: 1 if x>100 else 0)"
   ]
  },
  {
   "cell_type": "code",
   "execution_count": 6,
   "metadata": {},
   "outputs": [],
   "source": [
    "# Predict cluster\n",
    "df_cleaned_age[\"cluster\"]=kmeans.predict(df_cleaned_age[['crusher index',\n",
    "                                              'sag power index',\n",
    "                                               'ball work index',\n",
    "                                              'chalcopyrite law',\n",
    "                                              'pyrite law',\n",
    "                                              'chalcocite law',\n",
    "                                              'bornite law',\n",
    "                                              'covelin law']])"
   ]
  },
  {
   "cell_type": "code",
   "execution_count": 7,
   "metadata": {},
   "outputs": [],
   "source": [
    "# Recomendación \n",
    "Rec_HH_CC=df_cleaned_age.apply(lambda row: recommendationcc(\n",
    "                                              row[\"granulometry\"],\n",
    "                                            row[\"Edad\"],\n",
    "                                            row[\"cluster\"]\n",
    "                                                    ),axis=1)\n",
    "\n",
    "# Columna de recomendación\n",
    "df_cleaned_age[\"recommendation\"]=Rec_HH_CC"
   ]
  },
  {
   "cell_type": "code",
   "execution_count": 8,
   "metadata": {},
   "outputs": [],
   "source": [
    "# Información de perdida de TPH en los proximos 5 minutos\n",
    "for i in range(1,6):\n",
    "    df_cleaned_age[f\"loss of TPH_{i}\"]=df_cleaned_age[\"loss of TPH\"].shift(i)\n",
    "\n",
    "df_cleaned_age[\"greater than HH CC\"]=df_cleaned_age[\"dif_CC_HH\"].apply(lambda x: 0 if x>1 else 1)\n",
    "for i in range(1,6):\n",
    "    df_cleaned_age[f\"greater than HH CC_{i}\"]=df_cleaned_age[\"greater than HH CC\"].shift(i)\n",
    "\n",
    "df_cleaned_age[\"less than LL CC\"]=df_cleaned_age[\"dif_CC_LL\"].apply(lambda x: 0 if x>1 else 1)\n",
    "for i in range(1,6):\n",
    "    df_cleaned_age[f\"less than LL CC_{i}\"]=df_cleaned_age[\"less than LL CC\"].shift(i)\n",
    "\n",
    "df_cleaned_age[\"greater than Rec HH CC\"]=df_cleaned_age.apply(lambda x: 1 if x[\"recommendation\"]<=x[\"charge cell\"] else 0,axis=1)\n",
    "for i in range(1,6):\n",
    "    df_cleaned_age[f\"greater than Rec HH CC_{i}\"]=df_cleaned_age[\"greater than Rec HH CC\"].shift(i)\n",
    "\n",
    "df_cleaned_age[\"Rec HH CC less than HH CC\"]=df_cleaned_age.apply(lambda x: 1 if x[\"recommendation\"]<x[\"HH charge cell\"] else 0,axis=1)\n",
    "for i in range(1,6):\n",
    "    df_cleaned_age[f\"Rec HH CC less than HH CC_{i}\"]=df_cleaned_age[\"Rec HH CC less than HH CC\"].shift(i)"
   ]
  },
  {
   "cell_type": "code",
   "execution_count": 9,
   "metadata": {},
   "outputs": [
    {
     "data": {
      "text/html": [
       "<div>\n",
       "<style scoped>\n",
       "    .dataframe tbody tr th:only-of-type {\n",
       "        vertical-align: middle;\n",
       "    }\n",
       "\n",
       "    .dataframe tbody tr th {\n",
       "        vertical-align: top;\n",
       "    }\n",
       "\n",
       "    .dataframe thead th {\n",
       "        text-align: right;\n",
       "    }\n",
       "</style>\n",
       "<table border=\"1\" class=\"dataframe\">\n",
       "  <thead>\n",
       "    <tr style=\"text-align: right;\">\n",
       "      <th></th>\n",
       "      <th>sag mill expert system</th>\n",
       "      <th>Limitado por Límite Alto de Tonelaje</th>\n",
       "      <th>Optimizando tonelaje</th>\n",
       "      <th>Limitado por Peso</th>\n",
       "      <th>Limitado por Corriente Bobina</th>\n",
       "      <th>Limitado por torque espesador 2</th>\n",
       "      <th>Limitado por torque espesador 3</th>\n",
       "      <th>Limitado por Potencia Bolas 1</th>\n",
       "      <th>Limitado por Potencia Bolas 2</th>\n",
       "      <th>Limitado por Pebbles</th>\n",
       "      <th>Limitado por Corriente harnero</th>\n",
       "      <th>Limitado por Potencia SAG</th>\n",
       "      <th>Limitado por limite bajo de tonelaje</th>\n",
       "      <th>Limitado por Temperatura bobina</th>\n",
       "      <th>Limitado por presión espesador 2</th>\n",
       "      <th>Limitado por presión espesador 3</th>\n",
       "      <th>pyrite law</th>\n",
       "      <th>chalcopyrite law</th>\n",
       "      <th>chalcocite law</th>\n",
       "      <th>covelin law</th>\n",
       "      <th>crusher index</th>\n",
       "      <th>sag power index</th>\n",
       "      <th>ball work index</th>\n",
       "      <th>bornite law</th>\n",
       "      <th>torque</th>\n",
       "      <th>charge cell</th>\n",
       "      <th>power</th>\n",
       "      <th>TPH</th>\n",
       "      <th>solid percentage</th>\n",
       "      <th>water</th>\n",
       "      <th>speed</th>\n",
       "      <th>solid</th>\n",
       "      <th>LL charge cell</th>\n",
       "      <th>HH charge cell</th>\n",
       "      <th>HH TPH</th>\n",
       "      <th>stator current</th>\n",
       "      <th>granulometry</th>\n",
       "      <th>Edad</th>\n",
       "      <th>dif_TPH_HH</th>\n",
       "      <th>dif_CC_HH</th>\n",
       "      <th>dif_CC_LL</th>\n",
       "      <th>loss of TPH</th>\n",
       "      <th>cluster</th>\n",
       "      <th>recommendation</th>\n",
       "      <th>loss of TPH_1</th>\n",
       "      <th>loss of TPH_2</th>\n",
       "      <th>loss of TPH_3</th>\n",
       "      <th>loss of TPH_4</th>\n",
       "      <th>loss of TPH_5</th>\n",
       "      <th>greater than HH CC</th>\n",
       "      <th>greater than HH CC_1</th>\n",
       "      <th>greater than HH CC_2</th>\n",
       "      <th>greater than HH CC_3</th>\n",
       "      <th>greater than HH CC_4</th>\n",
       "      <th>greater than HH CC_5</th>\n",
       "      <th>less than LL CC</th>\n",
       "      <th>less than LL CC_1</th>\n",
       "      <th>less than LL CC_2</th>\n",
       "      <th>less than LL CC_3</th>\n",
       "      <th>less than LL CC_4</th>\n",
       "      <th>less than LL CC_5</th>\n",
       "      <th>greater than Rec HH CC</th>\n",
       "      <th>greater than Rec HH CC_1</th>\n",
       "      <th>greater than Rec HH CC_2</th>\n",
       "      <th>greater than Rec HH CC_3</th>\n",
       "      <th>greater than Rec HH CC_4</th>\n",
       "      <th>greater than Rec HH CC_5</th>\n",
       "      <th>Rec HH CC less than HH CC</th>\n",
       "      <th>Rec HH CC less than HH CC_1</th>\n",
       "      <th>Rec HH CC less than HH CC_2</th>\n",
       "      <th>Rec HH CC less than HH CC_3</th>\n",
       "      <th>Rec HH CC less than HH CC_4</th>\n",
       "      <th>Rec HH CC less than HH CC_5</th>\n",
       "      <th>start loss tph</th>\n",
       "      <th>end loss tph</th>\n",
       "      <th>loss of TPH_mod</th>\n",
       "    </tr>\n",
       "    <tr>\n",
       "      <th>Timestamp</th>\n",
       "      <th></th>\n",
       "      <th></th>\n",
       "      <th></th>\n",
       "      <th></th>\n",
       "      <th></th>\n",
       "      <th></th>\n",
       "      <th></th>\n",
       "      <th></th>\n",
       "      <th></th>\n",
       "      <th></th>\n",
       "      <th></th>\n",
       "      <th></th>\n",
       "      <th></th>\n",
       "      <th></th>\n",
       "      <th></th>\n",
       "      <th></th>\n",
       "      <th></th>\n",
       "      <th></th>\n",
       "      <th></th>\n",
       "      <th></th>\n",
       "      <th></th>\n",
       "      <th></th>\n",
       "      <th></th>\n",
       "      <th></th>\n",
       "      <th></th>\n",
       "      <th></th>\n",
       "      <th></th>\n",
       "      <th></th>\n",
       "      <th></th>\n",
       "      <th></th>\n",
       "      <th></th>\n",
       "      <th></th>\n",
       "      <th></th>\n",
       "      <th></th>\n",
       "      <th></th>\n",
       "      <th></th>\n",
       "      <th></th>\n",
       "      <th></th>\n",
       "      <th></th>\n",
       "      <th></th>\n",
       "      <th></th>\n",
       "      <th></th>\n",
       "      <th></th>\n",
       "      <th></th>\n",
       "      <th></th>\n",
       "      <th></th>\n",
       "      <th></th>\n",
       "      <th></th>\n",
       "      <th></th>\n",
       "      <th></th>\n",
       "      <th></th>\n",
       "      <th></th>\n",
       "      <th></th>\n",
       "      <th></th>\n",
       "      <th></th>\n",
       "      <th></th>\n",
       "      <th></th>\n",
       "      <th></th>\n",
       "      <th></th>\n",
       "      <th></th>\n",
       "      <th></th>\n",
       "      <th></th>\n",
       "      <th></th>\n",
       "      <th></th>\n",
       "      <th></th>\n",
       "      <th></th>\n",
       "      <th></th>\n",
       "      <th></th>\n",
       "      <th></th>\n",
       "      <th></th>\n",
       "      <th></th>\n",
       "      <th></th>\n",
       "      <th></th>\n",
       "      <th></th>\n",
       "      <th></th>\n",
       "      <th></th>\n",
       "    </tr>\n",
       "  </thead>\n",
       "  <tbody>\n",
       "    <tr>\n",
       "      <th>2020-01-10 04:05:00</th>\n",
       "      <td>1.0</td>\n",
       "      <td>1.0</td>\n",
       "      <td>0.0</td>\n",
       "      <td>0.0</td>\n",
       "      <td>0.0</td>\n",
       "      <td>0.0</td>\n",
       "      <td>0.0</td>\n",
       "      <td>0.0</td>\n",
       "      <td>0.0</td>\n",
       "      <td>0.0</td>\n",
       "      <td>0.0</td>\n",
       "      <td>0.0</td>\n",
       "      <td>0.0</td>\n",
       "      <td>0.0</td>\n",
       "      <td>0.0</td>\n",
       "      <td>0.0</td>\n",
       "      <td>2.3</td>\n",
       "      <td>1.76</td>\n",
       "      <td>0.5</td>\n",
       "      <td>0.02</td>\n",
       "      <td>19.7649</td>\n",
       "      <td>98.5569</td>\n",
       "      <td>15.4504</td>\n",
       "      <td>0.05</td>\n",
       "      <td>64.384706</td>\n",
       "      <td>809.23733</td>\n",
       "      <td>22008.766259</td>\n",
       "      <td>4317.030837</td>\n",
       "      <td>73.888038</td>\n",
       "      <td>1539.203093</td>\n",
       "      <td>9.063024</td>\n",
       "      <td>73.155012</td>\n",
       "      <td>770.0</td>\n",
       "      <td>850.0</td>\n",
       "      <td>3950.0</td>\n",
       "      <td>3755.398344</td>\n",
       "      <td>48.829422</td>\n",
       "      <td>1.0</td>\n",
       "      <td>-367.030837</td>\n",
       "      <td>40.76267</td>\n",
       "      <td>39.23733</td>\n",
       "      <td>0</td>\n",
       "      <td>2</td>\n",
       "      <td>892.044136</td>\n",
       "      <td>0.0</td>\n",
       "      <td>0.0</td>\n",
       "      <td>0.0</td>\n",
       "      <td>0.0</td>\n",
       "      <td>0.0</td>\n",
       "      <td>0</td>\n",
       "      <td>0.0</td>\n",
       "      <td>0.0</td>\n",
       "      <td>0.0</td>\n",
       "      <td>0.0</td>\n",
       "      <td>0.0</td>\n",
       "      <td>0</td>\n",
       "      <td>0.0</td>\n",
       "      <td>0.0</td>\n",
       "      <td>0.0</td>\n",
       "      <td>0.0</td>\n",
       "      <td>0.0</td>\n",
       "      <td>0</td>\n",
       "      <td>0.0</td>\n",
       "      <td>0.0</td>\n",
       "      <td>0.0</td>\n",
       "      <td>0.0</td>\n",
       "      <td>0.0</td>\n",
       "      <td>0</td>\n",
       "      <td>0.0</td>\n",
       "      <td>0.0</td>\n",
       "      <td>0.0</td>\n",
       "      <td>0.0</td>\n",
       "      <td>0.0</td>\n",
       "      <td>0</td>\n",
       "      <td>0</td>\n",
       "      <td>0</td>\n",
       "    </tr>\n",
       "  </tbody>\n",
       "</table>\n",
       "</div>"
      ],
      "text/plain": [
       "                     sag mill expert system  \\\n",
       "Timestamp                                     \n",
       "2020-01-10 04:05:00                     1.0   \n",
       "\n",
       "                     Limitado por Límite Alto de Tonelaje  \\\n",
       "Timestamp                                                   \n",
       "2020-01-10 04:05:00                                   1.0   \n",
       "\n",
       "                     Optimizando tonelaje  Limitado por Peso  \\\n",
       "Timestamp                                                      \n",
       "2020-01-10 04:05:00                   0.0                0.0   \n",
       "\n",
       "                     Limitado por Corriente Bobina  \\\n",
       "Timestamp                                            \n",
       "2020-01-10 04:05:00                            0.0   \n",
       "\n",
       "                     Limitado por torque espesador 2  \\\n",
       "Timestamp                                              \n",
       "2020-01-10 04:05:00                              0.0   \n",
       "\n",
       "                     Limitado por torque espesador 3  \\\n",
       "Timestamp                                              \n",
       "2020-01-10 04:05:00                              0.0   \n",
       "\n",
       "                     Limitado por Potencia Bolas 1  \\\n",
       "Timestamp                                            \n",
       "2020-01-10 04:05:00                            0.0   \n",
       "\n",
       "                     Limitado por Potencia Bolas 2  Limitado por Pebbles  \\\n",
       "Timestamp                                                                  \n",
       "2020-01-10 04:05:00                            0.0                   0.0   \n",
       "\n",
       "                     Limitado por Corriente harnero  \\\n",
       "Timestamp                                             \n",
       "2020-01-10 04:05:00                             0.0   \n",
       "\n",
       "                     Limitado por Potencia SAG  \\\n",
       "Timestamp                                        \n",
       "2020-01-10 04:05:00                        0.0   \n",
       "\n",
       "                     Limitado por limite bajo de tonelaje  \\\n",
       "Timestamp                                                   \n",
       "2020-01-10 04:05:00                                   0.0   \n",
       "\n",
       "                     Limitado por Temperatura bobina  \\\n",
       "Timestamp                                              \n",
       "2020-01-10 04:05:00                              0.0   \n",
       "\n",
       "                     Limitado por presión espesador 2  \\\n",
       "Timestamp                                               \n",
       "2020-01-10 04:05:00                               0.0   \n",
       "\n",
       "                     Limitado por presión espesador 3  pyrite law  \\\n",
       "Timestamp                                                           \n",
       "2020-01-10 04:05:00                               0.0         2.3   \n",
       "\n",
       "                     chalcopyrite law  chalcocite law  covelin law  \\\n",
       "Timestamp                                                            \n",
       "2020-01-10 04:05:00              1.76             0.5         0.02   \n",
       "\n",
       "                     crusher index  sag power index  ball work index  \\\n",
       "Timestamp                                                              \n",
       "2020-01-10 04:05:00        19.7649          98.5569          15.4504   \n",
       "\n",
       "                     bornite law     torque  charge cell         power  \\\n",
       "Timestamp                                                                \n",
       "2020-01-10 04:05:00         0.05  64.384706    809.23733  22008.766259   \n",
       "\n",
       "                             TPH  solid percentage        water     speed  \\\n",
       "Timestamp                                                                   \n",
       "2020-01-10 04:05:00  4317.030837         73.888038  1539.203093  9.063024   \n",
       "\n",
       "                         solid  LL charge cell  HH charge cell  HH TPH  \\\n",
       "Timestamp                                                                \n",
       "2020-01-10 04:05:00  73.155012           770.0           850.0  3950.0   \n",
       "\n",
       "                     stator current  granulometry  Edad  dif_TPH_HH  \\\n",
       "Timestamp                                                             \n",
       "2020-01-10 04:05:00     3755.398344     48.829422   1.0 -367.030837   \n",
       "\n",
       "                     dif_CC_HH  dif_CC_LL  loss of TPH  cluster  \\\n",
       "Timestamp                                                         \n",
       "2020-01-10 04:05:00   40.76267   39.23733            0        2   \n",
       "\n",
       "                     recommendation  loss of TPH_1  loss of TPH_2  \\\n",
       "Timestamp                                                           \n",
       "2020-01-10 04:05:00      892.044136            0.0            0.0   \n",
       "\n",
       "                     loss of TPH_3  loss of TPH_4  loss of TPH_5  \\\n",
       "Timestamp                                                          \n",
       "2020-01-10 04:05:00            0.0            0.0            0.0   \n",
       "\n",
       "                     greater than HH CC  greater than HH CC_1  \\\n",
       "Timestamp                                                       \n",
       "2020-01-10 04:05:00                   0                   0.0   \n",
       "\n",
       "                     greater than HH CC_2  greater than HH CC_3  \\\n",
       "Timestamp                                                         \n",
       "2020-01-10 04:05:00                   0.0                   0.0   \n",
       "\n",
       "                     greater than HH CC_4  greater than HH CC_5  \\\n",
       "Timestamp                                                         \n",
       "2020-01-10 04:05:00                   0.0                   0.0   \n",
       "\n",
       "                     less than LL CC  less than LL CC_1  less than LL CC_2  \\\n",
       "Timestamp                                                                    \n",
       "2020-01-10 04:05:00                0                0.0                0.0   \n",
       "\n",
       "                     less than LL CC_3  less than LL CC_4  less than LL CC_5  \\\n",
       "Timestamp                                                                      \n",
       "2020-01-10 04:05:00                0.0                0.0                0.0   \n",
       "\n",
       "                     greater than Rec HH CC  greater than Rec HH CC_1  \\\n",
       "Timestamp                                                               \n",
       "2020-01-10 04:05:00                       0                       0.0   \n",
       "\n",
       "                     greater than Rec HH CC_2  greater than Rec HH CC_3  \\\n",
       "Timestamp                                                                 \n",
       "2020-01-10 04:05:00                       0.0                       0.0   \n",
       "\n",
       "                     greater than Rec HH CC_4  greater than Rec HH CC_5  \\\n",
       "Timestamp                                                                 \n",
       "2020-01-10 04:05:00                       0.0                       0.0   \n",
       "\n",
       "                     Rec HH CC less than HH CC  Rec HH CC less than HH CC_1  \\\n",
       "Timestamp                                                                     \n",
       "2020-01-10 04:05:00                          0                          0.0   \n",
       "\n",
       "                     Rec HH CC less than HH CC_2  Rec HH CC less than HH CC_3  \\\n",
       "Timestamp                                                                       \n",
       "2020-01-10 04:05:00                          0.0                          0.0   \n",
       "\n",
       "                     Rec HH CC less than HH CC_4  Rec HH CC less than HH CC_5  \\\n",
       "Timestamp                                                                       \n",
       "2020-01-10 04:05:00                          0.0                          0.0   \n",
       "\n",
       "                     start loss tph  end loss tph  loss of TPH_mod  \n",
       "Timestamp                                                           \n",
       "2020-01-10 04:05:00               0             0                0  "
      ]
     },
     "execution_count": 9,
     "metadata": {},
     "output_type": "execute_result"
    }
   ],
   "source": [
    "df_cleaned_age.dropna(inplace=True)\n",
    "df_cleaned_age[\"loss of TPH\"]=df_cleaned_age.apply(lambda x: 1 if (x['loss of TPH']==1) or (x['loss of TPH_1']==1) or (x['loss of TPH_2']==1) or (x['loss of TPH_3']==1) or (x['loss of TPH_4']==1) or (x['loss of TPH_5']==1) else 0,axis=1)\n",
    "#df_cleaned_age[\"greater than HH CC\"]=df_cleaned_age.apply(lambda x: 1 if (x['greater than HH CC_1']==1) or (x['greater than HH CC_2']==1) or (x['greater than HH CC_3']==1) or (x['greater than HH CC_4']==1) or (x['greater than HH CC_5']==1) else 0,axis=1)\n",
    "#df_cleaned_age[\"less than LL CC\"]=df_cleaned_age.apply(lambda x: 1 if (x['less than LL CC_1']==1) or (x['less than LL CC_2']==1) or (x['less than LL CC_3']==1) or (x['less than LL CC_4']==1) or (x['less than LL CC_5']==1) else 0,axis=1)\n",
    "#df_cleaned_age[\"greater than Rec HH CC\"]=df_cleaned_age.apply(lambda x: 1 if (x['greater than Rec HH CC_1']==1) or (x['greater than Rec HH CC_2']==1) or (x['greater than Rec HH CC_3']==1) or (x['greater than Rec HH CC_4']==1) or (x['greater than Rec HH CC_5']==1) else 0,axis=1)\n",
    "#df_cleaned_age[\"Rec HH CC less than HH CC\"]=df_cleaned_age.apply(lambda x: 1 if (x['Rec HH CC less than HH CC_1']==1) or (x['Rec HH CC less than HH CC_2']==1) or (x['Rec HH CC less than HH CC_3']==1) or (x['Rec HH CC less than HH CC_4']==1) or (x['Rec HH CC less than HH CC_5']==1) else 0,axis=1)\n",
    "df_cleaned_age=loss_tph(df_cleaned_age,\"loss of TPH\")\n",
    "df_cleaned_age.head(1)"
   ]
  },
  {
   "cell_type": "code",
   "execution_count": 11,
   "metadata": {},
   "outputs": [],
   "source": [
    "# Se guarda en csv\n",
    "df_cleaned_age.to_csv('../../data/consolidated data/df_full_'+pd.to_datetime('today').strftime('%d%B%Y')+'.csv', index=True)"
   ]
  },
  {
   "cell_type": "code",
   "execution_count": 25,
   "metadata": {},
   "outputs": [
    {
     "data": {
      "text/html": [
       "<div>\n",
       "<style scoped>\n",
       "    .dataframe tbody tr th:only-of-type {\n",
       "        vertical-align: middle;\n",
       "    }\n",
       "\n",
       "    .dataframe tbody tr th {\n",
       "        vertical-align: top;\n",
       "    }\n",
       "\n",
       "    .dataframe thead th {\n",
       "        text-align: right;\n",
       "    }\n",
       "</style>\n",
       "<table border=\"1\" class=\"dataframe\">\n",
       "  <thead>\n",
       "    <tr style=\"text-align: right;\">\n",
       "      <th></th>\n",
       "      <th>sag mill expert system</th>\n",
       "      <th>Limitado por Límite Alto de Tonelaje</th>\n",
       "      <th>Optimizando tonelaje</th>\n",
       "      <th>Limitado por Peso</th>\n",
       "      <th>Limitado por Corriente Bobina</th>\n",
       "      <th>Limitado por torque espesador 2</th>\n",
       "      <th>Limitado por torque espesador 3</th>\n",
       "      <th>Limitado por Potencia Bolas 1</th>\n",
       "      <th>Limitado por Potencia Bolas 2</th>\n",
       "      <th>Limitado por Pebbles</th>\n",
       "      <th>Limitado por Corriente harnero</th>\n",
       "      <th>Limitado por Potencia SAG</th>\n",
       "      <th>Limitado por limite bajo de tonelaje</th>\n",
       "      <th>Limitado por Temperatura bobina</th>\n",
       "      <th>Limitado por presión espesador 2</th>\n",
       "      <th>Limitado por presión espesador 3</th>\n",
       "      <th>pyrite law</th>\n",
       "      <th>chalcopyrite law</th>\n",
       "      <th>chalcocite law</th>\n",
       "      <th>covelin law</th>\n",
       "      <th>crusher index</th>\n",
       "      <th>sag power index</th>\n",
       "      <th>ball work index</th>\n",
       "      <th>bornite law</th>\n",
       "      <th>torque</th>\n",
       "      <th>charge cell</th>\n",
       "      <th>power</th>\n",
       "      <th>TPH</th>\n",
       "      <th>solid percentage</th>\n",
       "      <th>water</th>\n",
       "      <th>speed</th>\n",
       "      <th>solid</th>\n",
       "      <th>LL charge cell</th>\n",
       "      <th>HH charge cell</th>\n",
       "      <th>HH TPH</th>\n",
       "      <th>stator current</th>\n",
       "      <th>granulometry</th>\n",
       "      <th>Edad</th>\n",
       "      <th>dif_TPH_HH</th>\n",
       "      <th>dif_CC_HH</th>\n",
       "      <th>dif_CC_LL</th>\n",
       "      <th>loss of TPH</th>\n",
       "      <th>cluster</th>\n",
       "      <th>recommendation</th>\n",
       "      <th>loss of TPH_1</th>\n",
       "      <th>loss of TPH_2</th>\n",
       "      <th>loss of TPH_3</th>\n",
       "      <th>loss of TPH_4</th>\n",
       "      <th>loss of TPH_5</th>\n",
       "      <th>greater than HH CC</th>\n",
       "      <th>greater than HH CC_1</th>\n",
       "      <th>greater than HH CC_2</th>\n",
       "      <th>greater than HH CC_3</th>\n",
       "      <th>greater than HH CC_4</th>\n",
       "      <th>greater than HH CC_5</th>\n",
       "      <th>less than LL CC</th>\n",
       "      <th>less than LL CC_1</th>\n",
       "      <th>less than LL CC_2</th>\n",
       "      <th>less than LL CC_3</th>\n",
       "      <th>less than LL CC_4</th>\n",
       "      <th>less than LL CC_5</th>\n",
       "      <th>greater than Rec HH CC</th>\n",
       "      <th>greater than Rec HH CC_1</th>\n",
       "      <th>greater than Rec HH CC_2</th>\n",
       "      <th>greater than Rec HH CC_3</th>\n",
       "      <th>greater than Rec HH CC_4</th>\n",
       "      <th>greater than Rec HH CC_5</th>\n",
       "      <th>Rec HH CC less than HH CC</th>\n",
       "      <th>Rec HH CC less than HH CC_1</th>\n",
       "      <th>Rec HH CC less than HH CC_2</th>\n",
       "      <th>Rec HH CC less than HH CC_3</th>\n",
       "      <th>Rec HH CC less than HH CC_4</th>\n",
       "      <th>Rec HH CC less than HH CC_5</th>\n",
       "      <th>start loss tph</th>\n",
       "      <th>end loss tph</th>\n",
       "      <th>loss of TPH_mod</th>\n",
       "    </tr>\n",
       "    <tr>\n",
       "      <th>Timestamp</th>\n",
       "      <th></th>\n",
       "      <th></th>\n",
       "      <th></th>\n",
       "      <th></th>\n",
       "      <th></th>\n",
       "      <th></th>\n",
       "      <th></th>\n",
       "      <th></th>\n",
       "      <th></th>\n",
       "      <th></th>\n",
       "      <th></th>\n",
       "      <th></th>\n",
       "      <th></th>\n",
       "      <th></th>\n",
       "      <th></th>\n",
       "      <th></th>\n",
       "      <th></th>\n",
       "      <th></th>\n",
       "      <th></th>\n",
       "      <th></th>\n",
       "      <th></th>\n",
       "      <th></th>\n",
       "      <th></th>\n",
       "      <th></th>\n",
       "      <th></th>\n",
       "      <th></th>\n",
       "      <th></th>\n",
       "      <th></th>\n",
       "      <th></th>\n",
       "      <th></th>\n",
       "      <th></th>\n",
       "      <th></th>\n",
       "      <th></th>\n",
       "      <th></th>\n",
       "      <th></th>\n",
       "      <th></th>\n",
       "      <th></th>\n",
       "      <th></th>\n",
       "      <th></th>\n",
       "      <th></th>\n",
       "      <th></th>\n",
       "      <th></th>\n",
       "      <th></th>\n",
       "      <th></th>\n",
       "      <th></th>\n",
       "      <th></th>\n",
       "      <th></th>\n",
       "      <th></th>\n",
       "      <th></th>\n",
       "      <th></th>\n",
       "      <th></th>\n",
       "      <th></th>\n",
       "      <th></th>\n",
       "      <th></th>\n",
       "      <th></th>\n",
       "      <th></th>\n",
       "      <th></th>\n",
       "      <th></th>\n",
       "      <th></th>\n",
       "      <th></th>\n",
       "      <th></th>\n",
       "      <th></th>\n",
       "      <th></th>\n",
       "      <th></th>\n",
       "      <th></th>\n",
       "      <th></th>\n",
       "      <th></th>\n",
       "      <th></th>\n",
       "      <th></th>\n",
       "      <th></th>\n",
       "      <th></th>\n",
       "      <th></th>\n",
       "      <th></th>\n",
       "      <th></th>\n",
       "      <th></th>\n",
       "      <th></th>\n",
       "    </tr>\n",
       "  </thead>\n",
       "  <tbody>\n",
       "    <tr>\n",
       "      <th>2020-01-10 04:05:00</th>\n",
       "      <td>1.0</td>\n",
       "      <td>1.0</td>\n",
       "      <td>0.0</td>\n",
       "      <td>0.0</td>\n",
       "      <td>0.0</td>\n",
       "      <td>0.0</td>\n",
       "      <td>0.0</td>\n",
       "      <td>0.0</td>\n",
       "      <td>0.0</td>\n",
       "      <td>0.0</td>\n",
       "      <td>0.0</td>\n",
       "      <td>0.0</td>\n",
       "      <td>0.0</td>\n",
       "      <td>0.0</td>\n",
       "      <td>0.0</td>\n",
       "      <td>0.0</td>\n",
       "      <td>2.3</td>\n",
       "      <td>1.76</td>\n",
       "      <td>0.5</td>\n",
       "      <td>0.02</td>\n",
       "      <td>19.7649</td>\n",
       "      <td>98.5569</td>\n",
       "      <td>15.4504</td>\n",
       "      <td>0.05</td>\n",
       "      <td>64.384706</td>\n",
       "      <td>809.23733</td>\n",
       "      <td>22008.766259</td>\n",
       "      <td>4317.030837</td>\n",
       "      <td>73.888038</td>\n",
       "      <td>1539.203093</td>\n",
       "      <td>9.063024</td>\n",
       "      <td>73.155012</td>\n",
       "      <td>770.0</td>\n",
       "      <td>850.0</td>\n",
       "      <td>3950.0</td>\n",
       "      <td>3755.398344</td>\n",
       "      <td>48.829422</td>\n",
       "      <td>1.0</td>\n",
       "      <td>-367.030837</td>\n",
       "      <td>40.76267</td>\n",
       "      <td>39.23733</td>\n",
       "      <td>0</td>\n",
       "      <td>2</td>\n",
       "      <td>892.044136</td>\n",
       "      <td>0.0</td>\n",
       "      <td>0.0</td>\n",
       "      <td>0.0</td>\n",
       "      <td>0.0</td>\n",
       "      <td>0.0</td>\n",
       "      <td>0</td>\n",
       "      <td>0.0</td>\n",
       "      <td>0.0</td>\n",
       "      <td>0.0</td>\n",
       "      <td>0.0</td>\n",
       "      <td>0.0</td>\n",
       "      <td>0</td>\n",
       "      <td>0.0</td>\n",
       "      <td>0.0</td>\n",
       "      <td>0.0</td>\n",
       "      <td>0.0</td>\n",
       "      <td>0.0</td>\n",
       "      <td>0</td>\n",
       "      <td>0.0</td>\n",
       "      <td>0.0</td>\n",
       "      <td>0.0</td>\n",
       "      <td>0.0</td>\n",
       "      <td>0.0</td>\n",
       "      <td>0</td>\n",
       "      <td>0.0</td>\n",
       "      <td>0.0</td>\n",
       "      <td>0.0</td>\n",
       "      <td>0.0</td>\n",
       "      <td>0.0</td>\n",
       "      <td>0</td>\n",
       "      <td>0</td>\n",
       "      <td>0</td>\n",
       "    </tr>\n",
       "  </tbody>\n",
       "</table>\n",
       "</div>"
      ],
      "text/plain": [
       "                     sag mill expert system  \\\n",
       "Timestamp                                     \n",
       "2020-01-10 04:05:00                     1.0   \n",
       "\n",
       "                     Limitado por Límite Alto de Tonelaje  \\\n",
       "Timestamp                                                   \n",
       "2020-01-10 04:05:00                                   1.0   \n",
       "\n",
       "                     Optimizando tonelaje  Limitado por Peso  \\\n",
       "Timestamp                                                      \n",
       "2020-01-10 04:05:00                   0.0                0.0   \n",
       "\n",
       "                     Limitado por Corriente Bobina  \\\n",
       "Timestamp                                            \n",
       "2020-01-10 04:05:00                            0.0   \n",
       "\n",
       "                     Limitado por torque espesador 2  \\\n",
       "Timestamp                                              \n",
       "2020-01-10 04:05:00                              0.0   \n",
       "\n",
       "                     Limitado por torque espesador 3  \\\n",
       "Timestamp                                              \n",
       "2020-01-10 04:05:00                              0.0   \n",
       "\n",
       "                     Limitado por Potencia Bolas 1  \\\n",
       "Timestamp                                            \n",
       "2020-01-10 04:05:00                            0.0   \n",
       "\n",
       "                     Limitado por Potencia Bolas 2  Limitado por Pebbles  \\\n",
       "Timestamp                                                                  \n",
       "2020-01-10 04:05:00                            0.0                   0.0   \n",
       "\n",
       "                     Limitado por Corriente harnero  \\\n",
       "Timestamp                                             \n",
       "2020-01-10 04:05:00                             0.0   \n",
       "\n",
       "                     Limitado por Potencia SAG  \\\n",
       "Timestamp                                        \n",
       "2020-01-10 04:05:00                        0.0   \n",
       "\n",
       "                     Limitado por limite bajo de tonelaje  \\\n",
       "Timestamp                                                   \n",
       "2020-01-10 04:05:00                                   0.0   \n",
       "\n",
       "                     Limitado por Temperatura bobina  \\\n",
       "Timestamp                                              \n",
       "2020-01-10 04:05:00                              0.0   \n",
       "\n",
       "                     Limitado por presión espesador 2  \\\n",
       "Timestamp                                               \n",
       "2020-01-10 04:05:00                               0.0   \n",
       "\n",
       "                     Limitado por presión espesador 3  pyrite law  \\\n",
       "Timestamp                                                           \n",
       "2020-01-10 04:05:00                               0.0         2.3   \n",
       "\n",
       "                     chalcopyrite law  chalcocite law  covelin law  \\\n",
       "Timestamp                                                            \n",
       "2020-01-10 04:05:00              1.76             0.5         0.02   \n",
       "\n",
       "                     crusher index  sag power index  ball work index  \\\n",
       "Timestamp                                                              \n",
       "2020-01-10 04:05:00        19.7649          98.5569          15.4504   \n",
       "\n",
       "                     bornite law     torque  charge cell         power  \\\n",
       "Timestamp                                                                \n",
       "2020-01-10 04:05:00         0.05  64.384706    809.23733  22008.766259   \n",
       "\n",
       "                             TPH  solid percentage        water     speed  \\\n",
       "Timestamp                                                                   \n",
       "2020-01-10 04:05:00  4317.030837         73.888038  1539.203093  9.063024   \n",
       "\n",
       "                         solid  LL charge cell  HH charge cell  HH TPH  \\\n",
       "Timestamp                                                                \n",
       "2020-01-10 04:05:00  73.155012           770.0           850.0  3950.0   \n",
       "\n",
       "                     stator current  granulometry  Edad  dif_TPH_HH  \\\n",
       "Timestamp                                                             \n",
       "2020-01-10 04:05:00     3755.398344     48.829422   1.0 -367.030837   \n",
       "\n",
       "                     dif_CC_HH  dif_CC_LL  loss of TPH  cluster  \\\n",
       "Timestamp                                                         \n",
       "2020-01-10 04:05:00   40.76267   39.23733            0        2   \n",
       "\n",
       "                     recommendation  loss of TPH_1  loss of TPH_2  \\\n",
       "Timestamp                                                           \n",
       "2020-01-10 04:05:00      892.044136            0.0            0.0   \n",
       "\n",
       "                     loss of TPH_3  loss of TPH_4  loss of TPH_5  \\\n",
       "Timestamp                                                          \n",
       "2020-01-10 04:05:00            0.0            0.0            0.0   \n",
       "\n",
       "                     greater than HH CC  greater than HH CC_1  \\\n",
       "Timestamp                                                       \n",
       "2020-01-10 04:05:00                   0                   0.0   \n",
       "\n",
       "                     greater than HH CC_2  greater than HH CC_3  \\\n",
       "Timestamp                                                         \n",
       "2020-01-10 04:05:00                   0.0                   0.0   \n",
       "\n",
       "                     greater than HH CC_4  greater than HH CC_5  \\\n",
       "Timestamp                                                         \n",
       "2020-01-10 04:05:00                   0.0                   0.0   \n",
       "\n",
       "                     less than LL CC  less than LL CC_1  less than LL CC_2  \\\n",
       "Timestamp                                                                    \n",
       "2020-01-10 04:05:00                0                0.0                0.0   \n",
       "\n",
       "                     less than LL CC_3  less than LL CC_4  less than LL CC_5  \\\n",
       "Timestamp                                                                      \n",
       "2020-01-10 04:05:00                0.0                0.0                0.0   \n",
       "\n",
       "                     greater than Rec HH CC  greater than Rec HH CC_1  \\\n",
       "Timestamp                                                               \n",
       "2020-01-10 04:05:00                       0                       0.0   \n",
       "\n",
       "                     greater than Rec HH CC_2  greater than Rec HH CC_3  \\\n",
       "Timestamp                                                                 \n",
       "2020-01-10 04:05:00                       0.0                       0.0   \n",
       "\n",
       "                     greater than Rec HH CC_4  greater than Rec HH CC_5  \\\n",
       "Timestamp                                                                 \n",
       "2020-01-10 04:05:00                       0.0                       0.0   \n",
       "\n",
       "                     Rec HH CC less than HH CC  Rec HH CC less than HH CC_1  \\\n",
       "Timestamp                                                                     \n",
       "2020-01-10 04:05:00                          0                          0.0   \n",
       "\n",
       "                     Rec HH CC less than HH CC_2  Rec HH CC less than HH CC_3  \\\n",
       "Timestamp                                                                       \n",
       "2020-01-10 04:05:00                          0.0                          0.0   \n",
       "\n",
       "                     Rec HH CC less than HH CC_4  Rec HH CC less than HH CC_5  \\\n",
       "Timestamp                                                                       \n",
       "2020-01-10 04:05:00                          0.0                          0.0   \n",
       "\n",
       "                     start loss tph  end loss tph  loss of TPH_mod  \n",
       "Timestamp                                                           \n",
       "2020-01-10 04:05:00               0             0                0  "
      ]
     },
     "execution_count": 25,
     "metadata": {},
     "output_type": "execute_result"
    }
   ],
   "source": [
    "# read df full csv\n",
    "df_full=pd.read_csv('../../data/consolidated data/df_full_01November2022.csv', parse_dates=['Timestamp'], index_col='Timestamp')\n",
    "df_full.head(1)"
   ]
  },
  {
   "cell_type": "code",
   "execution_count": 26,
   "metadata": {},
   "outputs": [
    {
     "data": {
      "text/plain": [
       "4744"
      ]
     },
     "execution_count": 26,
     "metadata": {},
     "output_type": "execute_result"
    }
   ],
   "source": [
    "len(df_full[df_full[\"start loss tph\"]==1].index)"
   ]
  },
  {
   "cell_type": "code",
   "execution_count": 27,
   "metadata": {},
   "outputs": [],
   "source": [
    "list_df=[]\n",
    "for i in df_full[df_full[\"start loss tph\"]==1].index:\n",
    "    try:\n",
    "        #i=\"2022-02-27 12:31:00\"\n",
    "        inicio_perdida=i\n",
    "        test=df_full[inicio_perdida:inicio_perdida+timedelta(hours=5)]\n",
    "        fin_perdida=min(test[(test[\"end loss tph\"]==1)].index)+timedelta(minutes=1)\n",
    "        inicio_evento=inicio_perdida-timedelta(minutes=5)\n",
    "        data=df_full.copy()[inicio_evento:fin_perdida]\n",
    "        #display(data)\n",
    "        dic_df={\"inicio evento\":inicio_evento,\"inicio perdida\":inicio_perdida,\"fin perdida\":fin_perdida,\"variación HH TPH\":data[\"HH TPH\"].std()!=0,\"Actua sistema de control\":any(data[\"greater than HH CC\"]==1),\n",
    "        \"Supera recomendación del modelo\":any(data[\"greater than Rec HH CC\"]==1),\"Recomendación menor a HH CC\":any(data[\"Rec HH CC less than HH CC\"]==1),\"CC menor a LL CC\":any(data[\"less than LL CC\"]==1),\n",
    "        \"Causalidad\":any(data[data[\"greater than Rec HH CC\"]==1].index<=inicio_perdida)}\n",
    "        list_df.append(pd.DataFrame(dic_df,index=[1]))  \n",
    "    except:\n",
    "        #print(i)\n",
    "        pass"
   ]
  },
  {
   "cell_type": "code",
   "execution_count": 15,
   "metadata": {},
   "outputs": [
    {
     "data": {
      "text/html": [
       "<div>\n",
       "<style scoped>\n",
       "    .dataframe tbody tr th:only-of-type {\n",
       "        vertical-align: middle;\n",
       "    }\n",
       "\n",
       "    .dataframe tbody tr th {\n",
       "        vertical-align: top;\n",
       "    }\n",
       "\n",
       "    .dataframe thead th {\n",
       "        text-align: right;\n",
       "    }\n",
       "</style>\n",
       "<table border=\"1\" class=\"dataframe\">\n",
       "  <thead>\n",
       "    <tr style=\"text-align: right;\">\n",
       "      <th></th>\n",
       "      <th>inicio evento</th>\n",
       "      <th>inicio perdida</th>\n",
       "      <th>fin perdida</th>\n",
       "      <th>variación HH TPH</th>\n",
       "      <th>Actua sistema de control</th>\n",
       "      <th>Supera recomendación del modelo</th>\n",
       "      <th>Recomendación menor a HH CC</th>\n",
       "      <th>CC menor a LL CC</th>\n",
       "      <th>Causalidad</th>\n",
       "    </tr>\n",
       "  </thead>\n",
       "  <tbody>\n",
       "    <tr>\n",
       "      <th>0</th>\n",
       "      <td>2020-01-10 05:23:00</td>\n",
       "      <td>2020-01-10 05:28:00</td>\n",
       "      <td>2020-01-10 05:35:00</td>\n",
       "      <td>True</td>\n",
       "      <td>False</td>\n",
       "      <td>False</td>\n",
       "      <td>False</td>\n",
       "      <td>False</td>\n",
       "      <td>False</td>\n",
       "    </tr>\n",
       "    <tr>\n",
       "      <th>1</th>\n",
       "      <td>2020-01-10 07:05:00</td>\n",
       "      <td>2020-01-10 07:10:00</td>\n",
       "      <td>2020-01-10 08:41:00</td>\n",
       "      <td>False</td>\n",
       "      <td>True</td>\n",
       "      <td>False</td>\n",
       "      <td>False</td>\n",
       "      <td>False</td>\n",
       "      <td>False</td>\n",
       "    </tr>\n",
       "    <tr>\n",
       "      <th>2</th>\n",
       "      <td>2020-01-10 09:05:00</td>\n",
       "      <td>2020-01-10 09:10:00</td>\n",
       "      <td>2020-01-10 10:16:00</td>\n",
       "      <td>False</td>\n",
       "      <td>True</td>\n",
       "      <td>False</td>\n",
       "      <td>False</td>\n",
       "      <td>False</td>\n",
       "      <td>False</td>\n",
       "    </tr>\n",
       "    <tr>\n",
       "      <th>3</th>\n",
       "      <td>2020-01-10 10:15:00</td>\n",
       "      <td>2020-01-10 10:20:00</td>\n",
       "      <td>2020-01-10 11:08:00</td>\n",
       "      <td>False</td>\n",
       "      <td>True</td>\n",
       "      <td>True</td>\n",
       "      <td>True</td>\n",
       "      <td>False</td>\n",
       "      <td>False</td>\n",
       "    </tr>\n",
       "    <tr>\n",
       "      <th>4</th>\n",
       "      <td>2020-01-14 03:54:00</td>\n",
       "      <td>2020-01-14 03:59:00</td>\n",
       "      <td>2020-01-14 04:31:00</td>\n",
       "      <td>False</td>\n",
       "      <td>True</td>\n",
       "      <td>False</td>\n",
       "      <td>False</td>\n",
       "      <td>False</td>\n",
       "      <td>False</td>\n",
       "    </tr>\n",
       "  </tbody>\n",
       "</table>\n",
       "</div>"
      ],
      "text/plain": [
       "        inicio evento      inicio perdida         fin perdida  \\\n",
       "0 2020-01-10 05:23:00 2020-01-10 05:28:00 2020-01-10 05:35:00   \n",
       "1 2020-01-10 07:05:00 2020-01-10 07:10:00 2020-01-10 08:41:00   \n",
       "2 2020-01-10 09:05:00 2020-01-10 09:10:00 2020-01-10 10:16:00   \n",
       "3 2020-01-10 10:15:00 2020-01-10 10:20:00 2020-01-10 11:08:00   \n",
       "4 2020-01-14 03:54:00 2020-01-14 03:59:00 2020-01-14 04:31:00   \n",
       "\n",
       "   variación HH TPH  Actua sistema de control  \\\n",
       "0              True                     False   \n",
       "1             False                      True   \n",
       "2             False                      True   \n",
       "3             False                      True   \n",
       "4             False                      True   \n",
       "\n",
       "   Supera recomendación del modelo  Recomendación menor a HH CC  \\\n",
       "0                            False                        False   \n",
       "1                            False                        False   \n",
       "2                            False                        False   \n",
       "3                             True                         True   \n",
       "4                            False                        False   \n",
       "\n",
       "   CC menor a LL CC  Causalidad  \n",
       "0             False       False  \n",
       "1             False       False  \n",
       "2             False       False  \n",
       "3             False       False  \n",
       "4             False       False  "
      ]
     },
     "execution_count": 15,
     "metadata": {},
     "output_type": "execute_result"
    }
   ],
   "source": [
    "df_tph_loss=pd.concat(list_df).reset_index(drop=True)\n",
    "df_tph_loss.head()"
   ]
  },
  {
   "cell_type": "code",
   "execution_count": 24,
   "metadata": {},
   "outputs": [],
   "source": [
    "# Se guarda en csv\n",
    "df_tph_loss.to_csv('df_tph_loss.csv', index=False)"
   ]
  },
  {
   "cell_type": "code",
   "execution_count": 20,
   "metadata": {},
   "outputs": [
    {
     "data": {
      "application/vnd.plotly.v1+json": {
       "config": {
        "plotlyServerURL": "https://plot.ly"
       },
       "data": [
        {
         "legendgroup": "1",
         "line": {
          "width": 3
         },
         "mode": "lines",
         "name": "TPH",
         "type": "scatter",
         "x": [
          "2022-01-31T23:40:00",
          "2022-01-31T23:41:00",
          "2022-01-31T23:42:00",
          "2022-01-31T23:43:00",
          "2022-01-31T23:44:00",
          "2022-01-31T23:45:00",
          "2022-01-31T23:46:00",
          "2022-01-31T23:47:00",
          "2022-01-31T23:48:00",
          "2022-01-31T23:49:00",
          "2022-01-31T23:50:00",
          "2022-01-31T23:51:00"
         ],
         "xaxis": "x",
         "y": [
          4303.333468397054,
          4285.458814247189,
          4256.961284079621,
          4270.901099129927,
          4250.475270453198,
          4243.45300624217,
          4255.074643537825,
          4252.854238426214,
          4276.992073323964,
          4296.665534334225,
          4311.906397654098,
          4307.255615881327
         ],
         "yaxis": "y"
        },
        {
         "legendgroup": "1",
         "line": {
          "width": 3
         },
         "mode": "lines",
         "name": "HH TPH",
         "type": "scatter",
         "x": [
          "2022-01-31T23:40:00",
          "2022-01-31T23:41:00",
          "2022-01-31T23:42:00",
          "2022-01-31T23:43:00",
          "2022-01-31T23:44:00",
          "2022-01-31T23:45:00",
          "2022-01-31T23:46:00",
          "2022-01-31T23:47:00",
          "2022-01-31T23:48:00",
          "2022-01-31T23:49:00",
          "2022-01-31T23:50:00",
          "2022-01-31T23:51:00"
         ],
         "xaxis": "x",
         "y": [
          4350,
          4350,
          4350,
          4350,
          4350,
          4350,
          4350,
          4350,
          4350,
          4350,
          4350,
          4350
         ],
         "yaxis": "y"
        },
        {
         "legendgroup": "1",
         "line": {
          "width": 3
         },
         "mode": "lines",
         "name": "charge cell",
         "type": "scatter",
         "x": [
          "2022-01-31T23:40:00",
          "2022-01-31T23:41:00",
          "2022-01-31T23:42:00",
          "2022-01-31T23:43:00",
          "2022-01-31T23:44:00",
          "2022-01-31T23:45:00",
          "2022-01-31T23:46:00",
          "2022-01-31T23:47:00",
          "2022-01-31T23:48:00",
          "2022-01-31T23:49:00",
          "2022-01-31T23:50:00",
          "2022-01-31T23:51:00"
         ],
         "xaxis": "x2",
         "y": [
          923.7158540506816,
          924.5904234972644,
          921.2044814882796,
          917.7847239210988,
          913.801841517083,
          909.3290182329224,
          906.9147854707044,
          906.1085572790394,
          906.6763423435872,
          907.7467816732756,
          911.7365559983313,
          913.0101635506508
         ],
         "yaxis": "y2"
        },
        {
         "legendgroup": "1",
         "line": {
          "width": 3
         },
         "mode": "lines",
         "name": "LL charge cell",
         "type": "scatter",
         "x": [
          "2022-01-31T23:40:00",
          "2022-01-31T23:41:00",
          "2022-01-31T23:42:00",
          "2022-01-31T23:43:00",
          "2022-01-31T23:44:00",
          "2022-01-31T23:45:00",
          "2022-01-31T23:46:00",
          "2022-01-31T23:47:00",
          "2022-01-31T23:48:00",
          "2022-01-31T23:49:00",
          "2022-01-31T23:50:00",
          "2022-01-31T23:51:00"
         ],
         "xaxis": "x2",
         "y": [
          880,
          880,
          880,
          880,
          880,
          880,
          880,
          880,
          880,
          880,
          880,
          880
         ],
         "yaxis": "y2"
        },
        {
         "legendgroup": "1",
         "line": {
          "width": 3
         },
         "mode": "lines",
         "name": "HH charge cell",
         "type": "scatter",
         "x": [
          "2022-01-31T23:40:00",
          "2022-01-31T23:41:00",
          "2022-01-31T23:42:00",
          "2022-01-31T23:43:00",
          "2022-01-31T23:44:00",
          "2022-01-31T23:45:00",
          "2022-01-31T23:46:00",
          "2022-01-31T23:47:00",
          "2022-01-31T23:48:00",
          "2022-01-31T23:49:00",
          "2022-01-31T23:50:00",
          "2022-01-31T23:51:00"
         ],
         "xaxis": "x2",
         "y": [
          960,
          960,
          960,
          960,
          960,
          960,
          960,
          960,
          960,
          960,
          960,
          960
         ],
         "yaxis": "y2"
        },
        {
         "legendgroup": "1",
         "line": {
          "color": "black",
          "width": 1
         },
         "mode": "lines",
         "name": "recommendation HH CC",
         "type": "scatter",
         "x": [
          "2022-01-31T23:40:00",
          "2022-01-31T23:41:00",
          "2022-01-31T23:42:00",
          "2022-01-31T23:43:00",
          "2022-01-31T23:44:00",
          "2022-01-31T23:45:00",
          "2022-01-31T23:46:00",
          "2022-01-31T23:47:00",
          "2022-01-31T23:48:00",
          "2022-01-31T23:49:00",
          "2022-01-31T23:50:00",
          "2022-01-31T23:51:00"
         ],
         "xaxis": "x2",
         "y": [
          905.4063967606736,
          905.4063967606736,
          913.0877731659386,
          913.0877731659386,
          913.0877731659386,
          913.0877731659386,
          913.0877731659386,
          913.0877731659386,
          905.4063967606736,
          905.4063967606736,
          905.4063967606736,
          905.4063967606736
         ],
         "yaxis": "y2"
        },
        {
         "legendgroup": "1",
         "line": {
          "width": 3
         },
         "mode": "lines",
         "name": "granulometry",
         "type": "scatter",
         "x": [
          "2022-01-31T23:40:00",
          "2022-01-31T23:41:00",
          "2022-01-31T23:42:00",
          "2022-01-31T23:43:00",
          "2022-01-31T23:44:00",
          "2022-01-31T23:45:00",
          "2022-01-31T23:46:00",
          "2022-01-31T23:47:00",
          "2022-01-31T23:48:00",
          "2022-01-31T23:49:00",
          "2022-01-31T23:50:00",
          "2022-01-31T23:51:00"
         ],
         "xaxis": "x3",
         "y": [
          51.87757689490349,
          51.67680281100934,
          51.22103158134552,
          50.65779180900039,
          50.47656392308863,
          50.06646807972493,
          49.77070588733021,
          49.59327723221362,
          49.32315596958678,
          49.31227389248589,
          49.286880389070895,
          49.11122236089127
         ],
         "yaxis": "y3"
        },
        {
         "legendgroup": "1",
         "line": {
          "width": 3
         },
         "mode": "lines",
         "name": "sag power index",
         "type": "scatter",
         "x": [
          "2022-01-31T23:40:00",
          "2022-01-31T23:41:00",
          "2022-01-31T23:42:00",
          "2022-01-31T23:43:00",
          "2022-01-31T23:44:00",
          "2022-01-31T23:45:00",
          "2022-01-31T23:46:00",
          "2022-01-31T23:47:00",
          "2022-01-31T23:48:00",
          "2022-01-31T23:49:00",
          "2022-01-31T23:50:00",
          "2022-01-31T23:51:00"
         ],
         "xaxis": "x4",
         "y": [
          102.6316,
          102.6316,
          102.6316,
          102.6316,
          102.6316,
          102.6316,
          102.6316,
          102.6316,
          102.6316,
          102.6316,
          102.6316,
          102.6316
         ],
         "yaxis": "y4"
        },
        {
         "legendgroup": "1",
         "line": {
          "width": 3
         },
         "mode": "lines",
         "name": "speed",
         "type": "scatter",
         "x": [
          "2022-01-31T23:40:00",
          "2022-01-31T23:41:00",
          "2022-01-31T23:42:00",
          "2022-01-31T23:43:00",
          "2022-01-31T23:44:00",
          "2022-01-31T23:45:00",
          "2022-01-31T23:46:00",
          "2022-01-31T23:47:00",
          "2022-01-31T23:48:00",
          "2022-01-31T23:49:00",
          "2022-01-31T23:50:00",
          "2022-01-31T23:51:00"
         ],
         "xaxis": "x14",
         "y": [
          9.272167393469257,
          9.280817014658048,
          9.285708831081989,
          9.251257719785038,
          9.23236864178143,
          9.241963096303996,
          9.251874180899543,
          9.246098527272016,
          9.248890648162824,
          9.270844876827931,
          9.291055246831336,
          9.29845744414706
         ],
         "yaxis": "y14"
        },
        {
         "legendgroup": "1",
         "line": {
          "width": 3
         },
         "mode": "lines",
         "name": "solid percentage",
         "type": "scatter",
         "x": [
          "2022-01-31T23:40:00",
          "2022-01-31T23:41:00",
          "2022-01-31T23:42:00",
          "2022-01-31T23:43:00",
          "2022-01-31T23:44:00",
          "2022-01-31T23:45:00",
          "2022-01-31T23:46:00",
          "2022-01-31T23:47:00",
          "2022-01-31T23:48:00",
          "2022-01-31T23:49:00",
          "2022-01-31T23:50:00",
          "2022-01-31T23:51:00"
         ],
         "xaxis": "x15",
         "y": [
          65.44088867349478,
          65.31481527801485,
          65.26432715684624,
          65.29627812885091,
          65.3161289084314,
          65.28662336274404,
          65.33393706907822,
          65.38572197345987,
          65.54923757371338,
          65.54826796374867,
          65.55306231792059,
          65.43119559373996
         ],
         "yaxis": "y15"
        },
        {
         "legendgroup": "1",
         "line": {
          "width": 3
         },
         "mode": "lines",
         "name": "water",
         "type": "scatter",
         "x": [
          "2022-01-31T23:40:00",
          "2022-01-31T23:41:00",
          "2022-01-31T23:42:00",
          "2022-01-31T23:43:00",
          "2022-01-31T23:44:00",
          "2022-01-31T23:45:00",
          "2022-01-31T23:46:00",
          "2022-01-31T23:47:00",
          "2022-01-31T23:48:00",
          "2022-01-31T23:49:00",
          "2022-01-31T23:50:00",
          "2022-01-31T23:51:00"
         ],
         "xaxis": "x13",
         "y": [
          2272.9693908534537,
          2274.2944435136974,
          2266.4311830244687,
          2266.6333481036595,
          2257.8039051948795,
          2253.913966221612,
          2258.994097584687,
          2248.850668893266,
          2251.1923085929134,
          2257.430827349989,
          2268.832185529912,
          2275.189026222603
         ],
         "yaxis": "y13"
        },
        {
         "legendgroup": "1",
         "line": {
          "width": 3
         },
         "mode": "lines",
         "name": "loss of TPH",
         "type": "scatter",
         "x": [
          "2022-01-31T23:40:00",
          "2022-01-31T23:41:00",
          "2022-01-31T23:42:00",
          "2022-01-31T23:43:00",
          "2022-01-31T23:44:00",
          "2022-01-31T23:45:00",
          "2022-01-31T23:46:00",
          "2022-01-31T23:47:00",
          "2022-01-31T23:48:00",
          "2022-01-31T23:49:00",
          "2022-01-31T23:50:00",
          "2022-01-31T23:51:00"
         ],
         "xaxis": "x5",
         "y": [
          1,
          1,
          1,
          1,
          0,
          1,
          1,
          1,
          1,
          1,
          1,
          0
         ],
         "yaxis": "y5"
        },
        {
         "legendgroup": "1",
         "line": {
          "width": 3
         },
         "mode": "lines",
         "name": "dif_TPH_HH",
         "type": "scatter",
         "x": [
          "2022-01-31T23:40:00",
          "2022-01-31T23:41:00",
          "2022-01-31T23:42:00",
          "2022-01-31T23:43:00",
          "2022-01-31T23:44:00",
          "2022-01-31T23:45:00",
          "2022-01-31T23:46:00",
          "2022-01-31T23:47:00",
          "2022-01-31T23:48:00",
          "2022-01-31T23:49:00",
          "2022-01-31T23:50:00",
          "2022-01-31T23:51:00"
         ],
         "xaxis": "x6",
         "y": [
          46.66653160294573,
          64.54118575281063,
          93.03871592037922,
          79.09890087007261,
          99.5247295468016,
          106.54699375783002,
          94.92535646217492,
          97.14576157378632,
          73.00792667603582,
          53.33446566577459,
          38.09360234590167,
          42.74438411867322
         ],
         "yaxis": "y6"
        },
        {
         "legendgroup": "1",
         "line": {
          "width": 3
         },
         "mode": "lines",
         "name": "greater than HH CC",
         "type": "scatter",
         "x": [
          "2022-01-31T23:40:00",
          "2022-01-31T23:41:00",
          "2022-01-31T23:42:00",
          "2022-01-31T23:43:00",
          "2022-01-31T23:44:00",
          "2022-01-31T23:45:00",
          "2022-01-31T23:46:00",
          "2022-01-31T23:47:00",
          "2022-01-31T23:48:00",
          "2022-01-31T23:49:00",
          "2022-01-31T23:50:00",
          "2022-01-31T23:51:00"
         ],
         "xaxis": "x7",
         "y": [
          0,
          0,
          0,
          0,
          0,
          0,
          0,
          0,
          0,
          0,
          0,
          0
         ],
         "yaxis": "y7"
        },
        {
         "legendgroup": "1",
         "line": {
          "width": 3
         },
         "mode": "lines",
         "name": "less than LL CC",
         "type": "scatter",
         "x": [
          "2022-01-31T23:40:00",
          "2022-01-31T23:41:00",
          "2022-01-31T23:42:00",
          "2022-01-31T23:43:00",
          "2022-01-31T23:44:00",
          "2022-01-31T23:45:00",
          "2022-01-31T23:46:00",
          "2022-01-31T23:47:00",
          "2022-01-31T23:48:00",
          "2022-01-31T23:49:00",
          "2022-01-31T23:50:00",
          "2022-01-31T23:51:00"
         ],
         "xaxis": "x10",
         "y": [
          0,
          0,
          0,
          0,
          0,
          0,
          0,
          0,
          0,
          0,
          0,
          0
         ],
         "yaxis": "y10"
        },
        {
         "legendgroup": "1",
         "line": {
          "width": 3
         },
         "mode": "lines",
         "name": "start loss tph",
         "type": "scatter",
         "x": [
          "2022-01-31T23:40:00",
          "2022-01-31T23:41:00",
          "2022-01-31T23:42:00",
          "2022-01-31T23:43:00",
          "2022-01-31T23:44:00",
          "2022-01-31T23:45:00",
          "2022-01-31T23:46:00",
          "2022-01-31T23:47:00",
          "2022-01-31T23:48:00",
          "2022-01-31T23:49:00",
          "2022-01-31T23:50:00",
          "2022-01-31T23:51:00"
         ],
         "xaxis": "x11",
         "y": [
          0,
          0,
          0,
          0,
          0,
          1,
          0,
          0,
          0,
          0,
          0,
          0
         ],
         "yaxis": "y11"
        },
        {
         "legendgroup": "1",
         "line": {
          "width": 3
         },
         "mode": "lines",
         "name": "end loss tph",
         "type": "scatter",
         "x": [
          "2022-01-31T23:40:00",
          "2022-01-31T23:41:00",
          "2022-01-31T23:42:00",
          "2022-01-31T23:43:00",
          "2022-01-31T23:44:00",
          "2022-01-31T23:45:00",
          "2022-01-31T23:46:00",
          "2022-01-31T23:47:00",
          "2022-01-31T23:48:00",
          "2022-01-31T23:49:00",
          "2022-01-31T23:50:00",
          "2022-01-31T23:51:00"
         ],
         "xaxis": "x12",
         "y": [
          0,
          0,
          0,
          1,
          0,
          0,
          0,
          0,
          0,
          0,
          1,
          0
         ],
         "yaxis": "y12"
        },
        {
         "legendgroup": "1",
         "line": {
          "width": 3
         },
         "mode": "lines",
         "name": "greater than rec HH CC",
         "type": "scatter",
         "x": [
          "2022-01-31T23:40:00",
          "2022-01-31T23:41:00",
          "2022-01-31T23:42:00",
          "2022-01-31T23:43:00",
          "2022-01-31T23:44:00",
          "2022-01-31T23:45:00",
          "2022-01-31T23:46:00",
          "2022-01-31T23:47:00",
          "2022-01-31T23:48:00",
          "2022-01-31T23:49:00",
          "2022-01-31T23:50:00",
          "2022-01-31T23:51:00"
         ],
         "xaxis": "x8",
         "y": [
          1,
          1,
          1,
          1,
          1,
          0,
          0,
          0,
          1,
          1,
          1,
          1
         ],
         "yaxis": "y8"
        },
        {
         "legendgroup": "1",
         "line": {
          "width": 3
         },
         "mode": "lines",
         "name": "Rec HH CC less than HH CC",
         "type": "scatter",
         "x": [
          "2022-01-31T23:40:00",
          "2022-01-31T23:41:00",
          "2022-01-31T23:42:00",
          "2022-01-31T23:43:00",
          "2022-01-31T23:44:00",
          "2022-01-31T23:45:00",
          "2022-01-31T23:46:00",
          "2022-01-31T23:47:00",
          "2022-01-31T23:48:00",
          "2022-01-31T23:49:00",
          "2022-01-31T23:50:00",
          "2022-01-31T23:51:00"
         ],
         "xaxis": "x9",
         "y": [
          1,
          1,
          1,
          1,
          1,
          1,
          1,
          1,
          1,
          1,
          1,
          1
         ],
         "yaxis": "y9"
        }
       ],
       "layout": {
        "annotations": [
         {
          "font": {
           "size": 16
          },
          "showarrow": false,
          "text": "TPH & HH TPH",
          "x": 0.14444444444444446,
          "xanchor": "center",
          "xref": "paper",
          "y": 1,
          "yanchor": "bottom",
          "yref": "paper"
         },
         {
          "font": {
           "size": 16
          },
          "showarrow": false,
          "text": "CC, recommendation HH CC, HH CC & LL CC",
          "x": 0.5,
          "xanchor": "center",
          "xref": "paper",
          "y": 1,
          "yanchor": "bottom",
          "yref": "paper"
         },
         {
          "font": {
           "size": 16
          },
          "showarrow": false,
          "text": "granulometry",
          "x": 0.8555555555555556,
          "xanchor": "center",
          "xref": "paper",
          "y": 1,
          "yanchor": "bottom",
          "yref": "paper"
         },
         {
          "font": {
           "size": 16
          },
          "showarrow": false,
          "text": "SPI",
          "x": 0.14444444444444446,
          "xanchor": "center",
          "xref": "paper",
          "y": 0.78,
          "yanchor": "bottom",
          "yref": "paper"
         },
         {
          "font": {
           "size": 16
          },
          "showarrow": false,
          "text": "loss of TPH",
          "x": 0.5,
          "xanchor": "center",
          "xref": "paper",
          "y": 0.78,
          "yanchor": "bottom",
          "yref": "paper"
         },
         {
          "font": {
           "size": 16
          },
          "showarrow": false,
          "text": "diff. HH TPH between TPH",
          "x": 0.8555555555555556,
          "xanchor": "center",
          "xref": "paper",
          "y": 0.78,
          "yanchor": "bottom",
          "yref": "paper"
         },
         {
          "font": {
           "size": 16
          },
          "showarrow": false,
          "text": "greater than HH CC",
          "x": 0.14444444444444446,
          "xanchor": "center",
          "xref": "paper",
          "y": 0.56,
          "yanchor": "bottom",
          "yref": "paper"
         },
         {
          "font": {
           "size": 16
          },
          "showarrow": false,
          "text": "greater than Rec HH CC",
          "x": 0.5,
          "xanchor": "center",
          "xref": "paper",
          "y": 0.56,
          "yanchor": "bottom",
          "yref": "paper"
         },
         {
          "font": {
           "size": 16
          },
          "showarrow": false,
          "text": "Rec HH CC less than HH CC",
          "x": 0.8555555555555556,
          "xanchor": "center",
          "xref": "paper",
          "y": 0.56,
          "yanchor": "bottom",
          "yref": "paper"
         },
         {
          "font": {
           "size": 16
          },
          "showarrow": false,
          "text": "less than LL CC",
          "x": 0.14444444444444446,
          "xanchor": "center",
          "xref": "paper",
          "y": 0.33999999999999997,
          "yanchor": "bottom",
          "yref": "paper"
         },
         {
          "font": {
           "size": 16
          },
          "showarrow": false,
          "text": "start loss tph",
          "x": 0.5,
          "xanchor": "center",
          "xref": "paper",
          "y": 0.33999999999999997,
          "yanchor": "bottom",
          "yref": "paper"
         },
         {
          "font": {
           "size": 16
          },
          "showarrow": false,
          "text": "end loss tph",
          "x": 0.8555555555555556,
          "xanchor": "center",
          "xref": "paper",
          "y": 0.33999999999999997,
          "yanchor": "bottom",
          "yref": "paper"
         },
         {
          "font": {
           "size": 16
          },
          "showarrow": false,
          "text": "water",
          "x": 0.14444444444444446,
          "xanchor": "center",
          "xref": "paper",
          "y": 0.12,
          "yanchor": "bottom",
          "yref": "paper"
         },
         {
          "font": {
           "size": 16
          },
          "showarrow": false,
          "text": "speed",
          "x": 0.5,
          "xanchor": "center",
          "xref": "paper",
          "y": 0.12,
          "yanchor": "bottom",
          "yref": "paper"
         },
         {
          "font": {
           "size": 16
          },
          "showarrow": false,
          "text": "solid percentage",
          "x": 0.8555555555555556,
          "xanchor": "center",
          "xref": "paper",
          "y": 0.12,
          "yanchor": "bottom",
          "yref": "paper"
         }
        ],
        "height": 1000,
        "hovermode": "x unified",
        "template": {
         "data": {
          "bar": [
           {
            "error_x": {
             "color": "#2a3f5f"
            },
            "error_y": {
             "color": "#2a3f5f"
            },
            "marker": {
             "line": {
              "color": "#E5ECF6",
              "width": 0.5
             },
             "pattern": {
              "fillmode": "overlay",
              "size": 10,
              "solidity": 0.2
             }
            },
            "type": "bar"
           }
          ],
          "barpolar": [
           {
            "marker": {
             "line": {
              "color": "#E5ECF6",
              "width": 0.5
             },
             "pattern": {
              "fillmode": "overlay",
              "size": 10,
              "solidity": 0.2
             }
            },
            "type": "barpolar"
           }
          ],
          "carpet": [
           {
            "aaxis": {
             "endlinecolor": "#2a3f5f",
             "gridcolor": "white",
             "linecolor": "white",
             "minorgridcolor": "white",
             "startlinecolor": "#2a3f5f"
            },
            "baxis": {
             "endlinecolor": "#2a3f5f",
             "gridcolor": "white",
             "linecolor": "white",
             "minorgridcolor": "white",
             "startlinecolor": "#2a3f5f"
            },
            "type": "carpet"
           }
          ],
          "choropleth": [
           {
            "colorbar": {
             "outlinewidth": 0,
             "ticks": ""
            },
            "type": "choropleth"
           }
          ],
          "contour": [
           {
            "colorbar": {
             "outlinewidth": 0,
             "ticks": ""
            },
            "colorscale": [
             [
              0,
              "#0d0887"
             ],
             [
              0.1111111111111111,
              "#46039f"
             ],
             [
              0.2222222222222222,
              "#7201a8"
             ],
             [
              0.3333333333333333,
              "#9c179e"
             ],
             [
              0.4444444444444444,
              "#bd3786"
             ],
             [
              0.5555555555555556,
              "#d8576b"
             ],
             [
              0.6666666666666666,
              "#ed7953"
             ],
             [
              0.7777777777777778,
              "#fb9f3a"
             ],
             [
              0.8888888888888888,
              "#fdca26"
             ],
             [
              1,
              "#f0f921"
             ]
            ],
            "type": "contour"
           }
          ],
          "contourcarpet": [
           {
            "colorbar": {
             "outlinewidth": 0,
             "ticks": ""
            },
            "type": "contourcarpet"
           }
          ],
          "heatmap": [
           {
            "colorbar": {
             "outlinewidth": 0,
             "ticks": ""
            },
            "colorscale": [
             [
              0,
              "#0d0887"
             ],
             [
              0.1111111111111111,
              "#46039f"
             ],
             [
              0.2222222222222222,
              "#7201a8"
             ],
             [
              0.3333333333333333,
              "#9c179e"
             ],
             [
              0.4444444444444444,
              "#bd3786"
             ],
             [
              0.5555555555555556,
              "#d8576b"
             ],
             [
              0.6666666666666666,
              "#ed7953"
             ],
             [
              0.7777777777777778,
              "#fb9f3a"
             ],
             [
              0.8888888888888888,
              "#fdca26"
             ],
             [
              1,
              "#f0f921"
             ]
            ],
            "type": "heatmap"
           }
          ],
          "heatmapgl": [
           {
            "colorbar": {
             "outlinewidth": 0,
             "ticks": ""
            },
            "colorscale": [
             [
              0,
              "#0d0887"
             ],
             [
              0.1111111111111111,
              "#46039f"
             ],
             [
              0.2222222222222222,
              "#7201a8"
             ],
             [
              0.3333333333333333,
              "#9c179e"
             ],
             [
              0.4444444444444444,
              "#bd3786"
             ],
             [
              0.5555555555555556,
              "#d8576b"
             ],
             [
              0.6666666666666666,
              "#ed7953"
             ],
             [
              0.7777777777777778,
              "#fb9f3a"
             ],
             [
              0.8888888888888888,
              "#fdca26"
             ],
             [
              1,
              "#f0f921"
             ]
            ],
            "type": "heatmapgl"
           }
          ],
          "histogram": [
           {
            "marker": {
             "pattern": {
              "fillmode": "overlay",
              "size": 10,
              "solidity": 0.2
             }
            },
            "type": "histogram"
           }
          ],
          "histogram2d": [
           {
            "colorbar": {
             "outlinewidth": 0,
             "ticks": ""
            },
            "colorscale": [
             [
              0,
              "#0d0887"
             ],
             [
              0.1111111111111111,
              "#46039f"
             ],
             [
              0.2222222222222222,
              "#7201a8"
             ],
             [
              0.3333333333333333,
              "#9c179e"
             ],
             [
              0.4444444444444444,
              "#bd3786"
             ],
             [
              0.5555555555555556,
              "#d8576b"
             ],
             [
              0.6666666666666666,
              "#ed7953"
             ],
             [
              0.7777777777777778,
              "#fb9f3a"
             ],
             [
              0.8888888888888888,
              "#fdca26"
             ],
             [
              1,
              "#f0f921"
             ]
            ],
            "type": "histogram2d"
           }
          ],
          "histogram2dcontour": [
           {
            "colorbar": {
             "outlinewidth": 0,
             "ticks": ""
            },
            "colorscale": [
             [
              0,
              "#0d0887"
             ],
             [
              0.1111111111111111,
              "#46039f"
             ],
             [
              0.2222222222222222,
              "#7201a8"
             ],
             [
              0.3333333333333333,
              "#9c179e"
             ],
             [
              0.4444444444444444,
              "#bd3786"
             ],
             [
              0.5555555555555556,
              "#d8576b"
             ],
             [
              0.6666666666666666,
              "#ed7953"
             ],
             [
              0.7777777777777778,
              "#fb9f3a"
             ],
             [
              0.8888888888888888,
              "#fdca26"
             ],
             [
              1,
              "#f0f921"
             ]
            ],
            "type": "histogram2dcontour"
           }
          ],
          "mesh3d": [
           {
            "colorbar": {
             "outlinewidth": 0,
             "ticks": ""
            },
            "type": "mesh3d"
           }
          ],
          "parcoords": [
           {
            "line": {
             "colorbar": {
              "outlinewidth": 0,
              "ticks": ""
             }
            },
            "type": "parcoords"
           }
          ],
          "pie": [
           {
            "automargin": true,
            "type": "pie"
           }
          ],
          "scatter": [
           {
            "marker": {
             "colorbar": {
              "outlinewidth": 0,
              "ticks": ""
             }
            },
            "type": "scatter"
           }
          ],
          "scatter3d": [
           {
            "line": {
             "colorbar": {
              "outlinewidth": 0,
              "ticks": ""
             }
            },
            "marker": {
             "colorbar": {
              "outlinewidth": 0,
              "ticks": ""
             }
            },
            "type": "scatter3d"
           }
          ],
          "scattercarpet": [
           {
            "marker": {
             "colorbar": {
              "outlinewidth": 0,
              "ticks": ""
             }
            },
            "type": "scattercarpet"
           }
          ],
          "scattergeo": [
           {
            "marker": {
             "colorbar": {
              "outlinewidth": 0,
              "ticks": ""
             }
            },
            "type": "scattergeo"
           }
          ],
          "scattergl": [
           {
            "marker": {
             "colorbar": {
              "outlinewidth": 0,
              "ticks": ""
             }
            },
            "type": "scattergl"
           }
          ],
          "scattermapbox": [
           {
            "marker": {
             "colorbar": {
              "outlinewidth": 0,
              "ticks": ""
             }
            },
            "type": "scattermapbox"
           }
          ],
          "scatterpolar": [
           {
            "marker": {
             "colorbar": {
              "outlinewidth": 0,
              "ticks": ""
             }
            },
            "type": "scatterpolar"
           }
          ],
          "scatterpolargl": [
           {
            "marker": {
             "colorbar": {
              "outlinewidth": 0,
              "ticks": ""
             }
            },
            "type": "scatterpolargl"
           }
          ],
          "scatterternary": [
           {
            "marker": {
             "colorbar": {
              "outlinewidth": 0,
              "ticks": ""
             }
            },
            "type": "scatterternary"
           }
          ],
          "surface": [
           {
            "colorbar": {
             "outlinewidth": 0,
             "ticks": ""
            },
            "colorscale": [
             [
              0,
              "#0d0887"
             ],
             [
              0.1111111111111111,
              "#46039f"
             ],
             [
              0.2222222222222222,
              "#7201a8"
             ],
             [
              0.3333333333333333,
              "#9c179e"
             ],
             [
              0.4444444444444444,
              "#bd3786"
             ],
             [
              0.5555555555555556,
              "#d8576b"
             ],
             [
              0.6666666666666666,
              "#ed7953"
             ],
             [
              0.7777777777777778,
              "#fb9f3a"
             ],
             [
              0.8888888888888888,
              "#fdca26"
             ],
             [
              1,
              "#f0f921"
             ]
            ],
            "type": "surface"
           }
          ],
          "table": [
           {
            "cells": {
             "fill": {
              "color": "#EBF0F8"
             },
             "line": {
              "color": "white"
             }
            },
            "header": {
             "fill": {
              "color": "#C8D4E3"
             },
             "line": {
              "color": "white"
             }
            },
            "type": "table"
           }
          ]
         },
         "layout": {
          "annotationdefaults": {
           "arrowcolor": "#2a3f5f",
           "arrowhead": 0,
           "arrowwidth": 1
          },
          "autotypenumbers": "strict",
          "coloraxis": {
           "colorbar": {
            "outlinewidth": 0,
            "ticks": ""
           }
          },
          "colorscale": {
           "diverging": [
            [
             0,
             "#8e0152"
            ],
            [
             0.1,
             "#c51b7d"
            ],
            [
             0.2,
             "#de77ae"
            ],
            [
             0.3,
             "#f1b6da"
            ],
            [
             0.4,
             "#fde0ef"
            ],
            [
             0.5,
             "#f7f7f7"
            ],
            [
             0.6,
             "#e6f5d0"
            ],
            [
             0.7,
             "#b8e186"
            ],
            [
             0.8,
             "#7fbc41"
            ],
            [
             0.9,
             "#4d9221"
            ],
            [
             1,
             "#276419"
            ]
           ],
           "sequential": [
            [
             0,
             "#0d0887"
            ],
            [
             0.1111111111111111,
             "#46039f"
            ],
            [
             0.2222222222222222,
             "#7201a8"
            ],
            [
             0.3333333333333333,
             "#9c179e"
            ],
            [
             0.4444444444444444,
             "#bd3786"
            ],
            [
             0.5555555555555556,
             "#d8576b"
            ],
            [
             0.6666666666666666,
             "#ed7953"
            ],
            [
             0.7777777777777778,
             "#fb9f3a"
            ],
            [
             0.8888888888888888,
             "#fdca26"
            ],
            [
             1,
             "#f0f921"
            ]
           ],
           "sequentialminus": [
            [
             0,
             "#0d0887"
            ],
            [
             0.1111111111111111,
             "#46039f"
            ],
            [
             0.2222222222222222,
             "#7201a8"
            ],
            [
             0.3333333333333333,
             "#9c179e"
            ],
            [
             0.4444444444444444,
             "#bd3786"
            ],
            [
             0.5555555555555556,
             "#d8576b"
            ],
            [
             0.6666666666666666,
             "#ed7953"
            ],
            [
             0.7777777777777778,
             "#fb9f3a"
            ],
            [
             0.8888888888888888,
             "#fdca26"
            ],
            [
             1,
             "#f0f921"
            ]
           ]
          },
          "colorway": [
           "#636efa",
           "#EF553B",
           "#00cc96",
           "#ab63fa",
           "#FFA15A",
           "#19d3f3",
           "#FF6692",
           "#B6E880",
           "#FF97FF",
           "#FECB52"
          ],
          "font": {
           "color": "#2a3f5f"
          },
          "geo": {
           "bgcolor": "white",
           "lakecolor": "white",
           "landcolor": "#E5ECF6",
           "showlakes": true,
           "showland": true,
           "subunitcolor": "white"
          },
          "hoverlabel": {
           "align": "left"
          },
          "hovermode": "closest",
          "mapbox": {
           "style": "light"
          },
          "paper_bgcolor": "white",
          "plot_bgcolor": "#E5ECF6",
          "polar": {
           "angularaxis": {
            "gridcolor": "white",
            "linecolor": "white",
            "ticks": ""
           },
           "bgcolor": "#E5ECF6",
           "radialaxis": {
            "gridcolor": "white",
            "linecolor": "white",
            "ticks": ""
           }
          },
          "scene": {
           "xaxis": {
            "backgroundcolor": "#E5ECF6",
            "gridcolor": "white",
            "gridwidth": 2,
            "linecolor": "white",
            "showbackground": true,
            "ticks": "",
            "zerolinecolor": "white"
           },
           "yaxis": {
            "backgroundcolor": "#E5ECF6",
            "gridcolor": "white",
            "gridwidth": 2,
            "linecolor": "white",
            "showbackground": true,
            "ticks": "",
            "zerolinecolor": "white"
           },
           "zaxis": {
            "backgroundcolor": "#E5ECF6",
            "gridcolor": "white",
            "gridwidth": 2,
            "linecolor": "white",
            "showbackground": true,
            "ticks": "",
            "zerolinecolor": "white"
           }
          },
          "shapedefaults": {
           "line": {
            "color": "#2a3f5f"
           }
          },
          "ternary": {
           "aaxis": {
            "gridcolor": "white",
            "linecolor": "white",
            "ticks": ""
           },
           "baxis": {
            "gridcolor": "white",
            "linecolor": "white",
            "ticks": ""
           },
           "bgcolor": "#E5ECF6",
           "caxis": {
            "gridcolor": "white",
            "linecolor": "white",
            "ticks": ""
           }
          },
          "title": {
           "x": 0.05
          },
          "xaxis": {
           "automargin": true,
           "gridcolor": "white",
           "linecolor": "white",
           "ticks": "",
           "title": {
            "standoff": 15
           },
           "zerolinecolor": "white",
           "zerolinewidth": 2
          },
          "yaxis": {
           "automargin": true,
           "gridcolor": "white",
           "linecolor": "white",
           "ticks": "",
           "title": {
            "standoff": 15
           },
           "zerolinecolor": "white",
           "zerolinewidth": 2
          }
         }
        },
        "title": {
         "text": "Temporal signal analysis"
        },
        "width": 1500,
        "xaxis": {
         "anchor": "y",
         "domain": [
          0,
          0.2888888888888889
         ],
         "tickformat": "%H:%M"
        },
        "xaxis10": {
         "anchor": "y10",
         "domain": [
          0,
          0.2888888888888889
         ],
         "tickformat": "%H:%M"
        },
        "xaxis11": {
         "anchor": "y11",
         "domain": [
          0.35555555555555557,
          0.6444444444444445
         ],
         "tickformat": "%H:%M"
        },
        "xaxis12": {
         "anchor": "y12",
         "domain": [
          0.7111111111111111,
          1
         ],
         "tickformat": "%H:%M"
        },
        "xaxis13": {
         "anchor": "y13",
         "domain": [
          0,
          0.2888888888888889
         ],
         "tickformat": "%H:%M"
        },
        "xaxis14": {
         "anchor": "y14",
         "domain": [
          0.35555555555555557,
          0.6444444444444445
         ],
         "tickformat": "%H:%M"
        },
        "xaxis15": {
         "anchor": "y15",
         "domain": [
          0.7111111111111111,
          1
         ],
         "tickformat": "%H:%M"
        },
        "xaxis2": {
         "anchor": "y2",
         "domain": [
          0.35555555555555557,
          0.6444444444444445
         ],
         "tickformat": "%H:%M"
        },
        "xaxis3": {
         "anchor": "y3",
         "domain": [
          0.7111111111111111,
          1
         ],
         "tickformat": "%H:%M"
        },
        "xaxis4": {
         "anchor": "y4",
         "domain": [
          0,
          0.2888888888888889
         ],
         "tickformat": "%H:%M"
        },
        "xaxis5": {
         "anchor": "y5",
         "domain": [
          0.35555555555555557,
          0.6444444444444445
         ],
         "tickformat": "%H:%M"
        },
        "xaxis6": {
         "anchor": "y6",
         "domain": [
          0.7111111111111111,
          1
         ],
         "tickformat": "%H:%M"
        },
        "xaxis7": {
         "anchor": "y7",
         "domain": [
          0,
          0.2888888888888889
         ],
         "tickformat": "%H:%M"
        },
        "xaxis8": {
         "anchor": "y8",
         "domain": [
          0.35555555555555557,
          0.6444444444444445
         ],
         "tickformat": "%H:%M"
        },
        "xaxis9": {
         "anchor": "y9",
         "domain": [
          0.7111111111111111,
          1
         ],
         "tickformat": "%H:%M"
        },
        "yaxis": {
         "anchor": "x",
         "domain": [
          0.88,
          1
         ]
        },
        "yaxis10": {
         "anchor": "x10",
         "domain": [
          0.22,
          0.33999999999999997
         ]
        },
        "yaxis11": {
         "anchor": "x11",
         "domain": [
          0.22,
          0.33999999999999997
         ]
        },
        "yaxis12": {
         "anchor": "x12",
         "domain": [
          0.22,
          0.33999999999999997
         ]
        },
        "yaxis13": {
         "anchor": "x13",
         "domain": [
          0,
          0.12
         ]
        },
        "yaxis14": {
         "anchor": "x14",
         "domain": [
          0,
          0.12
         ]
        },
        "yaxis15": {
         "anchor": "x15",
         "domain": [
          0,
          0.12
         ]
        },
        "yaxis2": {
         "anchor": "x2",
         "domain": [
          0.88,
          1
         ]
        },
        "yaxis3": {
         "anchor": "x3",
         "domain": [
          0.88,
          1
         ]
        },
        "yaxis4": {
         "anchor": "x4",
         "domain": [
          0.66,
          0.78
         ]
        },
        "yaxis5": {
         "anchor": "x5",
         "domain": [
          0.66,
          0.78
         ]
        },
        "yaxis6": {
         "anchor": "x6",
         "domain": [
          0.66,
          0.78
         ]
        },
        "yaxis7": {
         "anchor": "x7",
         "domain": [
          0.44,
          0.56
         ]
        },
        "yaxis8": {
         "anchor": "x8",
         "domain": [
          0.44,
          0.56
         ]
        },
        "yaxis9": {
         "anchor": "x9",
         "domain": [
          0.44,
          0.56
         ]
        }
       }
      }
     },
     "metadata": {},
     "output_type": "display_data"
    }
   ],
   "source": [
    "titulos=tuple([\"TPH & HH TPH\", \"CC, recommendation HH CC, HH CC & LL CC\",\"granulometry\",\"SPI\",\"loss of TPH\",\"diff. HH TPH between TPH\",\n",
    "\"greater than HH CC\",\"greater than Rec HH CC\",\"Rec HH CC less than HH CC\",\"less than LL CC\",\"start loss tph\",\"end loss tph\",\"water\",\"speed\",\"solid percentage\"])\n",
    "fig = make_subplots(\n",
    "    rows=5, cols=3,\n",
    "    subplot_titles=titulos,\n",
    "    #subplot_titles=tuple(\"TPH y HH TPH,\"),\n",
    "     #shared_xaxes=True\n",
    "    )\n",
    "\n",
    "\n",
    "fig.add_trace(go.Scatter(x=data.index, y=data['TPH'], ##FF6511\n",
    "                    mode='lines',\n",
    "                    name=\"TPH\",line=dict(width=3, ),legendgroup = '1'),row=1, col=1)  \n",
    "\n",
    "fig.add_trace(go.Scatter(x=data.index, y=data['HH TPH'], ##FF6511\n",
    "                    mode='lines',\n",
    "                    name=\"HH TPH\",line=dict(width=3, ),legendgroup = '1'),row=1, col=1)  \n",
    "\n",
    "#fig.add_trace(go.Scatter(x=data.index, y=data[\"TPH predict\"], ##FF6511\n",
    "#                    mode='lines',\n",
    "#                    name=\"regressor model TPH\",line=dict(width=1,color=\"black\" ),legendgroup = '1'),row=1, col=1)  \n",
    "\n",
    "fig.add_trace(go.Scatter(x=data.index, y=data['charge cell'], \n",
    "                    mode='lines',\n",
    "                    name=\"charge cell\",line=dict(width=3, ),legendgroup = '1'),row=1, col=2)  \n",
    "\n",
    "\n",
    "\n",
    "fig.add_trace(go.Scatter(x=data.index, y=data['LL charge cell'], ##FF6511\n",
    "                    mode='lines',\n",
    "                    name=\"LL charge cell\",line=dict(width=3,),legendgroup = '1'),row=1, col=2)  \n",
    "\n",
    "fig.add_trace(go.Scatter(x=data.index, y=data['HH charge cell'], ##FF6511\n",
    "                    mode='lines',\n",
    "                    name=\"HH charge cell\",line=dict(width=3,),legendgroup = '1'),row=1, col=2)  \n",
    "\n",
    "fig.add_trace(go.Scatter(x=data.index, y=data[\"recommendation\"], ##FF6511\n",
    "                    mode='lines',\n",
    "                    name=\"recommendation HH CC\",line=dict(width=1,color=\"black\"),legendgroup = '1'),row=1, col=2)  \n",
    "\n",
    "fig.add_trace(go.Scatter(x=data.index, y=data['granulometry'], ##FF6511\n",
    "                    mode='lines',\n",
    "                    name='granulometry',line=dict(width=3,),legendgroup = '1'),row=1, col=3)  \n",
    "\n",
    "\n",
    "fig.add_trace(go.Scatter(x=data.index, y=data['sag power index'], ##FF6511\n",
    "                    mode='lines',\n",
    "                    name=\"sag power index\",line=dict(width=3, ),legendgroup = '1'),row=2, col=1)  \n",
    "\n",
    "\n",
    "\n",
    "fig.add_trace(go.Scatter(x=data.index, y=data['speed'], ##FF6511\n",
    "                    mode='lines',\n",
    "                    name=\"speed\",line=dict(width=3, ),legendgroup = '1'),row=5, col=2)  \n",
    "\n",
    "fig.add_trace(go.Scatter(x=data.index, y=data['solid percentage'], ##FF6511\n",
    "                    mode='lines',\n",
    "                    name='solid percentage',line=dict(width=3, ),legendgroup = '1'),row=5, col=3)  \n",
    "\n",
    "\n",
    "for i in range(1,6):\n",
    "   for j in range(1,4):\n",
    "        fig.update_xaxes(tickformat=\"%H:%M\",row=i, col=j)\n",
    "\n",
    "\n",
    "fig.add_trace(go.Scatter(x=data.index, y=data[ 'water'], ##FF6511\n",
    "                    mode='lines',\n",
    "                    name= 'water',line=dict(width=3, ),legendgroup = '1'),row=5, col=1)  \n",
    "\n",
    "\n",
    "\n",
    "fig.add_trace(go.Scatter(x=data.index, y=data[  'loss of TPH'], ##FF6511\n",
    "                    mode='lines',\n",
    "                    name=  'loss of TPH',line=dict(width=3, ),legendgroup = '1'),row=2, col=2)  \n",
    "\n",
    "\n",
    "fig.add_trace(go.Scatter(x=data.index, y=data[ \"dif_TPH_HH\"], ##FF6511\n",
    "                    mode='lines',\n",
    "                    name=  \"dif_TPH_HH\",line=dict(width=3, ),legendgroup = '1'),row=2, col=3)  \n",
    "\n",
    "\n",
    "fig.add_trace(go.Scatter(x=data.index, y=data[ 'greater than HH CC'], ##FF6511\n",
    "                    mode='lines',\n",
    "                    name=  'greater than HH CC',line=dict(width=3, ),legendgroup = '1'),row=3, col=1)  \n",
    "\n",
    "fig.add_trace(go.Scatter(x=data.index, y=data[ 'less than LL CC'], ##FF6511\n",
    "                    mode='lines',\n",
    "                    name=  'less than LL CC',line=dict(width=3, ),legendgroup = '1'),row=4, col=1)  \n",
    "\n",
    "\n",
    "fig.add_trace(go.Scatter(x=data.index, y=data[ 'start loss tph'], ##FF6511\n",
    "                    mode='lines',\n",
    "                    name=  'start loss tph',line=dict(width=3, ),legendgroup = '1'),row=4, col=2)  \n",
    "\n",
    "fig.add_trace(go.Scatter(x=data.index, y=data[ 'end loss tph'], ##FF6511\n",
    "                    mode='lines',\n",
    "                    name=  'end loss tph',line=dict(width=3, ),legendgroup = '1'),row=4, col=3)  \n",
    "\n",
    "fig.add_trace(go.Scatter(x=data.index, y=data[ 'greater than Rec HH CC'], ##FF6511\n",
    "                    mode='lines',\n",
    "                    name=  'greater than rec HH CC',line=dict(width=3, ),legendgroup = '1'),row=3, col=2)  \n",
    "\n",
    "fig.add_trace(go.Scatter(x=data.index, y=data[ \"Rec HH CC less than HH CC\"], ##FF6511\n",
    "                    mode='lines',\n",
    "                    name=  \"Rec HH CC less than HH CC\",line=dict(width=3, ),legendgroup = '1'),row=3, col=3)  \n",
    "fig.update_layout(height=1000, width=1500, title_text=\"Temporal signal analysis\")\n",
    "fig.update_layout(hovermode=\"x unified\")\n",
    "#\n",
    "\n",
    "fig.show()"
   ]
  },
  {
   "cell_type": "code",
   "execution_count": 21,
   "metadata": {},
   "outputs": [
    {
     "data": {
      "text/html": [
       "<div>\n",
       "<style scoped>\n",
       "    .dataframe tbody tr th:only-of-type {\n",
       "        vertical-align: middle;\n",
       "    }\n",
       "\n",
       "    .dataframe tbody tr th {\n",
       "        vertical-align: top;\n",
       "    }\n",
       "\n",
       "    .dataframe thead th {\n",
       "        text-align: right;\n",
       "    }\n",
       "</style>\n",
       "<table border=\"1\" class=\"dataframe\">\n",
       "  <thead>\n",
       "    <tr style=\"text-align: right;\">\n",
       "      <th></th>\n",
       "      <th>inicio evento</th>\n",
       "      <th>inicio perdida</th>\n",
       "      <th>fin perdida</th>\n",
       "      <th>variación HH TPH</th>\n",
       "      <th>Actua sistema de control</th>\n",
       "      <th>Supera recomendación del modelo</th>\n",
       "      <th>Recomendación menor a HH CC</th>\n",
       "      <th>CC menor a LL CC</th>\n",
       "      <th>Causalidad</th>\n",
       "    </tr>\n",
       "  </thead>\n",
       "  <tbody>\n",
       "    <tr>\n",
       "      <th>0</th>\n",
       "      <td>2020-03-05 11:24:00</td>\n",
       "      <td>2020-03-05 11:29:00</td>\n",
       "      <td>2020-03-05 11:44:00</td>\n",
       "      <td>False</td>\n",
       "      <td>False</td>\n",
       "      <td>True</td>\n",
       "      <td>True</td>\n",
       "      <td>False</td>\n",
       "      <td>True</td>\n",
       "    </tr>\n",
       "    <tr>\n",
       "      <th>1</th>\n",
       "      <td>2020-03-05 15:41:00</td>\n",
       "      <td>2020-03-05 15:46:00</td>\n",
       "      <td>2020-03-05 15:52:00</td>\n",
       "      <td>False</td>\n",
       "      <td>False</td>\n",
       "      <td>True</td>\n",
       "      <td>True</td>\n",
       "      <td>False</td>\n",
       "      <td>True</td>\n",
       "    </tr>\n",
       "    <tr>\n",
       "      <th>2</th>\n",
       "      <td>2020-03-10 02:19:00</td>\n",
       "      <td>2020-03-10 02:24:00</td>\n",
       "      <td>2020-03-10 02:32:00</td>\n",
       "      <td>False</td>\n",
       "      <td>False</td>\n",
       "      <td>True</td>\n",
       "      <td>True</td>\n",
       "      <td>False</td>\n",
       "      <td>True</td>\n",
       "    </tr>\n",
       "    <tr>\n",
       "      <th>3</th>\n",
       "      <td>2020-03-15 01:35:00</td>\n",
       "      <td>2020-03-15 01:40:00</td>\n",
       "      <td>2020-03-15 02:10:00</td>\n",
       "      <td>False</td>\n",
       "      <td>False</td>\n",
       "      <td>True</td>\n",
       "      <td>True</td>\n",
       "      <td>False</td>\n",
       "      <td>True</td>\n",
       "    </tr>\n",
       "    <tr>\n",
       "      <th>4</th>\n",
       "      <td>2020-03-15 13:41:00</td>\n",
       "      <td>2020-03-15 13:46:00</td>\n",
       "      <td>2020-03-15 13:54:00</td>\n",
       "      <td>False</td>\n",
       "      <td>False</td>\n",
       "      <td>True</td>\n",
       "      <td>True</td>\n",
       "      <td>False</td>\n",
       "      <td>True</td>\n",
       "    </tr>\n",
       "    <tr>\n",
       "      <th>...</th>\n",
       "      <td>...</td>\n",
       "      <td>...</td>\n",
       "      <td>...</td>\n",
       "      <td>...</td>\n",
       "      <td>...</td>\n",
       "      <td>...</td>\n",
       "      <td>...</td>\n",
       "      <td>...</td>\n",
       "      <td>...</td>\n",
       "    </tr>\n",
       "    <tr>\n",
       "      <th>226</th>\n",
       "      <td>2022-02-26 16:42:00</td>\n",
       "      <td>2022-02-26 16:47:00</td>\n",
       "      <td>2022-02-26 16:53:00</td>\n",
       "      <td>False</td>\n",
       "      <td>False</td>\n",
       "      <td>True</td>\n",
       "      <td>True</td>\n",
       "      <td>False</td>\n",
       "      <td>True</td>\n",
       "    </tr>\n",
       "    <tr>\n",
       "      <th>227</th>\n",
       "      <td>2022-02-27 04:51:00</td>\n",
       "      <td>2022-02-27 04:56:00</td>\n",
       "      <td>2022-02-27 05:21:00</td>\n",
       "      <td>False</td>\n",
       "      <td>False</td>\n",
       "      <td>True</td>\n",
       "      <td>True</td>\n",
       "      <td>False</td>\n",
       "      <td>True</td>\n",
       "    </tr>\n",
       "    <tr>\n",
       "      <th>228</th>\n",
       "      <td>2022-02-27 05:29:00</td>\n",
       "      <td>2022-02-27 05:34:00</td>\n",
       "      <td>2022-02-27 05:40:00</td>\n",
       "      <td>False</td>\n",
       "      <td>False</td>\n",
       "      <td>True</td>\n",
       "      <td>True</td>\n",
       "      <td>False</td>\n",
       "      <td>True</td>\n",
       "    </tr>\n",
       "    <tr>\n",
       "      <th>229</th>\n",
       "      <td>2022-02-27 05:46:00</td>\n",
       "      <td>2022-02-27 05:51:00</td>\n",
       "      <td>2022-02-27 06:48:00</td>\n",
       "      <td>False</td>\n",
       "      <td>False</td>\n",
       "      <td>True</td>\n",
       "      <td>True</td>\n",
       "      <td>False</td>\n",
       "      <td>True</td>\n",
       "    </tr>\n",
       "    <tr>\n",
       "      <th>230</th>\n",
       "      <td>2022-02-27 12:45:00</td>\n",
       "      <td>2022-02-27 12:50:00</td>\n",
       "      <td>2022-02-27 12:58:00</td>\n",
       "      <td>False</td>\n",
       "      <td>False</td>\n",
       "      <td>True</td>\n",
       "      <td>True</td>\n",
       "      <td>False</td>\n",
       "      <td>True</td>\n",
       "    </tr>\n",
       "  </tbody>\n",
       "</table>\n",
       "<p>231 rows × 9 columns</p>\n",
       "</div>"
      ],
      "text/plain": [
       "          inicio evento      inicio perdida         fin perdida  \\\n",
       "0   2020-03-05 11:24:00 2020-03-05 11:29:00 2020-03-05 11:44:00   \n",
       "1   2020-03-05 15:41:00 2020-03-05 15:46:00 2020-03-05 15:52:00   \n",
       "2   2020-03-10 02:19:00 2020-03-10 02:24:00 2020-03-10 02:32:00   \n",
       "3   2020-03-15 01:35:00 2020-03-15 01:40:00 2020-03-15 02:10:00   \n",
       "4   2020-03-15 13:41:00 2020-03-15 13:46:00 2020-03-15 13:54:00   \n",
       "..                  ...                 ...                 ...   \n",
       "226 2022-02-26 16:42:00 2022-02-26 16:47:00 2022-02-26 16:53:00   \n",
       "227 2022-02-27 04:51:00 2022-02-27 04:56:00 2022-02-27 05:21:00   \n",
       "228 2022-02-27 05:29:00 2022-02-27 05:34:00 2022-02-27 05:40:00   \n",
       "229 2022-02-27 05:46:00 2022-02-27 05:51:00 2022-02-27 06:48:00   \n",
       "230 2022-02-27 12:45:00 2022-02-27 12:50:00 2022-02-27 12:58:00   \n",
       "\n",
       "     variación HH TPH  Actua sistema de control  \\\n",
       "0               False                     False   \n",
       "1               False                     False   \n",
       "2               False                     False   \n",
       "3               False                     False   \n",
       "4               False                     False   \n",
       "..                ...                       ...   \n",
       "226             False                     False   \n",
       "227             False                     False   \n",
       "228             False                     False   \n",
       "229             False                     False   \n",
       "230             False                     False   \n",
       "\n",
       "     Supera recomendación del modelo  Recomendación menor a HH CC  \\\n",
       "0                               True                         True   \n",
       "1                               True                         True   \n",
       "2                               True                         True   \n",
       "3                               True                         True   \n",
       "4                               True                         True   \n",
       "..                               ...                          ...   \n",
       "226                             True                         True   \n",
       "227                             True                         True   \n",
       "228                             True                         True   \n",
       "229                             True                         True   \n",
       "230                             True                         True   \n",
       "\n",
       "     CC menor a LL CC  Causalidad  \n",
       "0               False        True  \n",
       "1               False        True  \n",
       "2               False        True  \n",
       "3               False        True  \n",
       "4               False        True  \n",
       "..                ...         ...  \n",
       "226             False        True  \n",
       "227             False        True  \n",
       "228             False        True  \n",
       "229             False        True  \n",
       "230             False        True  \n",
       "\n",
       "[231 rows x 9 columns]"
      ]
     },
     "execution_count": 21,
     "metadata": {},
     "output_type": "execute_result"
    }
   ],
   "source": [
    "evento=df_tph_loss[(df_tph_loss[\"Actua sistema de control\"]==False) & (df_tph_loss[\"variación HH TPH\"]==False) & (df_tph_loss[\"CC menor a LL CC\"]==False) & (df_tph_loss[\"Recomendación menor a HH CC\"]==True) & (df_tph_loss[\"Supera recomendación del modelo\"]==True)\\\n",
    "    & (df_tph_loss[\"Causalidad\"]==True)].reset_index(drop=True)#.sample(1)\n",
    "data=df_full.copy()[evento[\"inicio evento\"].iloc[0]:evento[\"fin perdida\"].iloc[0]]\n",
    "evento"
   ]
  },
  {
   "cell_type": "code",
   "execution_count": 23,
   "metadata": {},
   "outputs": [
    {
     "name": "stdout",
     "output_type": "stream",
     "text": [
      "0\n",
      "1\n",
      "2\n",
      "3\n",
      "4\n",
      "5\n",
      "6\n",
      "7\n",
      "8\n",
      "9\n",
      "10\n",
      "11\n",
      "12\n",
      "13\n",
      "14\n",
      "15\n",
      "16\n",
      "17\n",
      "18\n",
      "19\n",
      "20\n",
      "21\n",
      "22\n",
      "23\n",
      "24\n",
      "25\n",
      "26\n",
      "27\n",
      "28\n",
      "29\n",
      "30\n",
      "31\n",
      "32\n",
      "33\n",
      "34\n",
      "35\n",
      "36\n",
      "37\n",
      "38\n",
      "39\n",
      "40\n",
      "41\n",
      "42\n",
      "43\n",
      "44\n",
      "45\n",
      "46\n",
      "47\n",
      "48\n",
      "49\n",
      "50\n",
      "51\n",
      "52\n",
      "53\n",
      "54\n",
      "55\n",
      "56\n",
      "57\n",
      "58\n",
      "59\n",
      "60\n",
      "61\n",
      "62\n",
      "63\n",
      "64\n",
      "65\n",
      "66\n",
      "67\n",
      "68\n",
      "69\n",
      "70\n",
      "71\n",
      "72\n",
      "73\n",
      "74\n",
      "75\n",
      "76\n",
      "77\n",
      "78\n",
      "79\n",
      "80\n",
      "81\n",
      "82\n",
      "83\n",
      "84\n",
      "85\n",
      "86\n",
      "87\n",
      "88\n",
      "89\n",
      "90\n",
      "91\n",
      "92\n",
      "93\n",
      "94\n",
      "95\n",
      "96\n",
      "97\n",
      "98\n",
      "99\n",
      "100\n",
      "101\n",
      "102\n",
      "103\n",
      "104\n",
      "105\n",
      "106\n",
      "107\n",
      "108\n",
      "109\n",
      "110\n",
      "111\n",
      "112\n",
      "113\n",
      "114\n",
      "115\n",
      "116\n",
      "117\n",
      "118\n",
      "119\n",
      "120\n",
      "121\n",
      "122\n",
      "123\n",
      "124\n",
      "125\n",
      "126\n",
      "127\n",
      "128\n",
      "129\n",
      "130\n",
      "131\n",
      "132\n",
      "133\n",
      "134\n",
      "135\n",
      "136\n",
      "137\n",
      "138\n",
      "139\n",
      "140\n",
      "141\n",
      "142\n",
      "143\n",
      "144\n",
      "145\n",
      "146\n",
      "147\n",
      "148\n",
      "149\n",
      "150\n",
      "151\n",
      "152\n",
      "153\n",
      "154\n",
      "155\n",
      "156\n",
      "157\n",
      "158\n",
      "159\n",
      "160\n",
      "161\n",
      "162\n",
      "163\n",
      "164\n",
      "165\n",
      "166\n",
      "167\n",
      "168\n",
      "169\n",
      "170\n",
      "171\n",
      "172\n",
      "173\n",
      "174\n",
      "175\n",
      "176\n",
      "177\n",
      "178\n",
      "179\n",
      "180\n",
      "181\n",
      "182\n",
      "183\n",
      "184\n",
      "185\n",
      "186\n",
      "187\n",
      "188\n",
      "189\n",
      "190\n",
      "191\n",
      "192\n",
      "193\n",
      "194\n",
      "195\n",
      "196\n",
      "197\n",
      "198\n",
      "199\n",
      "200\n",
      "201\n",
      "202\n",
      "203\n",
      "204\n",
      "205\n",
      "206\n",
      "207\n",
      "208\n",
      "209\n",
      "210\n",
      "211\n",
      "212\n",
      "213\n",
      "214\n",
      "215\n",
      "216\n",
      "217\n",
      "218\n",
      "219\n",
      "220\n",
      "221\n",
      "222\n",
      "223\n",
      "224\n",
      "225\n",
      "226\n",
      "227\n",
      "228\n",
      "229\n",
      "230\n"
     ]
    }
   ],
   "source": [
    "dic_images={}\n",
    "for i in range(len(evento)):\n",
    "    data=df_full[evento.iloc[i][\"inicio evento\"]:evento.iloc[i][\"fin perdida\"]]\n",
    "    ini_titulo=evento.iloc[i][\"inicio evento\"]\n",
    "    #print(evento.iloc[i][\"inicio evento\"])\n",
    "    titulos=tuple([\"TPH & HH TPH\", \"CC, recommendation HH CC, HH CC & LL CC\",\"granulometry\",\"SPI\",\"loss of TPH\",\"diff. HH TPH between TPH\",\n",
    "    \"greater than HH CC\",\"greater than Rec HH CC\",\"Rec HH CC less than HH CC\",\"less than LL CC\",\"start loss tph\",\"end loss tph\",\"water\",\"speed\",\"solid percentage\"])\n",
    "    fig = make_subplots(\n",
    "        rows=5, cols=3,\n",
    "        subplot_titles=titulos,\n",
    "        #subplot_titles=tuple(\"TPH y HH TPH,\"),\n",
    "        #shared_xaxes=True\n",
    "        )\n",
    "\n",
    "\n",
    "    fig.add_trace(go.Scatter(x=data.index, y=data['TPH'], ##FF6511\n",
    "                        mode='lines',\n",
    "                        name=\"TPH\",line=dict(width=3, ),legendgroup = '1'),row=1, col=1)  \n",
    "\n",
    "    fig.add_trace(go.Scatter(x=data.index, y=data['HH TPH'], ##FF6511\n",
    "                        mode='lines',\n",
    "                        name=\"HH TPH\",line=dict(width=3, ),legendgroup = '1'),row=1, col=1)  \n",
    "\n",
    "    #fig.add_trace(go.Scatter(x=data.index, y=data[\"TPH predict\"], ##FF6511\n",
    "    #                    mode='lines',\n",
    "    #                    name=\"regressor model TPH\",line=dict(width=1,color=\"black\" ),legendgroup = '1'),row=1, col=1)  \n",
    "\n",
    "    fig.add_trace(go.Scatter(x=data.index, y=data['charge cell'], \n",
    "                        mode='lines',\n",
    "                        name=\"charge cell\",line=dict(width=3, ),legendgroup = '1'),row=1, col=2)  \n",
    "\n",
    "\n",
    "\n",
    "    fig.add_trace(go.Scatter(x=data.index, y=data['LL charge cell'], ##FF6511\n",
    "                        mode='lines',\n",
    "                        name=\"LL charge cell\",line=dict(width=3,),legendgroup = '1'),row=1, col=2)  \n",
    "\n",
    "    fig.add_trace(go.Scatter(x=data.index, y=data['HH charge cell'], ##FF6511\n",
    "                        mode='lines',\n",
    "                        name=\"HH charge cell\",line=dict(width=3,),legendgroup = '1'),row=1, col=2)  \n",
    "\n",
    "    fig.add_trace(go.Scatter(x=data.index, y=data[\"recommendation\"], ##FF6511\n",
    "                        mode='lines',\n",
    "                        name=\"recommendation HH CC\",line=dict(width=1,color=\"black\"),legendgroup = '1'),row=1, col=2)  \n",
    "\n",
    "    fig.add_trace(go.Scatter(x=data.index, y=data['granulometry'], ##FF6511\n",
    "                        mode='lines',\n",
    "                        name='granulometry',line=dict(width=3,),legendgroup = '1'),row=1, col=3)  \n",
    "\n",
    "\n",
    "    fig.add_trace(go.Scatter(x=data.index, y=data['sag power index'], ##FF6511\n",
    "                        mode='lines',\n",
    "                        name=\"sag power index\",line=dict(width=3, ),legendgroup = '1'),row=2, col=1)  \n",
    "\n",
    "\n",
    "\n",
    "    fig.add_trace(go.Scatter(x=data.index, y=data['speed'], ##FF6511\n",
    "                        mode='lines',\n",
    "                        name=\"speed\",line=dict(width=3, ),legendgroup = '1'),row=5, col=2)  \n",
    "\n",
    "    fig.add_trace(go.Scatter(x=data.index, y=data['solid percentage'], ##FF6511\n",
    "                        mode='lines',\n",
    "                        name='solid percentage',line=dict(width=3, ),legendgroup = '1'),row=5, col=3)  \n",
    "\n",
    "\n",
    "    for u in range(1,6):\n",
    "        for v in range(1,4):\n",
    "                fig.update_xaxes(tickformat=\"%H:%M\",row=u, col=v)\n",
    "\n",
    "\n",
    "    fig.add_trace(go.Scatter(x=data.index, y=data[ 'water'], ##FF6511\n",
    "                        mode='lines',\n",
    "                        name= 'water',line=dict(width=3, ),legendgroup = '1'),row=5, col=1)  \n",
    "\n",
    "\n",
    "\n",
    "    fig.add_trace(go.Scatter(x=data.index, y=data[  'loss of TPH'], ##FF6511\n",
    "                        mode='lines',\n",
    "                        name=  'loss of TPH',line=dict(width=3, ),legendgroup = '1'),row=2, col=2)  \n",
    "\n",
    "\n",
    "    fig.add_trace(go.Scatter(x=data.index, y=data[ \"dif_TPH_HH\"], ##FF6511\n",
    "                        mode='lines',\n",
    "                        name=  \"dif_TPH_HH\",line=dict(width=3, ),legendgroup = '1'),row=2, col=3)  \n",
    "\n",
    "\n",
    "    fig.add_trace(go.Scatter(x=data.index, y=data[ 'greater than HH CC'], ##FF6511\n",
    "                        mode='lines',\n",
    "                        name=  'greater than HH CC',line=dict(width=3, ),legendgroup = '1'),row=3, col=1)  \n",
    "\n",
    "    fig.add_trace(go.Scatter(x=data.index, y=data[ 'less than LL CC'], ##FF6511\n",
    "                        mode='lines',\n",
    "                        name=  'less than LL CC',line=dict(width=3, ),legendgroup = '1'),row=4, col=1)  \n",
    "\n",
    "\n",
    "    fig.add_trace(go.Scatter(x=data.index, y=data[ 'start loss tph'], ##FF6511\n",
    "                        mode='lines',\n",
    "                        name=  'start loss tph',line=dict(width=3, ),legendgroup = '1'),row=4, col=2)  \n",
    "\n",
    "    fig.add_trace(go.Scatter(x=data.index, y=data[ 'end loss tph'], ##FF6511\n",
    "                        mode='lines',\n",
    "                        name=  'end loss tph',line=dict(width=3, ),legendgroup = '1'),row=4, col=3)  \n",
    "\n",
    "    fig.add_trace(go.Scatter(x=data.index, y=data[ 'greater than Rec HH CC'], ##FF6511\n",
    "                        mode='lines',\n",
    "                        name=  'greater than rec HH CC',line=dict(width=3, ),legendgroup = '1'),row=3, col=2)  \n",
    "\n",
    "    fig.add_trace(go.Scatter(x=data.index, y=data[ \"Rec HH CC less than HH CC\"], ##FF6511\n",
    "                        mode='lines',\n",
    "                        name=  \"Rec HH CC less than HH CC\",line=dict(width=3, ),legendgroup = '1'),row=3, col=3)  \n",
    "    fig.update_layout(height=1000, width=1500, title_text=f\"Temporal signal analysis - {ini_titulo}\")\n",
    "    fig.update_layout(hovermode=\"x unified\")\n",
    "    #\n",
    "\n",
    "    #fig.show()\n",
    "    fecha=ini_titulo.strftime(\"%Y-%m-%d\")\n",
    "    dic_images[i]=fig\n",
    "    fig.write_image(f\"../../images/Escenarios perdida de TPH por pasar recomendación (good) (sin sistema de control)/{i}_fig_{fecha}.png\")\n",
    "    print(i)\n"
   ]
  }
 ],
 "metadata": {
  "kernelspec": {
   "display_name": "Python 3.9.6 ('Programacion_Cientifica')",
   "language": "python",
   "name": "python3"
  },
  "language_info": {
   "codemirror_mode": {
    "name": "ipython",
    "version": 3
   },
   "file_extension": ".py",
   "mimetype": "text/x-python",
   "name": "python",
   "nbconvert_exporter": "python",
   "pygments_lexer": "ipython3",
   "version": "3.9.6"
  },
  "orig_nbformat": 4,
  "vscode": {
   "interpreter": {
    "hash": "65e97ffa20fbdd895c76c3a1d2c2ade704754874d6e45df701862667e65d73d7"
   }
  }
 },
 "nbformat": 4,
 "nbformat_minor": 2
}
