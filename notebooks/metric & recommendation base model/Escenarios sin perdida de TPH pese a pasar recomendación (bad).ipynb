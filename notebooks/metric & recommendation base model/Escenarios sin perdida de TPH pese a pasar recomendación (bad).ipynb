{
 "cells": [
  {
   "cell_type": "code",
   "execution_count": 1,
   "metadata": {},
   "outputs": [],
   "source": [
    "import pandas as pd\n",
    "import numpy as np\n",
    "import matplotlib.pyplot as plt\n",
    "import seaborn as sns\n",
    "from datetime import datetime\n",
    "from datetime import timedelta\n",
    "import re\n",
    "from dateutil.parser import parse\n",
    "import string\n",
    "import warnings\n",
    "warnings.filterwarnings('ignore')\n",
    "import plotly.graph_objects as go\n",
    "import missingno as msno\n",
    "from plotly.subplots import make_subplots\n",
    "from sklearn.preprocessing import MinMaxScaler\n",
    "import scipy\n",
    "import researchpy as rp\n",
    "from matplotlib.offsetbox import AnchoredText\n",
    "import pacmap\n",
    "from sklearn.compose import ColumnTransformer\n",
    "from sklearn.cluster import KMeans\n",
    "from sklearn.pipeline import Pipeline\n",
    "import plotly.express as px\n",
    "import pickle\n",
    "import pmdarima as pm\n",
    "from ipywidgets import Button, HBox, VBox\n",
    "from ipywidgets import interactive\n",
    "import ipywidgets\n",
    "from sklearn.compose import ColumnTransformer\n",
    "from sklearn.cluster import KMeans\n",
    "from sklearn.pipeline import Pipeline\n",
    "import plotly.express as px\n",
    "from sklearn.metrics import r2_score\n",
    "from sklearn.preprocessing import StandardScaler\n",
    "from sklearn.ensemble import RandomForestRegressor\n",
    "from sklearn.model_selection import train_test_split \n",
    "import xgboost as xgb\n",
    "sns.set_style(\"darkgrid\")\n",
    "pd.set_option('display.max_columns', None)\n",
    "pd.options.display.max_colwidth = 100"
   ]
  },
  {
   "cell_type": "code",
   "execution_count": 154,
   "metadata": {},
   "outputs": [
    {
     "data": {
      "text/html": [
       "<div>\n",
       "<style scoped>\n",
       "    .dataframe tbody tr th:only-of-type {\n",
       "        vertical-align: middle;\n",
       "    }\n",
       "\n",
       "    .dataframe tbody tr th {\n",
       "        vertical-align: top;\n",
       "    }\n",
       "\n",
       "    .dataframe thead th {\n",
       "        text-align: right;\n",
       "    }\n",
       "</style>\n",
       "<table border=\"1\" class=\"dataframe\">\n",
       "  <thead>\n",
       "    <tr style=\"text-align: right;\">\n",
       "      <th></th>\n",
       "      <th>sag mill expert system</th>\n",
       "      <th>Limitado por Límite Alto de Tonelaje</th>\n",
       "      <th>Optimizando tonelaje</th>\n",
       "      <th>Limitado por Peso</th>\n",
       "      <th>Limitado por Corriente Bobina</th>\n",
       "      <th>Limitado por torque espesador 2</th>\n",
       "      <th>Limitado por torque espesador 3</th>\n",
       "      <th>Limitado por Potencia Bolas 1</th>\n",
       "      <th>Limitado por Potencia Bolas 2</th>\n",
       "      <th>Limitado por Pebbles</th>\n",
       "      <th>Limitado por Corriente harnero</th>\n",
       "      <th>Limitado por Potencia SAG</th>\n",
       "      <th>Limitado por limite bajo de tonelaje</th>\n",
       "      <th>Limitado por Temperatura bobina</th>\n",
       "      <th>Limitado por presión espesador 2</th>\n",
       "      <th>Limitado por presión espesador 3</th>\n",
       "      <th>pyrite law</th>\n",
       "      <th>chalcopyrite law</th>\n",
       "      <th>chalcocite law</th>\n",
       "      <th>covelin law</th>\n",
       "      <th>crusher index</th>\n",
       "      <th>sag power index</th>\n",
       "      <th>ball work index</th>\n",
       "      <th>bornite law</th>\n",
       "      <th>torque</th>\n",
       "      <th>charge cell</th>\n",
       "      <th>power</th>\n",
       "      <th>TPH</th>\n",
       "      <th>solid percentage</th>\n",
       "      <th>water</th>\n",
       "      <th>speed</th>\n",
       "      <th>solid</th>\n",
       "      <th>LL charge cell</th>\n",
       "      <th>HH charge cell</th>\n",
       "      <th>HH TPH</th>\n",
       "      <th>stator current</th>\n",
       "      <th>granulometry</th>\n",
       "      <th>Edad</th>\n",
       "      <th>dif_TPH_HH</th>\n",
       "      <th>dif_CC_HH</th>\n",
       "      <th>dif_CC_LL</th>\n",
       "      <th>loss of TPH</th>\n",
       "      <th>cluster</th>\n",
       "      <th>recommendation</th>\n",
       "      <th>loss of TPH_1</th>\n",
       "      <th>loss of TPH_2</th>\n",
       "      <th>loss of TPH_3</th>\n",
       "      <th>loss of TPH_4</th>\n",
       "      <th>loss of TPH_5</th>\n",
       "      <th>greater than HH CC</th>\n",
       "      <th>greater than HH CC_1</th>\n",
       "      <th>greater than HH CC_2</th>\n",
       "      <th>greater than HH CC_3</th>\n",
       "      <th>greater than HH CC_4</th>\n",
       "      <th>greater than HH CC_5</th>\n",
       "      <th>less than LL CC</th>\n",
       "      <th>less than LL CC_1</th>\n",
       "      <th>less than LL CC_2</th>\n",
       "      <th>less than LL CC_3</th>\n",
       "      <th>less than LL CC_4</th>\n",
       "      <th>less than LL CC_5</th>\n",
       "      <th>greater than Rec HH CC</th>\n",
       "      <th>greater than Rec HH CC_1</th>\n",
       "      <th>greater than Rec HH CC_2</th>\n",
       "      <th>greater than Rec HH CC_3</th>\n",
       "      <th>greater than Rec HH CC_4</th>\n",
       "      <th>greater than Rec HH CC_5</th>\n",
       "      <th>Rec HH CC less than HH CC</th>\n",
       "      <th>Rec HH CC less than HH CC_1</th>\n",
       "      <th>Rec HH CC less than HH CC_2</th>\n",
       "      <th>Rec HH CC less than HH CC_3</th>\n",
       "      <th>Rec HH CC less than HH CC_4</th>\n",
       "      <th>Rec HH CC less than HH CC_5</th>\n",
       "      <th>start loss tph</th>\n",
       "      <th>end loss tph</th>\n",
       "      <th>loss of TPH_mod</th>\n",
       "    </tr>\n",
       "    <tr>\n",
       "      <th>Timestamp</th>\n",
       "      <th></th>\n",
       "      <th></th>\n",
       "      <th></th>\n",
       "      <th></th>\n",
       "      <th></th>\n",
       "      <th></th>\n",
       "      <th></th>\n",
       "      <th></th>\n",
       "      <th></th>\n",
       "      <th></th>\n",
       "      <th></th>\n",
       "      <th></th>\n",
       "      <th></th>\n",
       "      <th></th>\n",
       "      <th></th>\n",
       "      <th></th>\n",
       "      <th></th>\n",
       "      <th></th>\n",
       "      <th></th>\n",
       "      <th></th>\n",
       "      <th></th>\n",
       "      <th></th>\n",
       "      <th></th>\n",
       "      <th></th>\n",
       "      <th></th>\n",
       "      <th></th>\n",
       "      <th></th>\n",
       "      <th></th>\n",
       "      <th></th>\n",
       "      <th></th>\n",
       "      <th></th>\n",
       "      <th></th>\n",
       "      <th></th>\n",
       "      <th></th>\n",
       "      <th></th>\n",
       "      <th></th>\n",
       "      <th></th>\n",
       "      <th></th>\n",
       "      <th></th>\n",
       "      <th></th>\n",
       "      <th></th>\n",
       "      <th></th>\n",
       "      <th></th>\n",
       "      <th></th>\n",
       "      <th></th>\n",
       "      <th></th>\n",
       "      <th></th>\n",
       "      <th></th>\n",
       "      <th></th>\n",
       "      <th></th>\n",
       "      <th></th>\n",
       "      <th></th>\n",
       "      <th></th>\n",
       "      <th></th>\n",
       "      <th></th>\n",
       "      <th></th>\n",
       "      <th></th>\n",
       "      <th></th>\n",
       "      <th></th>\n",
       "      <th></th>\n",
       "      <th></th>\n",
       "      <th></th>\n",
       "      <th></th>\n",
       "      <th></th>\n",
       "      <th></th>\n",
       "      <th></th>\n",
       "      <th></th>\n",
       "      <th></th>\n",
       "      <th></th>\n",
       "      <th></th>\n",
       "      <th></th>\n",
       "      <th></th>\n",
       "      <th></th>\n",
       "      <th></th>\n",
       "      <th></th>\n",
       "      <th></th>\n",
       "    </tr>\n",
       "  </thead>\n",
       "  <tbody>\n",
       "    <tr>\n",
       "      <th>2020-01-10 04:05:00</th>\n",
       "      <td>1.0</td>\n",
       "      <td>1.0</td>\n",
       "      <td>0.0</td>\n",
       "      <td>0.0</td>\n",
       "      <td>0.0</td>\n",
       "      <td>0.0</td>\n",
       "      <td>0.0</td>\n",
       "      <td>0.0</td>\n",
       "      <td>0.0</td>\n",
       "      <td>0.0</td>\n",
       "      <td>0.0</td>\n",
       "      <td>0.0</td>\n",
       "      <td>0.0</td>\n",
       "      <td>0.0</td>\n",
       "      <td>0.0</td>\n",
       "      <td>0.0</td>\n",
       "      <td>2.3</td>\n",
       "      <td>1.76</td>\n",
       "      <td>0.5</td>\n",
       "      <td>0.02</td>\n",
       "      <td>19.7649</td>\n",
       "      <td>98.5569</td>\n",
       "      <td>15.4504</td>\n",
       "      <td>0.05</td>\n",
       "      <td>64.384706</td>\n",
       "      <td>809.23733</td>\n",
       "      <td>22008.766259</td>\n",
       "      <td>4317.030837</td>\n",
       "      <td>73.888038</td>\n",
       "      <td>1539.203093</td>\n",
       "      <td>9.063024</td>\n",
       "      <td>73.155012</td>\n",
       "      <td>770.0</td>\n",
       "      <td>850.0</td>\n",
       "      <td>3950.0</td>\n",
       "      <td>3755.398344</td>\n",
       "      <td>48.829422</td>\n",
       "      <td>1.0</td>\n",
       "      <td>-367.030837</td>\n",
       "      <td>40.76267</td>\n",
       "      <td>39.23733</td>\n",
       "      <td>0</td>\n",
       "      <td>2</td>\n",
       "      <td>892.044136</td>\n",
       "      <td>0.0</td>\n",
       "      <td>0.0</td>\n",
       "      <td>0.0</td>\n",
       "      <td>0.0</td>\n",
       "      <td>0.0</td>\n",
       "      <td>0</td>\n",
       "      <td>0.0</td>\n",
       "      <td>0.0</td>\n",
       "      <td>0.0</td>\n",
       "      <td>0.0</td>\n",
       "      <td>0.0</td>\n",
       "      <td>0</td>\n",
       "      <td>0.0</td>\n",
       "      <td>0.0</td>\n",
       "      <td>0.0</td>\n",
       "      <td>0.0</td>\n",
       "      <td>0.0</td>\n",
       "      <td>0</td>\n",
       "      <td>0.0</td>\n",
       "      <td>0.0</td>\n",
       "      <td>0.0</td>\n",
       "      <td>0.0</td>\n",
       "      <td>0.0</td>\n",
       "      <td>0</td>\n",
       "      <td>0.0</td>\n",
       "      <td>0.0</td>\n",
       "      <td>0.0</td>\n",
       "      <td>0.0</td>\n",
       "      <td>0.0</td>\n",
       "      <td>0</td>\n",
       "      <td>0</td>\n",
       "      <td>0</td>\n",
       "    </tr>\n",
       "  </tbody>\n",
       "</table>\n",
       "</div>"
      ],
      "text/plain": [
       "                     sag mill expert system  \\\n",
       "Timestamp                                     \n",
       "2020-01-10 04:05:00                     1.0   \n",
       "\n",
       "                     Limitado por Límite Alto de Tonelaje  \\\n",
       "Timestamp                                                   \n",
       "2020-01-10 04:05:00                                   1.0   \n",
       "\n",
       "                     Optimizando tonelaje  Limitado por Peso  \\\n",
       "Timestamp                                                      \n",
       "2020-01-10 04:05:00                   0.0                0.0   \n",
       "\n",
       "                     Limitado por Corriente Bobina  \\\n",
       "Timestamp                                            \n",
       "2020-01-10 04:05:00                            0.0   \n",
       "\n",
       "                     Limitado por torque espesador 2  \\\n",
       "Timestamp                                              \n",
       "2020-01-10 04:05:00                              0.0   \n",
       "\n",
       "                     Limitado por torque espesador 3  \\\n",
       "Timestamp                                              \n",
       "2020-01-10 04:05:00                              0.0   \n",
       "\n",
       "                     Limitado por Potencia Bolas 1  \\\n",
       "Timestamp                                            \n",
       "2020-01-10 04:05:00                            0.0   \n",
       "\n",
       "                     Limitado por Potencia Bolas 2  Limitado por Pebbles  \\\n",
       "Timestamp                                                                  \n",
       "2020-01-10 04:05:00                            0.0                   0.0   \n",
       "\n",
       "                     Limitado por Corriente harnero  \\\n",
       "Timestamp                                             \n",
       "2020-01-10 04:05:00                             0.0   \n",
       "\n",
       "                     Limitado por Potencia SAG  \\\n",
       "Timestamp                                        \n",
       "2020-01-10 04:05:00                        0.0   \n",
       "\n",
       "                     Limitado por limite bajo de tonelaje  \\\n",
       "Timestamp                                                   \n",
       "2020-01-10 04:05:00                                   0.0   \n",
       "\n",
       "                     Limitado por Temperatura bobina  \\\n",
       "Timestamp                                              \n",
       "2020-01-10 04:05:00                              0.0   \n",
       "\n",
       "                     Limitado por presión espesador 2  \\\n",
       "Timestamp                                               \n",
       "2020-01-10 04:05:00                               0.0   \n",
       "\n",
       "                     Limitado por presión espesador 3  pyrite law  \\\n",
       "Timestamp                                                           \n",
       "2020-01-10 04:05:00                               0.0         2.3   \n",
       "\n",
       "                     chalcopyrite law  chalcocite law  covelin law  \\\n",
       "Timestamp                                                            \n",
       "2020-01-10 04:05:00              1.76             0.5         0.02   \n",
       "\n",
       "                     crusher index  sag power index  ball work index  \\\n",
       "Timestamp                                                              \n",
       "2020-01-10 04:05:00        19.7649          98.5569          15.4504   \n",
       "\n",
       "                     bornite law     torque  charge cell         power  \\\n",
       "Timestamp                                                                \n",
       "2020-01-10 04:05:00         0.05  64.384706    809.23733  22008.766259   \n",
       "\n",
       "                             TPH  solid percentage        water     speed  \\\n",
       "Timestamp                                                                   \n",
       "2020-01-10 04:05:00  4317.030837         73.888038  1539.203093  9.063024   \n",
       "\n",
       "                         solid  LL charge cell  HH charge cell  HH TPH  \\\n",
       "Timestamp                                                                \n",
       "2020-01-10 04:05:00  73.155012           770.0           850.0  3950.0   \n",
       "\n",
       "                     stator current  granulometry  Edad  dif_TPH_HH  \\\n",
       "Timestamp                                                             \n",
       "2020-01-10 04:05:00     3755.398344     48.829422   1.0 -367.030837   \n",
       "\n",
       "                     dif_CC_HH  dif_CC_LL  loss of TPH  cluster  \\\n",
       "Timestamp                                                         \n",
       "2020-01-10 04:05:00   40.76267   39.23733            0        2   \n",
       "\n",
       "                     recommendation  loss of TPH_1  loss of TPH_2  \\\n",
       "Timestamp                                                           \n",
       "2020-01-10 04:05:00      892.044136            0.0            0.0   \n",
       "\n",
       "                     loss of TPH_3  loss of TPH_4  loss of TPH_5  \\\n",
       "Timestamp                                                          \n",
       "2020-01-10 04:05:00            0.0            0.0            0.0   \n",
       "\n",
       "                     greater than HH CC  greater than HH CC_1  \\\n",
       "Timestamp                                                       \n",
       "2020-01-10 04:05:00                   0                   0.0   \n",
       "\n",
       "                     greater than HH CC_2  greater than HH CC_3  \\\n",
       "Timestamp                                                         \n",
       "2020-01-10 04:05:00                   0.0                   0.0   \n",
       "\n",
       "                     greater than HH CC_4  greater than HH CC_5  \\\n",
       "Timestamp                                                         \n",
       "2020-01-10 04:05:00                   0.0                   0.0   \n",
       "\n",
       "                     less than LL CC  less than LL CC_1  less than LL CC_2  \\\n",
       "Timestamp                                                                    \n",
       "2020-01-10 04:05:00                0                0.0                0.0   \n",
       "\n",
       "                     less than LL CC_3  less than LL CC_4  less than LL CC_5  \\\n",
       "Timestamp                                                                      \n",
       "2020-01-10 04:05:00                0.0                0.0                0.0   \n",
       "\n",
       "                     greater than Rec HH CC  greater than Rec HH CC_1  \\\n",
       "Timestamp                                                               \n",
       "2020-01-10 04:05:00                       0                       0.0   \n",
       "\n",
       "                     greater than Rec HH CC_2  greater than Rec HH CC_3  \\\n",
       "Timestamp                                                                 \n",
       "2020-01-10 04:05:00                       0.0                       0.0   \n",
       "\n",
       "                     greater than Rec HH CC_4  greater than Rec HH CC_5  \\\n",
       "Timestamp                                                                 \n",
       "2020-01-10 04:05:00                       0.0                       0.0   \n",
       "\n",
       "                     Rec HH CC less than HH CC  Rec HH CC less than HH CC_1  \\\n",
       "Timestamp                                                                     \n",
       "2020-01-10 04:05:00                          0                          0.0   \n",
       "\n",
       "                     Rec HH CC less than HH CC_2  Rec HH CC less than HH CC_3  \\\n",
       "Timestamp                                                                       \n",
       "2020-01-10 04:05:00                          0.0                          0.0   \n",
       "\n",
       "                     Rec HH CC less than HH CC_4  Rec HH CC less than HH CC_5  \\\n",
       "Timestamp                                                                       \n",
       "2020-01-10 04:05:00                          0.0                          0.0   \n",
       "\n",
       "                     start loss tph  end loss tph  loss of TPH_mod  \n",
       "Timestamp                                                           \n",
       "2020-01-10 04:05:00               0             0                0  "
      ]
     },
     "execution_count": 154,
     "metadata": {},
     "output_type": "execute_result"
    }
   ],
   "source": [
    "# read df full csv\n",
    "df_full=pd.read_csv('../../data/consolidated data/df_full_01November2022.csv', parse_dates=['Timestamp'], index_col='Timestamp'\n",
    ")\n",
    "df_full.head(1)"
   ]
  },
  {
   "cell_type": "code",
   "execution_count": 155,
   "metadata": {},
   "outputs": [],
   "source": [
    "# Desfase de perdida de TPH para eliminar las causas de las perdidas\n",
    "for i in range(1,6):\n",
    "    df_full[f\"loss of TPH_{i}\"]=df_full[\"loss of TPH\"].shift(-i)\n",
    "\n",
    "df_full[\"loss of TPH\"]=df_full.apply(lambda x: 1 if (x['loss of TPH']==1) or (x['loss of TPH_1']==1) or \\\n",
    "(x['loss of TPH_2']==1) or (x['loss of TPH_3']==1) or (x['loss of TPH_4']==1) or (x['loss of TPH_5']==1) else 0,axis=1)"
   ]
  },
  {
   "cell_type": "code",
   "execution_count": 238,
   "metadata": {},
   "outputs": [
    {
     "data": {
      "text/html": [
       "<div>\n",
       "<style scoped>\n",
       "    .dataframe tbody tr th:only-of-type {\n",
       "        vertical-align: middle;\n",
       "    }\n",
       "\n",
       "    .dataframe tbody tr th {\n",
       "        vertical-align: top;\n",
       "    }\n",
       "\n",
       "    .dataframe thead th {\n",
       "        text-align: right;\n",
       "    }\n",
       "</style>\n",
       "<table border=\"1\" class=\"dataframe\">\n",
       "  <thead>\n",
       "    <tr style=\"text-align: right;\">\n",
       "      <th></th>\n",
       "      <th>HH charge cell</th>\n",
       "      <th>TPH</th>\n",
       "    </tr>\n",
       "  </thead>\n",
       "  <tbody>\n",
       "    <tr>\n",
       "      <th>0</th>\n",
       "      <td>660.000000</td>\n",
       "      <td>4349.634608</td>\n",
       "    </tr>\n",
       "    <tr>\n",
       "      <th>1</th>\n",
       "      <td>660.002292</td>\n",
       "      <td>4295.012475</td>\n",
       "    </tr>\n",
       "    <tr>\n",
       "      <th>2</th>\n",
       "      <td>660.004585</td>\n",
       "      <td>4294.244128</td>\n",
       "    </tr>\n",
       "    <tr>\n",
       "      <th>3</th>\n",
       "      <td>660.006877</td>\n",
       "      <td>4304.960976</td>\n",
       "    </tr>\n",
       "    <tr>\n",
       "      <th>4</th>\n",
       "      <td>660.009169</td>\n",
       "      <td>4307.145630</td>\n",
       "    </tr>\n",
       "    <tr>\n",
       "      <th>...</th>\n",
       "      <td>...</td>\n",
       "      <td>...</td>\n",
       "    </tr>\n",
       "    <tr>\n",
       "      <th>2971</th>\n",
       "      <td>1012.710324</td>\n",
       "      <td>4058.039942</td>\n",
       "    </tr>\n",
       "    <tr>\n",
       "      <th>2972</th>\n",
       "      <td>1012.780870</td>\n",
       "      <td>4066.605017</td>\n",
       "    </tr>\n",
       "    <tr>\n",
       "      <th>2973</th>\n",
       "      <td>1012.851417</td>\n",
       "      <td>4029.256336</td>\n",
       "    </tr>\n",
       "    <tr>\n",
       "      <th>2974</th>\n",
       "      <td>1012.921963</td>\n",
       "      <td>4015.668759</td>\n",
       "    </tr>\n",
       "    <tr>\n",
       "      <th>2975</th>\n",
       "      <td>1012.992509</td>\n",
       "      <td>3992.994047</td>\n",
       "    </tr>\n",
       "  </tbody>\n",
       "</table>\n",
       "<p>2976 rows × 2 columns</p>\n",
       "</div>"
      ],
      "text/plain": [
       "      HH charge cell          TPH\n",
       "0         660.000000  4349.634608\n",
       "1         660.002292  4295.012475\n",
       "2         660.004585  4294.244128\n",
       "3         660.006877  4304.960976\n",
       "4         660.009169  4307.145630\n",
       "...              ...          ...\n",
       "2971     1012.710324  4058.039942\n",
       "2972     1012.780870  4066.605017\n",
       "2973     1012.851417  4029.256336\n",
       "2974     1012.921963  4015.668759\n",
       "2975     1012.992509  3992.994047\n",
       "\n",
       "[2976 rows x 2 columns]"
      ]
     },
     "execution_count": 238,
     "metadata": {},
     "output_type": "execute_result"
    }
   ],
   "source": [
    "# TPH promedio según HH charge cell\n",
    "TPH_historico=df_full[[\"HH charge cell\",\"TPH\"]].groupby(\"HH charge cell\").mean().reset_index()\n",
    "TPH_historico"
   ]
  },
  {
   "cell_type": "code",
   "execution_count": 235,
   "metadata": {},
   "outputs": [],
   "source": [
    "def cost_TPH(df,cc):\n",
    "    df[\"distance\"]=(df[\"HH charge cell\"]-cc).abs()\n",
    "    x=TPH_historico[TPH_historico[\"distance\"]==TPH_historico.distance.min()][\"TPH\"].values[0]\n",
    "    return x\n",
    "    "
   ]
  },
  {
   "cell_type": "code",
   "execution_count": 236,
   "metadata": {},
   "outputs": [
    {
     "data": {
      "text/html": [
       "<div>\n",
       "<style scoped>\n",
       "    .dataframe tbody tr th:only-of-type {\n",
       "        vertical-align: middle;\n",
       "    }\n",
       "\n",
       "    .dataframe tbody tr th {\n",
       "        vertical-align: top;\n",
       "    }\n",
       "\n",
       "    .dataframe thead th {\n",
       "        text-align: right;\n",
       "    }\n",
       "</style>\n",
       "<table border=\"1\" class=\"dataframe\">\n",
       "  <thead>\n",
       "    <tr style=\"text-align: right;\">\n",
       "      <th></th>\n",
       "      <th>sag mill expert system</th>\n",
       "      <th>Limitado por Límite Alto de Tonelaje</th>\n",
       "      <th>Optimizando tonelaje</th>\n",
       "      <th>Limitado por Peso</th>\n",
       "      <th>Limitado por Corriente Bobina</th>\n",
       "      <th>Limitado por torque espesador 2</th>\n",
       "      <th>Limitado por torque espesador 3</th>\n",
       "      <th>Limitado por Potencia Bolas 1</th>\n",
       "      <th>Limitado por Potencia Bolas 2</th>\n",
       "      <th>Limitado por Pebbles</th>\n",
       "      <th>Limitado por Corriente harnero</th>\n",
       "      <th>Limitado por Potencia SAG</th>\n",
       "      <th>Limitado por limite bajo de tonelaje</th>\n",
       "      <th>Limitado por Temperatura bobina</th>\n",
       "      <th>Limitado por presión espesador 2</th>\n",
       "      <th>Limitado por presión espesador 3</th>\n",
       "      <th>pyrite law</th>\n",
       "      <th>chalcopyrite law</th>\n",
       "      <th>chalcocite law</th>\n",
       "      <th>covelin law</th>\n",
       "      <th>crusher index</th>\n",
       "      <th>sag power index</th>\n",
       "      <th>ball work index</th>\n",
       "      <th>bornite law</th>\n",
       "      <th>torque</th>\n",
       "      <th>charge cell</th>\n",
       "      <th>power</th>\n",
       "      <th>TPH</th>\n",
       "      <th>solid percentage</th>\n",
       "      <th>water</th>\n",
       "      <th>speed</th>\n",
       "      <th>solid</th>\n",
       "      <th>LL charge cell</th>\n",
       "      <th>HH charge cell</th>\n",
       "      <th>HH TPH</th>\n",
       "      <th>stator current</th>\n",
       "      <th>granulometry</th>\n",
       "      <th>Edad</th>\n",
       "      <th>dif_TPH_HH</th>\n",
       "      <th>dif_CC_HH</th>\n",
       "      <th>dif_CC_LL</th>\n",
       "      <th>loss of TPH</th>\n",
       "      <th>cluster</th>\n",
       "      <th>recommendation</th>\n",
       "      <th>loss of TPH_1</th>\n",
       "      <th>loss of TPH_2</th>\n",
       "      <th>loss of TPH_3</th>\n",
       "      <th>loss of TPH_4</th>\n",
       "      <th>loss of TPH_5</th>\n",
       "      <th>greater than HH CC</th>\n",
       "      <th>greater than HH CC_1</th>\n",
       "      <th>greater than HH CC_2</th>\n",
       "      <th>greater than HH CC_3</th>\n",
       "      <th>greater than HH CC_4</th>\n",
       "      <th>greater than HH CC_5</th>\n",
       "      <th>less than LL CC</th>\n",
       "      <th>less than LL CC_1</th>\n",
       "      <th>less than LL CC_2</th>\n",
       "      <th>less than LL CC_3</th>\n",
       "      <th>less than LL CC_4</th>\n",
       "      <th>less than LL CC_5</th>\n",
       "      <th>greater than Rec HH CC</th>\n",
       "      <th>greater than Rec HH CC_1</th>\n",
       "      <th>greater than Rec HH CC_2</th>\n",
       "      <th>greater than Rec HH CC_3</th>\n",
       "      <th>greater than Rec HH CC_4</th>\n",
       "      <th>greater than Rec HH CC_5</th>\n",
       "      <th>Rec HH CC less than HH CC</th>\n",
       "      <th>Rec HH CC less than HH CC_1</th>\n",
       "      <th>Rec HH CC less than HH CC_2</th>\n",
       "      <th>Rec HH CC less than HH CC_3</th>\n",
       "      <th>Rec HH CC less than HH CC_4</th>\n",
       "      <th>Rec HH CC less than HH CC_5</th>\n",
       "      <th>start loss tph</th>\n",
       "      <th>end loss tph</th>\n",
       "      <th>loss of TPH_mod</th>\n",
       "    </tr>\n",
       "    <tr>\n",
       "      <th>Timestamp</th>\n",
       "      <th></th>\n",
       "      <th></th>\n",
       "      <th></th>\n",
       "      <th></th>\n",
       "      <th></th>\n",
       "      <th></th>\n",
       "      <th></th>\n",
       "      <th></th>\n",
       "      <th></th>\n",
       "      <th></th>\n",
       "      <th></th>\n",
       "      <th></th>\n",
       "      <th></th>\n",
       "      <th></th>\n",
       "      <th></th>\n",
       "      <th></th>\n",
       "      <th></th>\n",
       "      <th></th>\n",
       "      <th></th>\n",
       "      <th></th>\n",
       "      <th></th>\n",
       "      <th></th>\n",
       "      <th></th>\n",
       "      <th></th>\n",
       "      <th></th>\n",
       "      <th></th>\n",
       "      <th></th>\n",
       "      <th></th>\n",
       "      <th></th>\n",
       "      <th></th>\n",
       "      <th></th>\n",
       "      <th></th>\n",
       "      <th></th>\n",
       "      <th></th>\n",
       "      <th></th>\n",
       "      <th></th>\n",
       "      <th></th>\n",
       "      <th></th>\n",
       "      <th></th>\n",
       "      <th></th>\n",
       "      <th></th>\n",
       "      <th></th>\n",
       "      <th></th>\n",
       "      <th></th>\n",
       "      <th></th>\n",
       "      <th></th>\n",
       "      <th></th>\n",
       "      <th></th>\n",
       "      <th></th>\n",
       "      <th></th>\n",
       "      <th></th>\n",
       "      <th></th>\n",
       "      <th></th>\n",
       "      <th></th>\n",
       "      <th></th>\n",
       "      <th></th>\n",
       "      <th></th>\n",
       "      <th></th>\n",
       "      <th></th>\n",
       "      <th></th>\n",
       "      <th></th>\n",
       "      <th></th>\n",
       "      <th></th>\n",
       "      <th></th>\n",
       "      <th></th>\n",
       "      <th></th>\n",
       "      <th></th>\n",
       "      <th></th>\n",
       "      <th></th>\n",
       "      <th></th>\n",
       "      <th></th>\n",
       "      <th></th>\n",
       "      <th></th>\n",
       "      <th></th>\n",
       "      <th></th>\n",
       "      <th></th>\n",
       "    </tr>\n",
       "  </thead>\n",
       "  <tbody>\n",
       "    <tr>\n",
       "      <th>2020-02-08 16:24:00</th>\n",
       "      <td>1.0</td>\n",
       "      <td>1.0</td>\n",
       "      <td>0.0</td>\n",
       "      <td>0.0</td>\n",
       "      <td>0.0</td>\n",
       "      <td>0.0</td>\n",
       "      <td>0.0</td>\n",
       "      <td>0.0</td>\n",
       "      <td>0.0</td>\n",
       "      <td>0.0</td>\n",
       "      <td>0.0</td>\n",
       "      <td>0.0</td>\n",
       "      <td>0.0</td>\n",
       "      <td>0.0</td>\n",
       "      <td>0.0</td>\n",
       "      <td>0.0</td>\n",
       "      <td>2.51</td>\n",
       "      <td>1.65</td>\n",
       "      <td>0.39</td>\n",
       "      <td>0.01</td>\n",
       "      <td>19.8478</td>\n",
       "      <td>112.1727</td>\n",
       "      <td>15.7825</td>\n",
       "      <td>0.03</td>\n",
       "      <td>63.117787</td>\n",
       "      <td>787.21956</td>\n",
       "      <td>19641.296793</td>\n",
       "      <td>4079.304899</td>\n",
       "      <td>73.877412</td>\n",
       "      <td>1439.921189</td>\n",
       "      <td>8.249531</td>\n",
       "      <td>74.0</td>\n",
       "      <td>720.0</td>\n",
       "      <td>800.0</td>\n",
       "      <td>4100.0</td>\n",
       "      <td>3667.648521</td>\n",
       "      <td>66.705534</td>\n",
       "      <td>2.0</td>\n",
       "      <td>20.695101</td>\n",
       "      <td>12.78044</td>\n",
       "      <td>67.21956</td>\n",
       "      <td>0</td>\n",
       "      <td>0</td>\n",
       "      <td>774.588893</td>\n",
       "      <td>0.0</td>\n",
       "      <td>0.0</td>\n",
       "      <td>0.0</td>\n",
       "      <td>0.0</td>\n",
       "      <td>0.0</td>\n",
       "      <td>0</td>\n",
       "      <td>0.0</td>\n",
       "      <td>0.0</td>\n",
       "      <td>0.0</td>\n",
       "      <td>0.0</td>\n",
       "      <td>0.0</td>\n",
       "      <td>0</td>\n",
       "      <td>0.0</td>\n",
       "      <td>0.0</td>\n",
       "      <td>0.0</td>\n",
       "      <td>0.0</td>\n",
       "      <td>0.0</td>\n",
       "      <td>1</td>\n",
       "      <td>0.0</td>\n",
       "      <td>0.0</td>\n",
       "      <td>0.0</td>\n",
       "      <td>0.0</td>\n",
       "      <td>0.0</td>\n",
       "      <td>1</td>\n",
       "      <td>1.0</td>\n",
       "      <td>1.0</td>\n",
       "      <td>1.0</td>\n",
       "      <td>1.0</td>\n",
       "      <td>1.0</td>\n",
       "      <td>0</td>\n",
       "      <td>0</td>\n",
       "      <td>0</td>\n",
       "    </tr>\n",
       "  </tbody>\n",
       "</table>\n",
       "</div>"
      ],
      "text/plain": [
       "                     sag mill expert system  \\\n",
       "Timestamp                                     \n",
       "2020-02-08 16:24:00                     1.0   \n",
       "\n",
       "                     Limitado por Límite Alto de Tonelaje  \\\n",
       "Timestamp                                                   \n",
       "2020-02-08 16:24:00                                   1.0   \n",
       "\n",
       "                     Optimizando tonelaje  Limitado por Peso  \\\n",
       "Timestamp                                                      \n",
       "2020-02-08 16:24:00                   0.0                0.0   \n",
       "\n",
       "                     Limitado por Corriente Bobina  \\\n",
       "Timestamp                                            \n",
       "2020-02-08 16:24:00                            0.0   \n",
       "\n",
       "                     Limitado por torque espesador 2  \\\n",
       "Timestamp                                              \n",
       "2020-02-08 16:24:00                              0.0   \n",
       "\n",
       "                     Limitado por torque espesador 3  \\\n",
       "Timestamp                                              \n",
       "2020-02-08 16:24:00                              0.0   \n",
       "\n",
       "                     Limitado por Potencia Bolas 1  \\\n",
       "Timestamp                                            \n",
       "2020-02-08 16:24:00                            0.0   \n",
       "\n",
       "                     Limitado por Potencia Bolas 2  Limitado por Pebbles  \\\n",
       "Timestamp                                                                  \n",
       "2020-02-08 16:24:00                            0.0                   0.0   \n",
       "\n",
       "                     Limitado por Corriente harnero  \\\n",
       "Timestamp                                             \n",
       "2020-02-08 16:24:00                             0.0   \n",
       "\n",
       "                     Limitado por Potencia SAG  \\\n",
       "Timestamp                                        \n",
       "2020-02-08 16:24:00                        0.0   \n",
       "\n",
       "                     Limitado por limite bajo de tonelaje  \\\n",
       "Timestamp                                                   \n",
       "2020-02-08 16:24:00                                   0.0   \n",
       "\n",
       "                     Limitado por Temperatura bobina  \\\n",
       "Timestamp                                              \n",
       "2020-02-08 16:24:00                              0.0   \n",
       "\n",
       "                     Limitado por presión espesador 2  \\\n",
       "Timestamp                                               \n",
       "2020-02-08 16:24:00                               0.0   \n",
       "\n",
       "                     Limitado por presión espesador 3  pyrite law  \\\n",
       "Timestamp                                                           \n",
       "2020-02-08 16:24:00                               0.0        2.51   \n",
       "\n",
       "                     chalcopyrite law  chalcocite law  covelin law  \\\n",
       "Timestamp                                                            \n",
       "2020-02-08 16:24:00              1.65            0.39         0.01   \n",
       "\n",
       "                     crusher index  sag power index  ball work index  \\\n",
       "Timestamp                                                              \n",
       "2020-02-08 16:24:00        19.8478         112.1727          15.7825   \n",
       "\n",
       "                     bornite law     torque  charge cell         power  \\\n",
       "Timestamp                                                                \n",
       "2020-02-08 16:24:00         0.03  63.117787    787.21956  19641.296793   \n",
       "\n",
       "                             TPH  solid percentage        water     speed  \\\n",
       "Timestamp                                                                   \n",
       "2020-02-08 16:24:00  4079.304899         73.877412  1439.921189  8.249531   \n",
       "\n",
       "                     solid  LL charge cell  HH charge cell  HH TPH  \\\n",
       "Timestamp                                                            \n",
       "2020-02-08 16:24:00   74.0           720.0           800.0  4100.0   \n",
       "\n",
       "                     stator current  granulometry  Edad  dif_TPH_HH  \\\n",
       "Timestamp                                                             \n",
       "2020-02-08 16:24:00     3667.648521     66.705534   2.0   20.695101   \n",
       "\n",
       "                     dif_CC_HH  dif_CC_LL  loss of TPH  cluster  \\\n",
       "Timestamp                                                         \n",
       "2020-02-08 16:24:00   12.78044   67.21956            0        0   \n",
       "\n",
       "                     recommendation  loss of TPH_1  loss of TPH_2  \\\n",
       "Timestamp                                                           \n",
       "2020-02-08 16:24:00      774.588893            0.0            0.0   \n",
       "\n",
       "                     loss of TPH_3  loss of TPH_4  loss of TPH_5  \\\n",
       "Timestamp                                                          \n",
       "2020-02-08 16:24:00            0.0            0.0            0.0   \n",
       "\n",
       "                     greater than HH CC  greater than HH CC_1  \\\n",
       "Timestamp                                                       \n",
       "2020-02-08 16:24:00                   0                   0.0   \n",
       "\n",
       "                     greater than HH CC_2  greater than HH CC_3  \\\n",
       "Timestamp                                                         \n",
       "2020-02-08 16:24:00                   0.0                   0.0   \n",
       "\n",
       "                     greater than HH CC_4  greater than HH CC_5  \\\n",
       "Timestamp                                                         \n",
       "2020-02-08 16:24:00                   0.0                   0.0   \n",
       "\n",
       "                     less than LL CC  less than LL CC_1  less than LL CC_2  \\\n",
       "Timestamp                                                                    \n",
       "2020-02-08 16:24:00                0                0.0                0.0   \n",
       "\n",
       "                     less than LL CC_3  less than LL CC_4  less than LL CC_5  \\\n",
       "Timestamp                                                                      \n",
       "2020-02-08 16:24:00                0.0                0.0                0.0   \n",
       "\n",
       "                     greater than Rec HH CC  greater than Rec HH CC_1  \\\n",
       "Timestamp                                                               \n",
       "2020-02-08 16:24:00                       1                       0.0   \n",
       "\n",
       "                     greater than Rec HH CC_2  greater than Rec HH CC_3  \\\n",
       "Timestamp                                                                 \n",
       "2020-02-08 16:24:00                       0.0                       0.0   \n",
       "\n",
       "                     greater than Rec HH CC_4  greater than Rec HH CC_5  \\\n",
       "Timestamp                                                                 \n",
       "2020-02-08 16:24:00                       0.0                       0.0   \n",
       "\n",
       "                     Rec HH CC less than HH CC  Rec HH CC less than HH CC_1  \\\n",
       "Timestamp                                                                     \n",
       "2020-02-08 16:24:00                          1                          1.0   \n",
       "\n",
       "                     Rec HH CC less than HH CC_2  Rec HH CC less than HH CC_3  \\\n",
       "Timestamp                                                                       \n",
       "2020-02-08 16:24:00                          1.0                          1.0   \n",
       "\n",
       "                     Rec HH CC less than HH CC_4  Rec HH CC less than HH CC_5  \\\n",
       "Timestamp                                                                       \n",
       "2020-02-08 16:24:00                          1.0                          1.0   \n",
       "\n",
       "                     start loss tph  end loss tph  loss of TPH_mod  \n",
       "Timestamp                                                           \n",
       "2020-02-08 16:24:00               0             0                0  "
      ]
     },
     "execution_count": 236,
     "metadata": {},
     "output_type": "execute_result"
    }
   ],
   "source": [
    "df=df_full[(df_full[\"loss of TPH\"]==0) & (df_full[\"Rec HH CC less than HH CC\"]==1) & (df_full[\"greater than Rec HH CC\"]==1)].dropna()\n",
    "df.head(1)"
   ]
  },
  {
   "cell_type": "code",
   "execution_count": 240,
   "metadata": {},
   "outputs": [
    {
     "data": {
      "text/html": [
       "<div>\n",
       "<style scoped>\n",
       "    .dataframe tbody tr th:only-of-type {\n",
       "        vertical-align: middle;\n",
       "    }\n",
       "\n",
       "    .dataframe tbody tr th {\n",
       "        vertical-align: top;\n",
       "    }\n",
       "\n",
       "    .dataframe thead th {\n",
       "        text-align: right;\n",
       "    }\n",
       "</style>\n",
       "<table border=\"1\" class=\"dataframe\">\n",
       "  <thead>\n",
       "    <tr style=\"text-align: right;\">\n",
       "      <th></th>\n",
       "      <th>charge cell</th>\n",
       "      <th>TPH</th>\n",
       "      <th>HH TPH</th>\n",
       "      <th>recommendation</th>\n",
       "      <th>HH charge cell</th>\n",
       "      <th>TPH historic</th>\n",
       "      <th>cost TPH</th>\n",
       "    </tr>\n",
       "    <tr>\n",
       "      <th>Timestamp</th>\n",
       "      <th></th>\n",
       "      <th></th>\n",
       "      <th></th>\n",
       "      <th></th>\n",
       "      <th></th>\n",
       "      <th></th>\n",
       "      <th></th>\n",
       "    </tr>\n",
       "  </thead>\n",
       "  <tbody>\n",
       "    <tr>\n",
       "      <th>2020-02-08 16:24:00</th>\n",
       "      <td>787.219560</td>\n",
       "      <td>4079.304899</td>\n",
       "      <td>4100.0</td>\n",
       "      <td>774.588893</td>\n",
       "      <td>800.0</td>\n",
       "      <td>3989.669743</td>\n",
       "      <td>89.635156</td>\n",
       "    </tr>\n",
       "    <tr>\n",
       "      <th>2020-02-08 16:25:00</th>\n",
       "      <td>787.558897</td>\n",
       "      <td>4087.649222</td>\n",
       "      <td>4100.0</td>\n",
       "      <td>774.588893</td>\n",
       "      <td>800.0</td>\n",
       "      <td>3989.669743</td>\n",
       "      <td>97.979479</td>\n",
       "    </tr>\n",
       "    <tr>\n",
       "      <th>2020-02-08 16:26:00</th>\n",
       "      <td>788.579123</td>\n",
       "      <td>4080.193127</td>\n",
       "      <td>4100.0</td>\n",
       "      <td>774.588893</td>\n",
       "      <td>800.0</td>\n",
       "      <td>3989.669743</td>\n",
       "      <td>90.523384</td>\n",
       "    </tr>\n",
       "    <tr>\n",
       "      <th>2020-02-08 16:27:00</th>\n",
       "      <td>790.698064</td>\n",
       "      <td>4093.222860</td>\n",
       "      <td>4100.0</td>\n",
       "      <td>774.588893</td>\n",
       "      <td>800.0</td>\n",
       "      <td>3989.669743</td>\n",
       "      <td>103.553117</td>\n",
       "    </tr>\n",
       "    <tr>\n",
       "      <th>2020-02-08 16:28:00</th>\n",
       "      <td>791.900323</td>\n",
       "      <td>4084.807274</td>\n",
       "      <td>4100.0</td>\n",
       "      <td>774.588893</td>\n",
       "      <td>800.0</td>\n",
       "      <td>3989.669743</td>\n",
       "      <td>95.137531</td>\n",
       "    </tr>\n",
       "    <tr>\n",
       "      <th>...</th>\n",
       "      <td>...</td>\n",
       "      <td>...</td>\n",
       "      <td>...</td>\n",
       "      <td>...</td>\n",
       "      <td>...</td>\n",
       "      <td>...</td>\n",
       "      <td>...</td>\n",
       "    </tr>\n",
       "    <tr>\n",
       "      <th>2022-02-28 09:54:00</th>\n",
       "      <td>914.137054</td>\n",
       "      <td>4100.673792</td>\n",
       "      <td>4120.0</td>\n",
       "      <td>907.966856</td>\n",
       "      <td>950.0</td>\n",
       "      <td>3803.968354</td>\n",
       "      <td>296.705438</td>\n",
       "    </tr>\n",
       "    <tr>\n",
       "      <th>2022-02-28 09:55:00</th>\n",
       "      <td>919.262837</td>\n",
       "      <td>4090.384509</td>\n",
       "      <td>4120.0</td>\n",
       "      <td>907.966856</td>\n",
       "      <td>950.0</td>\n",
       "      <td>3803.968354</td>\n",
       "      <td>286.416155</td>\n",
       "    </tr>\n",
       "    <tr>\n",
       "      <th>2022-02-28 09:56:00</th>\n",
       "      <td>922.912778</td>\n",
       "      <td>4082.137827</td>\n",
       "      <td>4120.0</td>\n",
       "      <td>918.208691</td>\n",
       "      <td>950.0</td>\n",
       "      <td>3778.918581</td>\n",
       "      <td>303.219246</td>\n",
       "    </tr>\n",
       "    <tr>\n",
       "      <th>2022-02-28 09:57:00</th>\n",
       "      <td>926.676972</td>\n",
       "      <td>4105.227916</td>\n",
       "      <td>4120.0</td>\n",
       "      <td>918.208691</td>\n",
       "      <td>950.0</td>\n",
       "      <td>3778.918581</td>\n",
       "      <td>326.309335</td>\n",
       "    </tr>\n",
       "    <tr>\n",
       "      <th>2022-02-28 09:58:00</th>\n",
       "      <td>931.325800</td>\n",
       "      <td>4113.914909</td>\n",
       "      <td>4120.0</td>\n",
       "      <td>918.208691</td>\n",
       "      <td>950.0</td>\n",
       "      <td>3778.918581</td>\n",
       "      <td>334.996328</td>\n",
       "    </tr>\n",
       "  </tbody>\n",
       "</table>\n",
       "<p>37183 rows × 7 columns</p>\n",
       "</div>"
      ],
      "text/plain": [
       "                     charge cell          TPH  HH TPH  recommendation  \\\n",
       "Timestamp                                                               \n",
       "2020-02-08 16:24:00   787.219560  4079.304899  4100.0      774.588893   \n",
       "2020-02-08 16:25:00   787.558897  4087.649222  4100.0      774.588893   \n",
       "2020-02-08 16:26:00   788.579123  4080.193127  4100.0      774.588893   \n",
       "2020-02-08 16:27:00   790.698064  4093.222860  4100.0      774.588893   \n",
       "2020-02-08 16:28:00   791.900323  4084.807274  4100.0      774.588893   \n",
       "...                          ...          ...     ...             ...   \n",
       "2022-02-28 09:54:00   914.137054  4100.673792  4120.0      907.966856   \n",
       "2022-02-28 09:55:00   919.262837  4090.384509  4120.0      907.966856   \n",
       "2022-02-28 09:56:00   922.912778  4082.137827  4120.0      918.208691   \n",
       "2022-02-28 09:57:00   926.676972  4105.227916  4120.0      918.208691   \n",
       "2022-02-28 09:58:00   931.325800  4113.914909  4120.0      918.208691   \n",
       "\n",
       "                     HH charge cell  TPH historic    cost TPH  \n",
       "Timestamp                                                      \n",
       "2020-02-08 16:24:00           800.0   3989.669743   89.635156  \n",
       "2020-02-08 16:25:00           800.0   3989.669743   97.979479  \n",
       "2020-02-08 16:26:00           800.0   3989.669743   90.523384  \n",
       "2020-02-08 16:27:00           800.0   3989.669743  103.553117  \n",
       "2020-02-08 16:28:00           800.0   3989.669743   95.137531  \n",
       "...                             ...           ...         ...  \n",
       "2022-02-28 09:54:00           950.0   3803.968354  296.705438  \n",
       "2022-02-28 09:55:00           950.0   3803.968354  286.416155  \n",
       "2022-02-28 09:56:00           950.0   3778.918581  303.219246  \n",
       "2022-02-28 09:57:00           950.0   3778.918581  326.309335  \n",
       "2022-02-28 09:58:00           950.0   3778.918581  334.996328  \n",
       "\n",
       "[37183 rows x 7 columns]"
      ]
     },
     "execution_count": 240,
     "metadata": {},
     "output_type": "execute_result"
    }
   ],
   "source": [
    "df_metric=df[[\"charge cell\",\"TPH\",\"HH TPH\",\"recommendation\",\"HH charge cell\"]]\n",
    "df_metric[\"TPH historic\"]=df[\"recommendation\"].apply(lambda x: cost_TPH(TPH_historico,x))\n",
    "df_metric[\"cost TPH\"]=df_metric[\"TPH\"]-df_metric[\"TPH historic\"]\n",
    "df_metric"
   ]
  },
  {
   "cell_type": "code",
   "execution_count": 241,
   "metadata": {},
   "outputs": [
    {
     "data": {
      "text/plain": [
       "7829440.7406747155"
      ]
     },
     "execution_count": 241,
     "metadata": {},
     "output_type": "execute_result"
    }
   ],
   "source": [
    "df_metric[\"cost TPH\"].sum()"
   ]
  },
  {
   "cell_type": "code",
   "execution_count": 195,
   "metadata": {},
   "outputs": [
    {
     "data": {
      "text/html": [
       "<div>\n",
       "<style scoped>\n",
       "    .dataframe tbody tr th:only-of-type {\n",
       "        vertical-align: middle;\n",
       "    }\n",
       "\n",
       "    .dataframe tbody tr th {\n",
       "        vertical-align: top;\n",
       "    }\n",
       "\n",
       "    .dataframe thead th {\n",
       "        text-align: right;\n",
       "    }\n",
       "</style>\n",
       "<table border=\"1\" class=\"dataframe\">\n",
       "  <thead>\n",
       "    <tr style=\"text-align: right;\">\n",
       "      <th></th>\n",
       "      <th>sag mill expert system</th>\n",
       "      <th>Limitado por Límite Alto de Tonelaje</th>\n",
       "      <th>Optimizando tonelaje</th>\n",
       "      <th>Limitado por Peso</th>\n",
       "      <th>Limitado por Corriente Bobina</th>\n",
       "      <th>Limitado por torque espesador 2</th>\n",
       "      <th>Limitado por torque espesador 3</th>\n",
       "      <th>Limitado por Potencia Bolas 1</th>\n",
       "      <th>Limitado por Potencia Bolas 2</th>\n",
       "      <th>Limitado por Pebbles</th>\n",
       "      <th>Limitado por Corriente harnero</th>\n",
       "      <th>Limitado por Potencia SAG</th>\n",
       "      <th>Limitado por limite bajo de tonelaje</th>\n",
       "      <th>Limitado por Temperatura bobina</th>\n",
       "      <th>Limitado por presión espesador 2</th>\n",
       "      <th>Limitado por presión espesador 3</th>\n",
       "      <th>pyrite law</th>\n",
       "      <th>chalcopyrite law</th>\n",
       "      <th>chalcocite law</th>\n",
       "      <th>covelin law</th>\n",
       "      <th>crusher index</th>\n",
       "      <th>sag power index</th>\n",
       "      <th>ball work index</th>\n",
       "      <th>bornite law</th>\n",
       "      <th>torque</th>\n",
       "      <th>charge cell</th>\n",
       "      <th>power</th>\n",
       "      <th>TPH</th>\n",
       "      <th>solid percentage</th>\n",
       "      <th>water</th>\n",
       "      <th>speed</th>\n",
       "      <th>solid</th>\n",
       "      <th>LL charge cell</th>\n",
       "      <th>HH charge cell</th>\n",
       "      <th>HH TPH</th>\n",
       "      <th>stator current</th>\n",
       "      <th>granulometry</th>\n",
       "      <th>Edad</th>\n",
       "      <th>dif_TPH_HH</th>\n",
       "      <th>dif_CC_HH</th>\n",
       "      <th>dif_CC_LL</th>\n",
       "      <th>loss of TPH</th>\n",
       "      <th>cluster</th>\n",
       "      <th>recommendation</th>\n",
       "      <th>loss of TPH_1</th>\n",
       "      <th>loss of TPH_2</th>\n",
       "      <th>loss of TPH_3</th>\n",
       "      <th>loss of TPH_4</th>\n",
       "      <th>loss of TPH_5</th>\n",
       "      <th>greater than HH CC</th>\n",
       "      <th>greater than HH CC_1</th>\n",
       "      <th>greater than HH CC_2</th>\n",
       "      <th>greater than HH CC_3</th>\n",
       "      <th>greater than HH CC_4</th>\n",
       "      <th>greater than HH CC_5</th>\n",
       "      <th>less than LL CC</th>\n",
       "      <th>less than LL CC_1</th>\n",
       "      <th>less than LL CC_2</th>\n",
       "      <th>less than LL CC_3</th>\n",
       "      <th>less than LL CC_4</th>\n",
       "      <th>less than LL CC_5</th>\n",
       "      <th>greater than Rec HH CC</th>\n",
       "      <th>greater than Rec HH CC_1</th>\n",
       "      <th>greater than Rec HH CC_2</th>\n",
       "      <th>greater than Rec HH CC_3</th>\n",
       "      <th>greater than Rec HH CC_4</th>\n",
       "      <th>greater than Rec HH CC_5</th>\n",
       "      <th>Rec HH CC less than HH CC</th>\n",
       "      <th>Rec HH CC less than HH CC_1</th>\n",
       "      <th>Rec HH CC less than HH CC_2</th>\n",
       "      <th>Rec HH CC less than HH CC_3</th>\n",
       "      <th>Rec HH CC less than HH CC_4</th>\n",
       "      <th>Rec HH CC less than HH CC_5</th>\n",
       "      <th>start loss tph</th>\n",
       "      <th>end loss tph</th>\n",
       "      <th>loss of TPH_mod</th>\n",
       "    </tr>\n",
       "    <tr>\n",
       "      <th>Timestamp</th>\n",
       "      <th></th>\n",
       "      <th></th>\n",
       "      <th></th>\n",
       "      <th></th>\n",
       "      <th></th>\n",
       "      <th></th>\n",
       "      <th></th>\n",
       "      <th></th>\n",
       "      <th></th>\n",
       "      <th></th>\n",
       "      <th></th>\n",
       "      <th></th>\n",
       "      <th></th>\n",
       "      <th></th>\n",
       "      <th></th>\n",
       "      <th></th>\n",
       "      <th></th>\n",
       "      <th></th>\n",
       "      <th></th>\n",
       "      <th></th>\n",
       "      <th></th>\n",
       "      <th></th>\n",
       "      <th></th>\n",
       "      <th></th>\n",
       "      <th></th>\n",
       "      <th></th>\n",
       "      <th></th>\n",
       "      <th></th>\n",
       "      <th></th>\n",
       "      <th></th>\n",
       "      <th></th>\n",
       "      <th></th>\n",
       "      <th></th>\n",
       "      <th></th>\n",
       "      <th></th>\n",
       "      <th></th>\n",
       "      <th></th>\n",
       "      <th></th>\n",
       "      <th></th>\n",
       "      <th></th>\n",
       "      <th></th>\n",
       "      <th></th>\n",
       "      <th></th>\n",
       "      <th></th>\n",
       "      <th></th>\n",
       "      <th></th>\n",
       "      <th></th>\n",
       "      <th></th>\n",
       "      <th></th>\n",
       "      <th></th>\n",
       "      <th></th>\n",
       "      <th></th>\n",
       "      <th></th>\n",
       "      <th></th>\n",
       "      <th></th>\n",
       "      <th></th>\n",
       "      <th></th>\n",
       "      <th></th>\n",
       "      <th></th>\n",
       "      <th></th>\n",
       "      <th></th>\n",
       "      <th></th>\n",
       "      <th></th>\n",
       "      <th></th>\n",
       "      <th></th>\n",
       "      <th></th>\n",
       "      <th></th>\n",
       "      <th></th>\n",
       "      <th></th>\n",
       "      <th></th>\n",
       "      <th></th>\n",
       "      <th></th>\n",
       "      <th></th>\n",
       "      <th></th>\n",
       "      <th></th>\n",
       "      <th></th>\n",
       "    </tr>\n",
       "  </thead>\n",
       "  <tbody>\n",
       "    <tr>\n",
       "      <th>2021-01-11 15:47:00</th>\n",
       "      <td>1.0</td>\n",
       "      <td>1.0</td>\n",
       "      <td>0.0</td>\n",
       "      <td>0.0</td>\n",
       "      <td>0.0</td>\n",
       "      <td>0.0</td>\n",
       "      <td>0.0</td>\n",
       "      <td>0.0</td>\n",
       "      <td>0.0</td>\n",
       "      <td>0.0</td>\n",
       "      <td>0.0</td>\n",
       "      <td>0.0</td>\n",
       "      <td>0.0</td>\n",
       "      <td>0.0</td>\n",
       "      <td>0.0</td>\n",
       "      <td>0.0</td>\n",
       "      <td>2.01</td>\n",
       "      <td>1.28</td>\n",
       "      <td>0.11</td>\n",
       "      <td>0.0</td>\n",
       "      <td>15.7262</td>\n",
       "      <td>109.25</td>\n",
       "      <td>16.2088</td>\n",
       "      <td>0.0</td>\n",
       "      <td>62.099123</td>\n",
       "      <td>901.77079</td>\n",
       "      <td>18654.058453</td>\n",
       "      <td>3699.382787</td>\n",
       "      <td>77.902083</td>\n",
       "      <td>1051.44581</td>\n",
       "      <td>7.968904</td>\n",
       "      <td>77.75</td>\n",
       "      <td>890.0</td>\n",
       "      <td>970.0</td>\n",
       "      <td>3700.0</td>\n",
       "      <td>3607.42529</td>\n",
       "      <td>67.736528</td>\n",
       "      <td>2.0</td>\n",
       "      <td>0.617213</td>\n",
       "      <td>68.22921</td>\n",
       "      <td>11.77079</td>\n",
       "      <td>0</td>\n",
       "      <td>0</td>\n",
       "      <td>788.670246</td>\n",
       "      <td>0.0</td>\n",
       "      <td>0.0</td>\n",
       "      <td>0.0</td>\n",
       "      <td>0.0</td>\n",
       "      <td>0.0</td>\n",
       "      <td>0</td>\n",
       "      <td>0.0</td>\n",
       "      <td>0.0</td>\n",
       "      <td>0.0</td>\n",
       "      <td>0.0</td>\n",
       "      <td>0.0</td>\n",
       "      <td>0</td>\n",
       "      <td>0.0</td>\n",
       "      <td>0.0</td>\n",
       "      <td>0.0</td>\n",
       "      <td>0.0</td>\n",
       "      <td>0.0</td>\n",
       "      <td>1</td>\n",
       "      <td>1.0</td>\n",
       "      <td>1.0</td>\n",
       "      <td>1.0</td>\n",
       "      <td>1.0</td>\n",
       "      <td>1.0</td>\n",
       "      <td>1</td>\n",
       "      <td>1.0</td>\n",
       "      <td>1.0</td>\n",
       "      <td>1.0</td>\n",
       "      <td>1.0</td>\n",
       "      <td>1.0</td>\n",
       "      <td>0</td>\n",
       "      <td>0</td>\n",
       "      <td>0</td>\n",
       "    </tr>\n",
       "  </tbody>\n",
       "</table>\n",
       "</div>"
      ],
      "text/plain": [
       "                     sag mill expert system  \\\n",
       "Timestamp                                     \n",
       "2021-01-11 15:47:00                     1.0   \n",
       "\n",
       "                     Limitado por Límite Alto de Tonelaje  \\\n",
       "Timestamp                                                   \n",
       "2021-01-11 15:47:00                                   1.0   \n",
       "\n",
       "                     Optimizando tonelaje  Limitado por Peso  \\\n",
       "Timestamp                                                      \n",
       "2021-01-11 15:47:00                   0.0                0.0   \n",
       "\n",
       "                     Limitado por Corriente Bobina  \\\n",
       "Timestamp                                            \n",
       "2021-01-11 15:47:00                            0.0   \n",
       "\n",
       "                     Limitado por torque espesador 2  \\\n",
       "Timestamp                                              \n",
       "2021-01-11 15:47:00                              0.0   \n",
       "\n",
       "                     Limitado por torque espesador 3  \\\n",
       "Timestamp                                              \n",
       "2021-01-11 15:47:00                              0.0   \n",
       "\n",
       "                     Limitado por Potencia Bolas 1  \\\n",
       "Timestamp                                            \n",
       "2021-01-11 15:47:00                            0.0   \n",
       "\n",
       "                     Limitado por Potencia Bolas 2  Limitado por Pebbles  \\\n",
       "Timestamp                                                                  \n",
       "2021-01-11 15:47:00                            0.0                   0.0   \n",
       "\n",
       "                     Limitado por Corriente harnero  \\\n",
       "Timestamp                                             \n",
       "2021-01-11 15:47:00                             0.0   \n",
       "\n",
       "                     Limitado por Potencia SAG  \\\n",
       "Timestamp                                        \n",
       "2021-01-11 15:47:00                        0.0   \n",
       "\n",
       "                     Limitado por limite bajo de tonelaje  \\\n",
       "Timestamp                                                   \n",
       "2021-01-11 15:47:00                                   0.0   \n",
       "\n",
       "                     Limitado por Temperatura bobina  \\\n",
       "Timestamp                                              \n",
       "2021-01-11 15:47:00                              0.0   \n",
       "\n",
       "                     Limitado por presión espesador 2  \\\n",
       "Timestamp                                               \n",
       "2021-01-11 15:47:00                               0.0   \n",
       "\n",
       "                     Limitado por presión espesador 3  pyrite law  \\\n",
       "Timestamp                                                           \n",
       "2021-01-11 15:47:00                               0.0        2.01   \n",
       "\n",
       "                     chalcopyrite law  chalcocite law  covelin law  \\\n",
       "Timestamp                                                            \n",
       "2021-01-11 15:47:00              1.28            0.11          0.0   \n",
       "\n",
       "                     crusher index  sag power index  ball work index  \\\n",
       "Timestamp                                                              \n",
       "2021-01-11 15:47:00        15.7262           109.25          16.2088   \n",
       "\n",
       "                     bornite law     torque  charge cell         power  \\\n",
       "Timestamp                                                                \n",
       "2021-01-11 15:47:00          0.0  62.099123    901.77079  18654.058453   \n",
       "\n",
       "                             TPH  solid percentage       water     speed  \\\n",
       "Timestamp                                                                  \n",
       "2021-01-11 15:47:00  3699.382787         77.902083  1051.44581  7.968904   \n",
       "\n",
       "                     solid  LL charge cell  HH charge cell  HH TPH  \\\n",
       "Timestamp                                                            \n",
       "2021-01-11 15:47:00  77.75           890.0           970.0  3700.0   \n",
       "\n",
       "                     stator current  granulometry  Edad  dif_TPH_HH  \\\n",
       "Timestamp                                                             \n",
       "2021-01-11 15:47:00      3607.42529     67.736528   2.0    0.617213   \n",
       "\n",
       "                     dif_CC_HH  dif_CC_LL  loss of TPH  cluster  \\\n",
       "Timestamp                                                         \n",
       "2021-01-11 15:47:00   68.22921   11.77079            0        0   \n",
       "\n",
       "                     recommendation  loss of TPH_1  loss of TPH_2  \\\n",
       "Timestamp                                                           \n",
       "2021-01-11 15:47:00      788.670246            0.0            0.0   \n",
       "\n",
       "                     loss of TPH_3  loss of TPH_4  loss of TPH_5  \\\n",
       "Timestamp                                                          \n",
       "2021-01-11 15:47:00            0.0            0.0            0.0   \n",
       "\n",
       "                     greater than HH CC  greater than HH CC_1  \\\n",
       "Timestamp                                                       \n",
       "2021-01-11 15:47:00                   0                   0.0   \n",
       "\n",
       "                     greater than HH CC_2  greater than HH CC_3  \\\n",
       "Timestamp                                                         \n",
       "2021-01-11 15:47:00                   0.0                   0.0   \n",
       "\n",
       "                     greater than HH CC_4  greater than HH CC_5  \\\n",
       "Timestamp                                                         \n",
       "2021-01-11 15:47:00                   0.0                   0.0   \n",
       "\n",
       "                     less than LL CC  less than LL CC_1  less than LL CC_2  \\\n",
       "Timestamp                                                                    \n",
       "2021-01-11 15:47:00                0                0.0                0.0   \n",
       "\n",
       "                     less than LL CC_3  less than LL CC_4  less than LL CC_5  \\\n",
       "Timestamp                                                                      \n",
       "2021-01-11 15:47:00                0.0                0.0                0.0   \n",
       "\n",
       "                     greater than Rec HH CC  greater than Rec HH CC_1  \\\n",
       "Timestamp                                                               \n",
       "2021-01-11 15:47:00                       1                       1.0   \n",
       "\n",
       "                     greater than Rec HH CC_2  greater than Rec HH CC_3  \\\n",
       "Timestamp                                                                 \n",
       "2021-01-11 15:47:00                       1.0                       1.0   \n",
       "\n",
       "                     greater than Rec HH CC_4  greater than Rec HH CC_5  \\\n",
       "Timestamp                                                                 \n",
       "2021-01-11 15:47:00                       1.0                       1.0   \n",
       "\n",
       "                     Rec HH CC less than HH CC  Rec HH CC less than HH CC_1  \\\n",
       "Timestamp                                                                     \n",
       "2021-01-11 15:47:00                          1                          1.0   \n",
       "\n",
       "                     Rec HH CC less than HH CC_2  Rec HH CC less than HH CC_3  \\\n",
       "Timestamp                                                                       \n",
       "2021-01-11 15:47:00                          1.0                          1.0   \n",
       "\n",
       "                     Rec HH CC less than HH CC_4  Rec HH CC less than HH CC_5  \\\n",
       "Timestamp                                                                       \n",
       "2021-01-11 15:47:00                          1.0                          1.0   \n",
       "\n",
       "                     start loss tph  end loss tph  loss of TPH_mod  \n",
       "Timestamp                                                           \n",
       "2021-01-11 15:47:00               0             0                0  "
      ]
     },
     "execution_count": 195,
     "metadata": {},
     "output_type": "execute_result"
    }
   ],
   "source": [
    "inicio_periodo=parse('2021-01-11 15:47:00')\n",
    "fin_periodo=inicio_periodo+timedelta(minutes=10)\n",
    "data=df_full.copy()[inicio_periodo:fin_periodo]\n",
    "data.head(1)"
   ]
  },
  {
   "cell_type": "code",
   "execution_count": 196,
   "metadata": {},
   "outputs": [
    {
     "data": {
      "application/vnd.plotly.v1+json": {
       "config": {
        "plotlyServerURL": "https://plot.ly"
       },
       "data": [
        {
         "legendgroup": "1",
         "line": {
          "width": 3
         },
         "mode": "lines",
         "name": "TPH",
         "type": "scatter",
         "x": [
          "2021-01-11T15:47:00",
          "2021-01-11T15:48:00",
          "2021-01-11T15:49:00",
          "2021-01-11T15:50:00",
          "2021-01-11T15:51:00",
          "2021-01-11T15:52:00",
          "2021-01-11T15:53:00",
          "2021-01-11T15:54:00",
          "2021-01-11T15:55:00",
          "2021-01-11T15:56:00",
          "2021-01-11T15:57:00"
         ],
         "xaxis": "x",
         "y": [
          3699.382786976585,
          3704.327141720538,
          3699.055148572318,
          3677.106726458854,
          3705.753376107216,
          3684.402819553031,
          3706.930636885374,
          3687.9735888803457,
          3691.037899204088,
          3682.860519000637,
          3698.549788547513
         ],
         "yaxis": "y"
        },
        {
         "legendgroup": "1",
         "line": {
          "width": 3
         },
         "mode": "lines",
         "name": "HH TPH",
         "type": "scatter",
         "x": [
          "2021-01-11T15:47:00",
          "2021-01-11T15:48:00",
          "2021-01-11T15:49:00",
          "2021-01-11T15:50:00",
          "2021-01-11T15:51:00",
          "2021-01-11T15:52:00",
          "2021-01-11T15:53:00",
          "2021-01-11T15:54:00",
          "2021-01-11T15:55:00",
          "2021-01-11T15:56:00",
          "2021-01-11T15:57:00"
         ],
         "xaxis": "x",
         "y": [
          3700,
          3700,
          3700,
          3700,
          3700,
          3700,
          3700,
          3700,
          3700,
          3700,
          3700
         ],
         "yaxis": "y"
        },
        {
         "legendgroup": "1",
         "line": {
          "width": 3
         },
         "mode": "lines",
         "name": "charge cell",
         "type": "scatter",
         "x": [
          "2021-01-11T15:47:00",
          "2021-01-11T15:48:00",
          "2021-01-11T15:49:00",
          "2021-01-11T15:50:00",
          "2021-01-11T15:51:00",
          "2021-01-11T15:52:00",
          "2021-01-11T15:53:00",
          "2021-01-11T15:54:00",
          "2021-01-11T15:55:00",
          "2021-01-11T15:56:00",
          "2021-01-11T15:57:00"
         ],
         "xaxis": "x2",
         "y": [
          901.770789600796,
          902.024352869958,
          901.680919377,
          901.660824405488,
          903.6701303774648,
          905.5164291022372,
          908.482601788056,
          910.2340868904536,
          912.4334281633004,
          913.9837585546804,
          917.0245319829204
         ],
         "yaxis": "y2"
        },
        {
         "legendgroup": "1",
         "line": {
          "width": 3
         },
         "mode": "lines",
         "name": "LL charge cell",
         "type": "scatter",
         "x": [
          "2021-01-11T15:47:00",
          "2021-01-11T15:48:00",
          "2021-01-11T15:49:00",
          "2021-01-11T15:50:00",
          "2021-01-11T15:51:00",
          "2021-01-11T15:52:00",
          "2021-01-11T15:53:00",
          "2021-01-11T15:54:00",
          "2021-01-11T15:55:00",
          "2021-01-11T15:56:00",
          "2021-01-11T15:57:00"
         ],
         "xaxis": "x2",
         "y": [
          890,
          890,
          890,
          890,
          890,
          890,
          890,
          890,
          890,
          890,
          890
         ],
         "yaxis": "y2"
        },
        {
         "legendgroup": "1",
         "line": {
          "width": 3
         },
         "mode": "lines",
         "name": "HH charge cell",
         "type": "scatter",
         "x": [
          "2021-01-11T15:47:00",
          "2021-01-11T15:48:00",
          "2021-01-11T15:49:00",
          "2021-01-11T15:50:00",
          "2021-01-11T15:51:00",
          "2021-01-11T15:52:00",
          "2021-01-11T15:53:00",
          "2021-01-11T15:54:00",
          "2021-01-11T15:55:00",
          "2021-01-11T15:56:00",
          "2021-01-11T15:57:00"
         ],
         "xaxis": "x2",
         "y": [
          970,
          970,
          970,
          970,
          970,
          970,
          970,
          970,
          970,
          970,
          970
         ],
         "yaxis": "y2"
        },
        {
         "legendgroup": "1",
         "line": {
          "color": "black",
          "width": 1
         },
         "mode": "lines",
         "name": "recommendation HH CC",
         "type": "scatter",
         "x": [
          "2021-01-11T15:47:00",
          "2021-01-11T15:48:00",
          "2021-01-11T15:49:00",
          "2021-01-11T15:50:00",
          "2021-01-11T15:51:00",
          "2021-01-11T15:52:00",
          "2021-01-11T15:53:00",
          "2021-01-11T15:54:00",
          "2021-01-11T15:55:00",
          "2021-01-11T15:56:00",
          "2021-01-11T15:57:00"
         ],
         "xaxis": "x2",
         "y": [
          788.6702464786226,
          788.6702464786226,
          774.5888930230342,
          774.5888930230342,
          774.5888930230342,
          790.6818684008495,
          790.6818684008495,
          790.6818684008495,
          790.6818684008495,
          790.6818684008495,
          790.6818684008495
         ],
         "yaxis": "y2"
        },
        {
         "legendgroup": "1",
         "line": {
          "width": 3
         },
         "mode": "lines",
         "name": "granulometry",
         "type": "scatter",
         "x": [
          "2021-01-11T15:47:00",
          "2021-01-11T15:48:00",
          "2021-01-11T15:49:00",
          "2021-01-11T15:50:00",
          "2021-01-11T15:51:00",
          "2021-01-11T15:52:00",
          "2021-01-11T15:53:00",
          "2021-01-11T15:54:00",
          "2021-01-11T15:55:00",
          "2021-01-11T15:56:00",
          "2021-01-11T15:57:00"
         ],
         "xaxis": "x3",
         "y": [
          67.73652806605166,
          67.51898915213924,
          67.18283041795817,
          66.89450015394705,
          66.59033963548582,
          66.2703509923495,
          66.02086730226488,
          65.82963037014581,
          65.71129117394335,
          65.69501470103134,
          65.71294861401574
         ],
         "yaxis": "y3"
        },
        {
         "legendgroup": "1",
         "line": {
          "width": 3
         },
         "mode": "lines",
         "name": "sag power index",
         "type": "scatter",
         "x": [
          "2021-01-11T15:47:00",
          "2021-01-11T15:48:00",
          "2021-01-11T15:49:00",
          "2021-01-11T15:50:00",
          "2021-01-11T15:51:00",
          "2021-01-11T15:52:00",
          "2021-01-11T15:53:00",
          "2021-01-11T15:54:00",
          "2021-01-11T15:55:00",
          "2021-01-11T15:56:00",
          "2021-01-11T15:57:00"
         ],
         "xaxis": "x4",
         "y": [
          109.25,
          109.25,
          109.25,
          109.25,
          109.25,
          109.25,
          109.25,
          109.25,
          109.25,
          109.25,
          109.25
         ],
         "yaxis": "y4"
        },
        {
         "legendgroup": "1",
         "line": {
          "width": 3
         },
         "mode": "lines",
         "name": "speed",
         "type": "scatter",
         "x": [
          "2021-01-11T15:47:00",
          "2021-01-11T15:48:00",
          "2021-01-11T15:49:00",
          "2021-01-11T15:50:00",
          "2021-01-11T15:51:00",
          "2021-01-11T15:52:00",
          "2021-01-11T15:53:00",
          "2021-01-11T15:54:00",
          "2021-01-11T15:55:00",
          "2021-01-11T15:56:00",
          "2021-01-11T15:57:00"
         ],
         "xaxis": "x14",
         "y": [
          7.968903696898095,
          7.97555106630959,
          7.970222508030587,
          7.956902578599389,
          7.955535702454898,
          7.957978619131932,
          7.957999884739707,
          7.955434432372724,
          7.960527538776806,
          7.959138760208649,
          7.955680198235011
         ],
         "yaxis": "y14"
        },
        {
         "legendgroup": "1",
         "line": {
          "width": 3
         },
         "mode": "lines",
         "name": "solid percentage",
         "type": "scatter",
         "x": [
          "2021-01-11T15:47:00",
          "2021-01-11T15:48:00",
          "2021-01-11T15:49:00",
          "2021-01-11T15:50:00",
          "2021-01-11T15:51:00",
          "2021-01-11T15:52:00",
          "2021-01-11T15:53:00",
          "2021-01-11T15:54:00",
          "2021-01-11T15:55:00",
          "2021-01-11T15:56:00",
          "2021-01-11T15:57:00"
         ],
         "xaxis": "x15",
         "y": [
          77.90208259378376,
          77.7625000768881,
          77.738236920566,
          77.64228775071282,
          77.85506136247048,
          77.77680201615219,
          77.80597081155312,
          77.6639472799619,
          77.70282577274189,
          77.68165589025669,
          77.79504344662044
         ],
         "yaxis": "y15"
        },
        {
         "legendgroup": "1",
         "line": {
          "width": 3
         },
         "mode": "lines",
         "name": "water",
         "type": "scatter",
         "x": [
          "2021-01-11T15:47:00",
          "2021-01-11T15:48:00",
          "2021-01-11T15:49:00",
          "2021-01-11T15:50:00",
          "2021-01-11T15:51:00",
          "2021-01-11T15:52:00",
          "2021-01-11T15:53:00",
          "2021-01-11T15:54:00",
          "2021-01-11T15:55:00",
          "2021-01-11T15:56:00",
          "2021-01-11T15:57:00"
         ],
         "xaxis": "x13",
         "y": [
          1051.4458095640623,
          1059.9796274835508,
          1058.997215447241,
          1058.7836284131786,
          1053.2949999166244,
          1053.0431583942288,
          1058.4273716825692,
          1060.4980444010523,
          1058.6686215023285,
          1057.8517464275849,
          1055.3619443226974
         ],
         "yaxis": "y13"
        },
        {
         "legendgroup": "1",
         "line": {
          "width": 3
         },
         "mode": "lines",
         "name": "loss of TPH",
         "type": "scatter",
         "x": [
          "2021-01-11T15:47:00",
          "2021-01-11T15:48:00",
          "2021-01-11T15:49:00",
          "2021-01-11T15:50:00",
          "2021-01-11T15:51:00",
          "2021-01-11T15:52:00",
          "2021-01-11T15:53:00",
          "2021-01-11T15:54:00",
          "2021-01-11T15:55:00",
          "2021-01-11T15:56:00",
          "2021-01-11T15:57:00"
         ],
         "xaxis": "x5",
         "y": [
          0,
          0,
          0,
          0,
          0,
          0,
          0,
          0,
          0,
          0,
          0
         ],
         "yaxis": "y5"
        },
        {
         "legendgroup": "1",
         "line": {
          "width": 3
         },
         "mode": "lines",
         "name": "dif_TPH_HH",
         "type": "scatter",
         "x": [
          "2021-01-11T15:47:00",
          "2021-01-11T15:48:00",
          "2021-01-11T15:49:00",
          "2021-01-11T15:50:00",
          "2021-01-11T15:51:00",
          "2021-01-11T15:52:00",
          "2021-01-11T15:53:00",
          "2021-01-11T15:54:00",
          "2021-01-11T15:55:00",
          "2021-01-11T15:56:00",
          "2021-01-11T15:57:00"
         ],
         "xaxis": "x6",
         "y": [
          0.6172130234149336,
          -4.327141720537838,
          0.9448514276818968,
          22.893273541145845,
          -5.7533761072159,
          15.597180446969103,
          -6.930636885374042,
          12.026411119654313,
          8.962100795912193,
          17.13948099936306,
          1.4502114524871104
         ],
         "yaxis": "y6"
        },
        {
         "legendgroup": "1",
         "line": {
          "width": 3
         },
         "mode": "lines",
         "name": "greater than HH CC",
         "type": "scatter",
         "x": [
          "2021-01-11T15:47:00",
          "2021-01-11T15:48:00",
          "2021-01-11T15:49:00",
          "2021-01-11T15:50:00",
          "2021-01-11T15:51:00",
          "2021-01-11T15:52:00",
          "2021-01-11T15:53:00",
          "2021-01-11T15:54:00",
          "2021-01-11T15:55:00",
          "2021-01-11T15:56:00",
          "2021-01-11T15:57:00"
         ],
         "xaxis": "x7",
         "y": [
          0,
          0,
          0,
          0,
          0,
          0,
          0,
          0,
          0,
          0,
          0
         ],
         "yaxis": "y7"
        },
        {
         "legendgroup": "1",
         "line": {
          "width": 3
         },
         "mode": "lines",
         "name": "less than LL CC",
         "type": "scatter",
         "x": [
          "2021-01-11T15:47:00",
          "2021-01-11T15:48:00",
          "2021-01-11T15:49:00",
          "2021-01-11T15:50:00",
          "2021-01-11T15:51:00",
          "2021-01-11T15:52:00",
          "2021-01-11T15:53:00",
          "2021-01-11T15:54:00",
          "2021-01-11T15:55:00",
          "2021-01-11T15:56:00",
          "2021-01-11T15:57:00"
         ],
         "xaxis": "x10",
         "y": [
          0,
          0,
          0,
          0,
          0,
          0,
          0,
          0,
          0,
          0,
          0
         ],
         "yaxis": "y10"
        },
        {
         "legendgroup": "1",
         "line": {
          "width": 3
         },
         "mode": "lines",
         "name": "start loss tph",
         "type": "scatter",
         "x": [
          "2021-01-11T15:47:00",
          "2021-01-11T15:48:00",
          "2021-01-11T15:49:00",
          "2021-01-11T15:50:00",
          "2021-01-11T15:51:00",
          "2021-01-11T15:52:00",
          "2021-01-11T15:53:00",
          "2021-01-11T15:54:00",
          "2021-01-11T15:55:00",
          "2021-01-11T15:56:00",
          "2021-01-11T15:57:00"
         ],
         "xaxis": "x11",
         "y": [
          0,
          0,
          0,
          0,
          0,
          0,
          0,
          0,
          0,
          0,
          0
         ],
         "yaxis": "y11"
        },
        {
         "legendgroup": "1",
         "line": {
          "width": 3
         },
         "mode": "lines",
         "name": "end loss tph",
         "type": "scatter",
         "x": [
          "2021-01-11T15:47:00",
          "2021-01-11T15:48:00",
          "2021-01-11T15:49:00",
          "2021-01-11T15:50:00",
          "2021-01-11T15:51:00",
          "2021-01-11T15:52:00",
          "2021-01-11T15:53:00",
          "2021-01-11T15:54:00",
          "2021-01-11T15:55:00",
          "2021-01-11T15:56:00",
          "2021-01-11T15:57:00"
         ],
         "xaxis": "x12",
         "y": [
          0,
          0,
          0,
          0,
          0,
          0,
          0,
          0,
          0,
          0,
          0
         ],
         "yaxis": "y12"
        },
        {
         "legendgroup": "1",
         "line": {
          "width": 3
         },
         "mode": "lines",
         "name": "greater than rec HH CC",
         "type": "scatter",
         "x": [
          "2021-01-11T15:47:00",
          "2021-01-11T15:48:00",
          "2021-01-11T15:49:00",
          "2021-01-11T15:50:00",
          "2021-01-11T15:51:00",
          "2021-01-11T15:52:00",
          "2021-01-11T15:53:00",
          "2021-01-11T15:54:00",
          "2021-01-11T15:55:00",
          "2021-01-11T15:56:00",
          "2021-01-11T15:57:00"
         ],
         "xaxis": "x8",
         "y": [
          1,
          1,
          1,
          1,
          1,
          1,
          1,
          1,
          1,
          1,
          1
         ],
         "yaxis": "y8"
        },
        {
         "legendgroup": "1",
         "line": {
          "width": 3
         },
         "mode": "lines",
         "name": "Rec HH CC less than HH CC",
         "type": "scatter",
         "x": [
          "2021-01-11T15:47:00",
          "2021-01-11T15:48:00",
          "2021-01-11T15:49:00",
          "2021-01-11T15:50:00",
          "2021-01-11T15:51:00",
          "2021-01-11T15:52:00",
          "2021-01-11T15:53:00",
          "2021-01-11T15:54:00",
          "2021-01-11T15:55:00",
          "2021-01-11T15:56:00",
          "2021-01-11T15:57:00"
         ],
         "xaxis": "x9",
         "y": [
          1,
          1,
          1,
          1,
          1,
          1,
          1,
          1,
          1,
          1,
          1
         ],
         "yaxis": "y9"
        }
       ],
       "layout": {
        "annotations": [
         {
          "font": {
           "size": 16
          },
          "showarrow": false,
          "text": "TPH & HH TPH",
          "x": 0.14444444444444446,
          "xanchor": "center",
          "xref": "paper",
          "y": 1,
          "yanchor": "bottom",
          "yref": "paper"
         },
         {
          "font": {
           "size": 16
          },
          "showarrow": false,
          "text": "CC, recommendation HH CC, HH CC & LL CC",
          "x": 0.5,
          "xanchor": "center",
          "xref": "paper",
          "y": 1,
          "yanchor": "bottom",
          "yref": "paper"
         },
         {
          "font": {
           "size": 16
          },
          "showarrow": false,
          "text": "granulometry",
          "x": 0.8555555555555556,
          "xanchor": "center",
          "xref": "paper",
          "y": 1,
          "yanchor": "bottom",
          "yref": "paper"
         },
         {
          "font": {
           "size": 16
          },
          "showarrow": false,
          "text": "SPI",
          "x": 0.14444444444444446,
          "xanchor": "center",
          "xref": "paper",
          "y": 0.78,
          "yanchor": "bottom",
          "yref": "paper"
         },
         {
          "font": {
           "size": 16
          },
          "showarrow": false,
          "text": "loss of TPH",
          "x": 0.5,
          "xanchor": "center",
          "xref": "paper",
          "y": 0.78,
          "yanchor": "bottom",
          "yref": "paper"
         },
         {
          "font": {
           "size": 16
          },
          "showarrow": false,
          "text": "diff. HH TPH between TPH",
          "x": 0.8555555555555556,
          "xanchor": "center",
          "xref": "paper",
          "y": 0.78,
          "yanchor": "bottom",
          "yref": "paper"
         },
         {
          "font": {
           "size": 16
          },
          "showarrow": false,
          "text": "greater than HH CC",
          "x": 0.14444444444444446,
          "xanchor": "center",
          "xref": "paper",
          "y": 0.56,
          "yanchor": "bottom",
          "yref": "paper"
         },
         {
          "font": {
           "size": 16
          },
          "showarrow": false,
          "text": "greater than Rec HH CC",
          "x": 0.5,
          "xanchor": "center",
          "xref": "paper",
          "y": 0.56,
          "yanchor": "bottom",
          "yref": "paper"
         },
         {
          "font": {
           "size": 16
          },
          "showarrow": false,
          "text": "Rec HH CC less than HH CC",
          "x": 0.8555555555555556,
          "xanchor": "center",
          "xref": "paper",
          "y": 0.56,
          "yanchor": "bottom",
          "yref": "paper"
         },
         {
          "font": {
           "size": 16
          },
          "showarrow": false,
          "text": "less than LL CC",
          "x": 0.14444444444444446,
          "xanchor": "center",
          "xref": "paper",
          "y": 0.33999999999999997,
          "yanchor": "bottom",
          "yref": "paper"
         },
         {
          "font": {
           "size": 16
          },
          "showarrow": false,
          "text": "start loss tph",
          "x": 0.5,
          "xanchor": "center",
          "xref": "paper",
          "y": 0.33999999999999997,
          "yanchor": "bottom",
          "yref": "paper"
         },
         {
          "font": {
           "size": 16
          },
          "showarrow": false,
          "text": "end loss tph",
          "x": 0.8555555555555556,
          "xanchor": "center",
          "xref": "paper",
          "y": 0.33999999999999997,
          "yanchor": "bottom",
          "yref": "paper"
         },
         {
          "font": {
           "size": 16
          },
          "showarrow": false,
          "text": "water",
          "x": 0.14444444444444446,
          "xanchor": "center",
          "xref": "paper",
          "y": 0.12,
          "yanchor": "bottom",
          "yref": "paper"
         },
         {
          "font": {
           "size": 16
          },
          "showarrow": false,
          "text": "speed",
          "x": 0.5,
          "xanchor": "center",
          "xref": "paper",
          "y": 0.12,
          "yanchor": "bottom",
          "yref": "paper"
         },
         {
          "font": {
           "size": 16
          },
          "showarrow": false,
          "text": "solid percentage",
          "x": 0.8555555555555556,
          "xanchor": "center",
          "xref": "paper",
          "y": 0.12,
          "yanchor": "bottom",
          "yref": "paper"
         }
        ],
        "height": 1000,
        "hovermode": "x unified",
        "template": {
         "data": {
          "bar": [
           {
            "error_x": {
             "color": "#2a3f5f"
            },
            "error_y": {
             "color": "#2a3f5f"
            },
            "marker": {
             "line": {
              "color": "#E5ECF6",
              "width": 0.5
             },
             "pattern": {
              "fillmode": "overlay",
              "size": 10,
              "solidity": 0.2
             }
            },
            "type": "bar"
           }
          ],
          "barpolar": [
           {
            "marker": {
             "line": {
              "color": "#E5ECF6",
              "width": 0.5
             },
             "pattern": {
              "fillmode": "overlay",
              "size": 10,
              "solidity": 0.2
             }
            },
            "type": "barpolar"
           }
          ],
          "carpet": [
           {
            "aaxis": {
             "endlinecolor": "#2a3f5f",
             "gridcolor": "white",
             "linecolor": "white",
             "minorgridcolor": "white",
             "startlinecolor": "#2a3f5f"
            },
            "baxis": {
             "endlinecolor": "#2a3f5f",
             "gridcolor": "white",
             "linecolor": "white",
             "minorgridcolor": "white",
             "startlinecolor": "#2a3f5f"
            },
            "type": "carpet"
           }
          ],
          "choropleth": [
           {
            "colorbar": {
             "outlinewidth": 0,
             "ticks": ""
            },
            "type": "choropleth"
           }
          ],
          "contour": [
           {
            "colorbar": {
             "outlinewidth": 0,
             "ticks": ""
            },
            "colorscale": [
             [
              0,
              "#0d0887"
             ],
             [
              0.1111111111111111,
              "#46039f"
             ],
             [
              0.2222222222222222,
              "#7201a8"
             ],
             [
              0.3333333333333333,
              "#9c179e"
             ],
             [
              0.4444444444444444,
              "#bd3786"
             ],
             [
              0.5555555555555556,
              "#d8576b"
             ],
             [
              0.6666666666666666,
              "#ed7953"
             ],
             [
              0.7777777777777778,
              "#fb9f3a"
             ],
             [
              0.8888888888888888,
              "#fdca26"
             ],
             [
              1,
              "#f0f921"
             ]
            ],
            "type": "contour"
           }
          ],
          "contourcarpet": [
           {
            "colorbar": {
             "outlinewidth": 0,
             "ticks": ""
            },
            "type": "contourcarpet"
           }
          ],
          "heatmap": [
           {
            "colorbar": {
             "outlinewidth": 0,
             "ticks": ""
            },
            "colorscale": [
             [
              0,
              "#0d0887"
             ],
             [
              0.1111111111111111,
              "#46039f"
             ],
             [
              0.2222222222222222,
              "#7201a8"
             ],
             [
              0.3333333333333333,
              "#9c179e"
             ],
             [
              0.4444444444444444,
              "#bd3786"
             ],
             [
              0.5555555555555556,
              "#d8576b"
             ],
             [
              0.6666666666666666,
              "#ed7953"
             ],
             [
              0.7777777777777778,
              "#fb9f3a"
             ],
             [
              0.8888888888888888,
              "#fdca26"
             ],
             [
              1,
              "#f0f921"
             ]
            ],
            "type": "heatmap"
           }
          ],
          "heatmapgl": [
           {
            "colorbar": {
             "outlinewidth": 0,
             "ticks": ""
            },
            "colorscale": [
             [
              0,
              "#0d0887"
             ],
             [
              0.1111111111111111,
              "#46039f"
             ],
             [
              0.2222222222222222,
              "#7201a8"
             ],
             [
              0.3333333333333333,
              "#9c179e"
             ],
             [
              0.4444444444444444,
              "#bd3786"
             ],
             [
              0.5555555555555556,
              "#d8576b"
             ],
             [
              0.6666666666666666,
              "#ed7953"
             ],
             [
              0.7777777777777778,
              "#fb9f3a"
             ],
             [
              0.8888888888888888,
              "#fdca26"
             ],
             [
              1,
              "#f0f921"
             ]
            ],
            "type": "heatmapgl"
           }
          ],
          "histogram": [
           {
            "marker": {
             "pattern": {
              "fillmode": "overlay",
              "size": 10,
              "solidity": 0.2
             }
            },
            "type": "histogram"
           }
          ],
          "histogram2d": [
           {
            "colorbar": {
             "outlinewidth": 0,
             "ticks": ""
            },
            "colorscale": [
             [
              0,
              "#0d0887"
             ],
             [
              0.1111111111111111,
              "#46039f"
             ],
             [
              0.2222222222222222,
              "#7201a8"
             ],
             [
              0.3333333333333333,
              "#9c179e"
             ],
             [
              0.4444444444444444,
              "#bd3786"
             ],
             [
              0.5555555555555556,
              "#d8576b"
             ],
             [
              0.6666666666666666,
              "#ed7953"
             ],
             [
              0.7777777777777778,
              "#fb9f3a"
             ],
             [
              0.8888888888888888,
              "#fdca26"
             ],
             [
              1,
              "#f0f921"
             ]
            ],
            "type": "histogram2d"
           }
          ],
          "histogram2dcontour": [
           {
            "colorbar": {
             "outlinewidth": 0,
             "ticks": ""
            },
            "colorscale": [
             [
              0,
              "#0d0887"
             ],
             [
              0.1111111111111111,
              "#46039f"
             ],
             [
              0.2222222222222222,
              "#7201a8"
             ],
             [
              0.3333333333333333,
              "#9c179e"
             ],
             [
              0.4444444444444444,
              "#bd3786"
             ],
             [
              0.5555555555555556,
              "#d8576b"
             ],
             [
              0.6666666666666666,
              "#ed7953"
             ],
             [
              0.7777777777777778,
              "#fb9f3a"
             ],
             [
              0.8888888888888888,
              "#fdca26"
             ],
             [
              1,
              "#f0f921"
             ]
            ],
            "type": "histogram2dcontour"
           }
          ],
          "mesh3d": [
           {
            "colorbar": {
             "outlinewidth": 0,
             "ticks": ""
            },
            "type": "mesh3d"
           }
          ],
          "parcoords": [
           {
            "line": {
             "colorbar": {
              "outlinewidth": 0,
              "ticks": ""
             }
            },
            "type": "parcoords"
           }
          ],
          "pie": [
           {
            "automargin": true,
            "type": "pie"
           }
          ],
          "scatter": [
           {
            "marker": {
             "colorbar": {
              "outlinewidth": 0,
              "ticks": ""
             }
            },
            "type": "scatter"
           }
          ],
          "scatter3d": [
           {
            "line": {
             "colorbar": {
              "outlinewidth": 0,
              "ticks": ""
             }
            },
            "marker": {
             "colorbar": {
              "outlinewidth": 0,
              "ticks": ""
             }
            },
            "type": "scatter3d"
           }
          ],
          "scattercarpet": [
           {
            "marker": {
             "colorbar": {
              "outlinewidth": 0,
              "ticks": ""
             }
            },
            "type": "scattercarpet"
           }
          ],
          "scattergeo": [
           {
            "marker": {
             "colorbar": {
              "outlinewidth": 0,
              "ticks": ""
             }
            },
            "type": "scattergeo"
           }
          ],
          "scattergl": [
           {
            "marker": {
             "colorbar": {
              "outlinewidth": 0,
              "ticks": ""
             }
            },
            "type": "scattergl"
           }
          ],
          "scattermapbox": [
           {
            "marker": {
             "colorbar": {
              "outlinewidth": 0,
              "ticks": ""
             }
            },
            "type": "scattermapbox"
           }
          ],
          "scatterpolar": [
           {
            "marker": {
             "colorbar": {
              "outlinewidth": 0,
              "ticks": ""
             }
            },
            "type": "scatterpolar"
           }
          ],
          "scatterpolargl": [
           {
            "marker": {
             "colorbar": {
              "outlinewidth": 0,
              "ticks": ""
             }
            },
            "type": "scatterpolargl"
           }
          ],
          "scatterternary": [
           {
            "marker": {
             "colorbar": {
              "outlinewidth": 0,
              "ticks": ""
             }
            },
            "type": "scatterternary"
           }
          ],
          "surface": [
           {
            "colorbar": {
             "outlinewidth": 0,
             "ticks": ""
            },
            "colorscale": [
             [
              0,
              "#0d0887"
             ],
             [
              0.1111111111111111,
              "#46039f"
             ],
             [
              0.2222222222222222,
              "#7201a8"
             ],
             [
              0.3333333333333333,
              "#9c179e"
             ],
             [
              0.4444444444444444,
              "#bd3786"
             ],
             [
              0.5555555555555556,
              "#d8576b"
             ],
             [
              0.6666666666666666,
              "#ed7953"
             ],
             [
              0.7777777777777778,
              "#fb9f3a"
             ],
             [
              0.8888888888888888,
              "#fdca26"
             ],
             [
              1,
              "#f0f921"
             ]
            ],
            "type": "surface"
           }
          ],
          "table": [
           {
            "cells": {
             "fill": {
              "color": "#EBF0F8"
             },
             "line": {
              "color": "white"
             }
            },
            "header": {
             "fill": {
              "color": "#C8D4E3"
             },
             "line": {
              "color": "white"
             }
            },
            "type": "table"
           }
          ]
         },
         "layout": {
          "annotationdefaults": {
           "arrowcolor": "#2a3f5f",
           "arrowhead": 0,
           "arrowwidth": 1
          },
          "autotypenumbers": "strict",
          "coloraxis": {
           "colorbar": {
            "outlinewidth": 0,
            "ticks": ""
           }
          },
          "colorscale": {
           "diverging": [
            [
             0,
             "#8e0152"
            ],
            [
             0.1,
             "#c51b7d"
            ],
            [
             0.2,
             "#de77ae"
            ],
            [
             0.3,
             "#f1b6da"
            ],
            [
             0.4,
             "#fde0ef"
            ],
            [
             0.5,
             "#f7f7f7"
            ],
            [
             0.6,
             "#e6f5d0"
            ],
            [
             0.7,
             "#b8e186"
            ],
            [
             0.8,
             "#7fbc41"
            ],
            [
             0.9,
             "#4d9221"
            ],
            [
             1,
             "#276419"
            ]
           ],
           "sequential": [
            [
             0,
             "#0d0887"
            ],
            [
             0.1111111111111111,
             "#46039f"
            ],
            [
             0.2222222222222222,
             "#7201a8"
            ],
            [
             0.3333333333333333,
             "#9c179e"
            ],
            [
             0.4444444444444444,
             "#bd3786"
            ],
            [
             0.5555555555555556,
             "#d8576b"
            ],
            [
             0.6666666666666666,
             "#ed7953"
            ],
            [
             0.7777777777777778,
             "#fb9f3a"
            ],
            [
             0.8888888888888888,
             "#fdca26"
            ],
            [
             1,
             "#f0f921"
            ]
           ],
           "sequentialminus": [
            [
             0,
             "#0d0887"
            ],
            [
             0.1111111111111111,
             "#46039f"
            ],
            [
             0.2222222222222222,
             "#7201a8"
            ],
            [
             0.3333333333333333,
             "#9c179e"
            ],
            [
             0.4444444444444444,
             "#bd3786"
            ],
            [
             0.5555555555555556,
             "#d8576b"
            ],
            [
             0.6666666666666666,
             "#ed7953"
            ],
            [
             0.7777777777777778,
             "#fb9f3a"
            ],
            [
             0.8888888888888888,
             "#fdca26"
            ],
            [
             1,
             "#f0f921"
            ]
           ]
          },
          "colorway": [
           "#636efa",
           "#EF553B",
           "#00cc96",
           "#ab63fa",
           "#FFA15A",
           "#19d3f3",
           "#FF6692",
           "#B6E880",
           "#FF97FF",
           "#FECB52"
          ],
          "font": {
           "color": "#2a3f5f"
          },
          "geo": {
           "bgcolor": "white",
           "lakecolor": "white",
           "landcolor": "#E5ECF6",
           "showlakes": true,
           "showland": true,
           "subunitcolor": "white"
          },
          "hoverlabel": {
           "align": "left"
          },
          "hovermode": "closest",
          "mapbox": {
           "style": "light"
          },
          "paper_bgcolor": "white",
          "plot_bgcolor": "#E5ECF6",
          "polar": {
           "angularaxis": {
            "gridcolor": "white",
            "linecolor": "white",
            "ticks": ""
           },
           "bgcolor": "#E5ECF6",
           "radialaxis": {
            "gridcolor": "white",
            "linecolor": "white",
            "ticks": ""
           }
          },
          "scene": {
           "xaxis": {
            "backgroundcolor": "#E5ECF6",
            "gridcolor": "white",
            "gridwidth": 2,
            "linecolor": "white",
            "showbackground": true,
            "ticks": "",
            "zerolinecolor": "white"
           },
           "yaxis": {
            "backgroundcolor": "#E5ECF6",
            "gridcolor": "white",
            "gridwidth": 2,
            "linecolor": "white",
            "showbackground": true,
            "ticks": "",
            "zerolinecolor": "white"
           },
           "zaxis": {
            "backgroundcolor": "#E5ECF6",
            "gridcolor": "white",
            "gridwidth": 2,
            "linecolor": "white",
            "showbackground": true,
            "ticks": "",
            "zerolinecolor": "white"
           }
          },
          "shapedefaults": {
           "line": {
            "color": "#2a3f5f"
           }
          },
          "ternary": {
           "aaxis": {
            "gridcolor": "white",
            "linecolor": "white",
            "ticks": ""
           },
           "baxis": {
            "gridcolor": "white",
            "linecolor": "white",
            "ticks": ""
           },
           "bgcolor": "#E5ECF6",
           "caxis": {
            "gridcolor": "white",
            "linecolor": "white",
            "ticks": ""
           }
          },
          "title": {
           "x": 0.05
          },
          "xaxis": {
           "automargin": true,
           "gridcolor": "white",
           "linecolor": "white",
           "ticks": "",
           "title": {
            "standoff": 15
           },
           "zerolinecolor": "white",
           "zerolinewidth": 2
          },
          "yaxis": {
           "automargin": true,
           "gridcolor": "white",
           "linecolor": "white",
           "ticks": "",
           "title": {
            "standoff": 15
           },
           "zerolinecolor": "white",
           "zerolinewidth": 2
          }
         }
        },
        "title": {
         "text": "Temporal signal analysis"
        },
        "width": 1500,
        "xaxis": {
         "anchor": "y",
         "domain": [
          0,
          0.2888888888888889
         ],
         "tickformat": "%H:%M"
        },
        "xaxis10": {
         "anchor": "y10",
         "domain": [
          0,
          0.2888888888888889
         ],
         "tickformat": "%H:%M"
        },
        "xaxis11": {
         "anchor": "y11",
         "domain": [
          0.35555555555555557,
          0.6444444444444445
         ],
         "tickformat": "%H:%M"
        },
        "xaxis12": {
         "anchor": "y12",
         "domain": [
          0.7111111111111111,
          1
         ],
         "tickformat": "%H:%M"
        },
        "xaxis13": {
         "anchor": "y13",
         "domain": [
          0,
          0.2888888888888889
         ],
         "tickformat": "%H:%M"
        },
        "xaxis14": {
         "anchor": "y14",
         "domain": [
          0.35555555555555557,
          0.6444444444444445
         ],
         "tickformat": "%H:%M"
        },
        "xaxis15": {
         "anchor": "y15",
         "domain": [
          0.7111111111111111,
          1
         ],
         "tickformat": "%H:%M"
        },
        "xaxis2": {
         "anchor": "y2",
         "domain": [
          0.35555555555555557,
          0.6444444444444445
         ],
         "tickformat": "%H:%M"
        },
        "xaxis3": {
         "anchor": "y3",
         "domain": [
          0.7111111111111111,
          1
         ],
         "tickformat": "%H:%M"
        },
        "xaxis4": {
         "anchor": "y4",
         "domain": [
          0,
          0.2888888888888889
         ],
         "tickformat": "%H:%M"
        },
        "xaxis5": {
         "anchor": "y5",
         "domain": [
          0.35555555555555557,
          0.6444444444444445
         ],
         "tickformat": "%H:%M"
        },
        "xaxis6": {
         "anchor": "y6",
         "domain": [
          0.7111111111111111,
          1
         ],
         "tickformat": "%H:%M"
        },
        "xaxis7": {
         "anchor": "y7",
         "domain": [
          0,
          0.2888888888888889
         ],
         "tickformat": "%H:%M"
        },
        "xaxis8": {
         "anchor": "y8",
         "domain": [
          0.35555555555555557,
          0.6444444444444445
         ],
         "tickformat": "%H:%M"
        },
        "xaxis9": {
         "anchor": "y9",
         "domain": [
          0.7111111111111111,
          1
         ],
         "tickformat": "%H:%M"
        },
        "yaxis": {
         "anchor": "x",
         "domain": [
          0.88,
          1
         ]
        },
        "yaxis10": {
         "anchor": "x10",
         "domain": [
          0.22,
          0.33999999999999997
         ]
        },
        "yaxis11": {
         "anchor": "x11",
         "domain": [
          0.22,
          0.33999999999999997
         ]
        },
        "yaxis12": {
         "anchor": "x12",
         "domain": [
          0.22,
          0.33999999999999997
         ]
        },
        "yaxis13": {
         "anchor": "x13",
         "domain": [
          0,
          0.12
         ]
        },
        "yaxis14": {
         "anchor": "x14",
         "domain": [
          0,
          0.12
         ]
        },
        "yaxis15": {
         "anchor": "x15",
         "domain": [
          0,
          0.12
         ]
        },
        "yaxis2": {
         "anchor": "x2",
         "domain": [
          0.88,
          1
         ]
        },
        "yaxis3": {
         "anchor": "x3",
         "domain": [
          0.88,
          1
         ]
        },
        "yaxis4": {
         "anchor": "x4",
         "domain": [
          0.66,
          0.78
         ]
        },
        "yaxis5": {
         "anchor": "x5",
         "domain": [
          0.66,
          0.78
         ]
        },
        "yaxis6": {
         "anchor": "x6",
         "domain": [
          0.66,
          0.78
         ]
        },
        "yaxis7": {
         "anchor": "x7",
         "domain": [
          0.44,
          0.56
         ]
        },
        "yaxis8": {
         "anchor": "x8",
         "domain": [
          0.44,
          0.56
         ]
        },
        "yaxis9": {
         "anchor": "x9",
         "domain": [
          0.44,
          0.56
         ]
        }
       }
      }
     },
     "metadata": {},
     "output_type": "display_data"
    }
   ],
   "source": [
    "titulos=tuple([\"TPH & HH TPH\", \"CC, recommendation HH CC, HH CC & LL CC\",\"granulometry\",\"SPI\",\"loss of TPH\",\"diff. HH TPH between TPH\",\n",
    "\"greater than HH CC\",\"greater than Rec HH CC\",\"Rec HH CC less than HH CC\",\"less than LL CC\",\"start loss tph\",\"end loss tph\",\"water\",\"speed\",\"solid percentage\"])\n",
    "fig = make_subplots(\n",
    "    rows=5, cols=3,\n",
    "    subplot_titles=titulos,\n",
    "    #subplot_titles=tuple(\"TPH y HH TPH,\"),\n",
    "     #shared_xaxes=True\n",
    "    )\n",
    "\n",
    "\n",
    "fig.add_trace(go.Scatter(x=data.index, y=data['TPH'], ##FF6511\n",
    "                    mode='lines',\n",
    "                    name=\"TPH\",line=dict(width=3, ),legendgroup = '1'),row=1, col=1)  \n",
    "\n",
    "fig.add_trace(go.Scatter(x=data.index, y=data['HH TPH'], ##FF6511\n",
    "                    mode='lines',\n",
    "                    name=\"HH TPH\",line=dict(width=3, ),legendgroup = '1'),row=1, col=1)  \n",
    "\n",
    "#fig.add_trace(go.Scatter(x=data.index, y=data[\"TPH predict\"], ##FF6511\n",
    "#                    mode='lines',\n",
    "#                    name=\"regressor model TPH\",line=dict(width=1,color=\"black\" ),legendgroup = '1'),row=1, col=1)  \n",
    "\n",
    "fig.add_trace(go.Scatter(x=data.index, y=data['charge cell'], \n",
    "                    mode='lines',\n",
    "                    name=\"charge cell\",line=dict(width=3, ),legendgroup = '1'),row=1, col=2)  \n",
    "\n",
    "\n",
    "\n",
    "fig.add_trace(go.Scatter(x=data.index, y=data['LL charge cell'], ##FF6511\n",
    "                    mode='lines',\n",
    "                    name=\"LL charge cell\",line=dict(width=3,),legendgroup = '1'),row=1, col=2)  \n",
    "\n",
    "fig.add_trace(go.Scatter(x=data.index, y=data['HH charge cell'], ##FF6511\n",
    "                    mode='lines',\n",
    "                    name=\"HH charge cell\",line=dict(width=3,),legendgroup = '1'),row=1, col=2)  \n",
    "\n",
    "fig.add_trace(go.Scatter(x=data.index, y=data[\"recommendation\"], ##FF6511\n",
    "                    mode='lines',\n",
    "                    name=\"recommendation HH CC\",line=dict(width=1,color=\"black\"),legendgroup = '1'),row=1, col=2)  \n",
    "\n",
    "fig.add_trace(go.Scatter(x=data.index, y=data['granulometry'], ##FF6511\n",
    "                    mode='lines',\n",
    "                    name='granulometry',line=dict(width=3,),legendgroup = '1'),row=1, col=3)  \n",
    "\n",
    "\n",
    "fig.add_trace(go.Scatter(x=data.index, y=data['sag power index'], ##FF6511\n",
    "                    mode='lines',\n",
    "                    name=\"sag power index\",line=dict(width=3, ),legendgroup = '1'),row=2, col=1)  \n",
    "\n",
    "\n",
    "\n",
    "fig.add_trace(go.Scatter(x=data.index, y=data['speed'], ##FF6511\n",
    "                    mode='lines',\n",
    "                    name=\"speed\",line=dict(width=3, ),legendgroup = '1'),row=5, col=2)  \n",
    "\n",
    "fig.add_trace(go.Scatter(x=data.index, y=data['solid percentage'], ##FF6511\n",
    "                    mode='lines',\n",
    "                    name='solid percentage',line=dict(width=3, ),legendgroup = '1'),row=5, col=3)  \n",
    "\n",
    "\n",
    "for i in range(1,6):\n",
    "   for j in range(1,4):\n",
    "        fig.update_xaxes(tickformat=\"%H:%M\",row=i, col=j)\n",
    "\n",
    "\n",
    "fig.add_trace(go.Scatter(x=data.index, y=data[ 'water'], ##FF6511\n",
    "                    mode='lines',\n",
    "                    name= 'water',line=dict(width=3, ),legendgroup = '1'),row=5, col=1)  \n",
    "\n",
    "\n",
    "\n",
    "fig.add_trace(go.Scatter(x=data.index, y=data[  'loss of TPH'], ##FF6511\n",
    "                    mode='lines',\n",
    "                    name=  'loss of TPH',line=dict(width=3, ),legendgroup = '1'),row=2, col=2)  \n",
    "\n",
    "\n",
    "fig.add_trace(go.Scatter(x=data.index, y=data[ \"dif_TPH_HH\"], ##FF6511\n",
    "                    mode='lines',\n",
    "                    name=  \"dif_TPH_HH\",line=dict(width=3, ),legendgroup = '1'),row=2, col=3)  \n",
    "\n",
    "\n",
    "fig.add_trace(go.Scatter(x=data.index, y=data[ 'greater than HH CC'], ##FF6511\n",
    "                    mode='lines',\n",
    "                    name=  'greater than HH CC',line=dict(width=3, ),legendgroup = '1'),row=3, col=1)  \n",
    "\n",
    "fig.add_trace(go.Scatter(x=data.index, y=data[ 'less than LL CC'], ##FF6511\n",
    "                    mode='lines',\n",
    "                    name=  'less than LL CC',line=dict(width=3, ),legendgroup = '1'),row=4, col=1)  \n",
    "\n",
    "\n",
    "fig.add_trace(go.Scatter(x=data.index, y=data[ 'start loss tph'], ##FF6511\n",
    "                    mode='lines',\n",
    "                    name=  'start loss tph',line=dict(width=3, ),legendgroup = '1'),row=4, col=2)  \n",
    "\n",
    "fig.add_trace(go.Scatter(x=data.index, y=data[ 'end loss tph'], ##FF6511\n",
    "                    mode='lines',\n",
    "                    name=  'end loss tph',line=dict(width=3, ),legendgroup = '1'),row=4, col=3)  \n",
    "\n",
    "fig.add_trace(go.Scatter(x=data.index, y=data[ 'greater than Rec HH CC'], ##FF6511\n",
    "                    mode='lines',\n",
    "                    name=  'greater than rec HH CC',line=dict(width=3, ),legendgroup = '1'),row=3, col=2)  \n",
    "\n",
    "fig.add_trace(go.Scatter(x=data.index, y=data[ \"Rec HH CC less than HH CC\"], ##FF6511\n",
    "                    mode='lines',\n",
    "                    name=  \"Rec HH CC less than HH CC\",line=dict(width=3, ),legendgroup = '1'),row=3, col=3)  \n",
    "fig.update_layout(height=1000, width=1500, title_text=\"Temporal signal analysis\")\n",
    "fig.update_layout(hovermode=\"x unified\")\n",
    "#\n",
    "\n",
    "fig.show()"
   ]
  }
 ],
 "metadata": {
  "kernelspec": {
   "display_name": "Python 3.9.6 ('Programacion_Cientifica')",
   "language": "python",
   "name": "python3"
  },
  "language_info": {
   "codemirror_mode": {
    "name": "ipython",
    "version": 3
   },
   "file_extension": ".py",
   "mimetype": "text/x-python",
   "name": "python",
   "nbconvert_exporter": "python",
   "pygments_lexer": "ipython3",
   "version": "3.9.6"
  },
  "orig_nbformat": 4,
  "vscode": {
   "interpreter": {
    "hash": "65e97ffa20fbdd895c76c3a1d2c2ade704754874d6e45df701862667e65d73d7"
   }
  }
 },
 "nbformat": 4,
 "nbformat_minor": 2
}
