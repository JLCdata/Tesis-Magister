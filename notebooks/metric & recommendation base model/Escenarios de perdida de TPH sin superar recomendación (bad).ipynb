{
 "cells": [
  {
   "cell_type": "code",
   "execution_count": 1,
   "metadata": {},
   "outputs": [],
   "source": [
    "import pandas as pd\n",
    "import numpy as np\n",
    "import matplotlib.pyplot as plt\n",
    "import seaborn as sns\n",
    "from datetime import datetime\n",
    "from datetime import timedelta\n",
    "import re\n",
    "from dateutil.parser import parse\n",
    "import string\n",
    "import warnings\n",
    "warnings.filterwarnings('ignore')\n",
    "import plotly.graph_objects as go\n",
    "import missingno as msno\n",
    "from plotly.subplots import make_subplots\n",
    "from sklearn.preprocessing import MinMaxScaler\n",
    "import scipy\n",
    "import researchpy as rp\n",
    "from matplotlib.offsetbox import AnchoredText\n",
    "import pacmap\n",
    "from sklearn.compose import ColumnTransformer\n",
    "from sklearn.cluster import KMeans\n",
    "from sklearn.pipeline import Pipeline\n",
    "import plotly.express as px\n",
    "import pickle\n",
    "import pmdarima as pm\n",
    "from ipywidgets import Button, HBox, VBox\n",
    "from ipywidgets import interactive\n",
    "import ipywidgets\n",
    "from sklearn.compose import ColumnTransformer\n",
    "from sklearn.cluster import KMeans\n",
    "from sklearn.pipeline import Pipeline\n",
    "import plotly.express as px\n",
    "from sklearn.metrics import r2_score\n",
    "from sklearn.preprocessing import StandardScaler\n",
    "from sklearn.ensemble import RandomForestRegressor\n",
    "from sklearn.model_selection import train_test_split \n",
    "import xgboost as xgb\n",
    "sns.set_style(\"darkgrid\")\n",
    "pd.set_option('display.max_columns', None)\n",
    "pd.options.display.max_colwidth = 100"
   ]
  },
  {
   "cell_type": "code",
   "execution_count": 2,
   "metadata": {},
   "outputs": [],
   "source": [
    "# Select first of vector of atollos cases (0) and append into DF:\n",
    "def inicio_perdida_tph(DF, variable):\n",
    "       first_case_atollo = [0]\n",
    "       for x in range(1, len(DF)):\n",
    "              if((DF.loc[DF.index[x], variable] == 1) & (DF.loc[DF.index[x-1], variable] == 0)):\n",
    "                     first_case_atollo.append(1)\n",
    "              else:\n",
    "                     first_case_atollo.append(0)\n",
    "       return first_case_atollo\n",
    "       \n",
    "# Select last of vector of atollos cases (0) and append into DF:\n",
    "def final_perdida_tph(DF, variable):\n",
    "       last_case_atollo = []\n",
    "       for x in range((len(DF)-1)):\n",
    "              if((DF.loc[DF.index[x], variable] == 1) & (DF.loc[DF.index[x+1], variable] == 0)):\n",
    "                     last_case_atollo.append(1)\n",
    "              else:\n",
    "                     last_case_atollo.append(0)\n",
    "       last_case_atollo.append(1)              \n",
    "       return last_case_atollo\n",
    "\n",
    "# Create function Atollo_mod: 0 when initial atollo; 2 when not initial atollo; 1 when no atollo:\n",
    "def loss_tph(DF,variable):\n",
    "    \n",
    "    DF['start loss tph']=inicio_perdida_tph(DF=DF, variable=variable)\n",
    "    DF['end loss tph']=final_perdida_tph(DF=DF, variable=variable)\n",
    "    #Create Atollo_mod:\n",
    "    variable_mod = str(variable+'_mod')    \n",
    "    DF[variable_mod] =  DF[variable].replace(1,2)   \n",
    "    DF.loc[DF['start loss tph']==1,variable_mod]=1\n",
    "    return DF"
   ]
  },
  {
   "cell_type": "code",
   "execution_count": 3,
   "metadata": {},
   "outputs": [],
   "source": [
    "# Se carga clasificador de mineralogia\n",
    "kmeans = pickle.load(open('..//..//models//pickles//Clasificador_dispatch_n_4.pkl', 'rb'))\n",
    "#kmeans.feature_names_in_\n",
    "# Se carga la curva de celda de carga v/s granulometria (dado un subcontexto)\n",
    "dicK = pickle.load(open('..//..//models//pickles//Curvas de celda de carga vs granulometria productivo actualizado.pkl', 'rb'))\n",
    "\n",
    "# Recomendación \n",
    "def recommendationcc(granulometria,edad_sag,cluster):\n",
    " \n",
    "    # Generación del subcontexto\n",
    "    subcontexto = str(int(edad_sag)) + str(int(cluster))\n",
    "   \n",
    "    # Obtención de la recomendación\n",
    "    consejo=dicK[subcontexto].loc[granulometria][\"cc\"]\n",
    "    \n",
    "    return consejo #pd.DataFrame({\"recommendation\":list(consejo)})"
   ]
  },
  {
   "cell_type": "code",
   "execution_count": 4,
   "metadata": {},
   "outputs": [],
   "source": [
    "# read\n",
    "tags=pd.read_excel(\"../../data/meta data/tags relevantes.xlsx\")\n",
    "tags_cc=tags.tag.to_list()\n",
    "dic={}\n",
    "for i,j in zip(tags.tag,tags.description):\n",
    "    dic[i]=j"
   ]
  },
  {
   "cell_type": "code",
   "execution_count": 5,
   "metadata": {},
   "outputs": [],
   "source": [
    "# Se lee csv\n",
    "liners_age=pd.read_csv('../../data/processed data/liners_age_30September2022.csv', parse_dates=['Timestamp'], index_col='Timestamp')\n",
    "# Se lee csv\n",
    "cleaned=pd.read_csv('../../data/processed data/cleaned_28September2022.csv', parse_dates=['Timestamp'], index_col='Timestamp')\n",
    "cleaned.sort_index(inplace=True)\n",
    "cleaned.rename(columns=dic,inplace=True)\n",
    "df_cleaned_age=cleaned.join(liners_age).dropna()\n",
    "df_cleaned_age[\"dif_TPH_HH\"]=df_cleaned_age[\"HH TPH\"]-df_cleaned_age[\"TPH\"]\n",
    "df_cleaned_age[\"dif_CC_HH\"]=df_cleaned_age[\"HH charge cell\"]-df_cleaned_age[\"charge cell\"]\n",
    "df_cleaned_age[\"dif_CC_LL\"]=df_cleaned_age[\"charge cell\"]-df_cleaned_age[\"LL charge cell\"]\n",
    "df_cleaned_age[\"loss of TPH\"]=df_cleaned_age[\"dif_TPH_HH\"].apply(lambda x: 1 if x>100 else 0)"
   ]
  },
  {
   "cell_type": "code",
   "execution_count": 6,
   "metadata": {},
   "outputs": [],
   "source": [
    "# Predict cluster\n",
    "df_cleaned_age[\"cluster\"]=kmeans.predict(df_cleaned_age[['crusher index',\n",
    "                                              'sag power index',\n",
    "                                               'ball work index',\n",
    "                                              'chalcopyrite law',\n",
    "                                              'pyrite law',\n",
    "                                              'chalcocite law',\n",
    "                                              'bornite law',\n",
    "                                              'covelin law']])"
   ]
  },
  {
   "cell_type": "code",
   "execution_count": 7,
   "metadata": {},
   "outputs": [],
   "source": [
    "# Recomendación \n",
    "Rec_HH_CC=df_cleaned_age.apply(lambda row: recommendationcc(\n",
    "                                              row[\"granulometry\"],\n",
    "                                            row[\"Edad\"],\n",
    "                                            row[\"cluster\"]\n",
    "                                                    ),axis=1)\n",
    "\n",
    "# Columna de recomendación\n",
    "df_cleaned_age[\"recommendation\"]=Rec_HH_CC"
   ]
  },
  {
   "cell_type": "code",
   "execution_count": 8,
   "metadata": {},
   "outputs": [],
   "source": [
    "# Información de perdida de TPH en los proximos 5 minutos\n",
    "for i in range(1,6):\n",
    "    df_cleaned_age[f\"loss of TPH_{i}\"]=df_cleaned_age[\"loss of TPH\"].shift(i)\n",
    "\n",
    "df_cleaned_age[\"greater than HH CC\"]=df_cleaned_age[\"dif_CC_HH\"].apply(lambda x: 0 if x>1 else 1)\n",
    "for i in range(1,6):\n",
    "    df_cleaned_age[f\"greater than HH CC_{i}\"]=df_cleaned_age[\"greater than HH CC\"].shift(i)\n",
    "\n",
    "df_cleaned_age[\"less than LL CC\"]=df_cleaned_age[\"dif_CC_LL\"].apply(lambda x: 0 if x>1 else 1)\n",
    "for i in range(1,6):\n",
    "    df_cleaned_age[f\"less than LL CC_{i}\"]=df_cleaned_age[\"less than LL CC\"].shift(i)\n",
    "\n",
    "df_cleaned_age[\"greater than Rec HH CC\"]=df_cleaned_age.apply(lambda x: 1 if x[\"recommendation\"]<=x[\"charge cell\"] else 0,axis=1)\n",
    "for i in range(1,6):\n",
    "    df_cleaned_age[f\"greater than Rec HH CC_{i}\"]=df_cleaned_age[\"greater than Rec HH CC\"].shift(i)\n",
    "\n",
    "df_cleaned_age[\"Rec HH CC less than HH CC\"]=df_cleaned_age.apply(lambda x: 1 if x[\"recommendation\"]<x[\"HH charge cell\"] else 0,axis=1)\n",
    "for i in range(1,6):\n",
    "    df_cleaned_age[f\"Rec HH CC less than HH CC_{i}\"]=df_cleaned_age[\"Rec HH CC less than HH CC\"].shift(i)"
   ]
  },
  {
   "cell_type": "code",
   "execution_count": 9,
   "metadata": {},
   "outputs": [
    {
     "data": {
      "text/html": [
       "<div>\n",
       "<style scoped>\n",
       "    .dataframe tbody tr th:only-of-type {\n",
       "        vertical-align: middle;\n",
       "    }\n",
       "\n",
       "    .dataframe tbody tr th {\n",
       "        vertical-align: top;\n",
       "    }\n",
       "\n",
       "    .dataframe thead th {\n",
       "        text-align: right;\n",
       "    }\n",
       "</style>\n",
       "<table border=\"1\" class=\"dataframe\">\n",
       "  <thead>\n",
       "    <tr style=\"text-align: right;\">\n",
       "      <th></th>\n",
       "      <th>sag mill expert system</th>\n",
       "      <th>Limitado por Límite Alto de Tonelaje</th>\n",
       "      <th>Optimizando tonelaje</th>\n",
       "      <th>Limitado por Peso</th>\n",
       "      <th>Limitado por Corriente Bobina</th>\n",
       "      <th>Limitado por torque espesador 2</th>\n",
       "      <th>Limitado por torque espesador 3</th>\n",
       "      <th>Limitado por Potencia Bolas 1</th>\n",
       "      <th>Limitado por Potencia Bolas 2</th>\n",
       "      <th>Limitado por Pebbles</th>\n",
       "      <th>Limitado por Corriente harnero</th>\n",
       "      <th>Limitado por Potencia SAG</th>\n",
       "      <th>Limitado por limite bajo de tonelaje</th>\n",
       "      <th>Limitado por Temperatura bobina</th>\n",
       "      <th>Limitado por presión espesador 2</th>\n",
       "      <th>Limitado por presión espesador 3</th>\n",
       "      <th>pyrite law</th>\n",
       "      <th>chalcopyrite law</th>\n",
       "      <th>chalcocite law</th>\n",
       "      <th>covelin law</th>\n",
       "      <th>crusher index</th>\n",
       "      <th>sag power index</th>\n",
       "      <th>ball work index</th>\n",
       "      <th>bornite law</th>\n",
       "      <th>torque</th>\n",
       "      <th>charge cell</th>\n",
       "      <th>power</th>\n",
       "      <th>TPH</th>\n",
       "      <th>solid percentage</th>\n",
       "      <th>water</th>\n",
       "      <th>speed</th>\n",
       "      <th>solid</th>\n",
       "      <th>LL charge cell</th>\n",
       "      <th>HH charge cell</th>\n",
       "      <th>HH TPH</th>\n",
       "      <th>stator current</th>\n",
       "      <th>granulometry</th>\n",
       "      <th>Edad</th>\n",
       "      <th>dif_TPH_HH</th>\n",
       "      <th>dif_CC_HH</th>\n",
       "      <th>dif_CC_LL</th>\n",
       "      <th>loss of TPH</th>\n",
       "      <th>cluster</th>\n",
       "      <th>recommendation</th>\n",
       "      <th>loss of TPH_1</th>\n",
       "      <th>loss of TPH_2</th>\n",
       "      <th>loss of TPH_3</th>\n",
       "      <th>loss of TPH_4</th>\n",
       "      <th>loss of TPH_5</th>\n",
       "      <th>greater than HH CC</th>\n",
       "      <th>greater than HH CC_1</th>\n",
       "      <th>greater than HH CC_2</th>\n",
       "      <th>greater than HH CC_3</th>\n",
       "      <th>greater than HH CC_4</th>\n",
       "      <th>greater than HH CC_5</th>\n",
       "      <th>less than LL CC</th>\n",
       "      <th>less than LL CC_1</th>\n",
       "      <th>less than LL CC_2</th>\n",
       "      <th>less than LL CC_3</th>\n",
       "      <th>less than LL CC_4</th>\n",
       "      <th>less than LL CC_5</th>\n",
       "      <th>greater than Rec HH CC</th>\n",
       "      <th>greater than Rec HH CC_1</th>\n",
       "      <th>greater than Rec HH CC_2</th>\n",
       "      <th>greater than Rec HH CC_3</th>\n",
       "      <th>greater than Rec HH CC_4</th>\n",
       "      <th>greater than Rec HH CC_5</th>\n",
       "      <th>Rec HH CC less than HH CC</th>\n",
       "      <th>Rec HH CC less than HH CC_1</th>\n",
       "      <th>Rec HH CC less than HH CC_2</th>\n",
       "      <th>Rec HH CC less than HH CC_3</th>\n",
       "      <th>Rec HH CC less than HH CC_4</th>\n",
       "      <th>Rec HH CC less than HH CC_5</th>\n",
       "      <th>start loss tph</th>\n",
       "      <th>end loss tph</th>\n",
       "      <th>loss of TPH_mod</th>\n",
       "    </tr>\n",
       "    <tr>\n",
       "      <th>Timestamp</th>\n",
       "      <th></th>\n",
       "      <th></th>\n",
       "      <th></th>\n",
       "      <th></th>\n",
       "      <th></th>\n",
       "      <th></th>\n",
       "      <th></th>\n",
       "      <th></th>\n",
       "      <th></th>\n",
       "      <th></th>\n",
       "      <th></th>\n",
       "      <th></th>\n",
       "      <th></th>\n",
       "      <th></th>\n",
       "      <th></th>\n",
       "      <th></th>\n",
       "      <th></th>\n",
       "      <th></th>\n",
       "      <th></th>\n",
       "      <th></th>\n",
       "      <th></th>\n",
       "      <th></th>\n",
       "      <th></th>\n",
       "      <th></th>\n",
       "      <th></th>\n",
       "      <th></th>\n",
       "      <th></th>\n",
       "      <th></th>\n",
       "      <th></th>\n",
       "      <th></th>\n",
       "      <th></th>\n",
       "      <th></th>\n",
       "      <th></th>\n",
       "      <th></th>\n",
       "      <th></th>\n",
       "      <th></th>\n",
       "      <th></th>\n",
       "      <th></th>\n",
       "      <th></th>\n",
       "      <th></th>\n",
       "      <th></th>\n",
       "      <th></th>\n",
       "      <th></th>\n",
       "      <th></th>\n",
       "      <th></th>\n",
       "      <th></th>\n",
       "      <th></th>\n",
       "      <th></th>\n",
       "      <th></th>\n",
       "      <th></th>\n",
       "      <th></th>\n",
       "      <th></th>\n",
       "      <th></th>\n",
       "      <th></th>\n",
       "      <th></th>\n",
       "      <th></th>\n",
       "      <th></th>\n",
       "      <th></th>\n",
       "      <th></th>\n",
       "      <th></th>\n",
       "      <th></th>\n",
       "      <th></th>\n",
       "      <th></th>\n",
       "      <th></th>\n",
       "      <th></th>\n",
       "      <th></th>\n",
       "      <th></th>\n",
       "      <th></th>\n",
       "      <th></th>\n",
       "      <th></th>\n",
       "      <th></th>\n",
       "      <th></th>\n",
       "      <th></th>\n",
       "      <th></th>\n",
       "      <th></th>\n",
       "      <th></th>\n",
       "    </tr>\n",
       "  </thead>\n",
       "  <tbody>\n",
       "    <tr>\n",
       "      <th>2020-01-10 04:05:00</th>\n",
       "      <td>1.0</td>\n",
       "      <td>1.0</td>\n",
       "      <td>0.0</td>\n",
       "      <td>0.0</td>\n",
       "      <td>0.0</td>\n",
       "      <td>0.0</td>\n",
       "      <td>0.0</td>\n",
       "      <td>0.0</td>\n",
       "      <td>0.0</td>\n",
       "      <td>0.0</td>\n",
       "      <td>0.0</td>\n",
       "      <td>0.0</td>\n",
       "      <td>0.0</td>\n",
       "      <td>0.0</td>\n",
       "      <td>0.0</td>\n",
       "      <td>0.0</td>\n",
       "      <td>2.3</td>\n",
       "      <td>1.76</td>\n",
       "      <td>0.5</td>\n",
       "      <td>0.02</td>\n",
       "      <td>19.7649</td>\n",
       "      <td>98.5569</td>\n",
       "      <td>15.4504</td>\n",
       "      <td>0.05</td>\n",
       "      <td>64.384706</td>\n",
       "      <td>809.23733</td>\n",
       "      <td>22008.766259</td>\n",
       "      <td>4317.030837</td>\n",
       "      <td>73.888038</td>\n",
       "      <td>1539.203093</td>\n",
       "      <td>9.063024</td>\n",
       "      <td>73.155012</td>\n",
       "      <td>770.0</td>\n",
       "      <td>850.0</td>\n",
       "      <td>3950.0</td>\n",
       "      <td>3755.398344</td>\n",
       "      <td>48.829422</td>\n",
       "      <td>1.0</td>\n",
       "      <td>-367.030837</td>\n",
       "      <td>40.76267</td>\n",
       "      <td>39.23733</td>\n",
       "      <td>0</td>\n",
       "      <td>2</td>\n",
       "      <td>892.044136</td>\n",
       "      <td>0.0</td>\n",
       "      <td>0.0</td>\n",
       "      <td>0.0</td>\n",
       "      <td>0.0</td>\n",
       "      <td>0.0</td>\n",
       "      <td>0</td>\n",
       "      <td>0.0</td>\n",
       "      <td>0.0</td>\n",
       "      <td>0.0</td>\n",
       "      <td>0.0</td>\n",
       "      <td>0.0</td>\n",
       "      <td>0</td>\n",
       "      <td>0.0</td>\n",
       "      <td>0.0</td>\n",
       "      <td>0.0</td>\n",
       "      <td>0.0</td>\n",
       "      <td>0.0</td>\n",
       "      <td>0</td>\n",
       "      <td>0.0</td>\n",
       "      <td>0.0</td>\n",
       "      <td>0.0</td>\n",
       "      <td>0.0</td>\n",
       "      <td>0.0</td>\n",
       "      <td>0</td>\n",
       "      <td>0.0</td>\n",
       "      <td>0.0</td>\n",
       "      <td>0.0</td>\n",
       "      <td>0.0</td>\n",
       "      <td>0.0</td>\n",
       "      <td>0</td>\n",
       "      <td>0</td>\n",
       "      <td>0</td>\n",
       "    </tr>\n",
       "  </tbody>\n",
       "</table>\n",
       "</div>"
      ],
      "text/plain": [
       "                     sag mill expert system  \\\n",
       "Timestamp                                     \n",
       "2020-01-10 04:05:00                     1.0   \n",
       "\n",
       "                     Limitado por Límite Alto de Tonelaje  \\\n",
       "Timestamp                                                   \n",
       "2020-01-10 04:05:00                                   1.0   \n",
       "\n",
       "                     Optimizando tonelaje  Limitado por Peso  \\\n",
       "Timestamp                                                      \n",
       "2020-01-10 04:05:00                   0.0                0.0   \n",
       "\n",
       "                     Limitado por Corriente Bobina  \\\n",
       "Timestamp                                            \n",
       "2020-01-10 04:05:00                            0.0   \n",
       "\n",
       "                     Limitado por torque espesador 2  \\\n",
       "Timestamp                                              \n",
       "2020-01-10 04:05:00                              0.0   \n",
       "\n",
       "                     Limitado por torque espesador 3  \\\n",
       "Timestamp                                              \n",
       "2020-01-10 04:05:00                              0.0   \n",
       "\n",
       "                     Limitado por Potencia Bolas 1  \\\n",
       "Timestamp                                            \n",
       "2020-01-10 04:05:00                            0.0   \n",
       "\n",
       "                     Limitado por Potencia Bolas 2  Limitado por Pebbles  \\\n",
       "Timestamp                                                                  \n",
       "2020-01-10 04:05:00                            0.0                   0.0   \n",
       "\n",
       "                     Limitado por Corriente harnero  \\\n",
       "Timestamp                                             \n",
       "2020-01-10 04:05:00                             0.0   \n",
       "\n",
       "                     Limitado por Potencia SAG  \\\n",
       "Timestamp                                        \n",
       "2020-01-10 04:05:00                        0.0   \n",
       "\n",
       "                     Limitado por limite bajo de tonelaje  \\\n",
       "Timestamp                                                   \n",
       "2020-01-10 04:05:00                                   0.0   \n",
       "\n",
       "                     Limitado por Temperatura bobina  \\\n",
       "Timestamp                                              \n",
       "2020-01-10 04:05:00                              0.0   \n",
       "\n",
       "                     Limitado por presión espesador 2  \\\n",
       "Timestamp                                               \n",
       "2020-01-10 04:05:00                               0.0   \n",
       "\n",
       "                     Limitado por presión espesador 3  pyrite law  \\\n",
       "Timestamp                                                           \n",
       "2020-01-10 04:05:00                               0.0         2.3   \n",
       "\n",
       "                     chalcopyrite law  chalcocite law  covelin law  \\\n",
       "Timestamp                                                            \n",
       "2020-01-10 04:05:00              1.76             0.5         0.02   \n",
       "\n",
       "                     crusher index  sag power index  ball work index  \\\n",
       "Timestamp                                                              \n",
       "2020-01-10 04:05:00        19.7649          98.5569          15.4504   \n",
       "\n",
       "                     bornite law     torque  charge cell         power  \\\n",
       "Timestamp                                                                \n",
       "2020-01-10 04:05:00         0.05  64.384706    809.23733  22008.766259   \n",
       "\n",
       "                             TPH  solid percentage        water     speed  \\\n",
       "Timestamp                                                                   \n",
       "2020-01-10 04:05:00  4317.030837         73.888038  1539.203093  9.063024   \n",
       "\n",
       "                         solid  LL charge cell  HH charge cell  HH TPH  \\\n",
       "Timestamp                                                                \n",
       "2020-01-10 04:05:00  73.155012           770.0           850.0  3950.0   \n",
       "\n",
       "                     stator current  granulometry  Edad  dif_TPH_HH  \\\n",
       "Timestamp                                                             \n",
       "2020-01-10 04:05:00     3755.398344     48.829422   1.0 -367.030837   \n",
       "\n",
       "                     dif_CC_HH  dif_CC_LL  loss of TPH  cluster  \\\n",
       "Timestamp                                                         \n",
       "2020-01-10 04:05:00   40.76267   39.23733            0        2   \n",
       "\n",
       "                     recommendation  loss of TPH_1  loss of TPH_2  \\\n",
       "Timestamp                                                           \n",
       "2020-01-10 04:05:00      892.044136            0.0            0.0   \n",
       "\n",
       "                     loss of TPH_3  loss of TPH_4  loss of TPH_5  \\\n",
       "Timestamp                                                          \n",
       "2020-01-10 04:05:00            0.0            0.0            0.0   \n",
       "\n",
       "                     greater than HH CC  greater than HH CC_1  \\\n",
       "Timestamp                                                       \n",
       "2020-01-10 04:05:00                   0                   0.0   \n",
       "\n",
       "                     greater than HH CC_2  greater than HH CC_3  \\\n",
       "Timestamp                                                         \n",
       "2020-01-10 04:05:00                   0.0                   0.0   \n",
       "\n",
       "                     greater than HH CC_4  greater than HH CC_5  \\\n",
       "Timestamp                                                         \n",
       "2020-01-10 04:05:00                   0.0                   0.0   \n",
       "\n",
       "                     less than LL CC  less than LL CC_1  less than LL CC_2  \\\n",
       "Timestamp                                                                    \n",
       "2020-01-10 04:05:00                0                0.0                0.0   \n",
       "\n",
       "                     less than LL CC_3  less than LL CC_4  less than LL CC_5  \\\n",
       "Timestamp                                                                      \n",
       "2020-01-10 04:05:00                0.0                0.0                0.0   \n",
       "\n",
       "                     greater than Rec HH CC  greater than Rec HH CC_1  \\\n",
       "Timestamp                                                               \n",
       "2020-01-10 04:05:00                       0                       0.0   \n",
       "\n",
       "                     greater than Rec HH CC_2  greater than Rec HH CC_3  \\\n",
       "Timestamp                                                                 \n",
       "2020-01-10 04:05:00                       0.0                       0.0   \n",
       "\n",
       "                     greater than Rec HH CC_4  greater than Rec HH CC_5  \\\n",
       "Timestamp                                                                 \n",
       "2020-01-10 04:05:00                       0.0                       0.0   \n",
       "\n",
       "                     Rec HH CC less than HH CC  Rec HH CC less than HH CC_1  \\\n",
       "Timestamp                                                                     \n",
       "2020-01-10 04:05:00                          0                          0.0   \n",
       "\n",
       "                     Rec HH CC less than HH CC_2  Rec HH CC less than HH CC_3  \\\n",
       "Timestamp                                                                       \n",
       "2020-01-10 04:05:00                          0.0                          0.0   \n",
       "\n",
       "                     Rec HH CC less than HH CC_4  Rec HH CC less than HH CC_5  \\\n",
       "Timestamp                                                                       \n",
       "2020-01-10 04:05:00                          0.0                          0.0   \n",
       "\n",
       "                     start loss tph  end loss tph  loss of TPH_mod  \n",
       "Timestamp                                                           \n",
       "2020-01-10 04:05:00               0             0                0  "
      ]
     },
     "execution_count": 9,
     "metadata": {},
     "output_type": "execute_result"
    }
   ],
   "source": [
    "df_cleaned_age.dropna(inplace=True)\n",
    "df_cleaned_age[\"loss of TPH\"]=df_cleaned_age.apply(lambda x: 1 if (x['loss of TPH_1']==1) or (x['loss of TPH_2']==1) or (x['loss of TPH_3']==1) or (x['loss of TPH_4']==1) or (x['loss of TPH_5']==1) else 0,axis=1)\n",
    "#df_cleaned_age[\"greater than HH CC\"]=df_cleaned_age.apply(lambda x: 1 if (x['greater than HH CC_1']==1) or (x['greater than HH CC_2']==1) or (x['greater than HH CC_3']==1) or (x['greater than HH CC_4']==1) or (x['greater than HH CC_5']==1) else 0,axis=1)\n",
    "#df_cleaned_age[\"less than LL CC\"]=df_cleaned_age.apply(lambda x: 1 if (x['less than LL CC_1']==1) or (x['less than LL CC_2']==1) or (x['less than LL CC_3']==1) or (x['less than LL CC_4']==1) or (x['less than LL CC_5']==1) else 0,axis=1)\n",
    "#df_cleaned_age[\"greater than Rec HH CC\"]=df_cleaned_age.apply(lambda x: 1 if (x['greater than Rec HH CC_1']==1) or (x['greater than Rec HH CC_2']==1) or (x['greater than Rec HH CC_3']==1) or (x['greater than Rec HH CC_4']==1) or (x['greater than Rec HH CC_5']==1) else 0,axis=1)\n",
    "#df_cleaned_age[\"Rec HH CC less than HH CC\"]=df_cleaned_age.apply(lambda x: 1 if (x['Rec HH CC less than HH CC_1']==1) or (x['Rec HH CC less than HH CC_2']==1) or (x['Rec HH CC less than HH CC_3']==1) or (x['Rec HH CC less than HH CC_4']==1) or (x['Rec HH CC less than HH CC_5']==1) else 0,axis=1)\n",
    "df_cleaned_age=loss_tph(df_cleaned_age,\"loss of TPH\")\n",
    "df_cleaned_age.head(1)"
   ]
  },
  {
   "cell_type": "code",
   "execution_count": 10,
   "metadata": {},
   "outputs": [],
   "source": [
    "# Se guarda en csv\n",
    "df_cleaned_age.to_csv('../data/consolidated data/df_full_'+pd.to_datetime('today').strftime('%d%B%Y')+'.csv', index=True)"
   ]
  },
  {
   "cell_type": "code",
   "execution_count": 5,
   "metadata": {},
   "outputs": [
    {
     "data": {
      "text/html": [
       "<div>\n",
       "<style scoped>\n",
       "    .dataframe tbody tr th:only-of-type {\n",
       "        vertical-align: middle;\n",
       "    }\n",
       "\n",
       "    .dataframe tbody tr th {\n",
       "        vertical-align: top;\n",
       "    }\n",
       "\n",
       "    .dataframe thead th {\n",
       "        text-align: right;\n",
       "    }\n",
       "</style>\n",
       "<table border=\"1\" class=\"dataframe\">\n",
       "  <thead>\n",
       "    <tr style=\"text-align: right;\">\n",
       "      <th></th>\n",
       "      <th>sag mill expert system</th>\n",
       "      <th>Limitado por Límite Alto de Tonelaje</th>\n",
       "      <th>Optimizando tonelaje</th>\n",
       "      <th>Limitado por Peso</th>\n",
       "      <th>Limitado por Corriente Bobina</th>\n",
       "      <th>Limitado por torque espesador 2</th>\n",
       "      <th>Limitado por torque espesador 3</th>\n",
       "      <th>Limitado por Potencia Bolas 1</th>\n",
       "      <th>Limitado por Potencia Bolas 2</th>\n",
       "      <th>Limitado por Pebbles</th>\n",
       "      <th>Limitado por Corriente harnero</th>\n",
       "      <th>Limitado por Potencia SAG</th>\n",
       "      <th>Limitado por limite bajo de tonelaje</th>\n",
       "      <th>Limitado por Temperatura bobina</th>\n",
       "      <th>Limitado por presión espesador 2</th>\n",
       "      <th>Limitado por presión espesador 3</th>\n",
       "      <th>pyrite law</th>\n",
       "      <th>chalcopyrite law</th>\n",
       "      <th>chalcocite law</th>\n",
       "      <th>covelin law</th>\n",
       "      <th>crusher index</th>\n",
       "      <th>sag power index</th>\n",
       "      <th>ball work index</th>\n",
       "      <th>bornite law</th>\n",
       "      <th>torque</th>\n",
       "      <th>charge cell</th>\n",
       "      <th>power</th>\n",
       "      <th>TPH</th>\n",
       "      <th>solid percentage</th>\n",
       "      <th>water</th>\n",
       "      <th>speed</th>\n",
       "      <th>solid</th>\n",
       "      <th>LL charge cell</th>\n",
       "      <th>HH charge cell</th>\n",
       "      <th>HH TPH</th>\n",
       "      <th>stator current</th>\n",
       "      <th>granulometry</th>\n",
       "      <th>Edad</th>\n",
       "      <th>dif_TPH_HH</th>\n",
       "      <th>dif_CC_HH</th>\n",
       "      <th>dif_CC_LL</th>\n",
       "      <th>loss of TPH</th>\n",
       "      <th>cluster</th>\n",
       "      <th>recommendation</th>\n",
       "      <th>loss of TPH_1</th>\n",
       "      <th>loss of TPH_2</th>\n",
       "      <th>loss of TPH_3</th>\n",
       "      <th>loss of TPH_4</th>\n",
       "      <th>loss of TPH_5</th>\n",
       "      <th>greater than HH CC</th>\n",
       "      <th>greater than HH CC_1</th>\n",
       "      <th>greater than HH CC_2</th>\n",
       "      <th>greater than HH CC_3</th>\n",
       "      <th>greater than HH CC_4</th>\n",
       "      <th>greater than HH CC_5</th>\n",
       "      <th>less than LL CC</th>\n",
       "      <th>less than LL CC_1</th>\n",
       "      <th>less than LL CC_2</th>\n",
       "      <th>less than LL CC_3</th>\n",
       "      <th>less than LL CC_4</th>\n",
       "      <th>less than LL CC_5</th>\n",
       "      <th>greater than Rec HH CC</th>\n",
       "      <th>greater than Rec HH CC_1</th>\n",
       "      <th>greater than Rec HH CC_2</th>\n",
       "      <th>greater than Rec HH CC_3</th>\n",
       "      <th>greater than Rec HH CC_4</th>\n",
       "      <th>greater than Rec HH CC_5</th>\n",
       "      <th>Rec HH CC less than HH CC</th>\n",
       "      <th>Rec HH CC less than HH CC_1</th>\n",
       "      <th>Rec HH CC less than HH CC_2</th>\n",
       "      <th>Rec HH CC less than HH CC_3</th>\n",
       "      <th>Rec HH CC less than HH CC_4</th>\n",
       "      <th>Rec HH CC less than HH CC_5</th>\n",
       "      <th>start loss tph</th>\n",
       "      <th>end loss tph</th>\n",
       "      <th>loss of TPH_mod</th>\n",
       "    </tr>\n",
       "    <tr>\n",
       "      <th>Timestamp</th>\n",
       "      <th></th>\n",
       "      <th></th>\n",
       "      <th></th>\n",
       "      <th></th>\n",
       "      <th></th>\n",
       "      <th></th>\n",
       "      <th></th>\n",
       "      <th></th>\n",
       "      <th></th>\n",
       "      <th></th>\n",
       "      <th></th>\n",
       "      <th></th>\n",
       "      <th></th>\n",
       "      <th></th>\n",
       "      <th></th>\n",
       "      <th></th>\n",
       "      <th></th>\n",
       "      <th></th>\n",
       "      <th></th>\n",
       "      <th></th>\n",
       "      <th></th>\n",
       "      <th></th>\n",
       "      <th></th>\n",
       "      <th></th>\n",
       "      <th></th>\n",
       "      <th></th>\n",
       "      <th></th>\n",
       "      <th></th>\n",
       "      <th></th>\n",
       "      <th></th>\n",
       "      <th></th>\n",
       "      <th></th>\n",
       "      <th></th>\n",
       "      <th></th>\n",
       "      <th></th>\n",
       "      <th></th>\n",
       "      <th></th>\n",
       "      <th></th>\n",
       "      <th></th>\n",
       "      <th></th>\n",
       "      <th></th>\n",
       "      <th></th>\n",
       "      <th></th>\n",
       "      <th></th>\n",
       "      <th></th>\n",
       "      <th></th>\n",
       "      <th></th>\n",
       "      <th></th>\n",
       "      <th></th>\n",
       "      <th></th>\n",
       "      <th></th>\n",
       "      <th></th>\n",
       "      <th></th>\n",
       "      <th></th>\n",
       "      <th></th>\n",
       "      <th></th>\n",
       "      <th></th>\n",
       "      <th></th>\n",
       "      <th></th>\n",
       "      <th></th>\n",
       "      <th></th>\n",
       "      <th></th>\n",
       "      <th></th>\n",
       "      <th></th>\n",
       "      <th></th>\n",
       "      <th></th>\n",
       "      <th></th>\n",
       "      <th></th>\n",
       "      <th></th>\n",
       "      <th></th>\n",
       "      <th></th>\n",
       "      <th></th>\n",
       "      <th></th>\n",
       "      <th></th>\n",
       "      <th></th>\n",
       "      <th></th>\n",
       "    </tr>\n",
       "  </thead>\n",
       "  <tbody>\n",
       "    <tr>\n",
       "      <th>2020-01-10 04:05:00</th>\n",
       "      <td>1.0</td>\n",
       "      <td>1.0</td>\n",
       "      <td>0.0</td>\n",
       "      <td>0.0</td>\n",
       "      <td>0.0</td>\n",
       "      <td>0.0</td>\n",
       "      <td>0.0</td>\n",
       "      <td>0.0</td>\n",
       "      <td>0.0</td>\n",
       "      <td>0.0</td>\n",
       "      <td>0.0</td>\n",
       "      <td>0.0</td>\n",
       "      <td>0.0</td>\n",
       "      <td>0.0</td>\n",
       "      <td>0.0</td>\n",
       "      <td>0.0</td>\n",
       "      <td>2.3</td>\n",
       "      <td>1.76</td>\n",
       "      <td>0.5</td>\n",
       "      <td>0.02</td>\n",
       "      <td>19.7649</td>\n",
       "      <td>98.5569</td>\n",
       "      <td>15.4504</td>\n",
       "      <td>0.05</td>\n",
       "      <td>64.384706</td>\n",
       "      <td>809.23733</td>\n",
       "      <td>22008.766259</td>\n",
       "      <td>4317.030837</td>\n",
       "      <td>73.888038</td>\n",
       "      <td>1539.203093</td>\n",
       "      <td>9.063024</td>\n",
       "      <td>73.155012</td>\n",
       "      <td>770.0</td>\n",
       "      <td>850.0</td>\n",
       "      <td>3950.0</td>\n",
       "      <td>3755.398344</td>\n",
       "      <td>48.829422</td>\n",
       "      <td>1.0</td>\n",
       "      <td>-367.030837</td>\n",
       "      <td>40.76267</td>\n",
       "      <td>39.23733</td>\n",
       "      <td>0</td>\n",
       "      <td>2</td>\n",
       "      <td>892.044136</td>\n",
       "      <td>0.0</td>\n",
       "      <td>0.0</td>\n",
       "      <td>0.0</td>\n",
       "      <td>0.0</td>\n",
       "      <td>0.0</td>\n",
       "      <td>0</td>\n",
       "      <td>0.0</td>\n",
       "      <td>0.0</td>\n",
       "      <td>0.0</td>\n",
       "      <td>0.0</td>\n",
       "      <td>0.0</td>\n",
       "      <td>0</td>\n",
       "      <td>0.0</td>\n",
       "      <td>0.0</td>\n",
       "      <td>0.0</td>\n",
       "      <td>0.0</td>\n",
       "      <td>0.0</td>\n",
       "      <td>0</td>\n",
       "      <td>0.0</td>\n",
       "      <td>0.0</td>\n",
       "      <td>0.0</td>\n",
       "      <td>0.0</td>\n",
       "      <td>0.0</td>\n",
       "      <td>0</td>\n",
       "      <td>0.0</td>\n",
       "      <td>0.0</td>\n",
       "      <td>0.0</td>\n",
       "      <td>0.0</td>\n",
       "      <td>0.0</td>\n",
       "      <td>0</td>\n",
       "      <td>0</td>\n",
       "      <td>0</td>\n",
       "    </tr>\n",
       "  </tbody>\n",
       "</table>\n",
       "</div>"
      ],
      "text/plain": [
       "                     sag mill expert system  \\\n",
       "Timestamp                                     \n",
       "2020-01-10 04:05:00                     1.0   \n",
       "\n",
       "                     Limitado por Límite Alto de Tonelaje  \\\n",
       "Timestamp                                                   \n",
       "2020-01-10 04:05:00                                   1.0   \n",
       "\n",
       "                     Optimizando tonelaje  Limitado por Peso  \\\n",
       "Timestamp                                                      \n",
       "2020-01-10 04:05:00                   0.0                0.0   \n",
       "\n",
       "                     Limitado por Corriente Bobina  \\\n",
       "Timestamp                                            \n",
       "2020-01-10 04:05:00                            0.0   \n",
       "\n",
       "                     Limitado por torque espesador 2  \\\n",
       "Timestamp                                              \n",
       "2020-01-10 04:05:00                              0.0   \n",
       "\n",
       "                     Limitado por torque espesador 3  \\\n",
       "Timestamp                                              \n",
       "2020-01-10 04:05:00                              0.0   \n",
       "\n",
       "                     Limitado por Potencia Bolas 1  \\\n",
       "Timestamp                                            \n",
       "2020-01-10 04:05:00                            0.0   \n",
       "\n",
       "                     Limitado por Potencia Bolas 2  Limitado por Pebbles  \\\n",
       "Timestamp                                                                  \n",
       "2020-01-10 04:05:00                            0.0                   0.0   \n",
       "\n",
       "                     Limitado por Corriente harnero  \\\n",
       "Timestamp                                             \n",
       "2020-01-10 04:05:00                             0.0   \n",
       "\n",
       "                     Limitado por Potencia SAG  \\\n",
       "Timestamp                                        \n",
       "2020-01-10 04:05:00                        0.0   \n",
       "\n",
       "                     Limitado por limite bajo de tonelaje  \\\n",
       "Timestamp                                                   \n",
       "2020-01-10 04:05:00                                   0.0   \n",
       "\n",
       "                     Limitado por Temperatura bobina  \\\n",
       "Timestamp                                              \n",
       "2020-01-10 04:05:00                              0.0   \n",
       "\n",
       "                     Limitado por presión espesador 2  \\\n",
       "Timestamp                                               \n",
       "2020-01-10 04:05:00                               0.0   \n",
       "\n",
       "                     Limitado por presión espesador 3  pyrite law  \\\n",
       "Timestamp                                                           \n",
       "2020-01-10 04:05:00                               0.0         2.3   \n",
       "\n",
       "                     chalcopyrite law  chalcocite law  covelin law  \\\n",
       "Timestamp                                                            \n",
       "2020-01-10 04:05:00              1.76             0.5         0.02   \n",
       "\n",
       "                     crusher index  sag power index  ball work index  \\\n",
       "Timestamp                                                              \n",
       "2020-01-10 04:05:00        19.7649          98.5569          15.4504   \n",
       "\n",
       "                     bornite law     torque  charge cell         power  \\\n",
       "Timestamp                                                                \n",
       "2020-01-10 04:05:00         0.05  64.384706    809.23733  22008.766259   \n",
       "\n",
       "                             TPH  solid percentage        water     speed  \\\n",
       "Timestamp                                                                   \n",
       "2020-01-10 04:05:00  4317.030837         73.888038  1539.203093  9.063024   \n",
       "\n",
       "                         solid  LL charge cell  HH charge cell  HH TPH  \\\n",
       "Timestamp                                                                \n",
       "2020-01-10 04:05:00  73.155012           770.0           850.0  3950.0   \n",
       "\n",
       "                     stator current  granulometry  Edad  dif_TPH_HH  \\\n",
       "Timestamp                                                             \n",
       "2020-01-10 04:05:00     3755.398344     48.829422   1.0 -367.030837   \n",
       "\n",
       "                     dif_CC_HH  dif_CC_LL  loss of TPH  cluster  \\\n",
       "Timestamp                                                         \n",
       "2020-01-10 04:05:00   40.76267   39.23733            0        2   \n",
       "\n",
       "                     recommendation  loss of TPH_1  loss of TPH_2  \\\n",
       "Timestamp                                                           \n",
       "2020-01-10 04:05:00      892.044136            0.0            0.0   \n",
       "\n",
       "                     loss of TPH_3  loss of TPH_4  loss of TPH_5  \\\n",
       "Timestamp                                                          \n",
       "2020-01-10 04:05:00            0.0            0.0            0.0   \n",
       "\n",
       "                     greater than HH CC  greater than HH CC_1  \\\n",
       "Timestamp                                                       \n",
       "2020-01-10 04:05:00                   0                   0.0   \n",
       "\n",
       "                     greater than HH CC_2  greater than HH CC_3  \\\n",
       "Timestamp                                                         \n",
       "2020-01-10 04:05:00                   0.0                   0.0   \n",
       "\n",
       "                     greater than HH CC_4  greater than HH CC_5  \\\n",
       "Timestamp                                                         \n",
       "2020-01-10 04:05:00                   0.0                   0.0   \n",
       "\n",
       "                     less than LL CC  less than LL CC_1  less than LL CC_2  \\\n",
       "Timestamp                                                                    \n",
       "2020-01-10 04:05:00                0                0.0                0.0   \n",
       "\n",
       "                     less than LL CC_3  less than LL CC_4  less than LL CC_5  \\\n",
       "Timestamp                                                                      \n",
       "2020-01-10 04:05:00                0.0                0.0                0.0   \n",
       "\n",
       "                     greater than Rec HH CC  greater than Rec HH CC_1  \\\n",
       "Timestamp                                                               \n",
       "2020-01-10 04:05:00                       0                       0.0   \n",
       "\n",
       "                     greater than Rec HH CC_2  greater than Rec HH CC_3  \\\n",
       "Timestamp                                                                 \n",
       "2020-01-10 04:05:00                       0.0                       0.0   \n",
       "\n",
       "                     greater than Rec HH CC_4  greater than Rec HH CC_5  \\\n",
       "Timestamp                                                                 \n",
       "2020-01-10 04:05:00                       0.0                       0.0   \n",
       "\n",
       "                     Rec HH CC less than HH CC  Rec HH CC less than HH CC_1  \\\n",
       "Timestamp                                                                     \n",
       "2020-01-10 04:05:00                          0                          0.0   \n",
       "\n",
       "                     Rec HH CC less than HH CC_2  Rec HH CC less than HH CC_3  \\\n",
       "Timestamp                                                                       \n",
       "2020-01-10 04:05:00                          0.0                          0.0   \n",
       "\n",
       "                     Rec HH CC less than HH CC_4  Rec HH CC less than HH CC_5  \\\n",
       "Timestamp                                                                       \n",
       "2020-01-10 04:05:00                          0.0                          0.0   \n",
       "\n",
       "                     start loss tph  end loss tph  loss of TPH_mod  \n",
       "Timestamp                                                           \n",
       "2020-01-10 04:05:00               0             0                0  "
      ]
     },
     "execution_count": 5,
     "metadata": {},
     "output_type": "execute_result"
    }
   ],
   "source": [
    "# read df full csv\n",
    "df_full=pd.read_csv('../../data/consolidated data/df_full_01November2022.csv', parse_dates=['Timestamp'], index_col='Timestamp')\n",
    "df_full.head(1)"
   ]
  },
  {
   "cell_type": "code",
   "execution_count": 6,
   "metadata": {},
   "outputs": [
    {
     "data": {
      "text/plain": [
       "4744"
      ]
     },
     "execution_count": 6,
     "metadata": {},
     "output_type": "execute_result"
    }
   ],
   "source": [
    "len(df_full[df_full[\"start loss tph\"]==1].index)"
   ]
  },
  {
   "cell_type": "code",
   "execution_count": 7,
   "metadata": {},
   "outputs": [],
   "source": [
    "list_df=[]\n",
    "for i in df_full[df_full[\"start loss tph\"]==1].index:\n",
    "    try:\n",
    "        #i=\"2022-02-27 12:31:00\"\n",
    "        inicio_perdida=i\n",
    "        test=df_full[inicio_perdida:inicio_perdida+timedelta(hours=5)]\n",
    "        fin_perdida=min(test[(test[\"end loss tph\"]==1)].index)+timedelta(minutes=1)\n",
    "        inicio_evento=inicio_perdida-timedelta(minutes=5)\n",
    "        data=df_full.copy()[inicio_evento:fin_perdida]\n",
    "        #display(data)\n",
    "        dic_df={\"inicio evento\":inicio_evento,\"inicio perdida\":inicio_perdida,\"fin perdida\":fin_perdida,\"variación HH TPH\":data[\"HH TPH\"].std()!=0,\"Actua sistema de control\":any(data[\"greater than HH CC\"]==1),\n",
    "        \"Supera recomendación del modelo\":any(data[\"greater than Rec HH CC\"]==1),\"Recomendación menor a HH CC\":any(data[\"Rec HH CC less than HH CC\"]==1),\"CC menor a LL CC\":any(data[\"less than LL CC\"]==1),\n",
    "        \"Causalidad\":any(data[data[\"greater than Rec HH CC\"]==1].index<=inicio_perdida)}\n",
    "        list_df.append(pd.DataFrame(dic_df,index=[1]))  \n",
    "    except:\n",
    "        #print(i)\n",
    "        pass"
   ]
  },
  {
   "cell_type": "code",
   "execution_count": 8,
   "metadata": {},
   "outputs": [
    {
     "data": {
      "text/html": [
       "<div>\n",
       "<style scoped>\n",
       "    .dataframe tbody tr th:only-of-type {\n",
       "        vertical-align: middle;\n",
       "    }\n",
       "\n",
       "    .dataframe tbody tr th {\n",
       "        vertical-align: top;\n",
       "    }\n",
       "\n",
       "    .dataframe thead th {\n",
       "        text-align: right;\n",
       "    }\n",
       "</style>\n",
       "<table border=\"1\" class=\"dataframe\">\n",
       "  <thead>\n",
       "    <tr style=\"text-align: right;\">\n",
       "      <th></th>\n",
       "      <th>inicio evento</th>\n",
       "      <th>inicio perdida</th>\n",
       "      <th>fin perdida</th>\n",
       "      <th>variación HH TPH</th>\n",
       "      <th>Actua sistema de control</th>\n",
       "      <th>Supera recomendación del modelo</th>\n",
       "      <th>Recomendación menor a HH CC</th>\n",
       "      <th>CC menor a LL CC</th>\n",
       "      <th>Causalidad</th>\n",
       "    </tr>\n",
       "  </thead>\n",
       "  <tbody>\n",
       "    <tr>\n",
       "      <th>0</th>\n",
       "      <td>2020-01-10 05:23:00</td>\n",
       "      <td>2020-01-10 05:28:00</td>\n",
       "      <td>2020-01-10 05:35:00</td>\n",
       "      <td>True</td>\n",
       "      <td>False</td>\n",
       "      <td>False</td>\n",
       "      <td>False</td>\n",
       "      <td>False</td>\n",
       "      <td>False</td>\n",
       "    </tr>\n",
       "    <tr>\n",
       "      <th>1</th>\n",
       "      <td>2020-01-10 07:05:00</td>\n",
       "      <td>2020-01-10 07:10:00</td>\n",
       "      <td>2020-01-10 08:41:00</td>\n",
       "      <td>False</td>\n",
       "      <td>True</td>\n",
       "      <td>False</td>\n",
       "      <td>False</td>\n",
       "      <td>False</td>\n",
       "      <td>False</td>\n",
       "    </tr>\n",
       "    <tr>\n",
       "      <th>2</th>\n",
       "      <td>2020-01-10 09:05:00</td>\n",
       "      <td>2020-01-10 09:10:00</td>\n",
       "      <td>2020-01-10 10:16:00</td>\n",
       "      <td>False</td>\n",
       "      <td>True</td>\n",
       "      <td>False</td>\n",
       "      <td>False</td>\n",
       "      <td>False</td>\n",
       "      <td>False</td>\n",
       "    </tr>\n",
       "    <tr>\n",
       "      <th>3</th>\n",
       "      <td>2020-01-10 10:15:00</td>\n",
       "      <td>2020-01-10 10:20:00</td>\n",
       "      <td>2020-01-10 11:08:00</td>\n",
       "      <td>False</td>\n",
       "      <td>True</td>\n",
       "      <td>True</td>\n",
       "      <td>True</td>\n",
       "      <td>False</td>\n",
       "      <td>False</td>\n",
       "    </tr>\n",
       "    <tr>\n",
       "      <th>4</th>\n",
       "      <td>2020-01-14 03:54:00</td>\n",
       "      <td>2020-01-14 03:59:00</td>\n",
       "      <td>2020-01-14 04:31:00</td>\n",
       "      <td>False</td>\n",
       "      <td>True</td>\n",
       "      <td>False</td>\n",
       "      <td>False</td>\n",
       "      <td>False</td>\n",
       "      <td>False</td>\n",
       "    </tr>\n",
       "  </tbody>\n",
       "</table>\n",
       "</div>"
      ],
      "text/plain": [
       "        inicio evento      inicio perdida         fin perdida  \\\n",
       "0 2020-01-10 05:23:00 2020-01-10 05:28:00 2020-01-10 05:35:00   \n",
       "1 2020-01-10 07:05:00 2020-01-10 07:10:00 2020-01-10 08:41:00   \n",
       "2 2020-01-10 09:05:00 2020-01-10 09:10:00 2020-01-10 10:16:00   \n",
       "3 2020-01-10 10:15:00 2020-01-10 10:20:00 2020-01-10 11:08:00   \n",
       "4 2020-01-14 03:54:00 2020-01-14 03:59:00 2020-01-14 04:31:00   \n",
       "\n",
       "   variación HH TPH  Actua sistema de control  \\\n",
       "0              True                     False   \n",
       "1             False                      True   \n",
       "2             False                      True   \n",
       "3             False                      True   \n",
       "4             False                      True   \n",
       "\n",
       "   Supera recomendación del modelo  Recomendación menor a HH CC  \\\n",
       "0                            False                        False   \n",
       "1                            False                        False   \n",
       "2                            False                        False   \n",
       "3                             True                         True   \n",
       "4                            False                        False   \n",
       "\n",
       "   CC menor a LL CC  Causalidad  \n",
       "0             False       False  \n",
       "1             False       False  \n",
       "2             False       False  \n",
       "3             False       False  \n",
       "4             False       False  "
      ]
     },
     "execution_count": 8,
     "metadata": {},
     "output_type": "execute_result"
    }
   ],
   "source": [
    "df_tph_loss=pd.concat(list_df).reset_index(drop=True)\n",
    "df_tph_loss.head()"
   ]
  },
  {
   "cell_type": "code",
   "execution_count": 11,
   "metadata": {},
   "outputs": [
    {
     "data": {
      "application/vnd.plotly.v1+json": {
       "config": {
        "plotlyServerURL": "https://plot.ly"
       },
       "data": [
        {
         "legendgroup": "1",
         "line": {
          "width": 3
         },
         "mode": "lines",
         "name": "TPH",
         "type": "scatter",
         "x": [
          "2020-02-05T10:33:00",
          "2020-02-05T10:34:00",
          "2020-02-05T10:35:00",
          "2020-02-05T10:36:00",
          "2020-02-05T10:37:00",
          "2020-02-05T10:38:00",
          "2020-02-05T10:39:00",
          "2020-02-05T10:40:00",
          "2020-02-05T10:41:00",
          "2020-02-05T10:42:00",
          "2020-02-05T10:43:00",
          "2020-02-05T10:44:00"
         ],
         "xaxis": "x",
         "y": [
          4054.506981477228,
          4088.326730056322,
          4073.9799047962974,
          4009.499459041472,
          4017.597969176005,
          3979.7370588377753,
          4027.770970912514,
          4006.6328539738006,
          4057.442293815519,
          4054.26342080093,
          4074.321223810516,
          4012.219123672549
         ],
         "yaxis": "y"
        },
        {
         "legendgroup": "1",
         "line": {
          "width": 3
         },
         "mode": "lines",
         "name": "HH TPH",
         "type": "scatter",
         "x": [
          "2020-02-05T10:33:00",
          "2020-02-05T10:34:00",
          "2020-02-05T10:35:00",
          "2020-02-05T10:36:00",
          "2020-02-05T10:37:00",
          "2020-02-05T10:38:00",
          "2020-02-05T10:39:00",
          "2020-02-05T10:40:00",
          "2020-02-05T10:41:00",
          "2020-02-05T10:42:00",
          "2020-02-05T10:43:00",
          "2020-02-05T10:44:00"
         ],
         "xaxis": "x",
         "y": [
          4100,
          4100,
          4100,
          4100,
          4100,
          4100,
          4100,
          4100,
          4100,
          4100,
          4100,
          4100
         ],
         "yaxis": "y"
        },
        {
         "legendgroup": "1",
         "line": {
          "width": 3
         },
         "mode": "lines",
         "name": "charge cell",
         "type": "scatter",
         "x": [
          "2020-02-05T10:33:00",
          "2020-02-05T10:34:00",
          "2020-02-05T10:35:00",
          "2020-02-05T10:36:00",
          "2020-02-05T10:37:00",
          "2020-02-05T10:38:00",
          "2020-02-05T10:39:00",
          "2020-02-05T10:40:00",
          "2020-02-05T10:41:00",
          "2020-02-05T10:42:00",
          "2020-02-05T10:43:00",
          "2020-02-05T10:44:00"
         ],
         "xaxis": "x2",
         "y": [
          762.5993076710696,
          764.7770277675833,
          767.3753956090734,
          768.0441349800199,
          766.7941537793215,
          764.9508972472354,
          762.8256728451009,
          763.3469878113636,
          765.0469481809006,
          767.4593700987662,
          769.2500319812514,
          770.1864870492244
         ],
         "yaxis": "y2"
        },
        {
         "legendgroup": "1",
         "line": {
          "width": 3
         },
         "mode": "lines",
         "name": "LL charge cell",
         "type": "scatter",
         "x": [
          "2020-02-05T10:33:00",
          "2020-02-05T10:34:00",
          "2020-02-05T10:35:00",
          "2020-02-05T10:36:00",
          "2020-02-05T10:37:00",
          "2020-02-05T10:38:00",
          "2020-02-05T10:39:00",
          "2020-02-05T10:40:00",
          "2020-02-05T10:41:00",
          "2020-02-05T10:42:00",
          "2020-02-05T10:43:00",
          "2020-02-05T10:44:00"
         ],
         "xaxis": "x2",
         "y": [
          720,
          720,
          720,
          720,
          720,
          720,
          720,
          720,
          720,
          720,
          720,
          720
         ],
         "yaxis": "y2"
        },
        {
         "legendgroup": "1",
         "line": {
          "width": 3
         },
         "mode": "lines",
         "name": "HH charge cell",
         "type": "scatter",
         "x": [
          "2020-02-05T10:33:00",
          "2020-02-05T10:34:00",
          "2020-02-05T10:35:00",
          "2020-02-05T10:36:00",
          "2020-02-05T10:37:00",
          "2020-02-05T10:38:00",
          "2020-02-05T10:39:00",
          "2020-02-05T10:40:00",
          "2020-02-05T10:41:00",
          "2020-02-05T10:42:00",
          "2020-02-05T10:43:00",
          "2020-02-05T10:44:00"
         ],
         "xaxis": "x2",
         "y": [
          800,
          800,
          800,
          800,
          800,
          800,
          800,
          800,
          800,
          800,
          800,
          800
         ],
         "yaxis": "y2"
        },
        {
         "legendgroup": "1",
         "line": {
          "color": "black",
          "width": 1
         },
         "mode": "lines",
         "name": "recommendation HH CC",
         "type": "scatter",
         "x": [
          "2020-02-05T10:33:00",
          "2020-02-05T10:34:00",
          "2020-02-05T10:35:00",
          "2020-02-05T10:36:00",
          "2020-02-05T10:37:00",
          "2020-02-05T10:38:00",
          "2020-02-05T10:39:00",
          "2020-02-05T10:40:00",
          "2020-02-05T10:41:00",
          "2020-02-05T10:42:00",
          "2020-02-05T10:43:00",
          "2020-02-05T10:44:00"
         ],
         "xaxis": "x2",
         "y": [
          914.5042412434514,
          914.5042412434514,
          914.5042412434514,
          919.1224132695882,
          919.1224132695882,
          919.1224132695882,
          919.1224132695882,
          919.1224132695882,
          919.1224132695882,
          919.1224132695882,
          919.1224132695882,
          919.1224132695882
         ],
         "yaxis": "y2"
        },
        {
         "legendgroup": "1",
         "line": {
          "width": 3
         },
         "mode": "lines",
         "name": "granulometry",
         "type": "scatter",
         "x": [
          "2020-02-05T10:33:00",
          "2020-02-05T10:34:00",
          "2020-02-05T10:35:00",
          "2020-02-05T10:36:00",
          "2020-02-05T10:37:00",
          "2020-02-05T10:38:00",
          "2020-02-05T10:39:00",
          "2020-02-05T10:40:00",
          "2020-02-05T10:41:00",
          "2020-02-05T10:42:00",
          "2020-02-05T10:43:00",
          "2020-02-05T10:44:00"
         ],
         "xaxis": "x3",
         "y": [
          56.23410771639184,
          55.90415581283131,
          55.59161592731438,
          55.29232636686292,
          55.04546272567738,
          54.84433389651267,
          54.70157604466082,
          54.65098699912843,
          54.60220762283725,
          54.64344770515299,
          54.801770701004536,
          55.064529000337934
         ],
         "yaxis": "y3"
        },
        {
         "legendgroup": "1",
         "line": {
          "width": 3
         },
         "mode": "lines",
         "name": "sag power index",
         "type": "scatter",
         "x": [
          "2020-02-05T10:33:00",
          "2020-02-05T10:34:00",
          "2020-02-05T10:35:00",
          "2020-02-05T10:36:00",
          "2020-02-05T10:37:00",
          "2020-02-05T10:38:00",
          "2020-02-05T10:39:00",
          "2020-02-05T10:40:00",
          "2020-02-05T10:41:00",
          "2020-02-05T10:42:00",
          "2020-02-05T10:43:00",
          "2020-02-05T10:44:00"
         ],
         "xaxis": "x4",
         "y": [
          118.2775556978233,
          118.27983674775928,
          118.28211779769526,
          118.28439884763124,
          118.28667989756724,
          118.2889609475032,
          118.2912419974392,
          118.29352304737516,
          118.29580409731116,
          118.29808514724712,
          118.3003661971831,
          118.30264724711908
         ],
         "yaxis": "y4"
        },
        {
         "legendgroup": "1",
         "line": {
          "width": 3
         },
         "mode": "lines",
         "name": "speed",
         "type": "scatter",
         "x": [
          "2020-02-05T10:33:00",
          "2020-02-05T10:34:00",
          "2020-02-05T10:35:00",
          "2020-02-05T10:36:00",
          "2020-02-05T10:37:00",
          "2020-02-05T10:38:00",
          "2020-02-05T10:39:00",
          "2020-02-05T10:40:00",
          "2020-02-05T10:41:00",
          "2020-02-05T10:42:00",
          "2020-02-05T10:43:00",
          "2020-02-05T10:44:00"
         ],
         "xaxis": "x14",
         "y": [
          9.3128516799924,
          9.283537080095266,
          9.250519386696814,
          9.250871249366364,
          9.250159847781104,
          9.25011992235596,
          9.250197144171436,
          9.25002448788365,
          9.250065998716838,
          9.24944219767123,
          9.249565552913102,
          9.250206921260505
         ],
         "yaxis": "y14"
        },
        {
         "legendgroup": "1",
         "line": {
          "width": 3
         },
         "mode": "lines",
         "name": "solid percentage",
         "type": "scatter",
         "x": [
          "2020-02-05T10:33:00",
          "2020-02-05T10:34:00",
          "2020-02-05T10:35:00",
          "2020-02-05T10:36:00",
          "2020-02-05T10:37:00",
          "2020-02-05T10:38:00",
          "2020-02-05T10:39:00",
          "2020-02-05T10:40:00",
          "2020-02-05T10:41:00",
          "2020-02-05T10:42:00",
          "2020-02-05T10:43:00",
          "2020-02-05T10:44:00"
         ],
         "xaxis": "x15",
         "y": [
          67.17126697124279,
          67.14829034160272,
          67.06902695763492,
          66.81102050029925,
          67.02305063455812,
          66.83387668948953,
          67.1143900750019,
          66.91267044536853,
          67.14944850573315,
          67.02839369789449,
          67.15528988408937,
          66.8202903376757
         ],
         "yaxis": "y15"
        },
        {
         "legendgroup": "1",
         "line": {
          "width": 3
         },
         "mode": "lines",
         "name": "water",
         "type": "scatter",
         "x": [
          "2020-02-05T10:33:00",
          "2020-02-05T10:34:00",
          "2020-02-05T10:35:00",
          "2020-02-05T10:36:00",
          "2020-02-05T10:37:00",
          "2020-02-05T10:38:00",
          "2020-02-05T10:39:00",
          "2020-02-05T10:40:00",
          "2020-02-05T10:41:00",
          "2020-02-05T10:42:00",
          "2020-02-05T10:43:00",
          "2020-02-05T10:44:00"
         ],
         "xaxis": "x13",
         "y": [
          1983.725138377036,
          2001.748297007853,
          2000.3050161902152,
          1986.5172474390856,
          1978.9910709499304,
          1971.6146844544803,
          1977.841701564475,
          1979.258815565957,
          1987.9420127284984,
          1992.5785560374816,
          1994.1055586268208,
          1989.8907596937688
         ],
         "yaxis": "y13"
        },
        {
         "legendgroup": "1",
         "line": {
          "width": 3
         },
         "mode": "lines",
         "name": "loss of TPH",
         "type": "scatter",
         "x": [
          "2020-02-05T10:33:00",
          "2020-02-05T10:34:00",
          "2020-02-05T10:35:00",
          "2020-02-05T10:36:00",
          "2020-02-05T10:37:00",
          "2020-02-05T10:38:00",
          "2020-02-05T10:39:00",
          "2020-02-05T10:40:00",
          "2020-02-05T10:41:00",
          "2020-02-05T10:42:00",
          "2020-02-05T10:43:00",
          "2020-02-05T10:44:00"
         ],
         "xaxis": "x5",
         "y": [
          1,
          1,
          1,
          1,
          0,
          1,
          1,
          1,
          1,
          1,
          1,
          0
         ],
         "yaxis": "y5"
        },
        {
         "legendgroup": "1",
         "line": {
          "width": 3
         },
         "mode": "lines",
         "name": "dif_TPH_HH",
         "type": "scatter",
         "x": [
          "2020-02-05T10:33:00",
          "2020-02-05T10:34:00",
          "2020-02-05T10:35:00",
          "2020-02-05T10:36:00",
          "2020-02-05T10:37:00",
          "2020-02-05T10:38:00",
          "2020-02-05T10:39:00",
          "2020-02-05T10:40:00",
          "2020-02-05T10:41:00",
          "2020-02-05T10:42:00",
          "2020-02-05T10:43:00",
          "2020-02-05T10:44:00"
         ],
         "xaxis": "x6",
         "y": [
          45.49301852277222,
          11.673269943677951,
          26.020095203702567,
          90.50054095852784,
          82.40203082399512,
          120.2629411622247,
          72.2290290874862,
          93.3671460261994,
          42.55770618448105,
          45.73657919907009,
          25.67877618948387,
          87.7808763274511
         ],
         "yaxis": "y6"
        },
        {
         "legendgroup": "1",
         "line": {
          "width": 3
         },
         "mode": "lines",
         "name": "greater than HH CC",
         "type": "scatter",
         "x": [
          "2020-02-05T10:33:00",
          "2020-02-05T10:34:00",
          "2020-02-05T10:35:00",
          "2020-02-05T10:36:00",
          "2020-02-05T10:37:00",
          "2020-02-05T10:38:00",
          "2020-02-05T10:39:00",
          "2020-02-05T10:40:00",
          "2020-02-05T10:41:00",
          "2020-02-05T10:42:00",
          "2020-02-05T10:43:00",
          "2020-02-05T10:44:00"
         ],
         "xaxis": "x7",
         "y": [
          0,
          0,
          0,
          0,
          0,
          0,
          0,
          0,
          0,
          0,
          0,
          0
         ],
         "yaxis": "y7"
        },
        {
         "legendgroup": "1",
         "line": {
          "width": 3
         },
         "mode": "lines",
         "name": "less than LL CC",
         "type": "scatter",
         "x": [
          "2020-02-05T10:33:00",
          "2020-02-05T10:34:00",
          "2020-02-05T10:35:00",
          "2020-02-05T10:36:00",
          "2020-02-05T10:37:00",
          "2020-02-05T10:38:00",
          "2020-02-05T10:39:00",
          "2020-02-05T10:40:00",
          "2020-02-05T10:41:00",
          "2020-02-05T10:42:00",
          "2020-02-05T10:43:00",
          "2020-02-05T10:44:00"
         ],
         "xaxis": "x10",
         "y": [
          0,
          0,
          0,
          0,
          0,
          0,
          0,
          0,
          0,
          0,
          0,
          0
         ],
         "yaxis": "y10"
        },
        {
         "legendgroup": "1",
         "line": {
          "width": 3
         },
         "mode": "lines",
         "name": "start loss tph",
         "type": "scatter",
         "x": [
          "2020-02-05T10:33:00",
          "2020-02-05T10:34:00",
          "2020-02-05T10:35:00",
          "2020-02-05T10:36:00",
          "2020-02-05T10:37:00",
          "2020-02-05T10:38:00",
          "2020-02-05T10:39:00",
          "2020-02-05T10:40:00",
          "2020-02-05T10:41:00",
          "2020-02-05T10:42:00",
          "2020-02-05T10:43:00",
          "2020-02-05T10:44:00"
         ],
         "xaxis": "x11",
         "y": [
          0,
          0,
          0,
          0,
          0,
          1,
          0,
          0,
          0,
          0,
          0,
          0
         ],
         "yaxis": "y11"
        },
        {
         "legendgroup": "1",
         "line": {
          "width": 3
         },
         "mode": "lines",
         "name": "end loss tph",
         "type": "scatter",
         "x": [
          "2020-02-05T10:33:00",
          "2020-02-05T10:34:00",
          "2020-02-05T10:35:00",
          "2020-02-05T10:36:00",
          "2020-02-05T10:37:00",
          "2020-02-05T10:38:00",
          "2020-02-05T10:39:00",
          "2020-02-05T10:40:00",
          "2020-02-05T10:41:00",
          "2020-02-05T10:42:00",
          "2020-02-05T10:43:00",
          "2020-02-05T10:44:00"
         ],
         "xaxis": "x12",
         "y": [
          0,
          0,
          0,
          1,
          0,
          0,
          0,
          0,
          0,
          0,
          1,
          0
         ],
         "yaxis": "y12"
        },
        {
         "legendgroup": "1",
         "line": {
          "width": 3
         },
         "mode": "lines",
         "name": "greater than rec HH CC",
         "type": "scatter",
         "x": [
          "2020-02-05T10:33:00",
          "2020-02-05T10:34:00",
          "2020-02-05T10:35:00",
          "2020-02-05T10:36:00",
          "2020-02-05T10:37:00",
          "2020-02-05T10:38:00",
          "2020-02-05T10:39:00",
          "2020-02-05T10:40:00",
          "2020-02-05T10:41:00",
          "2020-02-05T10:42:00",
          "2020-02-05T10:43:00",
          "2020-02-05T10:44:00"
         ],
         "xaxis": "x8",
         "y": [
          0,
          0,
          0,
          0,
          0,
          0,
          0,
          0,
          0,
          0,
          0,
          0
         ],
         "yaxis": "y8"
        },
        {
         "legendgroup": "1",
         "line": {
          "width": 3
         },
         "mode": "lines",
         "name": "Rec HH CC less than HH CC",
         "type": "scatter",
         "x": [
          "2020-02-05T10:33:00",
          "2020-02-05T10:34:00",
          "2020-02-05T10:35:00",
          "2020-02-05T10:36:00",
          "2020-02-05T10:37:00",
          "2020-02-05T10:38:00",
          "2020-02-05T10:39:00",
          "2020-02-05T10:40:00",
          "2020-02-05T10:41:00",
          "2020-02-05T10:42:00",
          "2020-02-05T10:43:00",
          "2020-02-05T10:44:00"
         ],
         "xaxis": "x9",
         "y": [
          0,
          0,
          0,
          0,
          0,
          0,
          0,
          0,
          0,
          0,
          0,
          0
         ],
         "yaxis": "y9"
        }
       ],
       "layout": {
        "annotations": [
         {
          "font": {
           "size": 16
          },
          "showarrow": false,
          "text": "TPH & HH TPH",
          "x": 0.14444444444444446,
          "xanchor": "center",
          "xref": "paper",
          "y": 1,
          "yanchor": "bottom",
          "yref": "paper"
         },
         {
          "font": {
           "size": 16
          },
          "showarrow": false,
          "text": "CC, recommendation HH CC, HH CC & LL CC",
          "x": 0.5,
          "xanchor": "center",
          "xref": "paper",
          "y": 1,
          "yanchor": "bottom",
          "yref": "paper"
         },
         {
          "font": {
           "size": 16
          },
          "showarrow": false,
          "text": "granulometry",
          "x": 0.8555555555555556,
          "xanchor": "center",
          "xref": "paper",
          "y": 1,
          "yanchor": "bottom",
          "yref": "paper"
         },
         {
          "font": {
           "size": 16
          },
          "showarrow": false,
          "text": "SPI",
          "x": 0.14444444444444446,
          "xanchor": "center",
          "xref": "paper",
          "y": 0.78,
          "yanchor": "bottom",
          "yref": "paper"
         },
         {
          "font": {
           "size": 16
          },
          "showarrow": false,
          "text": "loss of TPH",
          "x": 0.5,
          "xanchor": "center",
          "xref": "paper",
          "y": 0.78,
          "yanchor": "bottom",
          "yref": "paper"
         },
         {
          "font": {
           "size": 16
          },
          "showarrow": false,
          "text": "diff. HH TPH between TPH",
          "x": 0.8555555555555556,
          "xanchor": "center",
          "xref": "paper",
          "y": 0.78,
          "yanchor": "bottom",
          "yref": "paper"
         },
         {
          "font": {
           "size": 16
          },
          "showarrow": false,
          "text": "greater than HH CC",
          "x": 0.14444444444444446,
          "xanchor": "center",
          "xref": "paper",
          "y": 0.56,
          "yanchor": "bottom",
          "yref": "paper"
         },
         {
          "font": {
           "size": 16
          },
          "showarrow": false,
          "text": "greater than Rec HH CC",
          "x": 0.5,
          "xanchor": "center",
          "xref": "paper",
          "y": 0.56,
          "yanchor": "bottom",
          "yref": "paper"
         },
         {
          "font": {
           "size": 16
          },
          "showarrow": false,
          "text": "Rec HH CC less than HH CC",
          "x": 0.8555555555555556,
          "xanchor": "center",
          "xref": "paper",
          "y": 0.56,
          "yanchor": "bottom",
          "yref": "paper"
         },
         {
          "font": {
           "size": 16
          },
          "showarrow": false,
          "text": "less than LL CC",
          "x": 0.14444444444444446,
          "xanchor": "center",
          "xref": "paper",
          "y": 0.33999999999999997,
          "yanchor": "bottom",
          "yref": "paper"
         },
         {
          "font": {
           "size": 16
          },
          "showarrow": false,
          "text": "start loss tph",
          "x": 0.5,
          "xanchor": "center",
          "xref": "paper",
          "y": 0.33999999999999997,
          "yanchor": "bottom",
          "yref": "paper"
         },
         {
          "font": {
           "size": 16
          },
          "showarrow": false,
          "text": "end loss tph",
          "x": 0.8555555555555556,
          "xanchor": "center",
          "xref": "paper",
          "y": 0.33999999999999997,
          "yanchor": "bottom",
          "yref": "paper"
         },
         {
          "font": {
           "size": 16
          },
          "showarrow": false,
          "text": "water",
          "x": 0.14444444444444446,
          "xanchor": "center",
          "xref": "paper",
          "y": 0.12,
          "yanchor": "bottom",
          "yref": "paper"
         },
         {
          "font": {
           "size": 16
          },
          "showarrow": false,
          "text": "speed",
          "x": 0.5,
          "xanchor": "center",
          "xref": "paper",
          "y": 0.12,
          "yanchor": "bottom",
          "yref": "paper"
         },
         {
          "font": {
           "size": 16
          },
          "showarrow": false,
          "text": "solid percentage",
          "x": 0.8555555555555556,
          "xanchor": "center",
          "xref": "paper",
          "y": 0.12,
          "yanchor": "bottom",
          "yref": "paper"
         }
        ],
        "height": 1000,
        "hovermode": "x unified",
        "template": {
         "data": {
          "bar": [
           {
            "error_x": {
             "color": "#2a3f5f"
            },
            "error_y": {
             "color": "#2a3f5f"
            },
            "marker": {
             "line": {
              "color": "#E5ECF6",
              "width": 0.5
             },
             "pattern": {
              "fillmode": "overlay",
              "size": 10,
              "solidity": 0.2
             }
            },
            "type": "bar"
           }
          ],
          "barpolar": [
           {
            "marker": {
             "line": {
              "color": "#E5ECF6",
              "width": 0.5
             },
             "pattern": {
              "fillmode": "overlay",
              "size": 10,
              "solidity": 0.2
             }
            },
            "type": "barpolar"
           }
          ],
          "carpet": [
           {
            "aaxis": {
             "endlinecolor": "#2a3f5f",
             "gridcolor": "white",
             "linecolor": "white",
             "minorgridcolor": "white",
             "startlinecolor": "#2a3f5f"
            },
            "baxis": {
             "endlinecolor": "#2a3f5f",
             "gridcolor": "white",
             "linecolor": "white",
             "minorgridcolor": "white",
             "startlinecolor": "#2a3f5f"
            },
            "type": "carpet"
           }
          ],
          "choropleth": [
           {
            "colorbar": {
             "outlinewidth": 0,
             "ticks": ""
            },
            "type": "choropleth"
           }
          ],
          "contour": [
           {
            "colorbar": {
             "outlinewidth": 0,
             "ticks": ""
            },
            "colorscale": [
             [
              0,
              "#0d0887"
             ],
             [
              0.1111111111111111,
              "#46039f"
             ],
             [
              0.2222222222222222,
              "#7201a8"
             ],
             [
              0.3333333333333333,
              "#9c179e"
             ],
             [
              0.4444444444444444,
              "#bd3786"
             ],
             [
              0.5555555555555556,
              "#d8576b"
             ],
             [
              0.6666666666666666,
              "#ed7953"
             ],
             [
              0.7777777777777778,
              "#fb9f3a"
             ],
             [
              0.8888888888888888,
              "#fdca26"
             ],
             [
              1,
              "#f0f921"
             ]
            ],
            "type": "contour"
           }
          ],
          "contourcarpet": [
           {
            "colorbar": {
             "outlinewidth": 0,
             "ticks": ""
            },
            "type": "contourcarpet"
           }
          ],
          "heatmap": [
           {
            "colorbar": {
             "outlinewidth": 0,
             "ticks": ""
            },
            "colorscale": [
             [
              0,
              "#0d0887"
             ],
             [
              0.1111111111111111,
              "#46039f"
             ],
             [
              0.2222222222222222,
              "#7201a8"
             ],
             [
              0.3333333333333333,
              "#9c179e"
             ],
             [
              0.4444444444444444,
              "#bd3786"
             ],
             [
              0.5555555555555556,
              "#d8576b"
             ],
             [
              0.6666666666666666,
              "#ed7953"
             ],
             [
              0.7777777777777778,
              "#fb9f3a"
             ],
             [
              0.8888888888888888,
              "#fdca26"
             ],
             [
              1,
              "#f0f921"
             ]
            ],
            "type": "heatmap"
           }
          ],
          "heatmapgl": [
           {
            "colorbar": {
             "outlinewidth": 0,
             "ticks": ""
            },
            "colorscale": [
             [
              0,
              "#0d0887"
             ],
             [
              0.1111111111111111,
              "#46039f"
             ],
             [
              0.2222222222222222,
              "#7201a8"
             ],
             [
              0.3333333333333333,
              "#9c179e"
             ],
             [
              0.4444444444444444,
              "#bd3786"
             ],
             [
              0.5555555555555556,
              "#d8576b"
             ],
             [
              0.6666666666666666,
              "#ed7953"
             ],
             [
              0.7777777777777778,
              "#fb9f3a"
             ],
             [
              0.8888888888888888,
              "#fdca26"
             ],
             [
              1,
              "#f0f921"
             ]
            ],
            "type": "heatmapgl"
           }
          ],
          "histogram": [
           {
            "marker": {
             "pattern": {
              "fillmode": "overlay",
              "size": 10,
              "solidity": 0.2
             }
            },
            "type": "histogram"
           }
          ],
          "histogram2d": [
           {
            "colorbar": {
             "outlinewidth": 0,
             "ticks": ""
            },
            "colorscale": [
             [
              0,
              "#0d0887"
             ],
             [
              0.1111111111111111,
              "#46039f"
             ],
             [
              0.2222222222222222,
              "#7201a8"
             ],
             [
              0.3333333333333333,
              "#9c179e"
             ],
             [
              0.4444444444444444,
              "#bd3786"
             ],
             [
              0.5555555555555556,
              "#d8576b"
             ],
             [
              0.6666666666666666,
              "#ed7953"
             ],
             [
              0.7777777777777778,
              "#fb9f3a"
             ],
             [
              0.8888888888888888,
              "#fdca26"
             ],
             [
              1,
              "#f0f921"
             ]
            ],
            "type": "histogram2d"
           }
          ],
          "histogram2dcontour": [
           {
            "colorbar": {
             "outlinewidth": 0,
             "ticks": ""
            },
            "colorscale": [
             [
              0,
              "#0d0887"
             ],
             [
              0.1111111111111111,
              "#46039f"
             ],
             [
              0.2222222222222222,
              "#7201a8"
             ],
             [
              0.3333333333333333,
              "#9c179e"
             ],
             [
              0.4444444444444444,
              "#bd3786"
             ],
             [
              0.5555555555555556,
              "#d8576b"
             ],
             [
              0.6666666666666666,
              "#ed7953"
             ],
             [
              0.7777777777777778,
              "#fb9f3a"
             ],
             [
              0.8888888888888888,
              "#fdca26"
             ],
             [
              1,
              "#f0f921"
             ]
            ],
            "type": "histogram2dcontour"
           }
          ],
          "mesh3d": [
           {
            "colorbar": {
             "outlinewidth": 0,
             "ticks": ""
            },
            "type": "mesh3d"
           }
          ],
          "parcoords": [
           {
            "line": {
             "colorbar": {
              "outlinewidth": 0,
              "ticks": ""
             }
            },
            "type": "parcoords"
           }
          ],
          "pie": [
           {
            "automargin": true,
            "type": "pie"
           }
          ],
          "scatter": [
           {
            "marker": {
             "colorbar": {
              "outlinewidth": 0,
              "ticks": ""
             }
            },
            "type": "scatter"
           }
          ],
          "scatter3d": [
           {
            "line": {
             "colorbar": {
              "outlinewidth": 0,
              "ticks": ""
             }
            },
            "marker": {
             "colorbar": {
              "outlinewidth": 0,
              "ticks": ""
             }
            },
            "type": "scatter3d"
           }
          ],
          "scattercarpet": [
           {
            "marker": {
             "colorbar": {
              "outlinewidth": 0,
              "ticks": ""
             }
            },
            "type": "scattercarpet"
           }
          ],
          "scattergeo": [
           {
            "marker": {
             "colorbar": {
              "outlinewidth": 0,
              "ticks": ""
             }
            },
            "type": "scattergeo"
           }
          ],
          "scattergl": [
           {
            "marker": {
             "colorbar": {
              "outlinewidth": 0,
              "ticks": ""
             }
            },
            "type": "scattergl"
           }
          ],
          "scattermapbox": [
           {
            "marker": {
             "colorbar": {
              "outlinewidth": 0,
              "ticks": ""
             }
            },
            "type": "scattermapbox"
           }
          ],
          "scatterpolar": [
           {
            "marker": {
             "colorbar": {
              "outlinewidth": 0,
              "ticks": ""
             }
            },
            "type": "scatterpolar"
           }
          ],
          "scatterpolargl": [
           {
            "marker": {
             "colorbar": {
              "outlinewidth": 0,
              "ticks": ""
             }
            },
            "type": "scatterpolargl"
           }
          ],
          "scatterternary": [
           {
            "marker": {
             "colorbar": {
              "outlinewidth": 0,
              "ticks": ""
             }
            },
            "type": "scatterternary"
           }
          ],
          "surface": [
           {
            "colorbar": {
             "outlinewidth": 0,
             "ticks": ""
            },
            "colorscale": [
             [
              0,
              "#0d0887"
             ],
             [
              0.1111111111111111,
              "#46039f"
             ],
             [
              0.2222222222222222,
              "#7201a8"
             ],
             [
              0.3333333333333333,
              "#9c179e"
             ],
             [
              0.4444444444444444,
              "#bd3786"
             ],
             [
              0.5555555555555556,
              "#d8576b"
             ],
             [
              0.6666666666666666,
              "#ed7953"
             ],
             [
              0.7777777777777778,
              "#fb9f3a"
             ],
             [
              0.8888888888888888,
              "#fdca26"
             ],
             [
              1,
              "#f0f921"
             ]
            ],
            "type": "surface"
           }
          ],
          "table": [
           {
            "cells": {
             "fill": {
              "color": "#EBF0F8"
             },
             "line": {
              "color": "white"
             }
            },
            "header": {
             "fill": {
              "color": "#C8D4E3"
             },
             "line": {
              "color": "white"
             }
            },
            "type": "table"
           }
          ]
         },
         "layout": {
          "annotationdefaults": {
           "arrowcolor": "#2a3f5f",
           "arrowhead": 0,
           "arrowwidth": 1
          },
          "autotypenumbers": "strict",
          "coloraxis": {
           "colorbar": {
            "outlinewidth": 0,
            "ticks": ""
           }
          },
          "colorscale": {
           "diverging": [
            [
             0,
             "#8e0152"
            ],
            [
             0.1,
             "#c51b7d"
            ],
            [
             0.2,
             "#de77ae"
            ],
            [
             0.3,
             "#f1b6da"
            ],
            [
             0.4,
             "#fde0ef"
            ],
            [
             0.5,
             "#f7f7f7"
            ],
            [
             0.6,
             "#e6f5d0"
            ],
            [
             0.7,
             "#b8e186"
            ],
            [
             0.8,
             "#7fbc41"
            ],
            [
             0.9,
             "#4d9221"
            ],
            [
             1,
             "#276419"
            ]
           ],
           "sequential": [
            [
             0,
             "#0d0887"
            ],
            [
             0.1111111111111111,
             "#46039f"
            ],
            [
             0.2222222222222222,
             "#7201a8"
            ],
            [
             0.3333333333333333,
             "#9c179e"
            ],
            [
             0.4444444444444444,
             "#bd3786"
            ],
            [
             0.5555555555555556,
             "#d8576b"
            ],
            [
             0.6666666666666666,
             "#ed7953"
            ],
            [
             0.7777777777777778,
             "#fb9f3a"
            ],
            [
             0.8888888888888888,
             "#fdca26"
            ],
            [
             1,
             "#f0f921"
            ]
           ],
           "sequentialminus": [
            [
             0,
             "#0d0887"
            ],
            [
             0.1111111111111111,
             "#46039f"
            ],
            [
             0.2222222222222222,
             "#7201a8"
            ],
            [
             0.3333333333333333,
             "#9c179e"
            ],
            [
             0.4444444444444444,
             "#bd3786"
            ],
            [
             0.5555555555555556,
             "#d8576b"
            ],
            [
             0.6666666666666666,
             "#ed7953"
            ],
            [
             0.7777777777777778,
             "#fb9f3a"
            ],
            [
             0.8888888888888888,
             "#fdca26"
            ],
            [
             1,
             "#f0f921"
            ]
           ]
          },
          "colorway": [
           "#636efa",
           "#EF553B",
           "#00cc96",
           "#ab63fa",
           "#FFA15A",
           "#19d3f3",
           "#FF6692",
           "#B6E880",
           "#FF97FF",
           "#FECB52"
          ],
          "font": {
           "color": "#2a3f5f"
          },
          "geo": {
           "bgcolor": "white",
           "lakecolor": "white",
           "landcolor": "#E5ECF6",
           "showlakes": true,
           "showland": true,
           "subunitcolor": "white"
          },
          "hoverlabel": {
           "align": "left"
          },
          "hovermode": "closest",
          "mapbox": {
           "style": "light"
          },
          "paper_bgcolor": "white",
          "plot_bgcolor": "#E5ECF6",
          "polar": {
           "angularaxis": {
            "gridcolor": "white",
            "linecolor": "white",
            "ticks": ""
           },
           "bgcolor": "#E5ECF6",
           "radialaxis": {
            "gridcolor": "white",
            "linecolor": "white",
            "ticks": ""
           }
          },
          "scene": {
           "xaxis": {
            "backgroundcolor": "#E5ECF6",
            "gridcolor": "white",
            "gridwidth": 2,
            "linecolor": "white",
            "showbackground": true,
            "ticks": "",
            "zerolinecolor": "white"
           },
           "yaxis": {
            "backgroundcolor": "#E5ECF6",
            "gridcolor": "white",
            "gridwidth": 2,
            "linecolor": "white",
            "showbackground": true,
            "ticks": "",
            "zerolinecolor": "white"
           },
           "zaxis": {
            "backgroundcolor": "#E5ECF6",
            "gridcolor": "white",
            "gridwidth": 2,
            "linecolor": "white",
            "showbackground": true,
            "ticks": "",
            "zerolinecolor": "white"
           }
          },
          "shapedefaults": {
           "line": {
            "color": "#2a3f5f"
           }
          },
          "ternary": {
           "aaxis": {
            "gridcolor": "white",
            "linecolor": "white",
            "ticks": ""
           },
           "baxis": {
            "gridcolor": "white",
            "linecolor": "white",
            "ticks": ""
           },
           "bgcolor": "#E5ECF6",
           "caxis": {
            "gridcolor": "white",
            "linecolor": "white",
            "ticks": ""
           }
          },
          "title": {
           "x": 0.05
          },
          "xaxis": {
           "automargin": true,
           "gridcolor": "white",
           "linecolor": "white",
           "ticks": "",
           "title": {
            "standoff": 15
           },
           "zerolinecolor": "white",
           "zerolinewidth": 2
          },
          "yaxis": {
           "automargin": true,
           "gridcolor": "white",
           "linecolor": "white",
           "ticks": "",
           "title": {
            "standoff": 15
           },
           "zerolinecolor": "white",
           "zerolinewidth": 2
          }
         }
        },
        "title": {
         "text": "Temporal signal analysis"
        },
        "width": 1500,
        "xaxis": {
         "anchor": "y",
         "domain": [
          0,
          0.2888888888888889
         ],
         "tickformat": "%H:%M"
        },
        "xaxis10": {
         "anchor": "y10",
         "domain": [
          0,
          0.2888888888888889
         ],
         "tickformat": "%H:%M"
        },
        "xaxis11": {
         "anchor": "y11",
         "domain": [
          0.35555555555555557,
          0.6444444444444445
         ],
         "tickformat": "%H:%M"
        },
        "xaxis12": {
         "anchor": "y12",
         "domain": [
          0.7111111111111111,
          1
         ],
         "tickformat": "%H:%M"
        },
        "xaxis13": {
         "anchor": "y13",
         "domain": [
          0,
          0.2888888888888889
         ],
         "tickformat": "%H:%M"
        },
        "xaxis14": {
         "anchor": "y14",
         "domain": [
          0.35555555555555557,
          0.6444444444444445
         ],
         "tickformat": "%H:%M"
        },
        "xaxis15": {
         "anchor": "y15",
         "domain": [
          0.7111111111111111,
          1
         ],
         "tickformat": "%H:%M"
        },
        "xaxis2": {
         "anchor": "y2",
         "domain": [
          0.35555555555555557,
          0.6444444444444445
         ],
         "tickformat": "%H:%M"
        },
        "xaxis3": {
         "anchor": "y3",
         "domain": [
          0.7111111111111111,
          1
         ],
         "tickformat": "%H:%M"
        },
        "xaxis4": {
         "anchor": "y4",
         "domain": [
          0,
          0.2888888888888889
         ],
         "tickformat": "%H:%M"
        },
        "xaxis5": {
         "anchor": "y5",
         "domain": [
          0.35555555555555557,
          0.6444444444444445
         ],
         "tickformat": "%H:%M"
        },
        "xaxis6": {
         "anchor": "y6",
         "domain": [
          0.7111111111111111,
          1
         ],
         "tickformat": "%H:%M"
        },
        "xaxis7": {
         "anchor": "y7",
         "domain": [
          0,
          0.2888888888888889
         ],
         "tickformat": "%H:%M"
        },
        "xaxis8": {
         "anchor": "y8",
         "domain": [
          0.35555555555555557,
          0.6444444444444445
         ],
         "tickformat": "%H:%M"
        },
        "xaxis9": {
         "anchor": "y9",
         "domain": [
          0.7111111111111111,
          1
         ],
         "tickformat": "%H:%M"
        },
        "yaxis": {
         "anchor": "x",
         "domain": [
          0.88,
          1
         ]
        },
        "yaxis10": {
         "anchor": "x10",
         "domain": [
          0.22,
          0.33999999999999997
         ]
        },
        "yaxis11": {
         "anchor": "x11",
         "domain": [
          0.22,
          0.33999999999999997
         ]
        },
        "yaxis12": {
         "anchor": "x12",
         "domain": [
          0.22,
          0.33999999999999997
         ]
        },
        "yaxis13": {
         "anchor": "x13",
         "domain": [
          0,
          0.12
         ]
        },
        "yaxis14": {
         "anchor": "x14",
         "domain": [
          0,
          0.12
         ]
        },
        "yaxis15": {
         "anchor": "x15",
         "domain": [
          0,
          0.12
         ]
        },
        "yaxis2": {
         "anchor": "x2",
         "domain": [
          0.88,
          1
         ]
        },
        "yaxis3": {
         "anchor": "x3",
         "domain": [
          0.88,
          1
         ]
        },
        "yaxis4": {
         "anchor": "x4",
         "domain": [
          0.66,
          0.78
         ]
        },
        "yaxis5": {
         "anchor": "x5",
         "domain": [
          0.66,
          0.78
         ]
        },
        "yaxis6": {
         "anchor": "x6",
         "domain": [
          0.66,
          0.78
         ]
        },
        "yaxis7": {
         "anchor": "x7",
         "domain": [
          0.44,
          0.56
         ]
        },
        "yaxis8": {
         "anchor": "x8",
         "domain": [
          0.44,
          0.56
         ]
        },
        "yaxis9": {
         "anchor": "x9",
         "domain": [
          0.44,
          0.56
         ]
        }
       }
      }
     },
     "metadata": {},
     "output_type": "display_data"
    }
   ],
   "source": [
    "titulos=tuple([\"TPH & HH TPH\", \"CC, recommendation HH CC, HH CC & LL CC\",\"granulometry\",\"SPI\",\"loss of TPH\",\"diff. HH TPH between TPH\",\n",
    "\"greater than HH CC\",\"greater than Rec HH CC\",\"Rec HH CC less than HH CC\",\"less than LL CC\",\"start loss tph\",\"end loss tph\",\"water\",\"speed\",\"solid percentage\"])\n",
    "fig = make_subplots(\n",
    "    rows=5, cols=3,\n",
    "    subplot_titles=titulos,\n",
    "    #subplot_titles=tuple(\"TPH y HH TPH,\"),\n",
    "     #shared_xaxes=True\n",
    "    )\n",
    "\n",
    "\n",
    "fig.add_trace(go.Scatter(x=data.index, y=data['TPH'], ##FF6511\n",
    "                    mode='lines',\n",
    "                    name=\"TPH\",line=dict(width=3, ),legendgroup = '1'),row=1, col=1)  \n",
    "\n",
    "fig.add_trace(go.Scatter(x=data.index, y=data['HH TPH'], ##FF6511\n",
    "                    mode='lines',\n",
    "                    name=\"HH TPH\",line=dict(width=3, ),legendgroup = '1'),row=1, col=1)  \n",
    "\n",
    "#fig.add_trace(go.Scatter(x=data.index, y=data[\"TPH predict\"], ##FF6511\n",
    "#                    mode='lines',\n",
    "#                    name=\"regressor model TPH\",line=dict(width=1,color=\"black\" ),legendgroup = '1'),row=1, col=1)  \n",
    "\n",
    "fig.add_trace(go.Scatter(x=data.index, y=data['charge cell'], \n",
    "                    mode='lines',\n",
    "                    name=\"charge cell\",line=dict(width=3, ),legendgroup = '1'),row=1, col=2)  \n",
    "\n",
    "\n",
    "\n",
    "fig.add_trace(go.Scatter(x=data.index, y=data['LL charge cell'], ##FF6511\n",
    "                    mode='lines',\n",
    "                    name=\"LL charge cell\",line=dict(width=3,),legendgroup = '1'),row=1, col=2)  \n",
    "\n",
    "fig.add_trace(go.Scatter(x=data.index, y=data['HH charge cell'], ##FF6511\n",
    "                    mode='lines',\n",
    "                    name=\"HH charge cell\",line=dict(width=3,),legendgroup = '1'),row=1, col=2)  \n",
    "\n",
    "fig.add_trace(go.Scatter(x=data.index, y=data[\"recommendation\"], ##FF6511\n",
    "                    mode='lines',\n",
    "                    name=\"recommendation HH CC\",line=dict(width=1,color=\"black\"),legendgroup = '1'),row=1, col=2)  \n",
    "\n",
    "fig.add_trace(go.Scatter(x=data.index, y=data['granulometry'], ##FF6511\n",
    "                    mode='lines',\n",
    "                    name='granulometry',line=dict(width=3,),legendgroup = '1'),row=1, col=3)  \n",
    "\n",
    "\n",
    "fig.add_trace(go.Scatter(x=data.index, y=data['sag power index'], ##FF6511\n",
    "                    mode='lines',\n",
    "                    name=\"sag power index\",line=dict(width=3, ),legendgroup = '1'),row=2, col=1)  \n",
    "\n",
    "\n",
    "\n",
    "fig.add_trace(go.Scatter(x=data.index, y=data['speed'], ##FF6511\n",
    "                    mode='lines',\n",
    "                    name=\"speed\",line=dict(width=3, ),legendgroup = '1'),row=5, col=2)  \n",
    "\n",
    "fig.add_trace(go.Scatter(x=data.index, y=data['solid percentage'], ##FF6511\n",
    "                    mode='lines',\n",
    "                    name='solid percentage',line=dict(width=3, ),legendgroup = '1'),row=5, col=3)  \n",
    "\n",
    "\n",
    "for i in range(1,6):\n",
    "   for j in range(1,4):\n",
    "        fig.update_xaxes(tickformat=\"%H:%M\",row=i, col=j)\n",
    "\n",
    "\n",
    "fig.add_trace(go.Scatter(x=data.index, y=data[ 'water'], ##FF6511\n",
    "                    mode='lines',\n",
    "                    name= 'water',line=dict(width=3, ),legendgroup = '1'),row=5, col=1)  \n",
    "\n",
    "\n",
    "\n",
    "fig.add_trace(go.Scatter(x=data.index, y=data[  'loss of TPH'], ##FF6511\n",
    "                    mode='lines',\n",
    "                    name=  'loss of TPH',line=dict(width=3, ),legendgroup = '1'),row=2, col=2)  \n",
    "\n",
    "\n",
    "fig.add_trace(go.Scatter(x=data.index, y=data[ \"dif_TPH_HH\"], ##FF6511\n",
    "                    mode='lines',\n",
    "                    name=  \"dif_TPH_HH\",line=dict(width=3, ),legendgroup = '1'),row=2, col=3)  \n",
    "\n",
    "\n",
    "fig.add_trace(go.Scatter(x=data.index, y=data[ 'greater than HH CC'], ##FF6511\n",
    "                    mode='lines',\n",
    "                    name=  'greater than HH CC',line=dict(width=3, ),legendgroup = '1'),row=3, col=1)  \n",
    "\n",
    "fig.add_trace(go.Scatter(x=data.index, y=data[ 'less than LL CC'], ##FF6511\n",
    "                    mode='lines',\n",
    "                    name=  'less than LL CC',line=dict(width=3, ),legendgroup = '1'),row=4, col=1)  \n",
    "\n",
    "\n",
    "fig.add_trace(go.Scatter(x=data.index, y=data[ 'start loss tph'], ##FF6511\n",
    "                    mode='lines',\n",
    "                    name=  'start loss tph',line=dict(width=3, ),legendgroup = '1'),row=4, col=2)  \n",
    "\n",
    "fig.add_trace(go.Scatter(x=data.index, y=data[ 'end loss tph'], ##FF6511\n",
    "                    mode='lines',\n",
    "                    name=  'end loss tph',line=dict(width=3, ),legendgroup = '1'),row=4, col=3)  \n",
    "\n",
    "fig.add_trace(go.Scatter(x=data.index, y=data[ 'greater than Rec HH CC'], ##FF6511\n",
    "                    mode='lines',\n",
    "                    name=  'greater than rec HH CC',line=dict(width=3, ),legendgroup = '1'),row=3, col=2)  \n",
    "\n",
    "fig.add_trace(go.Scatter(x=data.index, y=data[ \"Rec HH CC less than HH CC\"], ##FF6511\n",
    "                    mode='lines',\n",
    "                    name=  \"Rec HH CC less than HH CC\",line=dict(width=3, ),legendgroup = '1'),row=3, col=3)  \n",
    "fig.update_layout(height=1000, width=1500, title_text=\"Temporal signal analysis\")\n",
    "fig.update_layout(hovermode=\"x unified\")\n",
    "#\n",
    "\n",
    "fig.show()"
   ]
  },
  {
   "cell_type": "code",
   "execution_count": 10,
   "metadata": {},
   "outputs": [
    {
     "data": {
      "text/html": [
       "<div>\n",
       "<style scoped>\n",
       "    .dataframe tbody tr th:only-of-type {\n",
       "        vertical-align: middle;\n",
       "    }\n",
       "\n",
       "    .dataframe tbody tr th {\n",
       "        vertical-align: top;\n",
       "    }\n",
       "\n",
       "    .dataframe thead th {\n",
       "        text-align: right;\n",
       "    }\n",
       "</style>\n",
       "<table border=\"1\" class=\"dataframe\">\n",
       "  <thead>\n",
       "    <tr style=\"text-align: right;\">\n",
       "      <th></th>\n",
       "      <th>inicio evento</th>\n",
       "      <th>inicio perdida</th>\n",
       "      <th>fin perdida</th>\n",
       "      <th>variación HH TPH</th>\n",
       "      <th>Actua sistema de control</th>\n",
       "      <th>Supera recomendación del modelo</th>\n",
       "      <th>Recomendación menor a HH CC</th>\n",
       "      <th>CC menor a LL CC</th>\n",
       "      <th>Causalidad</th>\n",
       "    </tr>\n",
       "  </thead>\n",
       "  <tbody>\n",
       "    <tr>\n",
       "      <th>0</th>\n",
       "      <td>2020-02-05 10:33:00</td>\n",
       "      <td>2020-02-05 10:38:00</td>\n",
       "      <td>2020-02-05 10:44:00</td>\n",
       "      <td>False</td>\n",
       "      <td>False</td>\n",
       "      <td>False</td>\n",
       "      <td>False</td>\n",
       "      <td>False</td>\n",
       "      <td>False</td>\n",
       "    </tr>\n",
       "    <tr>\n",
       "      <th>1</th>\n",
       "      <td>2020-02-05 11:30:00</td>\n",
       "      <td>2020-02-05 11:35:00</td>\n",
       "      <td>2020-02-05 11:45:00</td>\n",
       "      <td>False</td>\n",
       "      <td>False</td>\n",
       "      <td>False</td>\n",
       "      <td>False</td>\n",
       "      <td>False</td>\n",
       "      <td>False</td>\n",
       "    </tr>\n",
       "    <tr>\n",
       "      <th>2</th>\n",
       "      <td>2020-02-06 09:04:00</td>\n",
       "      <td>2020-02-06 09:09:00</td>\n",
       "      <td>2020-02-06 09:41:00</td>\n",
       "      <td>False</td>\n",
       "      <td>False</td>\n",
       "      <td>False</td>\n",
       "      <td>False</td>\n",
       "      <td>False</td>\n",
       "      <td>False</td>\n",
       "    </tr>\n",
       "    <tr>\n",
       "      <th>3</th>\n",
       "      <td>2020-02-06 11:54:00</td>\n",
       "      <td>2020-02-06 11:59:00</td>\n",
       "      <td>2020-02-06 12:07:00</td>\n",
       "      <td>False</td>\n",
       "      <td>False</td>\n",
       "      <td>False</td>\n",
       "      <td>False</td>\n",
       "      <td>False</td>\n",
       "      <td>False</td>\n",
       "    </tr>\n",
       "    <tr>\n",
       "      <th>4</th>\n",
       "      <td>2020-02-06 12:57:00</td>\n",
       "      <td>2020-02-06 13:02:00</td>\n",
       "      <td>2020-02-06 13:08:00</td>\n",
       "      <td>False</td>\n",
       "      <td>False</td>\n",
       "      <td>False</td>\n",
       "      <td>False</td>\n",
       "      <td>False</td>\n",
       "      <td>False</td>\n",
       "    </tr>\n",
       "    <tr>\n",
       "      <th>...</th>\n",
       "      <td>...</td>\n",
       "      <td>...</td>\n",
       "      <td>...</td>\n",
       "      <td>...</td>\n",
       "      <td>...</td>\n",
       "      <td>...</td>\n",
       "      <td>...</td>\n",
       "      <td>...</td>\n",
       "      <td>...</td>\n",
       "    </tr>\n",
       "    <tr>\n",
       "      <th>775</th>\n",
       "      <td>2022-01-15 12:37:00</td>\n",
       "      <td>2022-01-15 12:42:00</td>\n",
       "      <td>2022-01-15 12:50:00</td>\n",
       "      <td>False</td>\n",
       "      <td>False</td>\n",
       "      <td>False</td>\n",
       "      <td>False</td>\n",
       "      <td>False</td>\n",
       "      <td>False</td>\n",
       "    </tr>\n",
       "    <tr>\n",
       "      <th>776</th>\n",
       "      <td>2022-01-15 19:29:00</td>\n",
       "      <td>2022-01-15 19:34:00</td>\n",
       "      <td>2022-01-15 19:43:00</td>\n",
       "      <td>False</td>\n",
       "      <td>False</td>\n",
       "      <td>False</td>\n",
       "      <td>False</td>\n",
       "      <td>False</td>\n",
       "      <td>False</td>\n",
       "    </tr>\n",
       "    <tr>\n",
       "      <th>777</th>\n",
       "      <td>2022-01-15 21:45:00</td>\n",
       "      <td>2022-01-15 21:50:00</td>\n",
       "      <td>2022-01-15 21:56:00</td>\n",
       "      <td>False</td>\n",
       "      <td>False</td>\n",
       "      <td>False</td>\n",
       "      <td>False</td>\n",
       "      <td>False</td>\n",
       "      <td>False</td>\n",
       "    </tr>\n",
       "    <tr>\n",
       "      <th>778</th>\n",
       "      <td>2022-01-16 02:06:00</td>\n",
       "      <td>2022-01-16 02:11:00</td>\n",
       "      <td>2022-01-16 02:20:00</td>\n",
       "      <td>False</td>\n",
       "      <td>False</td>\n",
       "      <td>False</td>\n",
       "      <td>False</td>\n",
       "      <td>False</td>\n",
       "      <td>False</td>\n",
       "    </tr>\n",
       "    <tr>\n",
       "      <th>779</th>\n",
       "      <td>2022-01-16 07:44:00</td>\n",
       "      <td>2022-01-16 07:49:00</td>\n",
       "      <td>2022-01-16 07:55:00</td>\n",
       "      <td>False</td>\n",
       "      <td>False</td>\n",
       "      <td>False</td>\n",
       "      <td>False</td>\n",
       "      <td>False</td>\n",
       "      <td>False</td>\n",
       "    </tr>\n",
       "  </tbody>\n",
       "</table>\n",
       "<p>780 rows × 9 columns</p>\n",
       "</div>"
      ],
      "text/plain": [
       "          inicio evento      inicio perdida         fin perdida  \\\n",
       "0   2020-02-05 10:33:00 2020-02-05 10:38:00 2020-02-05 10:44:00   \n",
       "1   2020-02-05 11:30:00 2020-02-05 11:35:00 2020-02-05 11:45:00   \n",
       "2   2020-02-06 09:04:00 2020-02-06 09:09:00 2020-02-06 09:41:00   \n",
       "3   2020-02-06 11:54:00 2020-02-06 11:59:00 2020-02-06 12:07:00   \n",
       "4   2020-02-06 12:57:00 2020-02-06 13:02:00 2020-02-06 13:08:00   \n",
       "..                  ...                 ...                 ...   \n",
       "775 2022-01-15 12:37:00 2022-01-15 12:42:00 2022-01-15 12:50:00   \n",
       "776 2022-01-15 19:29:00 2022-01-15 19:34:00 2022-01-15 19:43:00   \n",
       "777 2022-01-15 21:45:00 2022-01-15 21:50:00 2022-01-15 21:56:00   \n",
       "778 2022-01-16 02:06:00 2022-01-16 02:11:00 2022-01-16 02:20:00   \n",
       "779 2022-01-16 07:44:00 2022-01-16 07:49:00 2022-01-16 07:55:00   \n",
       "\n",
       "     variación HH TPH  Actua sistema de control  \\\n",
       "0               False                     False   \n",
       "1               False                     False   \n",
       "2               False                     False   \n",
       "3               False                     False   \n",
       "4               False                     False   \n",
       "..                ...                       ...   \n",
       "775             False                     False   \n",
       "776             False                     False   \n",
       "777             False                     False   \n",
       "778             False                     False   \n",
       "779             False                     False   \n",
       "\n",
       "     Supera recomendación del modelo  Recomendación menor a HH CC  \\\n",
       "0                              False                        False   \n",
       "1                              False                        False   \n",
       "2                              False                        False   \n",
       "3                              False                        False   \n",
       "4                              False                        False   \n",
       "..                               ...                          ...   \n",
       "775                            False                        False   \n",
       "776                            False                        False   \n",
       "777                            False                        False   \n",
       "778                            False                        False   \n",
       "779                            False                        False   \n",
       "\n",
       "     CC menor a LL CC  Causalidad  \n",
       "0               False       False  \n",
       "1               False       False  \n",
       "2               False       False  \n",
       "3               False       False  \n",
       "4               False       False  \n",
       "..                ...         ...  \n",
       "775             False       False  \n",
       "776             False       False  \n",
       "777             False       False  \n",
       "778             False       False  \n",
       "779             False       False  \n",
       "\n",
       "[780 rows x 9 columns]"
      ]
     },
     "execution_count": 10,
     "metadata": {},
     "output_type": "execute_result"
    }
   ],
   "source": [
    "evento=df_tph_loss[(df_tph_loss[\"Actua sistema de control\"]==False) & (df_tph_loss[\"variación HH TPH\"]==False) & (df_tph_loss[\"CC menor a LL CC\"]==False) & (df_tph_loss[\"Recomendación menor a HH CC\"]==False) & (df_tph_loss[\"Supera recomendación del modelo\"]==False)\\\n",
    "    ].reset_index(drop=True)\n",
    "data=df_full.copy()[evento[\"inicio evento\"].iloc[0]:evento[\"fin perdida\"].iloc[0]]\n",
    "evento"
   ]
  },
  {
   "cell_type": "code",
   "execution_count": 12,
   "metadata": {},
   "outputs": [
    {
     "name": "stdout",
     "output_type": "stream",
     "text": [
      "0\n",
      "1\n",
      "2\n",
      "3\n",
      "4\n",
      "5\n",
      "6\n",
      "7\n",
      "8\n",
      "9\n",
      "10\n",
      "11\n",
      "12\n",
      "13\n",
      "14\n",
      "15\n",
      "16\n",
      "17\n",
      "18\n",
      "19\n",
      "20\n",
      "21\n",
      "22\n",
      "23\n",
      "24\n",
      "25\n",
      "26\n",
      "27\n",
      "28\n",
      "29\n",
      "30\n",
      "31\n",
      "32\n",
      "33\n",
      "34\n",
      "35\n",
      "36\n",
      "37\n",
      "38\n",
      "39\n",
      "40\n",
      "41\n",
      "42\n",
      "43\n",
      "44\n",
      "45\n",
      "46\n",
      "47\n",
      "48\n",
      "49\n",
      "50\n",
      "51\n",
      "52\n",
      "53\n",
      "54\n",
      "55\n",
      "56\n",
      "57\n",
      "58\n",
      "59\n",
      "60\n",
      "61\n",
      "62\n",
      "63\n",
      "64\n",
      "65\n",
      "66\n",
      "67\n",
      "68\n",
      "69\n",
      "70\n",
      "71\n",
      "72\n",
      "73\n",
      "74\n",
      "75\n",
      "76\n",
      "77\n",
      "78\n",
      "79\n",
      "80\n",
      "81\n",
      "82\n",
      "83\n",
      "84\n",
      "85\n",
      "86\n",
      "87\n",
      "88\n",
      "89\n",
      "90\n",
      "91\n",
      "92\n",
      "93\n",
      "94\n",
      "95\n",
      "96\n",
      "97\n",
      "98\n",
      "99\n",
      "100\n",
      "101\n",
      "102\n",
      "103\n",
      "104\n",
      "105\n",
      "106\n",
      "107\n",
      "108\n",
      "109\n",
      "110\n",
      "111\n",
      "112\n",
      "113\n",
      "114\n",
      "115\n",
      "116\n",
      "117\n",
      "118\n",
      "119\n",
      "120\n",
      "121\n",
      "122\n",
      "123\n",
      "124\n",
      "125\n",
      "126\n",
      "127\n",
      "128\n",
      "129\n",
      "130\n",
      "131\n",
      "132\n",
      "133\n",
      "134\n",
      "135\n",
      "136\n",
      "137\n",
      "138\n",
      "139\n",
      "140\n",
      "141\n",
      "142\n",
      "143\n",
      "144\n",
      "145\n",
      "146\n",
      "147\n",
      "148\n",
      "149\n",
      "150\n",
      "151\n",
      "152\n",
      "153\n",
      "154\n",
      "155\n",
      "156\n",
      "157\n",
      "158\n",
      "159\n",
      "160\n",
      "161\n",
      "162\n",
      "163\n",
      "164\n",
      "165\n",
      "166\n",
      "167\n",
      "168\n",
      "169\n",
      "170\n",
      "171\n",
      "172\n",
      "173\n",
      "174\n",
      "175\n",
      "176\n",
      "177\n",
      "178\n",
      "179\n",
      "180\n",
      "181\n",
      "182\n",
      "183\n",
      "184\n",
      "185\n",
      "186\n",
      "187\n",
      "188\n",
      "189\n",
      "190\n",
      "191\n",
      "192\n",
      "193\n",
      "194\n",
      "195\n",
      "196\n",
      "197\n",
      "198\n",
      "199\n",
      "200\n",
      "201\n",
      "202\n",
      "203\n",
      "204\n",
      "205\n",
      "206\n",
      "207\n",
      "208\n",
      "209\n",
      "210\n",
      "211\n",
      "212\n",
      "213\n",
      "214\n",
      "215\n",
      "216\n",
      "217\n",
      "218\n",
      "219\n",
      "220\n",
      "221\n",
      "222\n",
      "223\n",
      "224\n",
      "225\n",
      "226\n",
      "227\n",
      "228\n",
      "229\n",
      "230\n",
      "231\n",
      "232\n",
      "233\n",
      "234\n",
      "235\n",
      "236\n",
      "237\n",
      "238\n",
      "239\n",
      "240\n",
      "241\n",
      "242\n",
      "243\n",
      "244\n",
      "245\n",
      "246\n",
      "247\n",
      "248\n",
      "249\n",
      "250\n",
      "251\n",
      "252\n",
      "253\n",
      "254\n",
      "255\n",
      "256\n",
      "257\n",
      "258\n",
      "259\n",
      "260\n",
      "261\n",
      "262\n",
      "263\n",
      "264\n",
      "265\n",
      "266\n",
      "267\n",
      "268\n",
      "269\n",
      "270\n",
      "271\n",
      "272\n",
      "273\n",
      "274\n",
      "275\n",
      "276\n",
      "277\n",
      "278\n",
      "279\n",
      "280\n",
      "281\n",
      "282\n",
      "283\n",
      "284\n",
      "285\n",
      "286\n",
      "287\n",
      "288\n",
      "289\n",
      "290\n",
      "291\n",
      "292\n",
      "293\n",
      "294\n",
      "295\n",
      "296\n",
      "297\n",
      "298\n",
      "299\n",
      "300\n",
      "301\n",
      "302\n",
      "303\n",
      "304\n",
      "305\n",
      "306\n",
      "307\n",
      "308\n",
      "309\n",
      "310\n",
      "311\n",
      "312\n",
      "313\n",
      "314\n",
      "315\n",
      "316\n",
      "317\n",
      "318\n",
      "319\n",
      "320\n",
      "321\n",
      "322\n",
      "323\n",
      "324\n",
      "325\n",
      "326\n",
      "327\n",
      "328\n",
      "329\n",
      "330\n",
      "331\n",
      "332\n",
      "333\n",
      "334\n",
      "335\n",
      "336\n",
      "337\n",
      "338\n",
      "339\n",
      "340\n",
      "341\n",
      "342\n",
      "343\n",
      "344\n",
      "345\n",
      "346\n",
      "347\n",
      "348\n",
      "349\n",
      "350\n",
      "351\n",
      "352\n",
      "353\n",
      "354\n",
      "355\n",
      "356\n",
      "357\n",
      "358\n",
      "359\n",
      "360\n",
      "361\n",
      "362\n",
      "363\n",
      "364\n",
      "365\n",
      "366\n",
      "367\n",
      "368\n",
      "369\n",
      "370\n",
      "371\n",
      "372\n",
      "373\n",
      "374\n",
      "375\n",
      "376\n",
      "377\n",
      "378\n",
      "379\n",
      "380\n",
      "381\n",
      "382\n",
      "383\n",
      "384\n",
      "385\n",
      "386\n",
      "387\n",
      "388\n",
      "389\n",
      "390\n",
      "391\n",
      "392\n",
      "393\n",
      "394\n",
      "395\n",
      "396\n",
      "397\n",
      "398\n",
      "399\n",
      "400\n",
      "401\n",
      "402\n",
      "403\n",
      "404\n",
      "405\n",
      "406\n",
      "407\n",
      "408\n",
      "409\n",
      "410\n",
      "411\n",
      "412\n",
      "413\n",
      "414\n",
      "415\n",
      "416\n",
      "417\n",
      "418\n",
      "419\n",
      "420\n",
      "421\n",
      "422\n",
      "423\n",
      "424\n",
      "425\n",
      "426\n",
      "427\n",
      "428\n",
      "429\n",
      "430\n",
      "431\n",
      "432\n",
      "433\n",
      "434\n",
      "435\n",
      "436\n",
      "437\n",
      "438\n",
      "439\n",
      "440\n",
      "441\n",
      "442\n",
      "443\n",
      "444\n",
      "445\n",
      "446\n",
      "447\n",
      "448\n",
      "449\n",
      "450\n",
      "451\n",
      "452\n",
      "453\n",
      "454\n",
      "455\n",
      "456\n",
      "457\n",
      "458\n",
      "459\n",
      "460\n",
      "461\n",
      "462\n",
      "463\n",
      "464\n",
      "465\n",
      "466\n",
      "467\n",
      "468\n",
      "469\n",
      "470\n",
      "471\n",
      "472\n",
      "473\n",
      "474\n",
      "475\n",
      "476\n",
      "477\n",
      "478\n",
      "479\n",
      "480\n",
      "481\n",
      "482\n",
      "483\n",
      "484\n",
      "485\n",
      "486\n",
      "487\n",
      "488\n",
      "489\n",
      "490\n",
      "491\n",
      "492\n",
      "493\n",
      "494\n",
      "495\n",
      "496\n",
      "497\n",
      "498\n",
      "499\n",
      "500\n",
      "501\n",
      "502\n",
      "503\n",
      "504\n",
      "505\n",
      "506\n",
      "507\n",
      "508\n",
      "509\n",
      "510\n",
      "511\n",
      "512\n",
      "513\n",
      "514\n",
      "515\n",
      "516\n",
      "517\n",
      "518\n",
      "519\n",
      "520\n",
      "521\n",
      "522\n",
      "523\n",
      "524\n",
      "525\n",
      "526\n",
      "527\n",
      "528\n",
      "529\n",
      "530\n",
      "531\n",
      "532\n",
      "533\n",
      "534\n",
      "535\n",
      "536\n",
      "537\n",
      "538\n",
      "539\n",
      "540\n",
      "541\n",
      "542\n",
      "543\n",
      "544\n",
      "545\n",
      "546\n",
      "547\n",
      "548\n",
      "549\n",
      "550\n",
      "551\n",
      "552\n",
      "553\n",
      "554\n",
      "555\n",
      "556\n",
      "557\n",
      "558\n",
      "559\n",
      "560\n",
      "561\n",
      "562\n",
      "563\n",
      "564\n",
      "565\n",
      "566\n",
      "567\n",
      "568\n",
      "569\n",
      "570\n",
      "571\n",
      "572\n",
      "573\n",
      "574\n",
      "575\n",
      "576\n",
      "577\n",
      "578\n",
      "579\n",
      "580\n",
      "581\n",
      "582\n",
      "583\n",
      "584\n",
      "585\n",
      "586\n",
      "587\n",
      "588\n",
      "589\n",
      "590\n",
      "591\n",
      "592\n",
      "593\n",
      "594\n",
      "595\n",
      "596\n",
      "597\n",
      "598\n",
      "599\n",
      "600\n",
      "601\n",
      "602\n",
      "603\n",
      "604\n",
      "605\n",
      "606\n",
      "607\n",
      "608\n",
      "609\n",
      "610\n",
      "611\n",
      "612\n",
      "613\n",
      "614\n",
      "615\n",
      "616\n",
      "617\n",
      "618\n",
      "619\n",
      "620\n",
      "621\n",
      "622\n",
      "623\n",
      "624\n",
      "625\n",
      "626\n",
      "627\n",
      "628\n",
      "629\n",
      "630\n",
      "631\n",
      "632\n",
      "633\n",
      "634\n",
      "635\n",
      "636\n",
      "637\n",
      "638\n",
      "639\n",
      "640\n",
      "641\n",
      "642\n",
      "643\n",
      "644\n",
      "645\n",
      "646\n",
      "647\n",
      "648\n",
      "649\n",
      "650\n",
      "651\n",
      "652\n",
      "653\n",
      "654\n",
      "655\n",
      "656\n",
      "657\n",
      "658\n",
      "659\n",
      "660\n",
      "661\n",
      "662\n",
      "663\n",
      "664\n",
      "665\n",
      "666\n",
      "667\n",
      "668\n",
      "669\n",
      "670\n",
      "671\n",
      "672\n",
      "673\n",
      "674\n",
      "675\n",
      "676\n",
      "677\n",
      "678\n",
      "679\n",
      "680\n",
      "681\n",
      "682\n",
      "683\n",
      "684\n",
      "685\n",
      "686\n",
      "687\n",
      "688\n",
      "689\n",
      "690\n",
      "691\n",
      "692\n",
      "693\n",
      "694\n",
      "695\n",
      "696\n",
      "697\n",
      "698\n",
      "699\n",
      "700\n",
      "701\n",
      "702\n",
      "703\n",
      "704\n",
      "705\n",
      "706\n",
      "707\n",
      "708\n",
      "709\n",
      "710\n",
      "711\n",
      "712\n",
      "713\n",
      "714\n",
      "715\n",
      "716\n",
      "717\n",
      "718\n",
      "719\n",
      "720\n",
      "721\n",
      "722\n",
      "723\n",
      "724\n",
      "725\n",
      "726\n",
      "727\n",
      "728\n",
      "729\n",
      "730\n",
      "731\n",
      "732\n",
      "733\n",
      "734\n",
      "735\n",
      "736\n",
      "737\n",
      "738\n",
      "739\n",
      "740\n",
      "741\n",
      "742\n",
      "743\n",
      "744\n",
      "745\n",
      "746\n",
      "747\n",
      "748\n",
      "749\n",
      "750\n",
      "751\n",
      "752\n",
      "753\n",
      "754\n",
      "755\n",
      "756\n",
      "757\n",
      "758\n",
      "759\n",
      "760\n",
      "761\n",
      "762\n",
      "763\n",
      "764\n",
      "765\n",
      "766\n",
      "767\n",
      "768\n",
      "769\n",
      "770\n",
      "771\n",
      "772\n",
      "773\n",
      "774\n",
      "775\n",
      "776\n",
      "777\n",
      "778\n",
      "779\n"
     ]
    }
   ],
   "source": [
    "dic_images={}\n",
    "for i in range(len(evento)):\n",
    "    data=df_full[evento.iloc[i][\"inicio evento\"]:evento.iloc[i][\"fin perdida\"]]\n",
    "    ini_titulo=evento.iloc[i][\"inicio evento\"]\n",
    "    #print(evento.iloc[i][\"inicio evento\"])\n",
    "    titulos=tuple([\"TPH & HH TPH\", \"CC, recommendation HH CC, HH CC & LL CC\",\"granulometry\",\"SPI\",\"loss of TPH\",\"diff. HH TPH between TPH\",\n",
    "    \"greater than HH CC\",\"greater than Rec HH CC\",\"Rec HH CC less than HH CC\",\"less than LL CC\",\"start loss tph\",\"end loss tph\",\"water\",\"speed\",\"solid percentage\"])\n",
    "    fig = make_subplots(\n",
    "        rows=5, cols=3,\n",
    "        subplot_titles=titulos,\n",
    "        #subplot_titles=tuple(\"TPH y HH TPH,\"),\n",
    "        #shared_xaxes=True\n",
    "        )\n",
    "\n",
    "\n",
    "    fig.add_trace(go.Scatter(x=data.index, y=data['TPH'], ##FF6511\n",
    "                        mode='lines',\n",
    "                        name=\"TPH\",line=dict(width=3, ),legendgroup = '1'),row=1, col=1)  \n",
    "\n",
    "    fig.add_trace(go.Scatter(x=data.index, y=data['HH TPH'], ##FF6511\n",
    "                        mode='lines',\n",
    "                        name=\"HH TPH\",line=dict(width=3, ),legendgroup = '1'),row=1, col=1)  \n",
    "\n",
    "    #fig.add_trace(go.Scatter(x=data.index, y=data[\"TPH predict\"], ##FF6511\n",
    "    #                    mode='lines',\n",
    "    #                    name=\"regressor model TPH\",line=dict(width=1,color=\"black\" ),legendgroup = '1'),row=1, col=1)  \n",
    "\n",
    "    fig.add_trace(go.Scatter(x=data.index, y=data['charge cell'], \n",
    "                        mode='lines',\n",
    "                        name=\"charge cell\",line=dict(width=3, ),legendgroup = '1'),row=1, col=2)  \n",
    "\n",
    "\n",
    "\n",
    "    fig.add_trace(go.Scatter(x=data.index, y=data['LL charge cell'], ##FF6511\n",
    "                        mode='lines',\n",
    "                        name=\"LL charge cell\",line=dict(width=3,),legendgroup = '1'),row=1, col=2)  \n",
    "\n",
    "    fig.add_trace(go.Scatter(x=data.index, y=data['HH charge cell'], ##FF6511\n",
    "                        mode='lines',\n",
    "                        name=\"HH charge cell\",line=dict(width=3,),legendgroup = '1'),row=1, col=2)  \n",
    "\n",
    "    fig.add_trace(go.Scatter(x=data.index, y=data[\"recommendation\"], ##FF6511\n",
    "                        mode='lines',\n",
    "                        name=\"recommendation HH CC\",line=dict(width=1,color=\"black\"),legendgroup = '1'),row=1, col=2)  \n",
    "\n",
    "    fig.add_trace(go.Scatter(x=data.index, y=data['granulometry'], ##FF6511\n",
    "                        mode='lines',\n",
    "                        name='granulometry',line=dict(width=3,),legendgroup = '1'),row=1, col=3)  \n",
    "\n",
    "\n",
    "    fig.add_trace(go.Scatter(x=data.index, y=data['sag power index'], ##FF6511\n",
    "                        mode='lines',\n",
    "                        name=\"sag power index\",line=dict(width=3, ),legendgroup = '1'),row=2, col=1)  \n",
    "\n",
    "\n",
    "\n",
    "    fig.add_trace(go.Scatter(x=data.index, y=data['speed'], ##FF6511\n",
    "                        mode='lines',\n",
    "                        name=\"speed\",line=dict(width=3, ),legendgroup = '1'),row=5, col=2)  \n",
    "\n",
    "    fig.add_trace(go.Scatter(x=data.index, y=data['solid percentage'], ##FF6511\n",
    "                        mode='lines',\n",
    "                        name='solid percentage',line=dict(width=3, ),legendgroup = '1'),row=5, col=3)  \n",
    "\n",
    "\n",
    "    for u in range(1,6):\n",
    "        for v in range(1,4):\n",
    "                fig.update_xaxes(tickformat=\"%H:%M\",row=u, col=v)\n",
    "\n",
    "\n",
    "    fig.add_trace(go.Scatter(x=data.index, y=data[ 'water'], ##FF6511\n",
    "                        mode='lines',\n",
    "                        name= 'water',line=dict(width=3, ),legendgroup = '1'),row=5, col=1)  \n",
    "\n",
    "\n",
    "\n",
    "    fig.add_trace(go.Scatter(x=data.index, y=data[  'loss of TPH'], ##FF6511\n",
    "                        mode='lines',\n",
    "                        name=  'loss of TPH',line=dict(width=3, ),legendgroup = '1'),row=2, col=2)  \n",
    "\n",
    "\n",
    "    fig.add_trace(go.Scatter(x=data.index, y=data[ \"dif_TPH_HH\"], ##FF6511\n",
    "                        mode='lines',\n",
    "                        name=  \"dif_TPH_HH\",line=dict(width=3, ),legendgroup = '1'),row=2, col=3)  \n",
    "\n",
    "\n",
    "    fig.add_trace(go.Scatter(x=data.index, y=data[ 'greater than HH CC'], ##FF6511\n",
    "                        mode='lines',\n",
    "                        name=  'greater than HH CC',line=dict(width=3, ),legendgroup = '1'),row=3, col=1)  \n",
    "\n",
    "    fig.add_trace(go.Scatter(x=data.index, y=data[ 'less than LL CC'], ##FF6511\n",
    "                        mode='lines',\n",
    "                        name=  'less than LL CC',line=dict(width=3, ),legendgroup = '1'),row=4, col=1)  \n",
    "\n",
    "\n",
    "    fig.add_trace(go.Scatter(x=data.index, y=data[ 'start loss tph'], ##FF6511\n",
    "                        mode='lines',\n",
    "                        name=  'start loss tph',line=dict(width=3, ),legendgroup = '1'),row=4, col=2)  \n",
    "\n",
    "    fig.add_trace(go.Scatter(x=data.index, y=data[ 'end loss tph'], ##FF6511\n",
    "                        mode='lines',\n",
    "                        name=  'end loss tph',line=dict(width=3, ),legendgroup = '1'),row=4, col=3)  \n",
    "\n",
    "    fig.add_trace(go.Scatter(x=data.index, y=data[ 'greater than Rec HH CC'], ##FF6511\n",
    "                        mode='lines',\n",
    "                        name=  'greater than rec HH CC',line=dict(width=3, ),legendgroup = '1'),row=3, col=2)  \n",
    "\n",
    "    fig.add_trace(go.Scatter(x=data.index, y=data[ \"Rec HH CC less than HH CC\"], ##FF6511\n",
    "                        mode='lines',\n",
    "                        name=  \"Rec HH CC less than HH CC\",line=dict(width=3, ),legendgroup = '1'),row=3, col=3)  \n",
    "    fig.update_layout(height=1000, width=1500, title_text=f\"Temporal signal analysis - {ini_titulo}\")\n",
    "    fig.update_layout(hovermode=\"x unified\")\n",
    "    #\n",
    "\n",
    "    #fig.show()\n",
    "    fecha=ini_titulo.strftime(\"%Y-%m-%d\")\n",
    "    dic_images[i]=fig\n",
    "    fig.write_image(f\"../../images/Escenarios perdida de TPH sin pasar recomendación (bad) (sin sistema de control)/{i}_fig_{fecha}.png\")\n",
    "    print(i)\n"
   ]
  }
 ],
 "metadata": {
  "kernelspec": {
   "display_name": "Python 3.9.6 ('Programacion_Cientifica')",
   "language": "python",
   "name": "python3"
  },
  "language_info": {
   "codemirror_mode": {
    "name": "ipython",
    "version": 3
   },
   "file_extension": ".py",
   "mimetype": "text/x-python",
   "name": "python",
   "nbconvert_exporter": "python",
   "pygments_lexer": "ipython3",
   "version": "3.9.6"
  },
  "orig_nbformat": 4,
  "vscode": {
   "interpreter": {
    "hash": "65e97ffa20fbdd895c76c3a1d2c2ade704754874d6e45df701862667e65d73d7"
   }
  }
 },
 "nbformat": 4,
 "nbformat_minor": 2
}
