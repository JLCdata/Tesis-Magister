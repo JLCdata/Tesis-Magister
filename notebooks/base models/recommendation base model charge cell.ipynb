{
 "cells": [
  {
   "cell_type": "markdown",
   "metadata": {},
   "source": [
    "# Modelo base charge cell Anglo American"
   ]
  },
  {
   "cell_type": "code",
   "execution_count": 1,
   "metadata": {},
   "outputs": [],
   "source": [
    "import pandas as pd\n",
    "import numpy as np\n",
    "import matplotlib.pyplot as plt\n",
    "import seaborn as sns\n",
    "from datetime import datetime\n",
    "from datetime import timedelta\n",
    "import re\n",
    "from dateutil.parser import parse\n",
    "import string\n",
    "import warnings\n",
    "warnings.filterwarnings('ignore')\n",
    "import plotly.graph_objects as go\n",
    "import missingno as msno\n",
    "from plotly.subplots import make_subplots\n",
    "from sklearn.preprocessing import MinMaxScaler\n",
    "import scipy\n",
    "import researchpy as rp\n",
    "from matplotlib.offsetbox import AnchoredText\n",
    "import pacmap\n",
    "from sklearn.compose import ColumnTransformer\n",
    "from sklearn.cluster import KMeans\n",
    "from sklearn.pipeline import Pipeline\n",
    "import plotly.express as px\n",
    "import pickle\n",
    "import pmdarima as pm\n",
    "from ipywidgets import Button, HBox, VBox\n",
    "from ipywidgets import interactive\n",
    "import ipywidgets\n",
    "sns.set_style(\"darkgrid\")\n",
    "pd.set_option('display.max_columns', None)\n",
    "pd.options.display.max_colwidth = 100"
   ]
  },
  {
   "cell_type": "code",
   "execution_count": 2,
   "metadata": {},
   "outputs": [],
   "source": [
    "# Definición de tags relevantes\n",
    "tag_granulometria=['CF:CVB007_S2.PNT.FOX']\n",
    "\n",
    "tag_dispatch=['disp_crusher_index', 'disp_sag_power_index', 'disp_ball_work_index','disp_ley_calcopirita', \n",
    "             'disp_ley_pirita']\n",
    "\n",
    "tag_metrica=['CF:EXPERTO:EXP_MS_A.MEAS_7.FOX','CF:EXPERTO:EXP_MS_A.MEAS_1.FOX','CF:215.WIC1605A.MEAS.FOX',\n",
    "              'CF:EXPERTO:EXP_MS_A.MEAS_5.FOX','CF:225.WIC8067.MEAS.FOX']"
   ]
  },
  {
   "cell_type": "code",
   "execution_count": 3,
   "metadata": {},
   "outputs": [],
   "source": [
    "# read\n",
    "tags=pd.read_excel(\"../data/meta data/tags relevantes.xlsx\")\n",
    "tags_cc=tags.tag.to_list()\n",
    "dic={}\n",
    "for i,j in zip(tags.tag,tags.description):\n",
    "    dic[i]=j"
   ]
  },
  {
   "cell_type": "code",
   "execution_count": 4,
   "metadata": {},
   "outputs": [],
   "source": [
    "campañas=pd.read_csv(\"../data/meta data/campaign_29September2022.csv\")\n",
    "campañas[\"Fechas\"]=campañas[\"Fechas\"]+' 00:00:00'\n",
    "campañas.Fechas=pd.to_datetime(campañas.Fechas)"
   ]
  },
  {
   "cell_type": "code",
   "execution_count": 5,
   "metadata": {},
   "outputs": [],
   "source": [
    "inicios_campañas=campañas.Fechas.to_list()"
   ]
  },
  {
   "cell_type": "code",
   "execution_count": 6,
   "metadata": {},
   "outputs": [],
   "source": [
    "# Se lee csv\n",
    "liners_age=pd.read_csv('../data/processed data/liners_age_30September2022.csv', parse_dates=['Timestamp'], index_col='Timestamp')"
   ]
  },
  {
   "cell_type": "code",
   "execution_count": 7,
   "metadata": {},
   "outputs": [],
   "source": [
    "# Se lee csv\n",
    "df=pd.read_csv('../data/processed data/cleaned_28September2022.csv', parse_dates=['Timestamp'], index_col='Timestamp')\n",
    "df.sort_index(inplace=True)\n",
    "#df.rename(columns=dic,inplace=True)\n",
    "df=df.join(liners_age).interpolate()"
   ]
  },
  {
   "cell_type": "markdown",
   "metadata": {},
   "source": [
    "### Carga de modelos"
   ]
  },
  {
   "cell_type": "code",
   "execution_count": 8,
   "metadata": {},
   "outputs": [],
   "source": [
    "# Se carga clasificador de mineralogia\n",
    "kmeans = pickle.load(open('..//models//pickles//clasificador mineralogico.pkl', 'rb'))\n",
    "# Se carga la curva de celda de carga v/s granulometria (dado un subcontexto)\n",
    "dic = pickle.load(open('..//models//pickles//Curvas de celda de carga vs granulometria productivo.pkl', 'rb'))"
   ]
  },
  {
   "cell_type": "code",
   "execution_count": 9,
   "metadata": {},
   "outputs": [],
   "source": [
    "# F80\n",
    "# Carga F80\n",
    "\n",
    "# Funciones Auxiliares para que predicts esten entre 20 y 90.\n",
    "def transform(x, a=20, b=90):\n",
    "    return np.log((x-a)/(b-x))\n",
    "def inverse_transform(y, a=20, b=90):\n",
    "    return (b-a)/(1+np.exp(-y))+a\n",
    "\n",
    "# Modelo auto ARIMA\n",
    "\n",
    "def forecast_granulometry2(ts1, time_forward=1, freq='15T', certeza=95):\n",
    "    #dejamos a la frecuencia de datos pedida\n",
    "    ts1=ts1.groupby(pd.Grouper(freq=freq)).apply(np.nanmean)\n",
    "    #Acá no necesitamos el tiempo directamente.\n",
    "    #acá le aplicamos la transformación. Seguimos trabajando con una serie de tiempo.\n",
    "    tmp=ts1.apply(lambda x: transform(x))\n",
    "    #aca vemos si hay algo seasonal\n",
    "    ft = np.fft.fft(tmp.values) / len(tmp.values)  # Normalize amplitude and apply the FFT\n",
    "    ft = ft[range(int(len(tmp.values)/2))]   # Exclude sampling frequency\n",
    "    frecuencia = np.arange(int(len(tmp.values) / 2)) / len(tmp.values)\n",
    "    seasonal = int(1/pd.Series(abs(ft), index=frecuencia).iloc[2:100].idxmax())\n",
    "    \n",
    "    if seasonal > 3: #En este caso es true, ahora hagamos el pd autoarima con seasonal true\n",
    "        model1 = pm.auto_arima(tmp, \n",
    "                      start_p=1, start_q=1, max_p=20, max_q=20, m=min(20,seasonal),\n",
    "                             start_P=0, seasonal=True, d=1, D=1, trace=False,\n",
    "                             error_action='ignore',  \n",
    "                             suppress_warnings=True,\n",
    "                             stepwise=True)\n",
    "    else:\n",
    "        model1 = pm.auto_arima(tmp, \n",
    "                      start_p=1, start_q=1, max_p=20, max_q=20,\n",
    "                             start_P=0, seasonal=False, trace=False,\n",
    "                             error_action='ignore',  \n",
    "                             suppress_warnings=True,\n",
    "                             stepwise=True)\n",
    "    \n",
    "    forecasts, conf = model1.predict(n_periods=len(pd.date_range(start=ts1.index[-1],\n",
    "                        end=ts1.index[-1]+timedelta(hours=time_forward), freq=freq)[0:])-1,\n",
    "                                     return_conf_int=True, alpha=(100-certeza)/100)\n",
    "    ts = pd.Series(np.insert(forecasts,0,tmp.iloc[-1], axis=0),\n",
    "          index=pd.date_range(start=ts1.index[-1],end=ts1.index[-1]+timedelta(hours=time_forward),\n",
    "                              freq=freq)[0:]).apply(lambda x: inverse_transform(x))\n",
    "    \n",
    "    error=pd.DataFrame({'Lower_Bound':np.insert(conf[:,0], 0, tmp[ts1.index[-1]], axis=0),\n",
    "    'Upper_Bound':np.insert(conf[:,1], 0,tmp[ts1.index[-1]], axis=0)},\n",
    "        index=pd.date_range(start=ts1.index[-1],end=ts1.index[-1]+timedelta(hours=time_forward),\n",
    "                            freq=freq)[0:]).apply(lambda x: inverse_transform(x) , axis=1)\n",
    "    return pd.concat([ts.rename('Granulometria'),error], axis=1)\n"
   ]
  },
  {
   "cell_type": "code",
   "execution_count": 10,
   "metadata": {},
   "outputs": [],
   "source": [
    "# Recomendación \n",
    "def recommendationcc(disp_crusher_index,disp_sag_power_index,disp_ball_work_index,\n",
    "                     disp_ley_calcopirita,disp_ley_pirita,granulometria,\n",
    "                     fecha_testeo,\n",
    "                     fecha_instalacion_revestimientos\n",
    "                    ):\n",
    "    '''\n",
    "    Recibe como input datos de dispatch, granulometría, fecha de consulta y fecha de instalación de revestimientos.\n",
    "    \n",
    "    Entrega como output la recomendación de celda de carga.\n",
    "    '''\n",
    "        \n",
    "    # Dato para clustering mineralogia   \n",
    "    mineralogia=np.array([[disp_crusher_index, disp_sag_power_index, disp_ball_work_index,\n",
    "                           disp_ley_calcopirita, disp_ley_pirita]])\n",
    "                         \n",
    "    \n",
    "    # Se clasifica mineralogia\n",
    "    categoria = kmeans.predict(mineralogia)\n",
    "    \n",
    "    # Edad SAG\n",
    "    edad_sag = min((fecha_testeo-fecha_instalacion_revestimientos).days//60,2)\n",
    "\n",
    "    # Generación del subcontexto\n",
    "    subcontexto = str(edad_sag) + str(categoria[0])\n",
    "  \n",
    "    # Obtención de la recomendación\n",
    "    consejo=dic[subcontexto].loc[granulometria][\"cc\"]\n",
    "    \n",
    "    return consejo"
   ]
  },
  {
   "cell_type": "code",
   "execution_count": 11,
   "metadata": {},
   "outputs": [],
   "source": [
    "def generate_data(anio,mes,dia,hr):\n",
    "    \n",
    "    '''\n",
    "    Recibe como input la fecha de consulta, en formato año, mes y dia entero y hora string.\n",
    "    \n",
    "    Entrega data necesaria para estructurar la sabana final que permite la visualización de los modelos. \n",
    "    Adicionalmente entrega la fecha de consulta.\n",
    "    '''\n",
    "    \n",
    "    # Se recibe año, mes, dia y hora de la consulta\n",
    "    s1=str(anio)+'-'+str(mes)+'-'+str(dia) # seteo en string de la consulta\n",
    "    \n",
    "    h1=hr # Se guarda la hora de consulta\n",
    "    \n",
    "    # Fecha consulta\n",
    "    consulta=parse(s1+' '+h1) \n",
    "    \n",
    "    # Generación de dataframe\n",
    "    data =df.copy()\n",
    "    \n",
    "    # shift de 5 horas data dispatch\n",
    "    data[tag_dispatch]=data[tag_dispatch].shift(4*5)\n",
    "    \n",
    "    # Extracción de tags a usar\n",
    "    data=data[tag_dispatch+tag_granulometria+tag_metrica].interpolate()\n",
    "    \n",
    "    # Rango de visualización\n",
    "    start_1= consulta-timedelta(hours=5)\n",
    "    end_1 = consulta+timedelta(hours=3)\n",
    "    timestamps15_1 = pd.date_range(start_1, end_1, freq='15min')\n",
    "    \n",
    "    # Reindex & interpolate\n",
    "    data=data.reindex(timestamps15_1)\n",
    "    \n",
    "    return data,consulta"
   ]
  },
  {
   "cell_type": "code",
   "execution_count": 12,
   "metadata": {},
   "outputs": [],
   "source": [
    "def generate_data_past(data,consulta,fecha_instalacion_revestimientos):\n",
    "    \n",
    "    '''\n",
    "    Recibe como input data generada generate_data, consulta y ultima fecha de instalación revestimientos.\n",
    "    \n",
    "    Entrega como output la data \"pasado\" para la visualización, esto incluye la recomendación de celda de carga con el tag \n",
    "    de granulometría.\n",
    "    '''\n",
    "    # Copia de data\n",
    "    data_forecast=data.copy()\n",
    "    \n",
    "    # times 15min \n",
    "    start_past= consulta-timedelta(hours=5)\n",
    "    end_past= consulta\n",
    "    timestamps15_past = pd.date_range(start_past, end_past, freq='15min')\n",
    "    \n",
    "    data_forecast=data.reindex(timestamps15_past)\n",
    "    \n",
    "    # Recomendación  con tag granulometria\n",
    "    data_forecast[\"cc_tag_gran\"]=data_forecast.apply(lambda row: recommendationcc(row[\"disp_crusher_index\"],\n",
    "                                              row[\"disp_sag_power_index\"],\n",
    "                                              row[\"disp_ball_work_index\"],\n",
    "                                              row[\"disp_ley_calcopirita\"],\n",
    "                                              row[\"disp_ley_pirita\"],\n",
    "                                              row[\"CF:CVB007_S2.PNT.FOX\"],\n",
    "                                            row.name,\n",
    "                                            fecha_instalacion_revestimientos\n",
    "                                                    ),axis=1)-80\n",
    "    \n",
    "    # Definición de status para el posterior concat para generar la sabana que permite la visualización\n",
    "    data_forecast[\"status\"]=\"past\"\n",
    "    #data_forecast[\"consulta\"]=consulta\n",
    "    \n",
    "    return data_forecast"
   ]
  },
  {
   "cell_type": "code",
   "execution_count": 13,
   "metadata": {},
   "outputs": [],
   "source": [
    "# recibe como input data del futuro para generar la recomendación a futuro\n",
    "def generate_recomendation_cc(df,fecha_instalacion_revestimientos):\n",
    "    \n",
    "    '''\n",
    "    Función utilizada para generar las recomendaciones de celda de carga para cada rango de granulometría predecido.\n",
    "    '''\n",
    "    \n",
    "    # Recomendación forecasting esperado\n",
    "    y_predCC_esperado=df.apply(lambda row: recommendationcc(row[\"disp_crusher_index\"],\n",
    "                                                  row[\"disp_sag_power_index\"],\n",
    "                                                  row[\"disp_ball_work_index\"],\n",
    "                                                  row[\"disp_ley_calcopirita\"],\n",
    "                                                  row[\"disp_ley_pirita\"],\n",
    "                                                  row[\"f80_esperado\"],\n",
    "                                                row.name,\n",
    "                                                fecha_instalacion_revestimientos\n",
    "                                                        ),axis=1)-80\n",
    "\n",
    "    # Recomendación con forecasting limite superior\n",
    "    y_predCC_sup=df.apply(lambda row: recommendationcc(row[\"disp_crusher_index\"],\n",
    "                                                  row[\"disp_sag_power_index\"],\n",
    "                                                  row[\"disp_ball_work_index\"],\n",
    "                                                  row[\"disp_ley_calcopirita\"],\n",
    "                                                  row[\"disp_ley_pirita\"],\n",
    "                                                  row[\"f80_sup\"],\n",
    "                                                row.name,\n",
    "                                                fecha_instalacion_revestimientos\n",
    "                                                        ),axis=1)-80\n",
    "\n",
    "    # Recomendación con forecasting limite inferior\n",
    "    y_predCC_inf=df.apply(lambda row: recommendationcc(row[\"disp_crusher_index\"],\n",
    "                                                  row[\"disp_sag_power_index\"],\n",
    "                                                  row[\"disp_ball_work_index\"],\n",
    "                                                  row[\"disp_ley_calcopirita\"],\n",
    "                                                  row[\"disp_ley_pirita\"],\n",
    "                                                  row[\"f80_inf\"],\n",
    "                                                row.name,\n",
    "                                                fecha_instalacion_revestimientos\n",
    "                                                        ),axis=1)-80\n",
    "    \n",
    "    rec=pd.DataFrame({\"cc_esperado\":y_predCC_esperado,\"cc_sup\":y_predCC_sup,\"cc_inf\":y_predCC_inf})\n",
    "    \n",
    "    return rec"
   ]
  },
  {
   "cell_type": "code",
   "execution_count": 15,
   "metadata": {},
   "outputs": [],
   "source": [
    "def generate_data_future(data,data_past,tag_dispatch,consulta,fecha_instalacion_revestimientos):\n",
    "    \n",
    "    '''\n",
    "    Genera las predicciones de los modelos a partir de data past. Recibe como input tags de dispatch, fecha de consulta y\n",
    "    fecha de instalación de liners.\n",
    "    \n",
    "    Entrega como output todas las predicciones y rangos en un dataframe.\n",
    "    '''\n",
    "    # Copia de data\n",
    "    futuro=data[tag_dispatch+['CF:CVB007_S2.PNT.FOX']].copy()\n",
    "    futuro.rename(inplace=True,columns={'CF:CVB007_S2.PNT.FOX': \"test_F80\"})\n",
    "    \n",
    "    # times 15min \n",
    "    start_future= consulta\n",
    "    end_future= consulta+timedelta(hours=3)\n",
    "    timestamps15_future = pd.date_range(start_future, end_future, freq='15min')\n",
    "    \n",
    "    # Reindex\n",
    "    futuro=futuro.reindex(timestamps15_future)\n",
    "    \n",
    "    # Definición de status para el posterior concat para generar la sabana que permite la visualización\n",
    "    futuro[\"status\"]=\"predict\"\n",
    "    \n",
    "    # Predict F80 a partir de data past\n",
    "    ts1=data_past['CF:CVB007_S2.PNT.FOX']\n",
    "    predict_f80=forecast_granulometry2(ts1, time_forward=3, freq='15T', certeza=65).rename(columns={\"Granulometria\": \n",
    "                                                                                                    \"f80_esperado\", \n",
    "                                                                                        \"Lower_Bound\": \"f80_inf\",\n",
    "                                                                                        \"Upper_Bound\": \"f80_sup\"\n",
    "                                                                                       })\n",
    "    \n",
    "    # Join de f80 a la data futuro\n",
    "    futuro=futuro.join(predict_f80)\n",
    "    \n",
    "    # Recomendación CC\n",
    "    rec_cc=generate_recomendation_cc(futuro,fecha_instalacion_revestimientos)\n",
    "    \n",
    "    # join celda de carga\n",
    "    futuro=futuro.join(rec_cc)\n",
    "    \n",
    "    return futuro\n"
   ]
  },
  {
   "cell_type": "code",
   "execution_count": 16,
   "metadata": {},
   "outputs": [],
   "source": [
    "def generate_sabana(data_past,data_future,consulta,fecha_instalacion_revestimientos):\n",
    "    '''\n",
    "    Genera sabana para su visuaización, contiene fecha de instalación de liners, edad del molino, fecha de consulta,\n",
    "    data train y test.\n",
    "    \n",
    "    '''\n",
    "    \n",
    "    sabanita=pd.concat([data_past,data_future],axis=0)\n",
    "    \n",
    "    resumen_inst=pd.Series(fecha_instalacion_revestimientos).dt.strftime('%Y-%m-%d')[0]\n",
    "    edad_sag = min((consulta-fecha_instalacion_revestimientos).days//60,2)\n",
    "    edad={0:\"Nuevo\",1:\"Medio\",2:\"Viejo\"}\n",
    "    \n",
    "    sabanita[\"inst_liners\"]=resumen_inst\n",
    "    sabanita[\"consulta\"]= consulta\n",
    "    sabanita[\"edad_molino\"]=edad[edad_sag]\n",
    "    sabanita.reset_index(drop=False,inplace=True)\n",
    "    sabanita.rename(inplace=True,columns={\"index\": \"timestamp\"})\n",
    "    return sabanita"
   ]
  },
  {
   "cell_type": "code",
   "execution_count": 17,
   "metadata": {},
   "outputs": [],
   "source": [
    "def generate_data_dashboard(anio,mes,dia,hr,inicios_campañas):\n",
    "    '''\n",
    "    Función que ejecuta todas las funciones auxiliares, entregando los inputs correspondientes según la fecha de consulta.\n",
    "    \n",
    "    '''\n",
    "    \n",
    "    # Obtención de data preliminar y fecha de consulta en formato timestamp\n",
    "    data,consulta=generate_data(anio,mes,dia,hr)\n",
    "    \n",
    "    # Ultima instalación liners según fecha de consulta\n",
    "    fecha_instalacion_revestimientos=max(list(filter(lambda x: x<=consulta, inicios_campañas)))\n",
    "    \n",
    "    # Se incorpora recomendación de CC con tag de granulometria\n",
    "    data_past=generate_data_past(data,consulta,fecha_instalacion_revestimientos)\n",
    "    \n",
    "    # Se genera forecasting de F80 y recomendación de CC\n",
    "    data_future=generate_data_future(data,data_past,tag_dispatch,consulta,fecha_instalacion_revestimientos)\n",
    "    \n",
    "    # Finalmente se genera data lista para su visualización\n",
    "    data_dash=generate_sabana(data_past,data_future,consulta,fecha_instalacion_revestimientos)\n",
    "    \n",
    "    return data_dash"
   ]
  },
  {
   "cell_type": "code",
   "execution_count": 18,
   "metadata": {},
   "outputs": [],
   "source": [
    "def generate_visualization(dash):\n",
    "    '''\n",
    "    Función que recibe data dash para generar visualización.\n",
    "    '''\n",
    "    fig = make_subplots(\n",
    "    rows=4, cols=1,\n",
    "    subplot_titles=(\"TPH y Limite Operario\", \"Operación Celda de Carga\",\"Granulometría F80\",\"SPI 5 hr\"))\n",
    "\n",
    "\n",
    "    #Valores reales\n",
    "\n",
    "\n",
    "    fig.add_trace(go.Scatter(x=dash.index, y=dash['CF:215.WIC1605A.MEAS.FOX'], ##FF6511\n",
    "                        mode='lines',\n",
    "                        name=\"TPH real\",line=dict(width=3, color=\"#0BDEEF\"),legendgroup = '1'),row=1, col=1)  #1145FF\n",
    "\n",
    "\n",
    "\n",
    "    fig.add_trace(go.Scatter(x=dash.index, y=dash['CF:EXPERTO:EXP_MS_A.MEAS_5.FOX'],\n",
    "                        mode='lines',\n",
    "                        name=\"Limite operario HH TPH\",line=dict(width=3, color=\"#48EF0B\"),legendgroup = '1'),row=1, col=1)\n",
    "\n",
    "\n",
    "\n",
    "    # Recomendación\n",
    "\n",
    "\n",
    "    # Inferior\n",
    "    fig.add_trace(go.Scatter(x=dash.index, y=dash[\"cc_inf\"],\n",
    "                        mode='lines',\n",
    "                        name=\" \",line=dict(width=0, color=\"#FF1139\"),\n",
    "                              showlegend=False\n",
    "                            ),row=2, col=1)\n",
    "\n",
    "    # Superior\n",
    "    fig.add_trace(go.Scatter(x=dash.index, y=dash[\"cc_sup\"],\n",
    "                        mode='lines',\n",
    "                        name=\"Rango de Recomendación CC\",line=dict(width=0, color=\"#A6A1AB\"),\n",
    "                             fill='tonexty',legendgroup = '2'),row=2, col=1)\n",
    "\n",
    "\n",
    "\n",
    "    # Esperado\n",
    "    fig.add_trace(go.Scatter(x=dash.index, y=dash[\"cc_esperado\"],\n",
    "                        mode='lines',\n",
    "                        name=\"Recomendación CC con forecast F80\",\n",
    "                             line=dict(width=3, color=\"red\"),legendgroup = '2'),row=2, col=1)\n",
    "    # Sin forecast\n",
    "    fig.add_trace(go.Scatter(x=dash.index, y=dash[\"cc_tag_gran\"],\n",
    "                        mode='lines',\n",
    "                        name=\"Recomendación CC sin forecast F80\",\n",
    "                             line=dict(width=3, color=\"#EF0BEC\"),legendgroup = '2'),row=2, col=1)\n",
    "\n",
    "\n",
    "    fig.add_trace(go.Scatter(x=dash.index, y=dash['CF:225.WIC8067.MEAS.FOX'],\n",
    "                        mode='lines',\n",
    "                        name=\"Celda de Carga real\",line=dict(width=3, color=\"#0BDEEF\"),legendgroup = '2'),row=2, col=1)  #11FFDC\n",
    "\n",
    "    fig.add_trace(go.Scatter(x=dash.index, y=dash['CF:EXPERTO:EXP_MS_A.MEAS_1.FOX'],\n",
    "                        mode='lines',\n",
    "                        name=\"Limite operario LL CC\",line=dict(width=3, color=\"#48EF0B\"),legendgroup = '2'),row=2, col=1)\n",
    "\n",
    "\n",
    "    fig.add_trace(go.Scatter(x=dash.index, y=dash['CF:EXPERTO:EXP_MS_A.MEAS_7.FOX'],\n",
    "                        mode='lines',\n",
    "                        name=\"Limite operario HH CC\",line=dict(width=3, color=\"#48EF0B\"),legendgroup = '2'),row=2, col=1)\n",
    "\n",
    "\n",
    "    # Granulometría\n",
    "\n",
    "    fig.add_trace(go.Scatter(x=dash.index, y=dash[\"f80_inf\"],\n",
    "                        mode='lines',\n",
    "                        name=\" \",\n",
    "                        line=dict(width=0, color=\"red\"), showlegend=False\n",
    "                            ),row=3, col=1)\n",
    "\n",
    "    fig.add_trace(go.Scatter(x=dash.index, y=dash[\"f80_sup\"],\n",
    "                             mode='lines',\n",
    "                        name=\"Rango de Predicción F80\",\n",
    "                             fill='tonexty',\n",
    "                             line=dict(width=0, color=\"#A6A1AB\"),legendgroup = '3'\n",
    "                            ),row=3, col=1\n",
    "                 )\n",
    "\n",
    "    fig.add_trace(go.Scatter(x=dash.index, y=dash[\"f80_esperado\"],\n",
    "                        mode='lines',\n",
    "                        line=dict(width=3, color=\"red\"),\n",
    "                        name=\"Prediction F80\",legendgroup = '3'),row=3, col=1)  #D9EF0B\n",
    "\n",
    "    fig.add_trace(go.Scatter(x=dash.index, y=dash[\"test_F80\"],\n",
    "                        mode='lines',\n",
    "                            line=dict(width=3, color=\"yellow\"),\n",
    "                        name=\"Test Data F80\",legendgroup = '3'),row=3, col=1)\n",
    "\n",
    "\n",
    "    fig.add_trace(go.Scatter(x=dash.index, y=dash[\"CF:CVB007_S2.PNT.FOX\"],\n",
    "                        mode='lines',\n",
    "                        line=dict(width=3, color=\"#0BDEEF\"),\n",
    "                        name=\"Train Data F80\",legendgroup = '3'),row=3, col=1)\n",
    "\n",
    "\n",
    "    # SPI\n",
    "    fig.add_trace(go.Scatter(x=dash.index, y=dash[\"disp_sag_power_index\"],\n",
    "                        mode='lines',\n",
    "                        name=\"SPI\",\n",
    "                             line=dict(width=3, color=\"red\"),legendgroup = '4'),row=4, col=1)\n",
    "\n",
    "\n",
    "\n",
    "    # Lineas temporales\n",
    "\n",
    "    fig.add_vrect(x0=dash.index[0], x1=dash[\"consulta\"][0], \n",
    "                  annotation_text=\"Pasado\", annotation_position=\"bottom left\",  #\n",
    "                  fillcolor=\"#EFE6E6\", \n",
    "                  opacity=0.25, line_width=0, annotation_font_size=15,)\n",
    "\n",
    "    fig.add_vrect(x0=dash[\"consulta\"][0], x1=dash.index[-1], \n",
    "                  annotation_text=\"Futuro\", annotation_position=\"bottom right\",\n",
    "                  fillcolor=\"#0EB9B9\",\n",
    "                  opacity=0.25, line_width=0,annotation_font_size=15)\n",
    "\n",
    "\n",
    "    # Titulo\n",
    "    fig.update_layout(title_text=\"[Fecha consulta: {}] [Última Instalación Liners: {}] [Edad del Molino: {}]\".format(\n",
    "                                                                                                    dash[\"consulta\"][0],\n",
    "                                                                                                    dash[\"inst_liners\"][0],\n",
    "                                                                                                        dash[\"edad_molino\"][0]),\n",
    "                      height=800,\n",
    "                      width=1000,font=dict(color=\"white\"),template=\"plotly_dark\",legend_tracegroupgap = 90,legend_title=\"Leyenda\")\n",
    "\n",
    "    # Update xaxis properties\n",
    "    fig.update_xaxes(tickformat=\"%H:%M\", row=1, col=1)\n",
    "    fig.update_xaxes(tickformat=\"%H:%M\",row=2, col=1)\n",
    "    fig.update_xaxes(tickformat=\"%H:%M\",row=3, col=1)\n",
    "    fig.update_xaxes(title_text=\"Tiempo - frecuencia 15 Minutos\",tickformat=\"%H:%M\",row=4, col=1)\n",
    "\n",
    "    # Update yaxis properties\n",
    "    fig.update_yaxes(title_text=\"TPH\", row=1, col=1)\n",
    "    fig.update_yaxes(title_text=\"Celda de Carga\", row=2, col=1)\n",
    "    fig.update_yaxes(title_text=\"% Pasante\", row=3, col=1)\n",
    "    fig.update_yaxes(title_text=\"SPI\", row=4, col=1)\n",
    "    \n",
    "    #fig.show()\n",
    "    return fig"
   ]
  },
  {
   "cell_type": "code",
   "execution_count": 19,
   "metadata": {},
   "outputs": [],
   "source": [
    "# Ejemplo de Consulta\n",
    "anio=2020\n",
    "mes=6\n",
    "dia=15\n",
    "hr='13:30'"
   ]
  },
  {
   "cell_type": "code",
   "execution_count": 20,
   "metadata": {},
   "outputs": [],
   "source": [
    "dash=generate_data_dashboard(anio,mes,dia,hr,inicios_campañas)\n",
    "dash.set_index(\"timestamp\",inplace=True)"
   ]
  },
  {
   "cell_type": "code",
   "execution_count": 21,
   "metadata": {},
   "outputs": [
    {
     "data": {
      "application/vnd.plotly.v1+json": {
       "config": {
        "plotlyServerURL": "https://plot.ly"
       },
       "data": [
        {
         "legendgroup": "1",
         "line": {
          "color": "#0BDEEF",
          "width": 3
         },
         "mode": "lines",
         "name": "TPH real",
         "type": "scatter",
         "x": [
          "2020-06-15T08:30:00",
          "2020-06-15T08:45:00",
          "2020-06-15T09:00:00",
          "2020-06-15T09:15:00",
          "2020-06-15T09:30:00",
          "2020-06-15T09:45:00",
          "2020-06-15T10:00:00",
          "2020-06-15T10:15:00",
          "2020-06-15T10:30:00",
          "2020-06-15T10:45:00",
          "2020-06-15T11:00:00",
          "2020-06-15T11:15:00",
          "2020-06-15T11:30:00",
          "2020-06-15T11:45:00",
          "2020-06-15T12:00:00",
          "2020-06-15T12:15:00",
          "2020-06-15T12:30:00",
          "2020-06-15T12:45:00",
          "2020-06-15T13:00:00",
          "2020-06-15T13:15:00",
          "2020-06-15T13:30:00",
          "2020-06-15T13:30:00",
          "2020-06-15T13:45:00",
          "2020-06-15T14:00:00",
          "2020-06-15T14:15:00",
          "2020-06-15T14:30:00",
          "2020-06-15T14:45:00",
          "2020-06-15T15:00:00",
          "2020-06-15T15:15:00",
          "2020-06-15T15:30:00",
          "2020-06-15T15:45:00",
          "2020-06-15T16:00:00",
          "2020-06-15T16:15:00",
          "2020-06-15T16:30:00"
         ],
         "xaxis": "x",
         "y": [
          4244.330598704635,
          4249.551482432051,
          4253.221156488698,
          4212.277357954191,
          4129.533629450656,
          4137.464600951353,
          4175.3293989702015,
          4360.785416897335,
          4313.044890847739,
          4364.865752948409,
          4293.8583970677055,
          4284.714788957086,
          4302.829195931026,
          4305.7933683269,
          4264.385812416575,
          3961.053548583448,
          3822.0655112140944,
          3654.762777974344,
          3929.1076920791934,
          3769.933484675421,
          3446.0949011511,
          null,
          null,
          null,
          null,
          null,
          null,
          null,
          null,
          null,
          null,
          null,
          null,
          null
         ],
         "yaxis": "y"
        },
        {
         "legendgroup": "1",
         "line": {
          "color": "#48EF0B",
          "width": 3
         },
         "mode": "lines",
         "name": "Limite operario HH TPH",
         "type": "scatter",
         "x": [
          "2020-06-15T08:30:00",
          "2020-06-15T08:45:00",
          "2020-06-15T09:00:00",
          "2020-06-15T09:15:00",
          "2020-06-15T09:30:00",
          "2020-06-15T09:45:00",
          "2020-06-15T10:00:00",
          "2020-06-15T10:15:00",
          "2020-06-15T10:30:00",
          "2020-06-15T10:45:00",
          "2020-06-15T11:00:00",
          "2020-06-15T11:15:00",
          "2020-06-15T11:30:00",
          "2020-06-15T11:45:00",
          "2020-06-15T12:00:00",
          "2020-06-15T12:15:00",
          "2020-06-15T12:30:00",
          "2020-06-15T12:45:00",
          "2020-06-15T13:00:00",
          "2020-06-15T13:15:00",
          "2020-06-15T13:30:00",
          "2020-06-15T13:30:00",
          "2020-06-15T13:45:00",
          "2020-06-15T14:00:00",
          "2020-06-15T14:15:00",
          "2020-06-15T14:30:00",
          "2020-06-15T14:45:00",
          "2020-06-15T15:00:00",
          "2020-06-15T15:15:00",
          "2020-06-15T15:30:00",
          "2020-06-15T15:45:00",
          "2020-06-15T16:00:00",
          "2020-06-15T16:15:00",
          "2020-06-15T16:30:00"
         ],
         "xaxis": "x",
         "y": [
          4250,
          4250,
          4300,
          4300,
          4300,
          4300,
          4300,
          4300,
          4300,
          4300,
          4300,
          4300,
          4300,
          4300,
          4300,
          4300,
          4300,
          4300,
          4300,
          4300,
          4300,
          null,
          null,
          null,
          null,
          null,
          null,
          null,
          null,
          null,
          null,
          null,
          null,
          null
         ],
         "yaxis": "y"
        },
        {
         "line": {
          "color": "#FF1139",
          "width": 0
         },
         "mode": "lines",
         "name": " ",
         "showlegend": false,
         "type": "scatter",
         "x": [
          "2020-06-15T08:30:00",
          "2020-06-15T08:45:00",
          "2020-06-15T09:00:00",
          "2020-06-15T09:15:00",
          "2020-06-15T09:30:00",
          "2020-06-15T09:45:00",
          "2020-06-15T10:00:00",
          "2020-06-15T10:15:00",
          "2020-06-15T10:30:00",
          "2020-06-15T10:45:00",
          "2020-06-15T11:00:00",
          "2020-06-15T11:15:00",
          "2020-06-15T11:30:00",
          "2020-06-15T11:45:00",
          "2020-06-15T12:00:00",
          "2020-06-15T12:15:00",
          "2020-06-15T12:30:00",
          "2020-06-15T12:45:00",
          "2020-06-15T13:00:00",
          "2020-06-15T13:15:00",
          "2020-06-15T13:30:00",
          "2020-06-15T13:30:00",
          "2020-06-15T13:45:00",
          "2020-06-15T14:00:00",
          "2020-06-15T14:15:00",
          "2020-06-15T14:30:00",
          "2020-06-15T14:45:00",
          "2020-06-15T15:00:00",
          "2020-06-15T15:15:00",
          "2020-06-15T15:30:00",
          "2020-06-15T15:45:00",
          "2020-06-15T16:00:00",
          "2020-06-15T16:15:00",
          "2020-06-15T16:30:00"
         ],
         "xaxis": "x2",
         "y": [
          null,
          null,
          null,
          null,
          null,
          null,
          null,
          null,
          null,
          null,
          null,
          null,
          null,
          null,
          null,
          null,
          null,
          null,
          null,
          null,
          null,
          781.4046487925386,
          744.9624182208237,
          781.4046487925386,
          761.1589651415859,
          761.1589651415859,
          761.1589651415859,
          761.1589651415859,
          761.1589651415859,
          827.9668555624287,
          827.9668555624287,
          827.9668555624287,
          807.4831851483885,
          761.1589651415859
         ],
         "yaxis": "y2"
        },
        {
         "fill": "tonexty",
         "legendgroup": "2",
         "line": {
          "color": "#A6A1AB",
          "width": 0
         },
         "mode": "lines",
         "name": "Rango de Recomendación CC",
         "type": "scatter",
         "x": [
          "2020-06-15T08:30:00",
          "2020-06-15T08:45:00",
          "2020-06-15T09:00:00",
          "2020-06-15T09:15:00",
          "2020-06-15T09:30:00",
          "2020-06-15T09:45:00",
          "2020-06-15T10:00:00",
          "2020-06-15T10:15:00",
          "2020-06-15T10:30:00",
          "2020-06-15T10:45:00",
          "2020-06-15T11:00:00",
          "2020-06-15T11:15:00",
          "2020-06-15T11:30:00",
          "2020-06-15T11:45:00",
          "2020-06-15T12:00:00",
          "2020-06-15T12:15:00",
          "2020-06-15T12:30:00",
          "2020-06-15T12:45:00",
          "2020-06-15T13:00:00",
          "2020-06-15T13:15:00",
          "2020-06-15T13:30:00",
          "2020-06-15T13:30:00",
          "2020-06-15T13:45:00",
          "2020-06-15T14:00:00",
          "2020-06-15T14:15:00",
          "2020-06-15T14:30:00",
          "2020-06-15T14:45:00",
          "2020-06-15T15:00:00",
          "2020-06-15T15:15:00",
          "2020-06-15T15:30:00",
          "2020-06-15T15:45:00",
          "2020-06-15T16:00:00",
          "2020-06-15T16:15:00",
          "2020-06-15T16:30:00"
         ],
         "xaxis": "x2",
         "y": [
          null,
          null,
          null,
          null,
          null,
          null,
          null,
          null,
          null,
          null,
          null,
          null,
          null,
          null,
          null,
          null,
          null,
          null,
          null,
          null,
          null,
          781.4046487925386,
          771.2818069670623,
          767.2326702368717,
          757.1098284113953,
          771.2818069670623,
          775.3309436972528,
          775.3309436972528,
          797.6011957133009,
          840.7691495712038,
          815.1645615536536,
          838.2086907694488,
          825.4063967606737,
          759.1343967764906
         ],
         "yaxis": "y2"
        },
        {
         "legendgroup": "2",
         "line": {
          "color": "red",
          "width": 3
         },
         "mode": "lines",
         "name": "Recomendación CC con forecast F80",
         "type": "scatter",
         "x": [
          "2020-06-15T08:30:00",
          "2020-06-15T08:45:00",
          "2020-06-15T09:00:00",
          "2020-06-15T09:15:00",
          "2020-06-15T09:30:00",
          "2020-06-15T09:45:00",
          "2020-06-15T10:00:00",
          "2020-06-15T10:15:00",
          "2020-06-15T10:30:00",
          "2020-06-15T10:45:00",
          "2020-06-15T11:00:00",
          "2020-06-15T11:15:00",
          "2020-06-15T11:30:00",
          "2020-06-15T11:45:00",
          "2020-06-15T12:00:00",
          "2020-06-15T12:15:00",
          "2020-06-15T12:30:00",
          "2020-06-15T12:45:00",
          "2020-06-15T13:00:00",
          "2020-06-15T13:15:00",
          "2020-06-15T13:30:00",
          "2020-06-15T13:30:00",
          "2020-06-15T13:45:00",
          "2020-06-15T14:00:00",
          "2020-06-15T14:15:00",
          "2020-06-15T14:30:00",
          "2020-06-15T14:45:00",
          "2020-06-15T15:00:00",
          "2020-06-15T15:15:00",
          "2020-06-15T15:30:00",
          "2020-06-15T15:45:00",
          "2020-06-15T16:00:00",
          "2020-06-15T16:15:00",
          "2020-06-15T16:30:00"
         ],
         "xaxis": "x2",
         "y": [
          null,
          null,
          null,
          null,
          null,
          null,
          null,
          null,
          null,
          null,
          null,
          null,
          null,
          null,
          null,
          null,
          null,
          null,
          null,
          null,
          null,
          781.4046487925386,
          797.6011957133009,
          775.3309436972528,
          744.9624182208237,
          746.986986585919,
          749.0115549510142,
          749.0115549510142,
          749.0115549510142,
          825.4063967606737,
          817.7250203554086,
          817.7250203554086,
          812.6041027518986,
          761.1589651415859
         ],
         "yaxis": "y2"
        },
        {
         "legendgroup": "2",
         "line": {
          "color": "#EF0BEC",
          "width": 3
         },
         "mode": "lines",
         "name": "Recomendación CC sin forecast F80",
         "type": "scatter",
         "x": [
          "2020-06-15T08:30:00",
          "2020-06-15T08:45:00",
          "2020-06-15T09:00:00",
          "2020-06-15T09:15:00",
          "2020-06-15T09:30:00",
          "2020-06-15T09:45:00",
          "2020-06-15T10:00:00",
          "2020-06-15T10:15:00",
          "2020-06-15T10:30:00",
          "2020-06-15T10:45:00",
          "2020-06-15T11:00:00",
          "2020-06-15T11:15:00",
          "2020-06-15T11:30:00",
          "2020-06-15T11:45:00",
          "2020-06-15T12:00:00",
          "2020-06-15T12:15:00",
          "2020-06-15T12:30:00",
          "2020-06-15T12:45:00",
          "2020-06-15T13:00:00",
          "2020-06-15T13:15:00",
          "2020-06-15T13:30:00",
          "2020-06-15T13:30:00",
          "2020-06-15T13:45:00",
          "2020-06-15T14:00:00",
          "2020-06-15T14:15:00",
          "2020-06-15T14:30:00",
          "2020-06-15T14:45:00",
          "2020-06-15T15:00:00",
          "2020-06-15T15:15:00",
          "2020-06-15T15:30:00",
          "2020-06-15T15:45:00",
          "2020-06-15T16:00:00",
          "2020-06-15T16:15:00",
          "2020-06-15T16:30:00"
         ],
         "xaxis": "x2",
         "y": [
          767.2326702368717,
          755.0852600463,
          755.0852600463,
          724.7167345698709,
          722.6921662047755,
          797.6011957133009,
          767.2326702368717,
          720.6675978396802,
          724.7167345698709,
          755.0852600463,
          771.2818069670623,
          755.0852600463,
          755.0852600463,
          759.1343967764906,
          759.1343967764906,
          797.6011957133009,
          775.3309436972528,
          797.6011957133009,
          744.9624182208237,
          836.0679946501112,
          781.4046487925386,
          null,
          null,
          null,
          null,
          null,
          null,
          null,
          null,
          null,
          null,
          null,
          null,
          null
         ],
         "yaxis": "y2"
        },
        {
         "legendgroup": "2",
         "line": {
          "color": "#0BDEEF",
          "width": 3
         },
         "mode": "lines",
         "name": "Celda de Carga real",
         "type": "scatter",
         "x": [
          "2020-06-15T08:30:00",
          "2020-06-15T08:45:00",
          "2020-06-15T09:00:00",
          "2020-06-15T09:15:00",
          "2020-06-15T09:30:00",
          "2020-06-15T09:45:00",
          "2020-06-15T10:00:00",
          "2020-06-15T10:15:00",
          "2020-06-15T10:30:00",
          "2020-06-15T10:45:00",
          "2020-06-15T11:00:00",
          "2020-06-15T11:15:00",
          "2020-06-15T11:30:00",
          "2020-06-15T11:45:00",
          "2020-06-15T12:00:00",
          "2020-06-15T12:15:00",
          "2020-06-15T12:30:00",
          "2020-06-15T12:45:00",
          "2020-06-15T13:00:00",
          "2020-06-15T13:15:00",
          "2020-06-15T13:30:00",
          "2020-06-15T13:30:00",
          "2020-06-15T13:45:00",
          "2020-06-15T14:00:00",
          "2020-06-15T14:15:00",
          "2020-06-15T14:30:00",
          "2020-06-15T14:45:00",
          "2020-06-15T15:00:00",
          "2020-06-15T15:15:00",
          "2020-06-15T15:30:00",
          "2020-06-15T15:45:00",
          "2020-06-15T16:00:00",
          "2020-06-15T16:15:00",
          "2020-06-15T16:30:00"
         ],
         "xaxis": "x2",
         "y": [
          879.8588473816266,
          859.2578217277637,
          890.7985526841055,
          922.5742101549536,
          899.4376820457318,
          933.2250304376706,
          912.5378782446612,
          856.7662648097146,
          884.7625202610883,
          891.5080793499753,
          905.5211383632336,
          879.3418096353251,
          887.0609029421007,
          905.4961000455696,
          910.379270239508,
          936.1933278592276,
          954.8243199729324,
          909.5289475208724,
          890.1985499132678,
          938.045014829936,
          946.0407122251006,
          null,
          null,
          null,
          null,
          null,
          null,
          null,
          null,
          null,
          null,
          null,
          null,
          null
         ],
         "yaxis": "y2"
        },
        {
         "legendgroup": "2",
         "line": {
          "color": "#48EF0B",
          "width": 3
         },
         "mode": "lines",
         "name": "Limite operario LL CC",
         "type": "scatter",
         "x": [
          "2020-06-15T08:30:00",
          "2020-06-15T08:45:00",
          "2020-06-15T09:00:00",
          "2020-06-15T09:15:00",
          "2020-06-15T09:30:00",
          "2020-06-15T09:45:00",
          "2020-06-15T10:00:00",
          "2020-06-15T10:15:00",
          "2020-06-15T10:30:00",
          "2020-06-15T10:45:00",
          "2020-06-15T11:00:00",
          "2020-06-15T11:15:00",
          "2020-06-15T11:30:00",
          "2020-06-15T11:45:00",
          "2020-06-15T12:00:00",
          "2020-06-15T12:15:00",
          "2020-06-15T12:30:00",
          "2020-06-15T12:45:00",
          "2020-06-15T13:00:00",
          "2020-06-15T13:15:00",
          "2020-06-15T13:30:00",
          "2020-06-15T13:30:00",
          "2020-06-15T13:45:00",
          "2020-06-15T14:00:00",
          "2020-06-15T14:15:00",
          "2020-06-15T14:30:00",
          "2020-06-15T14:45:00",
          "2020-06-15T15:00:00",
          "2020-06-15T15:15:00",
          "2020-06-15T15:30:00",
          "2020-06-15T15:45:00",
          "2020-06-15T16:00:00",
          "2020-06-15T16:15:00",
          "2020-06-15T16:30:00"
         ],
         "xaxis": "x2",
         "y": [
          850,
          850,
          850,
          850,
          850,
          850,
          850,
          850,
          850,
          850,
          850,
          850,
          850,
          850,
          850,
          850,
          850,
          850,
          850,
          850,
          850,
          null,
          null,
          null,
          null,
          null,
          null,
          null,
          null,
          null,
          null,
          null,
          null,
          null
         ],
         "yaxis": "y2"
        },
        {
         "legendgroup": "2",
         "line": {
          "color": "#48EF0B",
          "width": 3
         },
         "mode": "lines",
         "name": "Limite operario HH CC",
         "type": "scatter",
         "x": [
          "2020-06-15T08:30:00",
          "2020-06-15T08:45:00",
          "2020-06-15T09:00:00",
          "2020-06-15T09:15:00",
          "2020-06-15T09:30:00",
          "2020-06-15T09:45:00",
          "2020-06-15T10:00:00",
          "2020-06-15T10:15:00",
          "2020-06-15T10:30:00",
          "2020-06-15T10:45:00",
          "2020-06-15T11:00:00",
          "2020-06-15T11:15:00",
          "2020-06-15T11:30:00",
          "2020-06-15T11:45:00",
          "2020-06-15T12:00:00",
          "2020-06-15T12:15:00",
          "2020-06-15T12:30:00",
          "2020-06-15T12:45:00",
          "2020-06-15T13:00:00",
          "2020-06-15T13:15:00",
          "2020-06-15T13:30:00",
          "2020-06-15T13:30:00",
          "2020-06-15T13:45:00",
          "2020-06-15T14:00:00",
          "2020-06-15T14:15:00",
          "2020-06-15T14:30:00",
          "2020-06-15T14:45:00",
          "2020-06-15T15:00:00",
          "2020-06-15T15:15:00",
          "2020-06-15T15:30:00",
          "2020-06-15T15:45:00",
          "2020-06-15T16:00:00",
          "2020-06-15T16:15:00",
          "2020-06-15T16:30:00"
         ],
         "xaxis": "x2",
         "y": [
          930,
          930,
          930,
          930,
          930,
          930,
          930,
          930,
          930,
          930,
          930,
          930,
          930,
          930,
          930,
          930,
          930,
          930,
          930,
          930,
          930,
          null,
          null,
          null,
          null,
          null,
          null,
          null,
          null,
          null,
          null,
          null,
          null,
          null
         ],
         "yaxis": "y2"
        },
        {
         "line": {
          "color": "red",
          "width": 0
         },
         "mode": "lines",
         "name": " ",
         "showlegend": false,
         "type": "scatter",
         "x": [
          "2020-06-15T08:30:00",
          "2020-06-15T08:45:00",
          "2020-06-15T09:00:00",
          "2020-06-15T09:15:00",
          "2020-06-15T09:30:00",
          "2020-06-15T09:45:00",
          "2020-06-15T10:00:00",
          "2020-06-15T10:15:00",
          "2020-06-15T10:30:00",
          "2020-06-15T10:45:00",
          "2020-06-15T11:00:00",
          "2020-06-15T11:15:00",
          "2020-06-15T11:30:00",
          "2020-06-15T11:45:00",
          "2020-06-15T12:00:00",
          "2020-06-15T12:15:00",
          "2020-06-15T12:30:00",
          "2020-06-15T12:45:00",
          "2020-06-15T13:00:00",
          "2020-06-15T13:15:00",
          "2020-06-15T13:30:00",
          "2020-06-15T13:30:00",
          "2020-06-15T13:45:00",
          "2020-06-15T14:00:00",
          "2020-06-15T14:15:00",
          "2020-06-15T14:30:00",
          "2020-06-15T14:45:00",
          "2020-06-15T15:00:00",
          "2020-06-15T15:15:00",
          "2020-06-15T15:30:00",
          "2020-06-15T15:45:00",
          "2020-06-15T16:00:00",
          "2020-06-15T16:15:00",
          "2020-06-15T16:30:00"
         ],
         "xaxis": "x3",
         "y": [
          null,
          null,
          null,
          null,
          null,
          null,
          null,
          null,
          null,
          null,
          null,
          null,
          null,
          null,
          null,
          null,
          null,
          null,
          null,
          null,
          null,
          43.19177533630223,
          44.65884549771174,
          42.61042839763202,
          39.40102830091389,
          38.483982453933784,
          34.26081001580456,
          33.56866849853421,
          33.48536923960768,
          31.60244425968859,
          29.27366328580064,
          29.793396633332023,
          31.372783753008747,
          30.032334458265396
         ],
         "yaxis": "y3"
        },
        {
         "fill": "tonexty",
         "legendgroup": "3",
         "line": {
          "color": "#A6A1AB",
          "width": 0
         },
         "mode": "lines",
         "name": "Rango de Predicción F80",
         "type": "scatter",
         "x": [
          "2020-06-15T08:30:00",
          "2020-06-15T08:45:00",
          "2020-06-15T09:00:00",
          "2020-06-15T09:15:00",
          "2020-06-15T09:30:00",
          "2020-06-15T09:45:00",
          "2020-06-15T10:00:00",
          "2020-06-15T10:15:00",
          "2020-06-15T10:30:00",
          "2020-06-15T10:45:00",
          "2020-06-15T11:00:00",
          "2020-06-15T11:15:00",
          "2020-06-15T11:30:00",
          "2020-06-15T11:45:00",
          "2020-06-15T12:00:00",
          "2020-06-15T12:15:00",
          "2020-06-15T12:30:00",
          "2020-06-15T12:45:00",
          "2020-06-15T13:00:00",
          "2020-06-15T13:15:00",
          "2020-06-15T13:30:00",
          "2020-06-15T13:30:00",
          "2020-06-15T13:45:00",
          "2020-06-15T14:00:00",
          "2020-06-15T14:15:00",
          "2020-06-15T14:30:00",
          "2020-06-15T14:45:00",
          "2020-06-15T15:00:00",
          "2020-06-15T15:15:00",
          "2020-06-15T15:30:00",
          "2020-06-15T15:45:00",
          "2020-06-15T16:00:00",
          "2020-06-15T16:15:00",
          "2020-06-15T16:30:00"
         ],
         "xaxis": "x3",
         "y": [
          null,
          null,
          null,
          null,
          null,
          null,
          null,
          null,
          null,
          null,
          null,
          null,
          null,
          null,
          null,
          null,
          null,
          null,
          null,
          null,
          null,
          43.19177533630223,
          51.254976720521384,
          51.81631428685044,
          50.20499267295946,
          50.88083427922908,
          46.73144349571175,
          47.09671631359785,
          48.26372278274197,
          46.41247336078534,
          43.282266912955116,
          45.297439338044754,
          52.12240425819143,
          52.98436396272065
         ],
         "yaxis": "y3"
        },
        {
         "legendgroup": "3",
         "line": {
          "color": "red",
          "width": 3
         },
         "mode": "lines",
         "name": "Prediction F80",
         "type": "scatter",
         "x": [
          "2020-06-15T08:30:00",
          "2020-06-15T08:45:00",
          "2020-06-15T09:00:00",
          "2020-06-15T09:15:00",
          "2020-06-15T09:30:00",
          "2020-06-15T09:45:00",
          "2020-06-15T10:00:00",
          "2020-06-15T10:15:00",
          "2020-06-15T10:30:00",
          "2020-06-15T10:45:00",
          "2020-06-15T11:00:00",
          "2020-06-15T11:15:00",
          "2020-06-15T11:30:00",
          "2020-06-15T11:45:00",
          "2020-06-15T12:00:00",
          "2020-06-15T12:15:00",
          "2020-06-15T12:30:00",
          "2020-06-15T12:45:00",
          "2020-06-15T13:00:00",
          "2020-06-15T13:15:00",
          "2020-06-15T13:30:00",
          "2020-06-15T13:30:00",
          "2020-06-15T13:45:00",
          "2020-06-15T14:00:00",
          "2020-06-15T14:15:00",
          "2020-06-15T14:30:00",
          "2020-06-15T14:45:00",
          "2020-06-15T15:00:00",
          "2020-06-15T15:15:00",
          "2020-06-15T15:30:00",
          "2020-06-15T15:45:00",
          "2020-06-15T16:00:00",
          "2020-06-15T16:15:00",
          "2020-06-15T16:30:00"
         ],
         "xaxis": "x3",
         "y": [
          null,
          null,
          null,
          null,
          null,
          null,
          null,
          null,
          null,
          null,
          null,
          null,
          null,
          null,
          null,
          null,
          null,
          null,
          null,
          null,
          null,
          43.19177533630223,
          47.891098581187435,
          47.06891618453335,
          44.529780156851345,
          44.314112391411236,
          39.91316729043373,
          39.62912784626232,
          40.07075801476152,
          38.031782318464835,
          35.135596274249224,
          36.294339238840664,
          40.19915775672622,
          39.49872523481996
         ],
         "yaxis": "y3"
        },
        {
         "legendgroup": "3",
         "line": {
          "color": "yellow",
          "width": 3
         },
         "mode": "lines",
         "name": "Test Data F80",
         "type": "scatter",
         "x": [
          "2020-06-15T08:30:00",
          "2020-06-15T08:45:00",
          "2020-06-15T09:00:00",
          "2020-06-15T09:15:00",
          "2020-06-15T09:30:00",
          "2020-06-15T09:45:00",
          "2020-06-15T10:00:00",
          "2020-06-15T10:15:00",
          "2020-06-15T10:30:00",
          "2020-06-15T10:45:00",
          "2020-06-15T11:00:00",
          "2020-06-15T11:15:00",
          "2020-06-15T11:30:00",
          "2020-06-15T11:45:00",
          "2020-06-15T12:00:00",
          "2020-06-15T12:15:00",
          "2020-06-15T12:30:00",
          "2020-06-15T12:45:00",
          "2020-06-15T13:00:00",
          "2020-06-15T13:15:00",
          "2020-06-15T13:30:00",
          "2020-06-15T13:30:00",
          "2020-06-15T13:45:00",
          "2020-06-15T14:00:00",
          "2020-06-15T14:15:00",
          "2020-06-15T14:30:00",
          "2020-06-15T14:45:00",
          "2020-06-15T15:00:00",
          "2020-06-15T15:15:00",
          "2020-06-15T15:30:00",
          "2020-06-15T15:45:00",
          "2020-06-15T16:00:00",
          "2020-06-15T16:15:00",
          "2020-06-15T16:30:00"
         ],
         "xaxis": "x3",
         "y": [
          null,
          null,
          null,
          null,
          null,
          null,
          null,
          null,
          null,
          null,
          null,
          null,
          null,
          null,
          null,
          null,
          null,
          null,
          null,
          null,
          null,
          43.19177533630223,
          49.66096733495742,
          45.91869192930731,
          46.51458858680281,
          46.23172080546978,
          47.74052597093753,
          48.25251642975403,
          50.34098781845295,
          48.7056379573076,
          48.09005242790222,
          48.84575943467132,
          49.97504469735819,
          50.53548050556734
         ],
         "yaxis": "y3"
        },
        {
         "legendgroup": "3",
         "line": {
          "color": "#0BDEEF",
          "width": 3
         },
         "mode": "lines",
         "name": "Train Data F80",
         "type": "scatter",
         "x": [
          "2020-06-15T08:30:00",
          "2020-06-15T08:45:00",
          "2020-06-15T09:00:00",
          "2020-06-15T09:15:00",
          "2020-06-15T09:30:00",
          "2020-06-15T09:45:00",
          "2020-06-15T10:00:00",
          "2020-06-15T10:15:00",
          "2020-06-15T10:30:00",
          "2020-06-15T10:45:00",
          "2020-06-15T11:00:00",
          "2020-06-15T11:15:00",
          "2020-06-15T11:30:00",
          "2020-06-15T11:45:00",
          "2020-06-15T12:00:00",
          "2020-06-15T12:15:00",
          "2020-06-15T12:30:00",
          "2020-06-15T12:45:00",
          "2020-06-15T13:00:00",
          "2020-06-15T13:15:00",
          "2020-06-15T13:30:00",
          "2020-06-15T13:30:00",
          "2020-06-15T13:45:00",
          "2020-06-15T14:00:00",
          "2020-06-15T14:15:00",
          "2020-06-15T14:30:00",
          "2020-06-15T14:45:00",
          "2020-06-15T15:00:00",
          "2020-06-15T15:15:00",
          "2020-06-15T15:30:00",
          "2020-06-15T15:45:00",
          "2020-06-15T16:00:00",
          "2020-06-15T16:15:00",
          "2020-06-15T16:30:00"
         ],
         "xaxis": "x3",
         "y": [
          52.17551675759562,
          56.40733955469051,
          56.21260125058574,
          54.61156598233208,
          56.54928259157364,
          48.127937576397706,
          52.07192858661267,
          57.963619315131616,
          55.33059787485987,
          56.30873460446876,
          51.30691676425676,
          56.37283290490735,
          55.511477429811634,
          52.785183548240624,
          52.54889001898604,
          47.55646315729474,
          47.2226556214095,
          47.74104017102403,
          45.31796942338637,
          41.74109697216813,
          43.19177533630223,
          null,
          null,
          null,
          null,
          null,
          null,
          null,
          null,
          null,
          null,
          null,
          null,
          null
         ],
         "yaxis": "y3"
        },
        {
         "legendgroup": "4",
         "line": {
          "color": "red",
          "width": 3
         },
         "mode": "lines",
         "name": "SPI",
         "type": "scatter",
         "x": [
          "2020-06-15T08:30:00",
          "2020-06-15T08:45:00",
          "2020-06-15T09:00:00",
          "2020-06-15T09:15:00",
          "2020-06-15T09:30:00",
          "2020-06-15T09:45:00",
          "2020-06-15T10:00:00",
          "2020-06-15T10:15:00",
          "2020-06-15T10:30:00",
          "2020-06-15T10:45:00",
          "2020-06-15T11:00:00",
          "2020-06-15T11:15:00",
          "2020-06-15T11:30:00",
          "2020-06-15T11:45:00",
          "2020-06-15T12:00:00",
          "2020-06-15T12:15:00",
          "2020-06-15T12:30:00",
          "2020-06-15T12:45:00",
          "2020-06-15T13:00:00",
          "2020-06-15T13:15:00",
          "2020-06-15T13:30:00",
          "2020-06-15T13:30:00",
          "2020-06-15T13:45:00",
          "2020-06-15T14:00:00",
          "2020-06-15T14:15:00",
          "2020-06-15T14:30:00",
          "2020-06-15T14:45:00",
          "2020-06-15T15:00:00",
          "2020-06-15T15:15:00",
          "2020-06-15T15:30:00",
          "2020-06-15T15:45:00",
          "2020-06-15T16:00:00",
          "2020-06-15T16:15:00",
          "2020-06-15T16:30:00"
         ],
         "xaxis": "x4",
         "y": [
          125.381,
          125.381,
          125.381,
          125.381,
          143,
          143,
          143,
          143,
          139.8571,
          139.8571,
          139.8571,
          139.8571,
          129.45,
          129.45,
          129.45,
          129.45,
          129.6667,
          129.6667,
          129.6667,
          129.6667,
          135,
          135,
          135,
          135,
          135,
          123.75,
          123.75,
          123.75,
          123.75,
          120.6875,
          120.6875,
          120.6875,
          120.6875,
          136
         ],
         "yaxis": "y4"
        }
       ],
       "layout": {
        "annotations": [
         {
          "font": {
           "size": 16
          },
          "showarrow": false,
          "text": "TPH y Limite Operario",
          "x": 0.5,
          "xanchor": "center",
          "xref": "paper",
          "y": 1,
          "yanchor": "bottom",
          "yref": "paper"
         },
         {
          "font": {
           "size": 16
          },
          "showarrow": false,
          "text": "Operación Celda de Carga",
          "x": 0.5,
          "xanchor": "center",
          "xref": "paper",
          "y": 0.71875,
          "yanchor": "bottom",
          "yref": "paper"
         },
         {
          "font": {
           "size": 16
          },
          "showarrow": false,
          "text": "Granulometría F80",
          "x": 0.5,
          "xanchor": "center",
          "xref": "paper",
          "y": 0.4375,
          "yanchor": "bottom",
          "yref": "paper"
         },
         {
          "font": {
           "size": 16
          },
          "showarrow": false,
          "text": "SPI 5 hr",
          "x": 0.5,
          "xanchor": "center",
          "xref": "paper",
          "y": 0.15625,
          "yanchor": "bottom",
          "yref": "paper"
         },
         {
          "font": {
           "size": 15
          },
          "showarrow": false,
          "text": "Pasado",
          "x": "2020-06-15T08:30:00",
          "xanchor": "left",
          "xref": "x",
          "y": 0,
          "yanchor": "bottom",
          "yref": "y domain"
         },
         {
          "font": {
           "size": 15
          },
          "showarrow": false,
          "text": "Pasado",
          "x": "2020-06-15T08:30:00",
          "xanchor": "left",
          "xref": "x2",
          "y": 0,
          "yanchor": "bottom",
          "yref": "y2 domain"
         },
         {
          "font": {
           "size": 15
          },
          "showarrow": false,
          "text": "Pasado",
          "x": "2020-06-15T08:30:00",
          "xanchor": "left",
          "xref": "x3",
          "y": 0,
          "yanchor": "bottom",
          "yref": "y3 domain"
         },
         {
          "font": {
           "size": 15
          },
          "showarrow": false,
          "text": "Pasado",
          "x": "2020-06-15T08:30:00",
          "xanchor": "left",
          "xref": "x4",
          "y": 0,
          "yanchor": "bottom",
          "yref": "y4 domain"
         },
         {
          "font": {
           "size": 15
          },
          "showarrow": false,
          "text": "Futuro",
          "x": "2020-06-15T16:30:00",
          "xanchor": "right",
          "xref": "x",
          "y": 0,
          "yanchor": "bottom",
          "yref": "y domain"
         },
         {
          "font": {
           "size": 15
          },
          "showarrow": false,
          "text": "Futuro",
          "x": "2020-06-15T16:30:00",
          "xanchor": "right",
          "xref": "x2",
          "y": 0,
          "yanchor": "bottom",
          "yref": "y2 domain"
         },
         {
          "font": {
           "size": 15
          },
          "showarrow": false,
          "text": "Futuro",
          "x": "2020-06-15T16:30:00",
          "xanchor": "right",
          "xref": "x3",
          "y": 0,
          "yanchor": "bottom",
          "yref": "y3 domain"
         },
         {
          "font": {
           "size": 15
          },
          "showarrow": false,
          "text": "Futuro",
          "x": "2020-06-15T16:30:00",
          "xanchor": "right",
          "xref": "x4",
          "y": 0,
          "yanchor": "bottom",
          "yref": "y4 domain"
         }
        ],
        "font": {
         "color": "white"
        },
        "height": 800,
        "legend": {
         "title": {
          "text": "Leyenda"
         },
         "tracegroupgap": 90
        },
        "shapes": [
         {
          "fillcolor": "#EFE6E6",
          "line": {
           "width": 0
          },
          "opacity": 0.25,
          "type": "rect",
          "x0": "2020-06-15T08:30:00",
          "x1": "2020-06-15T13:30:00",
          "xref": "x",
          "y0": 0,
          "y1": 1,
          "yref": "y domain"
         },
         {
          "fillcolor": "#EFE6E6",
          "line": {
           "width": 0
          },
          "opacity": 0.25,
          "type": "rect",
          "x0": "2020-06-15T08:30:00",
          "x1": "2020-06-15T13:30:00",
          "xref": "x2",
          "y0": 0,
          "y1": 1,
          "yref": "y2 domain"
         },
         {
          "fillcolor": "#EFE6E6",
          "line": {
           "width": 0
          },
          "opacity": 0.25,
          "type": "rect",
          "x0": "2020-06-15T08:30:00",
          "x1": "2020-06-15T13:30:00",
          "xref": "x3",
          "y0": 0,
          "y1": 1,
          "yref": "y3 domain"
         },
         {
          "fillcolor": "#EFE6E6",
          "line": {
           "width": 0
          },
          "opacity": 0.25,
          "type": "rect",
          "x0": "2020-06-15T08:30:00",
          "x1": "2020-06-15T13:30:00",
          "xref": "x4",
          "y0": 0,
          "y1": 1,
          "yref": "y4 domain"
         },
         {
          "fillcolor": "#0EB9B9",
          "line": {
           "width": 0
          },
          "opacity": 0.25,
          "type": "rect",
          "x0": "2020-06-15T13:30:00",
          "x1": "2020-06-15T16:30:00",
          "xref": "x",
          "y0": 0,
          "y1": 1,
          "yref": "y domain"
         },
         {
          "fillcolor": "#0EB9B9",
          "line": {
           "width": 0
          },
          "opacity": 0.25,
          "type": "rect",
          "x0": "2020-06-15T13:30:00",
          "x1": "2020-06-15T16:30:00",
          "xref": "x2",
          "y0": 0,
          "y1": 1,
          "yref": "y2 domain"
         },
         {
          "fillcolor": "#0EB9B9",
          "line": {
           "width": 0
          },
          "opacity": 0.25,
          "type": "rect",
          "x0": "2020-06-15T13:30:00",
          "x1": "2020-06-15T16:30:00",
          "xref": "x3",
          "y0": 0,
          "y1": 1,
          "yref": "y3 domain"
         },
         {
          "fillcolor": "#0EB9B9",
          "line": {
           "width": 0
          },
          "opacity": 0.25,
          "type": "rect",
          "x0": "2020-06-15T13:30:00",
          "x1": "2020-06-15T16:30:00",
          "xref": "x4",
          "y0": 0,
          "y1": 1,
          "yref": "y4 domain"
         }
        ],
        "template": {
         "data": {
          "bar": [
           {
            "error_x": {
             "color": "#f2f5fa"
            },
            "error_y": {
             "color": "#f2f5fa"
            },
            "marker": {
             "line": {
              "color": "rgb(17,17,17)",
              "width": 0.5
             },
             "pattern": {
              "fillmode": "overlay",
              "size": 10,
              "solidity": 0.2
             }
            },
            "type": "bar"
           }
          ],
          "barpolar": [
           {
            "marker": {
             "line": {
              "color": "rgb(17,17,17)",
              "width": 0.5
             },
             "pattern": {
              "fillmode": "overlay",
              "size": 10,
              "solidity": 0.2
             }
            },
            "type": "barpolar"
           }
          ],
          "carpet": [
           {
            "aaxis": {
             "endlinecolor": "#A2B1C6",
             "gridcolor": "#506784",
             "linecolor": "#506784",
             "minorgridcolor": "#506784",
             "startlinecolor": "#A2B1C6"
            },
            "baxis": {
             "endlinecolor": "#A2B1C6",
             "gridcolor": "#506784",
             "linecolor": "#506784",
             "minorgridcolor": "#506784",
             "startlinecolor": "#A2B1C6"
            },
            "type": "carpet"
           }
          ],
          "choropleth": [
           {
            "colorbar": {
             "outlinewidth": 0,
             "ticks": ""
            },
            "type": "choropleth"
           }
          ],
          "contour": [
           {
            "colorbar": {
             "outlinewidth": 0,
             "ticks": ""
            },
            "colorscale": [
             [
              0,
              "#0d0887"
             ],
             [
              0.1111111111111111,
              "#46039f"
             ],
             [
              0.2222222222222222,
              "#7201a8"
             ],
             [
              0.3333333333333333,
              "#9c179e"
             ],
             [
              0.4444444444444444,
              "#bd3786"
             ],
             [
              0.5555555555555556,
              "#d8576b"
             ],
             [
              0.6666666666666666,
              "#ed7953"
             ],
             [
              0.7777777777777778,
              "#fb9f3a"
             ],
             [
              0.8888888888888888,
              "#fdca26"
             ],
             [
              1,
              "#f0f921"
             ]
            ],
            "type": "contour"
           }
          ],
          "contourcarpet": [
           {
            "colorbar": {
             "outlinewidth": 0,
             "ticks": ""
            },
            "type": "contourcarpet"
           }
          ],
          "heatmap": [
           {
            "colorbar": {
             "outlinewidth": 0,
             "ticks": ""
            },
            "colorscale": [
             [
              0,
              "#0d0887"
             ],
             [
              0.1111111111111111,
              "#46039f"
             ],
             [
              0.2222222222222222,
              "#7201a8"
             ],
             [
              0.3333333333333333,
              "#9c179e"
             ],
             [
              0.4444444444444444,
              "#bd3786"
             ],
             [
              0.5555555555555556,
              "#d8576b"
             ],
             [
              0.6666666666666666,
              "#ed7953"
             ],
             [
              0.7777777777777778,
              "#fb9f3a"
             ],
             [
              0.8888888888888888,
              "#fdca26"
             ],
             [
              1,
              "#f0f921"
             ]
            ],
            "type": "heatmap"
           }
          ],
          "heatmapgl": [
           {
            "colorbar": {
             "outlinewidth": 0,
             "ticks": ""
            },
            "colorscale": [
             [
              0,
              "#0d0887"
             ],
             [
              0.1111111111111111,
              "#46039f"
             ],
             [
              0.2222222222222222,
              "#7201a8"
             ],
             [
              0.3333333333333333,
              "#9c179e"
             ],
             [
              0.4444444444444444,
              "#bd3786"
             ],
             [
              0.5555555555555556,
              "#d8576b"
             ],
             [
              0.6666666666666666,
              "#ed7953"
             ],
             [
              0.7777777777777778,
              "#fb9f3a"
             ],
             [
              0.8888888888888888,
              "#fdca26"
             ],
             [
              1,
              "#f0f921"
             ]
            ],
            "type": "heatmapgl"
           }
          ],
          "histogram": [
           {
            "marker": {
             "pattern": {
              "fillmode": "overlay",
              "size": 10,
              "solidity": 0.2
             }
            },
            "type": "histogram"
           }
          ],
          "histogram2d": [
           {
            "colorbar": {
             "outlinewidth": 0,
             "ticks": ""
            },
            "colorscale": [
             [
              0,
              "#0d0887"
             ],
             [
              0.1111111111111111,
              "#46039f"
             ],
             [
              0.2222222222222222,
              "#7201a8"
             ],
             [
              0.3333333333333333,
              "#9c179e"
             ],
             [
              0.4444444444444444,
              "#bd3786"
             ],
             [
              0.5555555555555556,
              "#d8576b"
             ],
             [
              0.6666666666666666,
              "#ed7953"
             ],
             [
              0.7777777777777778,
              "#fb9f3a"
             ],
             [
              0.8888888888888888,
              "#fdca26"
             ],
             [
              1,
              "#f0f921"
             ]
            ],
            "type": "histogram2d"
           }
          ],
          "histogram2dcontour": [
           {
            "colorbar": {
             "outlinewidth": 0,
             "ticks": ""
            },
            "colorscale": [
             [
              0,
              "#0d0887"
             ],
             [
              0.1111111111111111,
              "#46039f"
             ],
             [
              0.2222222222222222,
              "#7201a8"
             ],
             [
              0.3333333333333333,
              "#9c179e"
             ],
             [
              0.4444444444444444,
              "#bd3786"
             ],
             [
              0.5555555555555556,
              "#d8576b"
             ],
             [
              0.6666666666666666,
              "#ed7953"
             ],
             [
              0.7777777777777778,
              "#fb9f3a"
             ],
             [
              0.8888888888888888,
              "#fdca26"
             ],
             [
              1,
              "#f0f921"
             ]
            ],
            "type": "histogram2dcontour"
           }
          ],
          "mesh3d": [
           {
            "colorbar": {
             "outlinewidth": 0,
             "ticks": ""
            },
            "type": "mesh3d"
           }
          ],
          "parcoords": [
           {
            "line": {
             "colorbar": {
              "outlinewidth": 0,
              "ticks": ""
             }
            },
            "type": "parcoords"
           }
          ],
          "pie": [
           {
            "automargin": true,
            "type": "pie"
           }
          ],
          "scatter": [
           {
            "marker": {
             "line": {
              "color": "#283442"
             }
            },
            "type": "scatter"
           }
          ],
          "scatter3d": [
           {
            "line": {
             "colorbar": {
              "outlinewidth": 0,
              "ticks": ""
             }
            },
            "marker": {
             "colorbar": {
              "outlinewidth": 0,
              "ticks": ""
             }
            },
            "type": "scatter3d"
           }
          ],
          "scattercarpet": [
           {
            "marker": {
             "colorbar": {
              "outlinewidth": 0,
              "ticks": ""
             }
            },
            "type": "scattercarpet"
           }
          ],
          "scattergeo": [
           {
            "marker": {
             "colorbar": {
              "outlinewidth": 0,
              "ticks": ""
             }
            },
            "type": "scattergeo"
           }
          ],
          "scattergl": [
           {
            "marker": {
             "line": {
              "color": "#283442"
             }
            },
            "type": "scattergl"
           }
          ],
          "scattermapbox": [
           {
            "marker": {
             "colorbar": {
              "outlinewidth": 0,
              "ticks": ""
             }
            },
            "type": "scattermapbox"
           }
          ],
          "scatterpolar": [
           {
            "marker": {
             "colorbar": {
              "outlinewidth": 0,
              "ticks": ""
             }
            },
            "type": "scatterpolar"
           }
          ],
          "scatterpolargl": [
           {
            "marker": {
             "colorbar": {
              "outlinewidth": 0,
              "ticks": ""
             }
            },
            "type": "scatterpolargl"
           }
          ],
          "scatterternary": [
           {
            "marker": {
             "colorbar": {
              "outlinewidth": 0,
              "ticks": ""
             }
            },
            "type": "scatterternary"
           }
          ],
          "surface": [
           {
            "colorbar": {
             "outlinewidth": 0,
             "ticks": ""
            },
            "colorscale": [
             [
              0,
              "#0d0887"
             ],
             [
              0.1111111111111111,
              "#46039f"
             ],
             [
              0.2222222222222222,
              "#7201a8"
             ],
             [
              0.3333333333333333,
              "#9c179e"
             ],
             [
              0.4444444444444444,
              "#bd3786"
             ],
             [
              0.5555555555555556,
              "#d8576b"
             ],
             [
              0.6666666666666666,
              "#ed7953"
             ],
             [
              0.7777777777777778,
              "#fb9f3a"
             ],
             [
              0.8888888888888888,
              "#fdca26"
             ],
             [
              1,
              "#f0f921"
             ]
            ],
            "type": "surface"
           }
          ],
          "table": [
           {
            "cells": {
             "fill": {
              "color": "#506784"
             },
             "line": {
              "color": "rgb(17,17,17)"
             }
            },
            "header": {
             "fill": {
              "color": "#2a3f5f"
             },
             "line": {
              "color": "rgb(17,17,17)"
             }
            },
            "type": "table"
           }
          ]
         },
         "layout": {
          "annotationdefaults": {
           "arrowcolor": "#f2f5fa",
           "arrowhead": 0,
           "arrowwidth": 1
          },
          "autotypenumbers": "strict",
          "coloraxis": {
           "colorbar": {
            "outlinewidth": 0,
            "ticks": ""
           }
          },
          "colorscale": {
           "diverging": [
            [
             0,
             "#8e0152"
            ],
            [
             0.1,
             "#c51b7d"
            ],
            [
             0.2,
             "#de77ae"
            ],
            [
             0.3,
             "#f1b6da"
            ],
            [
             0.4,
             "#fde0ef"
            ],
            [
             0.5,
             "#f7f7f7"
            ],
            [
             0.6,
             "#e6f5d0"
            ],
            [
             0.7,
             "#b8e186"
            ],
            [
             0.8,
             "#7fbc41"
            ],
            [
             0.9,
             "#4d9221"
            ],
            [
             1,
             "#276419"
            ]
           ],
           "sequential": [
            [
             0,
             "#0d0887"
            ],
            [
             0.1111111111111111,
             "#46039f"
            ],
            [
             0.2222222222222222,
             "#7201a8"
            ],
            [
             0.3333333333333333,
             "#9c179e"
            ],
            [
             0.4444444444444444,
             "#bd3786"
            ],
            [
             0.5555555555555556,
             "#d8576b"
            ],
            [
             0.6666666666666666,
             "#ed7953"
            ],
            [
             0.7777777777777778,
             "#fb9f3a"
            ],
            [
             0.8888888888888888,
             "#fdca26"
            ],
            [
             1,
             "#f0f921"
            ]
           ],
           "sequentialminus": [
            [
             0,
             "#0d0887"
            ],
            [
             0.1111111111111111,
             "#46039f"
            ],
            [
             0.2222222222222222,
             "#7201a8"
            ],
            [
             0.3333333333333333,
             "#9c179e"
            ],
            [
             0.4444444444444444,
             "#bd3786"
            ],
            [
             0.5555555555555556,
             "#d8576b"
            ],
            [
             0.6666666666666666,
             "#ed7953"
            ],
            [
             0.7777777777777778,
             "#fb9f3a"
            ],
            [
             0.8888888888888888,
             "#fdca26"
            ],
            [
             1,
             "#f0f921"
            ]
           ]
          },
          "colorway": [
           "#636efa",
           "#EF553B",
           "#00cc96",
           "#ab63fa",
           "#FFA15A",
           "#19d3f3",
           "#FF6692",
           "#B6E880",
           "#FF97FF",
           "#FECB52"
          ],
          "font": {
           "color": "#f2f5fa"
          },
          "geo": {
           "bgcolor": "rgb(17,17,17)",
           "lakecolor": "rgb(17,17,17)",
           "landcolor": "rgb(17,17,17)",
           "showlakes": true,
           "showland": true,
           "subunitcolor": "#506784"
          },
          "hoverlabel": {
           "align": "left"
          },
          "hovermode": "closest",
          "mapbox": {
           "style": "dark"
          },
          "paper_bgcolor": "rgb(17,17,17)",
          "plot_bgcolor": "rgb(17,17,17)",
          "polar": {
           "angularaxis": {
            "gridcolor": "#506784",
            "linecolor": "#506784",
            "ticks": ""
           },
           "bgcolor": "rgb(17,17,17)",
           "radialaxis": {
            "gridcolor": "#506784",
            "linecolor": "#506784",
            "ticks": ""
           }
          },
          "scene": {
           "xaxis": {
            "backgroundcolor": "rgb(17,17,17)",
            "gridcolor": "#506784",
            "gridwidth": 2,
            "linecolor": "#506784",
            "showbackground": true,
            "ticks": "",
            "zerolinecolor": "#C8D4E3"
           },
           "yaxis": {
            "backgroundcolor": "rgb(17,17,17)",
            "gridcolor": "#506784",
            "gridwidth": 2,
            "linecolor": "#506784",
            "showbackground": true,
            "ticks": "",
            "zerolinecolor": "#C8D4E3"
           },
           "zaxis": {
            "backgroundcolor": "rgb(17,17,17)",
            "gridcolor": "#506784",
            "gridwidth": 2,
            "linecolor": "#506784",
            "showbackground": true,
            "ticks": "",
            "zerolinecolor": "#C8D4E3"
           }
          },
          "shapedefaults": {
           "line": {
            "color": "#f2f5fa"
           }
          },
          "sliderdefaults": {
           "bgcolor": "#C8D4E3",
           "bordercolor": "rgb(17,17,17)",
           "borderwidth": 1,
           "tickwidth": 0
          },
          "ternary": {
           "aaxis": {
            "gridcolor": "#506784",
            "linecolor": "#506784",
            "ticks": ""
           },
           "baxis": {
            "gridcolor": "#506784",
            "linecolor": "#506784",
            "ticks": ""
           },
           "bgcolor": "rgb(17,17,17)",
           "caxis": {
            "gridcolor": "#506784",
            "linecolor": "#506784",
            "ticks": ""
           }
          },
          "title": {
           "x": 0.05
          },
          "updatemenudefaults": {
           "bgcolor": "#506784",
           "borderwidth": 0
          },
          "xaxis": {
           "automargin": true,
           "gridcolor": "#283442",
           "linecolor": "#506784",
           "ticks": "",
           "title": {
            "standoff": 15
           },
           "zerolinecolor": "#283442",
           "zerolinewidth": 2
          },
          "yaxis": {
           "automargin": true,
           "gridcolor": "#283442",
           "linecolor": "#506784",
           "ticks": "",
           "title": {
            "standoff": 15
           },
           "zerolinecolor": "#283442",
           "zerolinewidth": 2
          }
         }
        },
        "title": {
         "text": "[Fecha consulta: 2020-06-15 13:30:00] [Última Instalación Liners: 2020-05-03] [Edad del Molino: Nuevo]"
        },
        "width": 1000,
        "xaxis": {
         "anchor": "y",
         "domain": [
          0,
          1
         ],
         "tickformat": "%H:%M"
        },
        "xaxis2": {
         "anchor": "y2",
         "domain": [
          0,
          1
         ],
         "tickformat": "%H:%M"
        },
        "xaxis3": {
         "anchor": "y3",
         "domain": [
          0,
          1
         ],
         "tickformat": "%H:%M"
        },
        "xaxis4": {
         "anchor": "y4",
         "domain": [
          0,
          1
         ],
         "tickformat": "%H:%M",
         "title": {
          "text": "Tiempo - frecuencia 15 Minutos"
         }
        },
        "yaxis": {
         "anchor": "x",
         "domain": [
          0.84375,
          1
         ],
         "title": {
          "text": "TPH"
         }
        },
        "yaxis2": {
         "anchor": "x2",
         "domain": [
          0.5625,
          0.71875
         ],
         "title": {
          "text": "Celda de Carga"
         }
        },
        "yaxis3": {
         "anchor": "x3",
         "domain": [
          0.28125,
          0.4375
         ],
         "title": {
          "text": "% Pasante"
         }
        },
        "yaxis4": {
         "anchor": "x4",
         "domain": [
          0,
          0.15625
         ],
         "title": {
          "text": "SPI"
         }
        }
       }
      }
     },
     "metadata": {},
     "output_type": "display_data"
    }
   ],
   "source": [
    "generate_visualization(dash)"
   ]
  },
  {
   "cell_type": "code",
   "execution_count": 22,
   "metadata": {},
   "outputs": [],
   "source": [
    "def widgets_dashboard(anio,mes,dia,hr):\n",
    "    # Generación de data para visualización\n",
    "    dash=generate_data_dashboard(anio,mes,dia,hr,inicios_campañas)\n",
    "    dash.set_index(\"timestamp\",inplace=True)\n",
    "    fig=generate_visualization(dash)\n",
    "    fig.show()\n",
    "    "
   ]
  },
  {
   "cell_type": "code",
   "execution_count": 23,
   "metadata": {},
   "outputs": [
    {
     "data": {
      "application/vnd.jupyter.widget-view+json": {
       "model_id": "ce6fa503ac564ab687786cfa5eeaac91",
       "version_major": 2,
       "version_minor": 0
      },
      "text/plain": [
       "VBox(children=(HBox(children=(VBox(children=(Dropdown(description='Año:', index=1, options=('2019', '2020', '2…"
      ]
     },
     "metadata": {},
     "output_type": "display_data"
    },
    {
     "data": {
      "application/vnd.plotly.v1+json": {
       "config": {
        "plotlyServerURL": "https://plot.ly"
       },
       "data": [
        {
         "legendgroup": "1",
         "line": {
          "color": "#0BDEEF",
          "width": 3
         },
         "mode": "lines",
         "name": "TPH real",
         "type": "scatter",
         "x": [
          "2021-01-31T19:15:00",
          "2021-01-31T19:30:00",
          "2021-01-31T19:45:00",
          "2021-01-31T20:00:00",
          "2021-01-31T20:15:00",
          "2021-01-31T20:30:00",
          "2021-01-31T20:45:00",
          "2021-01-31T21:00:00",
          "2021-01-31T21:15:00",
          "2021-01-31T21:30:00",
          "2021-01-31T21:45:00",
          "2021-01-31T22:00:00",
          "2021-01-31T22:15:00",
          "2021-01-31T22:30:00",
          "2021-01-31T22:45:00",
          "2021-01-31T23:00:00",
          "2021-01-31T23:15:00",
          "2021-01-31T23:30:00",
          "2021-01-31T23:45:00",
          "2021-02-01T00:00:00",
          "2021-02-01T00:15:00",
          "2021-02-01T00:15:00",
          "2021-02-01T00:30:00",
          "2021-02-01T00:45:00",
          "2021-02-01T01:00:00",
          "2021-02-01T01:15:00",
          "2021-02-01T01:30:00",
          "2021-02-01T01:45:00",
          "2021-02-01T02:00:00",
          "2021-02-01T02:15:00",
          "2021-02-01T02:30:00",
          "2021-02-01T02:45:00",
          "2021-02-01T03:00:00",
          "2021-02-01T03:15:00"
         ],
         "xaxis": "x",
         "y": [
          4134.917163371272,
          4002.057753739146,
          3771.3662305201374,
          3803.718178910513,
          3868.7114158560216,
          3883.264377244391,
          3808.317467244281,
          3836.700841402721,
          3531.552077605136,
          3597.0631615364173,
          3532.1196301093373,
          3511.067197404339,
          3917.611816319552,
          4042.0650084384088,
          4150.195253200612,
          4132.5287820115145,
          4035.568829987801,
          3941.053975168388,
          3966.0954796856745,
          4011.4146959929553,
          4115.4587665689,
          null,
          null,
          null,
          null,
          null,
          null,
          null,
          null,
          null,
          null,
          null,
          null,
          null
         ],
         "yaxis": "y"
        },
        {
         "legendgroup": "1",
         "line": {
          "color": "#48EF0B",
          "width": 3
         },
         "mode": "lines",
         "name": "Limite operario HH TPH",
         "type": "scatter",
         "x": [
          "2021-01-31T19:15:00",
          "2021-01-31T19:30:00",
          "2021-01-31T19:45:00",
          "2021-01-31T20:00:00",
          "2021-01-31T20:15:00",
          "2021-01-31T20:30:00",
          "2021-01-31T20:45:00",
          "2021-01-31T21:00:00",
          "2021-01-31T21:15:00",
          "2021-01-31T21:30:00",
          "2021-01-31T21:45:00",
          "2021-01-31T22:00:00",
          "2021-01-31T22:15:00",
          "2021-01-31T22:30:00",
          "2021-01-31T22:45:00",
          "2021-01-31T23:00:00",
          "2021-01-31T23:15:00",
          "2021-01-31T23:30:00",
          "2021-01-31T23:45:00",
          "2021-02-01T00:00:00",
          "2021-02-01T00:15:00",
          "2021-02-01T00:15:00",
          "2021-02-01T00:30:00",
          "2021-02-01T00:45:00",
          "2021-02-01T01:00:00",
          "2021-02-01T01:15:00",
          "2021-02-01T01:30:00",
          "2021-02-01T01:45:00",
          "2021-02-01T02:00:00",
          "2021-02-01T02:15:00",
          "2021-02-01T02:30:00",
          "2021-02-01T02:45:00",
          "2021-02-01T03:00:00",
          "2021-02-01T03:15:00"
         ],
         "xaxis": "x",
         "y": [
          4500,
          4500,
          4500,
          4500,
          4500,
          4500,
          4500,
          4500,
          4500,
          4500,
          4500,
          4200,
          4200,
          4200,
          4200,
          4200,
          4200,
          4200,
          4200,
          4200,
          4200,
          null,
          null,
          null,
          null,
          null,
          null,
          null,
          null,
          null,
          null,
          null,
          null,
          null
         ],
         "yaxis": "y"
        },
        {
         "line": {
          "color": "#FF1139",
          "width": 0
         },
         "mode": "lines",
         "name": " ",
         "showlegend": false,
         "type": "scatter",
         "x": [
          "2021-01-31T19:15:00",
          "2021-01-31T19:30:00",
          "2021-01-31T19:45:00",
          "2021-01-31T20:00:00",
          "2021-01-31T20:15:00",
          "2021-01-31T20:30:00",
          "2021-01-31T20:45:00",
          "2021-01-31T21:00:00",
          "2021-01-31T21:15:00",
          "2021-01-31T21:30:00",
          "2021-01-31T21:45:00",
          "2021-01-31T22:00:00",
          "2021-01-31T22:15:00",
          "2021-01-31T22:30:00",
          "2021-01-31T22:45:00",
          "2021-01-31T23:00:00",
          "2021-01-31T23:15:00",
          "2021-01-31T23:30:00",
          "2021-01-31T23:45:00",
          "2021-02-01T00:00:00",
          "2021-02-01T00:15:00",
          "2021-02-01T00:15:00",
          "2021-02-01T00:30:00",
          "2021-02-01T00:45:00",
          "2021-02-01T01:00:00",
          "2021-02-01T01:15:00",
          "2021-02-01T01:30:00",
          "2021-02-01T01:45:00",
          "2021-02-01T02:00:00",
          "2021-02-01T02:15:00",
          "2021-02-01T02:30:00",
          "2021-02-01T02:45:00",
          "2021-02-01T03:00:00",
          "2021-02-01T03:15:00"
         ],
         "xaxis": "x2",
         "y": [
          null,
          null,
          null,
          null,
          null,
          null,
          null,
          null,
          null,
          null,
          null,
          null,
          null,
          null,
          null,
          null,
          null,
          null,
          null,
          null,
          null,
          810.0436439501436,
          790.3569724438862,
          795.8345271308099,
          808.6154880669651,
          788.5311208815783,
          803.1379333800414,
          826.874003690044,
          826.874003690044,
          826.874003690044,
          826.874003690044,
          817.7250203554086,
          817.7250203554086,
          838.2086907694488
         ],
         "yaxis": "y2"
        },
        {
         "fill": "tonexty",
         "legendgroup": "2",
         "line": {
          "color": "#A6A1AB",
          "width": 0
         },
         "mode": "lines",
         "name": "Rango de Recomendación CC",
         "type": "scatter",
         "x": [
          "2021-01-31T19:15:00",
          "2021-01-31T19:30:00",
          "2021-01-31T19:45:00",
          "2021-01-31T20:00:00",
          "2021-01-31T20:15:00",
          "2021-01-31T20:30:00",
          "2021-01-31T20:45:00",
          "2021-01-31T21:00:00",
          "2021-01-31T21:15:00",
          "2021-01-31T21:30:00",
          "2021-01-31T21:45:00",
          "2021-01-31T22:00:00",
          "2021-01-31T22:15:00",
          "2021-01-31T22:30:00",
          "2021-01-31T22:45:00",
          "2021-01-31T23:00:00",
          "2021-01-31T23:15:00",
          "2021-01-31T23:30:00",
          "2021-01-31T23:45:00",
          "2021-02-01T00:00:00",
          "2021-02-01T00:15:00",
          "2021-02-01T00:15:00",
          "2021-02-01T00:30:00",
          "2021-02-01T00:45:00",
          "2021-02-01T01:00:00",
          "2021-02-01T01:15:00",
          "2021-02-01T01:30:00",
          "2021-02-01T01:45:00",
          "2021-02-01T02:00:00",
          "2021-02-01T02:15:00",
          "2021-02-01T02:30:00",
          "2021-02-01T02:45:00",
          "2021-02-01T03:00:00",
          "2021-02-01T03:15:00"
         ],
         "xaxis": "x2",
         "y": [
          null,
          null,
          null,
          null,
          null,
          null,
          null,
          null,
          null,
          null,
          null,
          null,
          null,
          null,
          null,
          null,
          null,
          null,
          null,
          null,
          null,
          810.0436439501436,
          799.4862302554257,
          781.2277146323468,
          781.2277146323468,
          781.2277146323468,
          803.1379333800414,
          794.008675568502,
          795.8345271308099,
          794.008675568502,
          788.5311208815783,
          799.8018087431235,
          702.504374276433,
          740.9112563027581
         ],
         "yaxis": "y2"
        },
        {
         "legendgroup": "2",
         "line": {
          "color": "red",
          "width": 3
         },
         "mode": "lines",
         "name": "Recomendación CC con forecast F80",
         "type": "scatter",
         "x": [
          "2021-01-31T19:15:00",
          "2021-01-31T19:30:00",
          "2021-01-31T19:45:00",
          "2021-01-31T20:00:00",
          "2021-01-31T20:15:00",
          "2021-01-31T20:30:00",
          "2021-01-31T20:45:00",
          "2021-01-31T21:00:00",
          "2021-01-31T21:15:00",
          "2021-01-31T21:30:00",
          "2021-01-31T21:45:00",
          "2021-01-31T22:00:00",
          "2021-01-31T22:15:00",
          "2021-01-31T22:30:00",
          "2021-01-31T22:45:00",
          "2021-01-31T23:00:00",
          "2021-01-31T23:15:00",
          "2021-01-31T23:30:00",
          "2021-01-31T23:45:00",
          "2021-02-01T00:00:00",
          "2021-02-01T00:15:00",
          "2021-02-01T00:15:00",
          "2021-02-01T00:30:00",
          "2021-02-01T00:45:00",
          "2021-02-01T01:00:00",
          "2021-02-01T01:15:00",
          "2021-02-01T01:30:00",
          "2021-02-01T01:45:00",
          "2021-02-01T02:00:00",
          "2021-02-01T02:15:00",
          "2021-02-01T02:30:00",
          "2021-02-01T02:45:00",
          "2021-02-01T03:00:00",
          "2021-02-01T03:15:00"
         ],
         "xaxis": "x2",
         "y": [
          null,
          null,
          null,
          null,
          null,
          null,
          null,
          null,
          null,
          null,
          null,
          null,
          null,
          null,
          null,
          null,
          null,
          null,
          null,
          null,
          null,
          810.0436439501436,
          808.6154880669651,
          808.6154880669651,
          792.1828240061941,
          803.1379333800414,
          792.1828240061941,
          799.4862302554257,
          794.008675568502,
          794.008675568502,
          794.008675568502,
          810.0436439501436,
          797.2413499413685,
          802.3622675448785
         ],
         "yaxis": "y2"
        },
        {
         "legendgroup": "2",
         "line": {
          "color": "#EF0BEC",
          "width": 3
         },
         "mode": "lines",
         "name": "Recomendación CC sin forecast F80",
         "type": "scatter",
         "x": [
          "2021-01-31T19:15:00",
          "2021-01-31T19:30:00",
          "2021-01-31T19:45:00",
          "2021-01-31T20:00:00",
          "2021-01-31T20:15:00",
          "2021-01-31T20:30:00",
          "2021-01-31T20:45:00",
          "2021-01-31T21:00:00",
          "2021-01-31T21:15:00",
          "2021-01-31T21:30:00",
          "2021-01-31T21:45:00",
          "2021-01-31T22:00:00",
          "2021-01-31T22:15:00",
          "2021-01-31T22:30:00",
          "2021-01-31T22:45:00",
          "2021-01-31T23:00:00",
          "2021-01-31T23:15:00",
          "2021-01-31T23:30:00",
          "2021-01-31T23:45:00",
          "2021-02-01T00:00:00",
          "2021-02-01T00:15:00",
          "2021-02-01T00:15:00",
          "2021-02-01T00:30:00",
          "2021-02-01T00:45:00",
          "2021-02-01T01:00:00",
          "2021-02-01T01:15:00",
          "2021-02-01T01:30:00",
          "2021-02-01T01:45:00",
          "2021-02-01T02:00:00",
          "2021-02-01T02:15:00",
          "2021-02-01T02:30:00",
          "2021-02-01T02:45:00",
          "2021-02-01T03:00:00",
          "2021-02-01T03:15:00"
         ],
         "xaxis": "x2",
         "y": [
          776.7576795273284,
          789.5599735361034,
          789.5599735361034,
          789.5599735361034,
          817.7250203554086,
          771.2818069670623,
          742.9378498557284,
          722.6921662047755,
          724.7167345698709,
          812.6041027518986,
          802.3622675448785,
          794.6808911396135,
          799.8018087431235,
          775.3309436972528,
          744.9624182208237,
          771.2818069670623,
          724.7167345698709,
          755.0852600463,
          755.0852600463,
          810.0436439501436,
          810.0436439501436,
          null,
          null,
          null,
          null,
          null,
          null,
          null,
          null,
          null,
          null,
          null,
          null,
          null
         ],
         "yaxis": "y2"
        },
        {
         "legendgroup": "2",
         "line": {
          "color": "#0BDEEF",
          "width": 3
         },
         "mode": "lines",
         "name": "Celda de Carga real",
         "type": "scatter",
         "x": [
          "2021-01-31T19:15:00",
          "2021-01-31T19:30:00",
          "2021-01-31T19:45:00",
          "2021-01-31T20:00:00",
          "2021-01-31T20:15:00",
          "2021-01-31T20:30:00",
          "2021-01-31T20:45:00",
          "2021-01-31T21:00:00",
          "2021-01-31T21:15:00",
          "2021-01-31T21:30:00",
          "2021-01-31T21:45:00",
          "2021-01-31T22:00:00",
          "2021-01-31T22:15:00",
          "2021-01-31T22:30:00",
          "2021-01-31T22:45:00",
          "2021-01-31T23:00:00",
          "2021-01-31T23:15:00",
          "2021-01-31T23:30:00",
          "2021-01-31T23:45:00",
          "2021-02-01T00:00:00",
          "2021-02-01T00:15:00",
          "2021-02-01T00:15:00",
          "2021-02-01T00:30:00",
          "2021-02-01T00:45:00",
          "2021-02-01T01:00:00",
          "2021-02-01T01:15:00",
          "2021-02-01T01:30:00",
          "2021-02-01T01:45:00",
          "2021-02-01T02:00:00",
          "2021-02-01T02:15:00",
          "2021-02-01T02:30:00",
          "2021-02-01T02:45:00",
          "2021-02-01T03:00:00",
          "2021-02-01T03:15:00"
         ],
         "xaxis": "x2",
         "y": [
          772.3821255620985,
          792.89260124417,
          801.0214409815936,
          782.2827575804117,
          795.7500275151373,
          810.9241085086538,
          777.8726224191315,
          787.7348341619054,
          795.8364759872616,
          799.7750706346484,
          816.1312180405314,
          767.8712387019484,
          732.1548430810627,
          759.7332278271933,
          779.2441694248866,
          813.1721044600521,
          806.7668495018319,
          793.5835591850907,
          768.2108016235463,
          757.11855663293,
          763.0382433986023,
          null,
          null,
          null,
          null,
          null,
          null,
          null,
          null,
          null,
          null,
          null,
          null,
          null
         ],
         "yaxis": "y2"
        },
        {
         "legendgroup": "2",
         "line": {
          "color": "#48EF0B",
          "width": 3
         },
         "mode": "lines",
         "name": "Limite operario LL CC",
         "type": "scatter",
         "x": [
          "2021-01-31T19:15:00",
          "2021-01-31T19:30:00",
          "2021-01-31T19:45:00",
          "2021-01-31T20:00:00",
          "2021-01-31T20:15:00",
          "2021-01-31T20:30:00",
          "2021-01-31T20:45:00",
          "2021-01-31T21:00:00",
          "2021-01-31T21:15:00",
          "2021-01-31T21:30:00",
          "2021-01-31T21:45:00",
          "2021-01-31T22:00:00",
          "2021-01-31T22:15:00",
          "2021-01-31T22:30:00",
          "2021-01-31T22:45:00",
          "2021-01-31T23:00:00",
          "2021-01-31T23:15:00",
          "2021-01-31T23:30:00",
          "2021-01-31T23:45:00",
          "2021-02-01T00:00:00",
          "2021-02-01T00:15:00",
          "2021-02-01T00:15:00",
          "2021-02-01T00:30:00",
          "2021-02-01T00:45:00",
          "2021-02-01T01:00:00",
          "2021-02-01T01:15:00",
          "2021-02-01T01:30:00",
          "2021-02-01T01:45:00",
          "2021-02-01T02:00:00",
          "2021-02-01T02:15:00",
          "2021-02-01T02:30:00",
          "2021-02-01T02:45:00",
          "2021-02-01T03:00:00",
          "2021-02-01T03:15:00"
         ],
         "xaxis": "x2",
         "y": [
          720,
          720,
          720,
          720,
          720,
          720,
          720,
          720,
          720,
          720,
          720,
          720,
          720,
          720,
          720,
          720,
          720,
          720,
          720,
          720,
          720,
          null,
          null,
          null,
          null,
          null,
          null,
          null,
          null,
          null,
          null,
          null,
          null,
          null
         ],
         "yaxis": "y2"
        },
        {
         "legendgroup": "2",
         "line": {
          "color": "#48EF0B",
          "width": 3
         },
         "mode": "lines",
         "name": "Limite operario HH CC",
         "type": "scatter",
         "x": [
          "2021-01-31T19:15:00",
          "2021-01-31T19:30:00",
          "2021-01-31T19:45:00",
          "2021-01-31T20:00:00",
          "2021-01-31T20:15:00",
          "2021-01-31T20:30:00",
          "2021-01-31T20:45:00",
          "2021-01-31T21:00:00",
          "2021-01-31T21:15:00",
          "2021-01-31T21:30:00",
          "2021-01-31T21:45:00",
          "2021-01-31T22:00:00",
          "2021-01-31T22:15:00",
          "2021-01-31T22:30:00",
          "2021-01-31T22:45:00",
          "2021-01-31T23:00:00",
          "2021-01-31T23:15:00",
          "2021-01-31T23:30:00",
          "2021-01-31T23:45:00",
          "2021-02-01T00:00:00",
          "2021-02-01T00:15:00",
          "2021-02-01T00:15:00",
          "2021-02-01T00:30:00",
          "2021-02-01T00:45:00",
          "2021-02-01T01:00:00",
          "2021-02-01T01:15:00",
          "2021-02-01T01:30:00",
          "2021-02-01T01:45:00",
          "2021-02-01T02:00:00",
          "2021-02-01T02:15:00",
          "2021-02-01T02:30:00",
          "2021-02-01T02:45:00",
          "2021-02-01T03:00:00",
          "2021-02-01T03:15:00"
         ],
         "xaxis": "x2",
         "y": [
          800,
          800,
          800,
          800,
          800,
          800,
          800,
          800,
          800,
          800,
          800,
          800,
          800,
          800,
          800,
          800,
          800,
          800,
          800,
          800,
          800,
          null,
          null,
          null,
          null,
          null,
          null,
          null,
          null,
          null,
          null,
          null,
          null,
          null
         ],
         "yaxis": "y2"
        },
        {
         "line": {
          "color": "red",
          "width": 0
         },
         "mode": "lines",
         "name": " ",
         "showlegend": false,
         "type": "scatter",
         "x": [
          "2021-01-31T19:15:00",
          "2021-01-31T19:30:00",
          "2021-01-31T19:45:00",
          "2021-01-31T20:00:00",
          "2021-01-31T20:15:00",
          "2021-01-31T20:30:00",
          "2021-01-31T20:45:00",
          "2021-01-31T21:00:00",
          "2021-01-31T21:15:00",
          "2021-01-31T21:30:00",
          "2021-01-31T21:45:00",
          "2021-01-31T22:00:00",
          "2021-01-31T22:15:00",
          "2021-01-31T22:30:00",
          "2021-01-31T22:45:00",
          "2021-01-31T23:00:00",
          "2021-01-31T23:15:00",
          "2021-01-31T23:30:00",
          "2021-01-31T23:45:00",
          "2021-02-01T00:00:00",
          "2021-02-01T00:15:00",
          "2021-02-01T00:15:00",
          "2021-02-01T00:30:00",
          "2021-02-01T00:45:00",
          "2021-02-01T01:00:00",
          "2021-02-01T01:15:00",
          "2021-02-01T01:30:00",
          "2021-02-01T01:45:00",
          "2021-02-01T02:00:00",
          "2021-02-01T02:15:00",
          "2021-02-01T02:30:00",
          "2021-02-01T02:45:00",
          "2021-02-01T03:00:00",
          "2021-02-01T03:15:00"
         ],
         "xaxis": "x3",
         "y": [
          null,
          null,
          null,
          null,
          null,
          null,
          null,
          null,
          null,
          null,
          null,
          null,
          null,
          null,
          null,
          null,
          null,
          null,
          null,
          null,
          null,
          59.28187407461313,
          56.19211494219818,
          69.73343803339338,
          64.49877899396199,
          51.65108200069426,
          34.42494507562876,
          36.12807512956351,
          35.778780594079336,
          34.93500828835478,
          35.79607097490551,
          35.3214381260281,
          35.49675184189452,
          46.96038896094845
         ],
         "yaxis": "y3"
        },
        {
         "fill": "tonexty",
         "legendgroup": "3",
         "line": {
          "color": "#A6A1AB",
          "width": 0
         },
         "mode": "lines",
         "name": "Rango de Predicción F80",
         "type": "scatter",
         "x": [
          "2021-01-31T19:15:00",
          "2021-01-31T19:30:00",
          "2021-01-31T19:45:00",
          "2021-01-31T20:00:00",
          "2021-01-31T20:15:00",
          "2021-01-31T20:30:00",
          "2021-01-31T20:45:00",
          "2021-01-31T21:00:00",
          "2021-01-31T21:15:00",
          "2021-01-31T21:30:00",
          "2021-01-31T21:45:00",
          "2021-01-31T22:00:00",
          "2021-01-31T22:15:00",
          "2021-01-31T22:30:00",
          "2021-01-31T22:45:00",
          "2021-01-31T23:00:00",
          "2021-01-31T23:15:00",
          "2021-01-31T23:30:00",
          "2021-01-31T23:45:00",
          "2021-02-01T00:00:00",
          "2021-02-01T00:15:00",
          "2021-02-01T00:15:00",
          "2021-02-01T00:30:00",
          "2021-02-01T00:45:00",
          "2021-02-01T01:00:00",
          "2021-02-01T01:15:00",
          "2021-02-01T01:30:00",
          "2021-02-01T01:45:00",
          "2021-02-01T02:00:00",
          "2021-02-01T02:15:00",
          "2021-02-01T02:30:00",
          "2021-02-01T02:45:00",
          "2021-02-01T03:00:00",
          "2021-02-01T03:15:00"
         ],
         "xaxis": "x3",
         "y": [
          null,
          null,
          null,
          null,
          null,
          null,
          null,
          null,
          null,
          null,
          null,
          null,
          null,
          null,
          null,
          null,
          null,
          null,
          null,
          null,
          null,
          59.28187407461313,
          70.93585715900208,
          82.96170046068575,
          82.63699277694158,
          78.60139386468681,
          66.71655856734282,
          71.64215901486837,
          73.61454244651713,
          74.79653428062036,
          77.34299540144295,
          78.43599000001183,
          82.79131354149641,
          87.76674703393557
         ],
         "yaxis": "y3"
        },
        {
         "legendgroup": "3",
         "line": {
          "color": "red",
          "width": 3
         },
         "mode": "lines",
         "name": "Prediction F80",
         "type": "scatter",
         "x": [
          "2021-01-31T19:15:00",
          "2021-01-31T19:30:00",
          "2021-01-31T19:45:00",
          "2021-01-31T20:00:00",
          "2021-01-31T20:15:00",
          "2021-01-31T20:30:00",
          "2021-01-31T20:45:00",
          "2021-01-31T21:00:00",
          "2021-01-31T21:15:00",
          "2021-01-31T21:30:00",
          "2021-01-31T21:45:00",
          "2021-01-31T22:00:00",
          "2021-01-31T22:15:00",
          "2021-01-31T22:30:00",
          "2021-01-31T22:45:00",
          "2021-01-31T23:00:00",
          "2021-01-31T23:15:00",
          "2021-01-31T23:30:00",
          "2021-01-31T23:45:00",
          "2021-02-01T00:00:00",
          "2021-02-01T00:15:00",
          "2021-02-01T00:15:00",
          "2021-02-01T00:30:00",
          "2021-02-01T00:45:00",
          "2021-02-01T01:00:00",
          "2021-02-01T01:15:00",
          "2021-02-01T01:30:00",
          "2021-02-01T01:45:00",
          "2021-02-01T02:00:00",
          "2021-02-01T02:15:00",
          "2021-02-01T02:30:00",
          "2021-02-01T02:45:00",
          "2021-02-01T03:00:00",
          "2021-02-01T03:15:00"
         ],
         "xaxis": "x3",
         "y": [
          null,
          null,
          null,
          null,
          null,
          null,
          null,
          null,
          null,
          null,
          null,
          null,
          null,
          null,
          null,
          null,
          null,
          null,
          null,
          null,
          null,
          59.28187407461313,
          63.9895309574465,
          77.6875719036397,
          75.57546796920333,
          67.12342422799297,
          49.341421876908086,
          53.4979677517093,
          54.571445035866155,
          54.80135430175077,
          57.427265272489386,
          58.03573929719433,
          62.802144341701016,
          76.93985278498351
         ],
         "yaxis": "y3"
        },
        {
         "legendgroup": "3",
         "line": {
          "color": "yellow",
          "width": 3
         },
         "mode": "lines",
         "name": "Test Data F80",
         "type": "scatter",
         "x": [
          "2021-01-31T19:15:00",
          "2021-01-31T19:30:00",
          "2021-01-31T19:45:00",
          "2021-01-31T20:00:00",
          "2021-01-31T20:15:00",
          "2021-01-31T20:30:00",
          "2021-01-31T20:45:00",
          "2021-01-31T21:00:00",
          "2021-01-31T21:15:00",
          "2021-01-31T21:30:00",
          "2021-01-31T21:45:00",
          "2021-01-31T22:00:00",
          "2021-01-31T22:15:00",
          "2021-01-31T22:30:00",
          "2021-01-31T22:45:00",
          "2021-01-31T23:00:00",
          "2021-01-31T23:15:00",
          "2021-01-31T23:30:00",
          "2021-01-31T23:45:00",
          "2021-02-01T00:00:00",
          "2021-02-01T00:15:00",
          "2021-02-01T00:15:00",
          "2021-02-01T00:30:00",
          "2021-02-01T00:45:00",
          "2021-02-01T01:00:00",
          "2021-02-01T01:15:00",
          "2021-02-01T01:30:00",
          "2021-02-01T01:45:00",
          "2021-02-01T02:00:00",
          "2021-02-01T02:15:00",
          "2021-02-01T02:30:00",
          "2021-02-01T02:45:00",
          "2021-02-01T03:00:00",
          "2021-02-01T03:15:00"
         ],
         "xaxis": "x3",
         "y": [
          null,
          null,
          null,
          null,
          null,
          null,
          null,
          null,
          null,
          null,
          null,
          null,
          null,
          null,
          null,
          null,
          null,
          null,
          null,
          null,
          null,
          59.28187407461313,
          55.01124263687031,
          59.110952308886525,
          60.99456620857371,
          59.94298545888032,
          61.373417763803886,
          58.95591341828286,
          62.22048369656891,
          65.25563918883272,
          68.62169097940128,
          69.0403796255682,
          72.00190451155251,
          75.02722983660601
         ],
         "yaxis": "y3"
        },
        {
         "legendgroup": "3",
         "line": {
          "color": "#0BDEEF",
          "width": 3
         },
         "mode": "lines",
         "name": "Train Data F80",
         "type": "scatter",
         "x": [
          "2021-01-31T19:15:00",
          "2021-01-31T19:30:00",
          "2021-01-31T19:45:00",
          "2021-01-31T20:00:00",
          "2021-01-31T20:15:00",
          "2021-01-31T20:30:00",
          "2021-01-31T20:45:00",
          "2021-01-31T21:00:00",
          "2021-01-31T21:15:00",
          "2021-01-31T21:30:00",
          "2021-01-31T21:45:00",
          "2021-01-31T22:00:00",
          "2021-01-31T22:15:00",
          "2021-01-31T22:30:00",
          "2021-01-31T22:45:00",
          "2021-01-31T23:00:00",
          "2021-01-31T23:15:00",
          "2021-01-31T23:30:00",
          "2021-01-31T23:45:00",
          "2021-02-01T00:00:00",
          "2021-02-01T00:15:00",
          "2021-02-01T00:15:00",
          "2021-02-01T00:30:00",
          "2021-02-01T00:45:00",
          "2021-02-01T01:00:00",
          "2021-02-01T01:15:00",
          "2021-02-01T01:30:00",
          "2021-02-01T01:45:00",
          "2021-02-01T02:00:00",
          "2021-02-01T02:15:00",
          "2021-02-01T02:30:00",
          "2021-02-01T02:45:00",
          "2021-02-01T03:00:00",
          "2021-02-01T03:15:00"
         ],
         "xaxis": "x3",
         "y": [
          68.29599490119013,
          64.43745809036501,
          63.78373805258517,
          64.31943920836622,
          53.46346507718241,
          50.730517910476514,
          59.10766808751418,
          56.91874763852838,
          54.12302971976721,
          57.1907597083466,
          60.51708481840002,
          65.15516926524164,
          78.40120281318812,
          76.38261961320713,
          68.2181612797931,
          50.57517803882087,
          54.75709213102063,
          55.83131084176272,
          56.06107052507199,
          58.67758690841249,
          59.28187407461313,
          null,
          null,
          null,
          null,
          null,
          null,
          null,
          null,
          null,
          null,
          null,
          null,
          null
         ],
         "yaxis": "y3"
        },
        {
         "legendgroup": "4",
         "line": {
          "color": "red",
          "width": 3
         },
         "mode": "lines",
         "name": "SPI",
         "type": "scatter",
         "x": [
          "2021-01-31T19:15:00",
          "2021-01-31T19:30:00",
          "2021-01-31T19:45:00",
          "2021-01-31T20:00:00",
          "2021-01-31T20:15:00",
          "2021-01-31T20:30:00",
          "2021-01-31T20:45:00",
          "2021-01-31T21:00:00",
          "2021-01-31T21:15:00",
          "2021-01-31T21:30:00",
          "2021-01-31T21:45:00",
          "2021-01-31T22:00:00",
          "2021-01-31T22:15:00",
          "2021-01-31T22:30:00",
          "2021-01-31T22:45:00",
          "2021-01-31T23:00:00",
          "2021-01-31T23:15:00",
          "2021-01-31T23:30:00",
          "2021-01-31T23:45:00",
          "2021-02-01T00:00:00",
          "2021-02-01T00:15:00",
          "2021-02-01T00:15:00",
          "2021-02-01T00:30:00",
          "2021-02-01T00:45:00",
          "2021-02-01T01:00:00",
          "2021-02-01T01:15:00",
          "2021-02-01T01:30:00",
          "2021-02-01T01:45:00",
          "2021-02-01T02:00:00",
          "2021-02-01T02:15:00",
          "2021-02-01T02:30:00",
          "2021-02-01T02:45:00",
          "2021-02-01T03:00:00",
          "2021-02-01T03:15:00"
         ],
         "xaxis": "x4",
         "y": [
          102,
          111.8451,
          111.8451,
          111.8451,
          111.8451,
          131.3024,
          131.3024,
          131.3024,
          131.3024,
          114.6667,
          114.6667,
          114.6667,
          114.6667,
          142,
          142,
          142,
          142,
          134.60655737704917,
          124.52459016393442,
          114.44262295081968,
          104.36065573770492,
          104.36065573770492,
          101,
          101,
          101,
          101,
          101.08181818181818,
          101.19338842975206,
          101.30495867768596,
          101.41652892561984,
          101.52809917355373,
          101.6396694214876,
          101.7512396694215,
          101.86280991735538
         ],
         "yaxis": "y4"
        }
       ],
       "layout": {
        "annotations": [
         {
          "font": {
           "size": 16
          },
          "showarrow": false,
          "text": "TPH y Limite Operario",
          "x": 0.5,
          "xanchor": "center",
          "xref": "paper",
          "y": 1,
          "yanchor": "bottom",
          "yref": "paper"
         },
         {
          "font": {
           "size": 16
          },
          "showarrow": false,
          "text": "Operación Celda de Carga",
          "x": 0.5,
          "xanchor": "center",
          "xref": "paper",
          "y": 0.71875,
          "yanchor": "bottom",
          "yref": "paper"
         },
         {
          "font": {
           "size": 16
          },
          "showarrow": false,
          "text": "Granulometría F80",
          "x": 0.5,
          "xanchor": "center",
          "xref": "paper",
          "y": 0.4375,
          "yanchor": "bottom",
          "yref": "paper"
         },
         {
          "font": {
           "size": 16
          },
          "showarrow": false,
          "text": "SPI 5 hr",
          "x": 0.5,
          "xanchor": "center",
          "xref": "paper",
          "y": 0.15625,
          "yanchor": "bottom",
          "yref": "paper"
         },
         {
          "font": {
           "size": 15
          },
          "showarrow": false,
          "text": "Pasado",
          "x": "2021-01-31T19:15:00",
          "xanchor": "left",
          "xref": "x",
          "y": 0,
          "yanchor": "bottom",
          "yref": "y domain"
         },
         {
          "font": {
           "size": 15
          },
          "showarrow": false,
          "text": "Pasado",
          "x": "2021-01-31T19:15:00",
          "xanchor": "left",
          "xref": "x2",
          "y": 0,
          "yanchor": "bottom",
          "yref": "y2 domain"
         },
         {
          "font": {
           "size": 15
          },
          "showarrow": false,
          "text": "Pasado",
          "x": "2021-01-31T19:15:00",
          "xanchor": "left",
          "xref": "x3",
          "y": 0,
          "yanchor": "bottom",
          "yref": "y3 domain"
         },
         {
          "font": {
           "size": 15
          },
          "showarrow": false,
          "text": "Pasado",
          "x": "2021-01-31T19:15:00",
          "xanchor": "left",
          "xref": "x4",
          "y": 0,
          "yanchor": "bottom",
          "yref": "y4 domain"
         },
         {
          "font": {
           "size": 15
          },
          "showarrow": false,
          "text": "Futuro",
          "x": "2021-02-01T03:15:00",
          "xanchor": "right",
          "xref": "x",
          "y": 0,
          "yanchor": "bottom",
          "yref": "y domain"
         },
         {
          "font": {
           "size": 15
          },
          "showarrow": false,
          "text": "Futuro",
          "x": "2021-02-01T03:15:00",
          "xanchor": "right",
          "xref": "x2",
          "y": 0,
          "yanchor": "bottom",
          "yref": "y2 domain"
         },
         {
          "font": {
           "size": 15
          },
          "showarrow": false,
          "text": "Futuro",
          "x": "2021-02-01T03:15:00",
          "xanchor": "right",
          "xref": "x3",
          "y": 0,
          "yanchor": "bottom",
          "yref": "y3 domain"
         },
         {
          "font": {
           "size": 15
          },
          "showarrow": false,
          "text": "Futuro",
          "x": "2021-02-01T03:15:00",
          "xanchor": "right",
          "xref": "x4",
          "y": 0,
          "yanchor": "bottom",
          "yref": "y4 domain"
         }
        ],
        "font": {
         "color": "white"
        },
        "height": 800,
        "legend": {
         "title": {
          "text": "Leyenda"
         },
         "tracegroupgap": 90
        },
        "shapes": [
         {
          "fillcolor": "#EFE6E6",
          "line": {
           "width": 0
          },
          "opacity": 0.25,
          "type": "rect",
          "x0": "2021-01-31T19:15:00",
          "x1": "2021-02-01T00:15:00",
          "xref": "x",
          "y0": 0,
          "y1": 1,
          "yref": "y domain"
         },
         {
          "fillcolor": "#EFE6E6",
          "line": {
           "width": 0
          },
          "opacity": 0.25,
          "type": "rect",
          "x0": "2021-01-31T19:15:00",
          "x1": "2021-02-01T00:15:00",
          "xref": "x2",
          "y0": 0,
          "y1": 1,
          "yref": "y2 domain"
         },
         {
          "fillcolor": "#EFE6E6",
          "line": {
           "width": 0
          },
          "opacity": 0.25,
          "type": "rect",
          "x0": "2021-01-31T19:15:00",
          "x1": "2021-02-01T00:15:00",
          "xref": "x3",
          "y0": 0,
          "y1": 1,
          "yref": "y3 domain"
         },
         {
          "fillcolor": "#EFE6E6",
          "line": {
           "width": 0
          },
          "opacity": 0.25,
          "type": "rect",
          "x0": "2021-01-31T19:15:00",
          "x1": "2021-02-01T00:15:00",
          "xref": "x4",
          "y0": 0,
          "y1": 1,
          "yref": "y4 domain"
         },
         {
          "fillcolor": "#0EB9B9",
          "line": {
           "width": 0
          },
          "opacity": 0.25,
          "type": "rect",
          "x0": "2021-02-01T00:15:00",
          "x1": "2021-02-01T03:15:00",
          "xref": "x",
          "y0": 0,
          "y1": 1,
          "yref": "y domain"
         },
         {
          "fillcolor": "#0EB9B9",
          "line": {
           "width": 0
          },
          "opacity": 0.25,
          "type": "rect",
          "x0": "2021-02-01T00:15:00",
          "x1": "2021-02-01T03:15:00",
          "xref": "x2",
          "y0": 0,
          "y1": 1,
          "yref": "y2 domain"
         },
         {
          "fillcolor": "#0EB9B9",
          "line": {
           "width": 0
          },
          "opacity": 0.25,
          "type": "rect",
          "x0": "2021-02-01T00:15:00",
          "x1": "2021-02-01T03:15:00",
          "xref": "x3",
          "y0": 0,
          "y1": 1,
          "yref": "y3 domain"
         },
         {
          "fillcolor": "#0EB9B9",
          "line": {
           "width": 0
          },
          "opacity": 0.25,
          "type": "rect",
          "x0": "2021-02-01T00:15:00",
          "x1": "2021-02-01T03:15:00",
          "xref": "x4",
          "y0": 0,
          "y1": 1,
          "yref": "y4 domain"
         }
        ],
        "template": {
         "data": {
          "bar": [
           {
            "error_x": {
             "color": "#f2f5fa"
            },
            "error_y": {
             "color": "#f2f5fa"
            },
            "marker": {
             "line": {
              "color": "rgb(17,17,17)",
              "width": 0.5
             },
             "pattern": {
              "fillmode": "overlay",
              "size": 10,
              "solidity": 0.2
             }
            },
            "type": "bar"
           }
          ],
          "barpolar": [
           {
            "marker": {
             "line": {
              "color": "rgb(17,17,17)",
              "width": 0.5
             },
             "pattern": {
              "fillmode": "overlay",
              "size": 10,
              "solidity": 0.2
             }
            },
            "type": "barpolar"
           }
          ],
          "carpet": [
           {
            "aaxis": {
             "endlinecolor": "#A2B1C6",
             "gridcolor": "#506784",
             "linecolor": "#506784",
             "minorgridcolor": "#506784",
             "startlinecolor": "#A2B1C6"
            },
            "baxis": {
             "endlinecolor": "#A2B1C6",
             "gridcolor": "#506784",
             "linecolor": "#506784",
             "minorgridcolor": "#506784",
             "startlinecolor": "#A2B1C6"
            },
            "type": "carpet"
           }
          ],
          "choropleth": [
           {
            "colorbar": {
             "outlinewidth": 0,
             "ticks": ""
            },
            "type": "choropleth"
           }
          ],
          "contour": [
           {
            "colorbar": {
             "outlinewidth": 0,
             "ticks": ""
            },
            "colorscale": [
             [
              0,
              "#0d0887"
             ],
             [
              0.1111111111111111,
              "#46039f"
             ],
             [
              0.2222222222222222,
              "#7201a8"
             ],
             [
              0.3333333333333333,
              "#9c179e"
             ],
             [
              0.4444444444444444,
              "#bd3786"
             ],
             [
              0.5555555555555556,
              "#d8576b"
             ],
             [
              0.6666666666666666,
              "#ed7953"
             ],
             [
              0.7777777777777778,
              "#fb9f3a"
             ],
             [
              0.8888888888888888,
              "#fdca26"
             ],
             [
              1,
              "#f0f921"
             ]
            ],
            "type": "contour"
           }
          ],
          "contourcarpet": [
           {
            "colorbar": {
             "outlinewidth": 0,
             "ticks": ""
            },
            "type": "contourcarpet"
           }
          ],
          "heatmap": [
           {
            "colorbar": {
             "outlinewidth": 0,
             "ticks": ""
            },
            "colorscale": [
             [
              0,
              "#0d0887"
             ],
             [
              0.1111111111111111,
              "#46039f"
             ],
             [
              0.2222222222222222,
              "#7201a8"
             ],
             [
              0.3333333333333333,
              "#9c179e"
             ],
             [
              0.4444444444444444,
              "#bd3786"
             ],
             [
              0.5555555555555556,
              "#d8576b"
             ],
             [
              0.6666666666666666,
              "#ed7953"
             ],
             [
              0.7777777777777778,
              "#fb9f3a"
             ],
             [
              0.8888888888888888,
              "#fdca26"
             ],
             [
              1,
              "#f0f921"
             ]
            ],
            "type": "heatmap"
           }
          ],
          "heatmapgl": [
           {
            "colorbar": {
             "outlinewidth": 0,
             "ticks": ""
            },
            "colorscale": [
             [
              0,
              "#0d0887"
             ],
             [
              0.1111111111111111,
              "#46039f"
             ],
             [
              0.2222222222222222,
              "#7201a8"
             ],
             [
              0.3333333333333333,
              "#9c179e"
             ],
             [
              0.4444444444444444,
              "#bd3786"
             ],
             [
              0.5555555555555556,
              "#d8576b"
             ],
             [
              0.6666666666666666,
              "#ed7953"
             ],
             [
              0.7777777777777778,
              "#fb9f3a"
             ],
             [
              0.8888888888888888,
              "#fdca26"
             ],
             [
              1,
              "#f0f921"
             ]
            ],
            "type": "heatmapgl"
           }
          ],
          "histogram": [
           {
            "marker": {
             "pattern": {
              "fillmode": "overlay",
              "size": 10,
              "solidity": 0.2
             }
            },
            "type": "histogram"
           }
          ],
          "histogram2d": [
           {
            "colorbar": {
             "outlinewidth": 0,
             "ticks": ""
            },
            "colorscale": [
             [
              0,
              "#0d0887"
             ],
             [
              0.1111111111111111,
              "#46039f"
             ],
             [
              0.2222222222222222,
              "#7201a8"
             ],
             [
              0.3333333333333333,
              "#9c179e"
             ],
             [
              0.4444444444444444,
              "#bd3786"
             ],
             [
              0.5555555555555556,
              "#d8576b"
             ],
             [
              0.6666666666666666,
              "#ed7953"
             ],
             [
              0.7777777777777778,
              "#fb9f3a"
             ],
             [
              0.8888888888888888,
              "#fdca26"
             ],
             [
              1,
              "#f0f921"
             ]
            ],
            "type": "histogram2d"
           }
          ],
          "histogram2dcontour": [
           {
            "colorbar": {
             "outlinewidth": 0,
             "ticks": ""
            },
            "colorscale": [
             [
              0,
              "#0d0887"
             ],
             [
              0.1111111111111111,
              "#46039f"
             ],
             [
              0.2222222222222222,
              "#7201a8"
             ],
             [
              0.3333333333333333,
              "#9c179e"
             ],
             [
              0.4444444444444444,
              "#bd3786"
             ],
             [
              0.5555555555555556,
              "#d8576b"
             ],
             [
              0.6666666666666666,
              "#ed7953"
             ],
             [
              0.7777777777777778,
              "#fb9f3a"
             ],
             [
              0.8888888888888888,
              "#fdca26"
             ],
             [
              1,
              "#f0f921"
             ]
            ],
            "type": "histogram2dcontour"
           }
          ],
          "mesh3d": [
           {
            "colorbar": {
             "outlinewidth": 0,
             "ticks": ""
            },
            "type": "mesh3d"
           }
          ],
          "parcoords": [
           {
            "line": {
             "colorbar": {
              "outlinewidth": 0,
              "ticks": ""
             }
            },
            "type": "parcoords"
           }
          ],
          "pie": [
           {
            "automargin": true,
            "type": "pie"
           }
          ],
          "scatter": [
           {
            "marker": {
             "line": {
              "color": "#283442"
             }
            },
            "type": "scatter"
           }
          ],
          "scatter3d": [
           {
            "line": {
             "colorbar": {
              "outlinewidth": 0,
              "ticks": ""
             }
            },
            "marker": {
             "colorbar": {
              "outlinewidth": 0,
              "ticks": ""
             }
            },
            "type": "scatter3d"
           }
          ],
          "scattercarpet": [
           {
            "marker": {
             "colorbar": {
              "outlinewidth": 0,
              "ticks": ""
             }
            },
            "type": "scattercarpet"
           }
          ],
          "scattergeo": [
           {
            "marker": {
             "colorbar": {
              "outlinewidth": 0,
              "ticks": ""
             }
            },
            "type": "scattergeo"
           }
          ],
          "scattergl": [
           {
            "marker": {
             "line": {
              "color": "#283442"
             }
            },
            "type": "scattergl"
           }
          ],
          "scattermapbox": [
           {
            "marker": {
             "colorbar": {
              "outlinewidth": 0,
              "ticks": ""
             }
            },
            "type": "scattermapbox"
           }
          ],
          "scatterpolar": [
           {
            "marker": {
             "colorbar": {
              "outlinewidth": 0,
              "ticks": ""
             }
            },
            "type": "scatterpolar"
           }
          ],
          "scatterpolargl": [
           {
            "marker": {
             "colorbar": {
              "outlinewidth": 0,
              "ticks": ""
             }
            },
            "type": "scatterpolargl"
           }
          ],
          "scatterternary": [
           {
            "marker": {
             "colorbar": {
              "outlinewidth": 0,
              "ticks": ""
             }
            },
            "type": "scatterternary"
           }
          ],
          "surface": [
           {
            "colorbar": {
             "outlinewidth": 0,
             "ticks": ""
            },
            "colorscale": [
             [
              0,
              "#0d0887"
             ],
             [
              0.1111111111111111,
              "#46039f"
             ],
             [
              0.2222222222222222,
              "#7201a8"
             ],
             [
              0.3333333333333333,
              "#9c179e"
             ],
             [
              0.4444444444444444,
              "#bd3786"
             ],
             [
              0.5555555555555556,
              "#d8576b"
             ],
             [
              0.6666666666666666,
              "#ed7953"
             ],
             [
              0.7777777777777778,
              "#fb9f3a"
             ],
             [
              0.8888888888888888,
              "#fdca26"
             ],
             [
              1,
              "#f0f921"
             ]
            ],
            "type": "surface"
           }
          ],
          "table": [
           {
            "cells": {
             "fill": {
              "color": "#506784"
             },
             "line": {
              "color": "rgb(17,17,17)"
             }
            },
            "header": {
             "fill": {
              "color": "#2a3f5f"
             },
             "line": {
              "color": "rgb(17,17,17)"
             }
            },
            "type": "table"
           }
          ]
         },
         "layout": {
          "annotationdefaults": {
           "arrowcolor": "#f2f5fa",
           "arrowhead": 0,
           "arrowwidth": 1
          },
          "autotypenumbers": "strict",
          "coloraxis": {
           "colorbar": {
            "outlinewidth": 0,
            "ticks": ""
           }
          },
          "colorscale": {
           "diverging": [
            [
             0,
             "#8e0152"
            ],
            [
             0.1,
             "#c51b7d"
            ],
            [
             0.2,
             "#de77ae"
            ],
            [
             0.3,
             "#f1b6da"
            ],
            [
             0.4,
             "#fde0ef"
            ],
            [
             0.5,
             "#f7f7f7"
            ],
            [
             0.6,
             "#e6f5d0"
            ],
            [
             0.7,
             "#b8e186"
            ],
            [
             0.8,
             "#7fbc41"
            ],
            [
             0.9,
             "#4d9221"
            ],
            [
             1,
             "#276419"
            ]
           ],
           "sequential": [
            [
             0,
             "#0d0887"
            ],
            [
             0.1111111111111111,
             "#46039f"
            ],
            [
             0.2222222222222222,
             "#7201a8"
            ],
            [
             0.3333333333333333,
             "#9c179e"
            ],
            [
             0.4444444444444444,
             "#bd3786"
            ],
            [
             0.5555555555555556,
             "#d8576b"
            ],
            [
             0.6666666666666666,
             "#ed7953"
            ],
            [
             0.7777777777777778,
             "#fb9f3a"
            ],
            [
             0.8888888888888888,
             "#fdca26"
            ],
            [
             1,
             "#f0f921"
            ]
           ],
           "sequentialminus": [
            [
             0,
             "#0d0887"
            ],
            [
             0.1111111111111111,
             "#46039f"
            ],
            [
             0.2222222222222222,
             "#7201a8"
            ],
            [
             0.3333333333333333,
             "#9c179e"
            ],
            [
             0.4444444444444444,
             "#bd3786"
            ],
            [
             0.5555555555555556,
             "#d8576b"
            ],
            [
             0.6666666666666666,
             "#ed7953"
            ],
            [
             0.7777777777777778,
             "#fb9f3a"
            ],
            [
             0.8888888888888888,
             "#fdca26"
            ],
            [
             1,
             "#f0f921"
            ]
           ]
          },
          "colorway": [
           "#636efa",
           "#EF553B",
           "#00cc96",
           "#ab63fa",
           "#FFA15A",
           "#19d3f3",
           "#FF6692",
           "#B6E880",
           "#FF97FF",
           "#FECB52"
          ],
          "font": {
           "color": "#f2f5fa"
          },
          "geo": {
           "bgcolor": "rgb(17,17,17)",
           "lakecolor": "rgb(17,17,17)",
           "landcolor": "rgb(17,17,17)",
           "showlakes": true,
           "showland": true,
           "subunitcolor": "#506784"
          },
          "hoverlabel": {
           "align": "left"
          },
          "hovermode": "closest",
          "mapbox": {
           "style": "dark"
          },
          "paper_bgcolor": "rgb(17,17,17)",
          "plot_bgcolor": "rgb(17,17,17)",
          "polar": {
           "angularaxis": {
            "gridcolor": "#506784",
            "linecolor": "#506784",
            "ticks": ""
           },
           "bgcolor": "rgb(17,17,17)",
           "radialaxis": {
            "gridcolor": "#506784",
            "linecolor": "#506784",
            "ticks": ""
           }
          },
          "scene": {
           "xaxis": {
            "backgroundcolor": "rgb(17,17,17)",
            "gridcolor": "#506784",
            "gridwidth": 2,
            "linecolor": "#506784",
            "showbackground": true,
            "ticks": "",
            "zerolinecolor": "#C8D4E3"
           },
           "yaxis": {
            "backgroundcolor": "rgb(17,17,17)",
            "gridcolor": "#506784",
            "gridwidth": 2,
            "linecolor": "#506784",
            "showbackground": true,
            "ticks": "",
            "zerolinecolor": "#C8D4E3"
           },
           "zaxis": {
            "backgroundcolor": "rgb(17,17,17)",
            "gridcolor": "#506784",
            "gridwidth": 2,
            "linecolor": "#506784",
            "showbackground": true,
            "ticks": "",
            "zerolinecolor": "#C8D4E3"
           }
          },
          "shapedefaults": {
           "line": {
            "color": "#f2f5fa"
           }
          },
          "sliderdefaults": {
           "bgcolor": "#C8D4E3",
           "bordercolor": "rgb(17,17,17)",
           "borderwidth": 1,
           "tickwidth": 0
          },
          "ternary": {
           "aaxis": {
            "gridcolor": "#506784",
            "linecolor": "#506784",
            "ticks": ""
           },
           "baxis": {
            "gridcolor": "#506784",
            "linecolor": "#506784",
            "ticks": ""
           },
           "bgcolor": "rgb(17,17,17)",
           "caxis": {
            "gridcolor": "#506784",
            "linecolor": "#506784",
            "ticks": ""
           }
          },
          "title": {
           "x": 0.05
          },
          "updatemenudefaults": {
           "bgcolor": "#506784",
           "borderwidth": 0
          },
          "xaxis": {
           "automargin": true,
           "gridcolor": "#283442",
           "linecolor": "#506784",
           "ticks": "",
           "title": {
            "standoff": 15
           },
           "zerolinecolor": "#283442",
           "zerolinewidth": 2
          },
          "yaxis": {
           "automargin": true,
           "gridcolor": "#283442",
           "linecolor": "#506784",
           "ticks": "",
           "title": {
            "standoff": 15
           },
           "zerolinecolor": "#283442",
           "zerolinewidth": 2
          }
         }
        },
        "title": {
         "text": "[Fecha consulta: 2021-02-01 00:15:00] [Última Instalación Liners: 2021-01-16] [Edad del Molino: Nuevo]"
        },
        "width": 1000,
        "xaxis": {
         "anchor": "y",
         "domain": [
          0,
          1
         ],
         "tickformat": "%H:%M"
        },
        "xaxis2": {
         "anchor": "y2",
         "domain": [
          0,
          1
         ],
         "tickformat": "%H:%M"
        },
        "xaxis3": {
         "anchor": "y3",
         "domain": [
          0,
          1
         ],
         "tickformat": "%H:%M"
        },
        "xaxis4": {
         "anchor": "y4",
         "domain": [
          0,
          1
         ],
         "tickformat": "%H:%M",
         "title": {
          "text": "Tiempo - frecuencia 15 Minutos"
         }
        },
        "yaxis": {
         "anchor": "x",
         "domain": [
          0.84375,
          1
         ],
         "title": {
          "text": "TPH"
         }
        },
        "yaxis2": {
         "anchor": "x2",
         "domain": [
          0.5625,
          0.71875
         ],
         "title": {
          "text": "Celda de Carga"
         }
        },
        "yaxis3": {
         "anchor": "x3",
         "domain": [
          0.28125,
          0.4375
         ],
         "title": {
          "text": "% Pasante"
         }
        },
        "yaxis4": {
         "anchor": "x4",
         "domain": [
          0,
          0.15625
         ],
         "title": {
          "text": "SPI"
         }
        }
       }
      }
     },
     "metadata": {},
     "output_type": "display_data"
    },
    {
     "data": {
      "application/vnd.plotly.v1+json": {
       "config": {
        "plotlyServerURL": "https://plot.ly"
       },
       "data": [
        {
         "legendgroup": "1",
         "line": {
          "color": "#0BDEEF",
          "width": 3
         },
         "mode": "lines",
         "name": "TPH real",
         "type": "scatter",
         "x": [
          "2021-02-01T19:15:00",
          "2021-02-01T19:30:00",
          "2021-02-01T19:45:00",
          "2021-02-01T20:00:00",
          "2021-02-01T20:15:00",
          "2021-02-01T20:30:00",
          "2021-02-01T20:45:00",
          "2021-02-01T21:00:00",
          "2021-02-01T21:15:00",
          "2021-02-01T21:30:00",
          "2021-02-01T21:45:00",
          "2021-02-01T22:00:00",
          "2021-02-01T22:15:00",
          "2021-02-01T22:30:00",
          "2021-02-01T22:45:00",
          "2021-02-01T23:00:00",
          "2021-02-01T23:15:00",
          "2021-02-01T23:30:00",
          "2021-02-01T23:45:00",
          "2021-02-02T00:00:00",
          "2021-02-02T00:15:00",
          "2021-02-02T00:15:00",
          "2021-02-02T00:30:00",
          "2021-02-02T00:45:00",
          "2021-02-02T01:00:00",
          "2021-02-02T01:15:00",
          "2021-02-02T01:30:00",
          "2021-02-02T01:45:00",
          "2021-02-02T02:00:00",
          "2021-02-02T02:15:00",
          "2021-02-02T02:30:00",
          "2021-02-02T02:45:00",
          "2021-02-02T03:00:00",
          "2021-02-02T03:15:00"
         ],
         "xaxis": "x",
         "y": [
          4420.894871255004,
          4404.047665254149,
          4425.209494060834,
          4488.2169063564925,
          4500.836271052786,
          4477.838173373638,
          4464.8471852362245,
          4416.053022900844,
          4410.669761143318,
          4477.977214226311,
          4501.414017750457,
          4483.842790042749,
          4608.380029802026,
          4517.92858886704,
          4476.801634731719,
          4498.678145345289,
          4496.0124694785145,
          4469.306340405941,
          4494.946475350123,
          4477.73737538311,
          4490.369953867711,
          null,
          null,
          null,
          null,
          null,
          null,
          null,
          null,
          null,
          null,
          null,
          null,
          null
         ],
         "yaxis": "y"
        },
        {
         "legendgroup": "1",
         "line": {
          "color": "#48EF0B",
          "width": 3
         },
         "mode": "lines",
         "name": "Limite operario HH TPH",
         "type": "scatter",
         "x": [
          "2021-02-01T19:15:00",
          "2021-02-01T19:30:00",
          "2021-02-01T19:45:00",
          "2021-02-01T20:00:00",
          "2021-02-01T20:15:00",
          "2021-02-01T20:30:00",
          "2021-02-01T20:45:00",
          "2021-02-01T21:00:00",
          "2021-02-01T21:15:00",
          "2021-02-01T21:30:00",
          "2021-02-01T21:45:00",
          "2021-02-01T22:00:00",
          "2021-02-01T22:15:00",
          "2021-02-01T22:30:00",
          "2021-02-01T22:45:00",
          "2021-02-01T23:00:00",
          "2021-02-01T23:15:00",
          "2021-02-01T23:30:00",
          "2021-02-01T23:45:00",
          "2021-02-02T00:00:00",
          "2021-02-02T00:15:00",
          "2021-02-02T00:15:00",
          "2021-02-02T00:30:00",
          "2021-02-02T00:45:00",
          "2021-02-02T01:00:00",
          "2021-02-02T01:15:00",
          "2021-02-02T01:30:00",
          "2021-02-02T01:45:00",
          "2021-02-02T02:00:00",
          "2021-02-02T02:15:00",
          "2021-02-02T02:30:00",
          "2021-02-02T02:45:00",
          "2021-02-02T03:00:00",
          "2021-02-02T03:15:00"
         ],
         "xaxis": "x",
         "y": [
          4400,
          4500,
          4500,
          4500,
          4500,
          4500,
          4500,
          4500,
          4500,
          4500,
          4500,
          4500,
          4500,
          4500,
          4500,
          4500,
          4500,
          4500,
          4500,
          4500,
          4500,
          null,
          null,
          null,
          null,
          null,
          null,
          null,
          null,
          null,
          null,
          null,
          null,
          null
         ],
         "yaxis": "y"
        },
        {
         "line": {
          "color": "#FF1139",
          "width": 0
         },
         "mode": "lines",
         "name": " ",
         "showlegend": false,
         "type": "scatter",
         "x": [
          "2021-02-01T19:15:00",
          "2021-02-01T19:30:00",
          "2021-02-01T19:45:00",
          "2021-02-01T20:00:00",
          "2021-02-01T20:15:00",
          "2021-02-01T20:30:00",
          "2021-02-01T20:45:00",
          "2021-02-01T21:00:00",
          "2021-02-01T21:15:00",
          "2021-02-01T21:30:00",
          "2021-02-01T21:45:00",
          "2021-02-01T22:00:00",
          "2021-02-01T22:15:00",
          "2021-02-01T22:30:00",
          "2021-02-01T22:45:00",
          "2021-02-01T23:00:00",
          "2021-02-01T23:15:00",
          "2021-02-01T23:30:00",
          "2021-02-01T23:45:00",
          "2021-02-02T00:00:00",
          "2021-02-02T00:15:00",
          "2021-02-02T00:15:00",
          "2021-02-02T00:30:00",
          "2021-02-02T00:45:00",
          "2021-02-02T01:00:00",
          "2021-02-02T01:15:00",
          "2021-02-02T01:30:00",
          "2021-02-02T01:45:00",
          "2021-02-02T02:00:00",
          "2021-02-02T02:15:00",
          "2021-02-02T02:30:00",
          "2021-02-02T02:45:00",
          "2021-02-02T03:00:00",
          "2021-02-02T03:15:00"
         ],
         "xaxis": "x2",
         "y": [
          null,
          null,
          null,
          null,
          null,
          null,
          null,
          null,
          null,
          null,
          null,
          null,
          null,
          null,
          null,
          null,
          null,
          null,
          null,
          null,
          null,
          753.0606916812047,
          753.0606916812047,
          718.6430294745851,
          718.6430294745851,
          706.4956192840134,
          802.3622675448785,
          794.6808911396135,
          779.3181383290835,
          794.6808911396135,
          779.3181383290835,
          779.3181383290835,
          679.4602450606378,
          674.3393274571278
         ],
         "yaxis": "y2"
        },
        {
         "fill": "tonexty",
         "legendgroup": "2",
         "line": {
          "color": "#A6A1AB",
          "width": 0
         },
         "mode": "lines",
         "name": "Rango de Recomendación CC",
         "type": "scatter",
         "x": [
          "2021-02-01T19:15:00",
          "2021-02-01T19:30:00",
          "2021-02-01T19:45:00",
          "2021-02-01T20:00:00",
          "2021-02-01T20:15:00",
          "2021-02-01T20:30:00",
          "2021-02-01T20:45:00",
          "2021-02-01T21:00:00",
          "2021-02-01T21:15:00",
          "2021-02-01T21:30:00",
          "2021-02-01T21:45:00",
          "2021-02-01T22:00:00",
          "2021-02-01T22:15:00",
          "2021-02-01T22:30:00",
          "2021-02-01T22:45:00",
          "2021-02-01T23:00:00",
          "2021-02-01T23:15:00",
          "2021-02-01T23:30:00",
          "2021-02-01T23:45:00",
          "2021-02-02T00:00:00",
          "2021-02-02T00:15:00",
          "2021-02-02T00:15:00",
          "2021-02-02T00:30:00",
          "2021-02-02T00:45:00",
          "2021-02-02T01:00:00",
          "2021-02-02T01:15:00",
          "2021-02-02T01:30:00",
          "2021-02-02T01:45:00",
          "2021-02-02T02:00:00",
          "2021-02-02T02:15:00",
          "2021-02-02T02:30:00",
          "2021-02-02T02:45:00",
          "2021-02-02T03:00:00",
          "2021-02-02T03:15:00"
         ],
         "xaxis": "x2",
         "y": [
          null,
          null,
          null,
          null,
          null,
          null,
          null,
          null,
          null,
          null,
          null,
          null,
          null,
          null,
          null,
          null,
          null,
          null,
          null,
          null,
          null,
          753.0606916812047,
          775.3309436972528,
          736.8641447604425,
          732.815008030252,
          712.5693243792994,
          679.4602450606378,
          664.0974922501077,
          664.0974922501077,
          740.9112563027581,
          740.9112563027581,
          740.9112563027581,
          740.9112563027581,
          740.9112563027581
         ],
         "yaxis": "y2"
        },
        {
         "legendgroup": "2",
         "line": {
          "color": "red",
          "width": 3
         },
         "mode": "lines",
         "name": "Recomendación CC con forecast F80",
         "type": "scatter",
         "x": [
          "2021-02-01T19:15:00",
          "2021-02-01T19:30:00",
          "2021-02-01T19:45:00",
          "2021-02-01T20:00:00",
          "2021-02-01T20:15:00",
          "2021-02-01T20:30:00",
          "2021-02-01T20:45:00",
          "2021-02-01T21:00:00",
          "2021-02-01T21:15:00",
          "2021-02-01T21:30:00",
          "2021-02-01T21:45:00",
          "2021-02-01T22:00:00",
          "2021-02-01T22:15:00",
          "2021-02-01T22:30:00",
          "2021-02-01T22:45:00",
          "2021-02-01T23:00:00",
          "2021-02-01T23:15:00",
          "2021-02-01T23:30:00",
          "2021-02-01T23:45:00",
          "2021-02-02T00:00:00",
          "2021-02-02T00:15:00",
          "2021-02-02T00:15:00",
          "2021-02-02T00:30:00",
          "2021-02-02T00:45:00",
          "2021-02-02T01:00:00",
          "2021-02-02T01:15:00",
          "2021-02-02T01:30:00",
          "2021-02-02T01:45:00",
          "2021-02-02T02:00:00",
          "2021-02-02T02:15:00",
          "2021-02-02T02:30:00",
          "2021-02-02T02:45:00",
          "2021-02-02T03:00:00",
          "2021-02-02T03:15:00"
         ],
         "xaxis": "x2",
         "y": [
          null,
          null,
          null,
          null,
          null,
          null,
          null,
          null,
          null,
          null,
          null,
          null,
          null,
          null,
          null,
          null,
          null,
          null,
          null,
          null,
          null,
          753.0606916812047,
          718.6430294745851,
          775.3309436972528,
          706.4956192840134,
          712.5693243792994,
          779.3181383290835,
          702.504374276433,
          679.4602450606378,
          679.4602450606378,
          674.3393274571278,
          664.0974922501077,
          740.9112563027581,
          740.9112563027581
         ],
         "yaxis": "y2"
        },
        {
         "legendgroup": "2",
         "line": {
          "color": "#EF0BEC",
          "width": 3
         },
         "mode": "lines",
         "name": "Recomendación CC sin forecast F80",
         "type": "scatter",
         "x": [
          "2021-02-01T19:15:00",
          "2021-02-01T19:30:00",
          "2021-02-01T19:45:00",
          "2021-02-01T20:00:00",
          "2021-02-01T20:15:00",
          "2021-02-01T20:30:00",
          "2021-02-01T20:45:00",
          "2021-02-01T21:00:00",
          "2021-02-01T21:15:00",
          "2021-02-01T21:30:00",
          "2021-02-01T21:45:00",
          "2021-02-01T22:00:00",
          "2021-02-01T22:15:00",
          "2021-02-01T22:30:00",
          "2021-02-01T22:45:00",
          "2021-02-01T23:00:00",
          "2021-02-01T23:15:00",
          "2021-02-01T23:30:00",
          "2021-02-01T23:45:00",
          "2021-02-02T00:00:00",
          "2021-02-02T00:15:00",
          "2021-02-02T00:15:00",
          "2021-02-02T00:30:00",
          "2021-02-02T00:45:00",
          "2021-02-02T01:00:00",
          "2021-02-02T01:15:00",
          "2021-02-02T01:30:00",
          "2021-02-02T01:45:00",
          "2021-02-02T02:00:00",
          "2021-02-02T02:15:00",
          "2021-02-02T02:30:00",
          "2021-02-02T02:45:00",
          "2021-02-02T03:00:00",
          "2021-02-02T03:15:00"
         ],
         "xaxis": "x2",
         "y": [
          784.4390559325934,
          744.9624182208237,
          755.0852600463,
          718.6430294745851,
          718.6430294745851,
          744.9624182208237,
          732.815008030252,
          744.9624182208237,
          742.9378498557284,
          742.9378498557284,
          718.6430294745851,
          728.7658713000615,
          730.7904396651568,
          730.7904396651568,
          744.9624182208237,
          742.9378498557284,
          753.0606916812047,
          753.0606916812047,
          740.913281490633,
          744.9624182208237,
          753.0606916812047,
          null,
          null,
          null,
          null,
          null,
          null,
          null,
          null,
          null,
          null,
          null,
          null,
          null
         ],
         "yaxis": "y2"
        },
        {
         "legendgroup": "2",
         "line": {
          "color": "#0BDEEF",
          "width": 3
         },
         "mode": "lines",
         "name": "Celda de Carga real",
         "type": "scatter",
         "x": [
          "2021-02-01T19:15:00",
          "2021-02-01T19:30:00",
          "2021-02-01T19:45:00",
          "2021-02-01T20:00:00",
          "2021-02-01T20:15:00",
          "2021-02-01T20:30:00",
          "2021-02-01T20:45:00",
          "2021-02-01T21:00:00",
          "2021-02-01T21:15:00",
          "2021-02-01T21:30:00",
          "2021-02-01T21:45:00",
          "2021-02-01T22:00:00",
          "2021-02-01T22:15:00",
          "2021-02-01T22:30:00",
          "2021-02-01T22:45:00",
          "2021-02-01T23:00:00",
          "2021-02-01T23:15:00",
          "2021-02-01T23:30:00",
          "2021-02-01T23:45:00",
          "2021-02-02T00:00:00",
          "2021-02-02T00:15:00",
          "2021-02-02T00:15:00",
          "2021-02-02T00:30:00",
          "2021-02-02T00:45:00",
          "2021-02-02T01:00:00",
          "2021-02-02T01:15:00",
          "2021-02-02T01:30:00",
          "2021-02-02T01:45:00",
          "2021-02-02T02:00:00",
          "2021-02-02T02:15:00",
          "2021-02-02T02:30:00",
          "2021-02-02T02:45:00",
          "2021-02-02T03:00:00",
          "2021-02-02T03:15:00"
         ],
         "xaxis": "x2",
         "y": [
          757.9874837266107,
          765.3924646020313,
          757.4732634118155,
          746.0305830232279,
          763.808604179566,
          763.9112735537539,
          763.2975432388865,
          772.3794893871328,
          774.3163471767542,
          767.3842220668605,
          773.8931217458852,
          761.1579939611648,
          767.4063392123319,
          770.4152551109133,
          748.4200277369143,
          785.8031361443904,
          774.1088873246701,
          774.5073232974062,
          770.6389214034455,
          777.2271504521963,
          754.1956727153022,
          null,
          null,
          null,
          null,
          null,
          null,
          null,
          null,
          null,
          null,
          null,
          null,
          null
         ],
         "yaxis": "y2"
        },
        {
         "legendgroup": "2",
         "line": {
          "color": "#48EF0B",
          "width": 3
         },
         "mode": "lines",
         "name": "Limite operario LL CC",
         "type": "scatter",
         "x": [
          "2021-02-01T19:15:00",
          "2021-02-01T19:30:00",
          "2021-02-01T19:45:00",
          "2021-02-01T20:00:00",
          "2021-02-01T20:15:00",
          "2021-02-01T20:30:00",
          "2021-02-01T20:45:00",
          "2021-02-01T21:00:00",
          "2021-02-01T21:15:00",
          "2021-02-01T21:30:00",
          "2021-02-01T21:45:00",
          "2021-02-01T22:00:00",
          "2021-02-01T22:15:00",
          "2021-02-01T22:30:00",
          "2021-02-01T22:45:00",
          "2021-02-01T23:00:00",
          "2021-02-01T23:15:00",
          "2021-02-01T23:30:00",
          "2021-02-01T23:45:00",
          "2021-02-02T00:00:00",
          "2021-02-02T00:15:00",
          "2021-02-02T00:15:00",
          "2021-02-02T00:30:00",
          "2021-02-02T00:45:00",
          "2021-02-02T01:00:00",
          "2021-02-02T01:15:00",
          "2021-02-02T01:30:00",
          "2021-02-02T01:45:00",
          "2021-02-02T02:00:00",
          "2021-02-02T02:15:00",
          "2021-02-02T02:30:00",
          "2021-02-02T02:45:00",
          "2021-02-02T03:00:00",
          "2021-02-02T03:15:00"
         ],
         "xaxis": "x2",
         "y": [
          720,
          720,
          720,
          720,
          720,
          720,
          720,
          720,
          720,
          720,
          720,
          720,
          720,
          720,
          720,
          720,
          720,
          720,
          720,
          720,
          720,
          null,
          null,
          null,
          null,
          null,
          null,
          null,
          null,
          null,
          null,
          null,
          null,
          null
         ],
         "yaxis": "y2"
        },
        {
         "legendgroup": "2",
         "line": {
          "color": "#48EF0B",
          "width": 3
         },
         "mode": "lines",
         "name": "Limite operario HH CC",
         "type": "scatter",
         "x": [
          "2021-02-01T19:15:00",
          "2021-02-01T19:30:00",
          "2021-02-01T19:45:00",
          "2021-02-01T20:00:00",
          "2021-02-01T20:15:00",
          "2021-02-01T20:30:00",
          "2021-02-01T20:45:00",
          "2021-02-01T21:00:00",
          "2021-02-01T21:15:00",
          "2021-02-01T21:30:00",
          "2021-02-01T21:45:00",
          "2021-02-01T22:00:00",
          "2021-02-01T22:15:00",
          "2021-02-01T22:30:00",
          "2021-02-01T22:45:00",
          "2021-02-01T23:00:00",
          "2021-02-01T23:15:00",
          "2021-02-01T23:30:00",
          "2021-02-01T23:45:00",
          "2021-02-02T00:00:00",
          "2021-02-02T00:15:00",
          "2021-02-02T00:15:00",
          "2021-02-02T00:30:00",
          "2021-02-02T00:45:00",
          "2021-02-02T01:00:00",
          "2021-02-02T01:15:00",
          "2021-02-02T01:30:00",
          "2021-02-02T01:45:00",
          "2021-02-02T02:00:00",
          "2021-02-02T02:15:00",
          "2021-02-02T02:30:00",
          "2021-02-02T02:45:00",
          "2021-02-02T03:00:00",
          "2021-02-02T03:15:00"
         ],
         "xaxis": "x2",
         "y": [
          800,
          800,
          800,
          800,
          800,
          800,
          800,
          800,
          800,
          800,
          800,
          800,
          800,
          800,
          800,
          800,
          800,
          800,
          800,
          800,
          800,
          null,
          null,
          null,
          null,
          null,
          null,
          null,
          null,
          null,
          null,
          null,
          null,
          null
         ],
         "yaxis": "y2"
        },
        {
         "line": {
          "color": "red",
          "width": 0
         },
         "mode": "lines",
         "name": " ",
         "showlegend": false,
         "type": "scatter",
         "x": [
          "2021-02-01T19:15:00",
          "2021-02-01T19:30:00",
          "2021-02-01T19:45:00",
          "2021-02-01T20:00:00",
          "2021-02-01T20:15:00",
          "2021-02-01T20:30:00",
          "2021-02-01T20:45:00",
          "2021-02-01T21:00:00",
          "2021-02-01T21:15:00",
          "2021-02-01T21:30:00",
          "2021-02-01T21:45:00",
          "2021-02-01T22:00:00",
          "2021-02-01T22:15:00",
          "2021-02-01T22:30:00",
          "2021-02-01T22:45:00",
          "2021-02-01T23:00:00",
          "2021-02-01T23:15:00",
          "2021-02-01T23:30:00",
          "2021-02-01T23:45:00",
          "2021-02-02T00:00:00",
          "2021-02-02T00:15:00",
          "2021-02-02T00:15:00",
          "2021-02-02T00:30:00",
          "2021-02-02T00:45:00",
          "2021-02-02T01:00:00",
          "2021-02-02T01:15:00",
          "2021-02-02T01:30:00",
          "2021-02-02T01:45:00",
          "2021-02-02T02:00:00",
          "2021-02-02T02:15:00",
          "2021-02-02T02:30:00",
          "2021-02-02T02:45:00",
          "2021-02-02T03:00:00",
          "2021-02-02T03:15:00"
         ],
         "xaxis": "x3",
         "y": [
          null,
          null,
          null,
          null,
          null,
          null,
          null,
          null,
          null,
          null,
          null,
          null,
          null,
          null,
          null,
          null,
          null,
          null,
          null,
          null,
          null,
          70.59649714941298,
          70.87221892909272,
          72.57070568685977,
          73.40126723039835,
          76.90966199419776,
          76.38253952523854,
          79.84903142052787,
          80.70031706898513,
          80.35570830917041,
          81.08994777163485,
          82.21529370240567,
          83.59193237516033,
          84.77668485846274
         ],
         "yaxis": "y3"
        },
        {
         "fill": "tonexty",
         "legendgroup": "3",
         "line": {
          "color": "#A6A1AB",
          "width": 0
         },
         "mode": "lines",
         "name": "Rango de Predicción F80",
         "type": "scatter",
         "x": [
          "2021-02-01T19:15:00",
          "2021-02-01T19:30:00",
          "2021-02-01T19:45:00",
          "2021-02-01T20:00:00",
          "2021-02-01T20:15:00",
          "2021-02-01T20:30:00",
          "2021-02-01T20:45:00",
          "2021-02-01T21:00:00",
          "2021-02-01T21:15:00",
          "2021-02-01T21:30:00",
          "2021-02-01T21:45:00",
          "2021-02-01T22:00:00",
          "2021-02-01T22:15:00",
          "2021-02-01T22:30:00",
          "2021-02-01T22:45:00",
          "2021-02-01T23:00:00",
          "2021-02-01T23:15:00",
          "2021-02-01T23:30:00",
          "2021-02-01T23:45:00",
          "2021-02-02T00:00:00",
          "2021-02-02T00:15:00",
          "2021-02-02T00:15:00",
          "2021-02-02T00:30:00",
          "2021-02-02T00:45:00",
          "2021-02-02T01:00:00",
          "2021-02-02T01:15:00",
          "2021-02-02T01:30:00",
          "2021-02-02T01:45:00",
          "2021-02-02T02:00:00",
          "2021-02-02T02:15:00",
          "2021-02-02T02:30:00",
          "2021-02-02T02:45:00",
          "2021-02-02T03:00:00",
          "2021-02-02T03:15:00"
         ],
         "xaxis": "x3",
         "y": [
          null,
          null,
          null,
          null,
          null,
          null,
          null,
          null,
          null,
          null,
          null,
          null,
          null,
          null,
          null,
          null,
          null,
          null,
          null,
          null,
          null,
          70.59649714941298,
          75.82933386434071,
          78.81404890854098,
          80.48164413872863,
          83.35861929253073,
          83.61831943592506,
          85.74138056416385,
          86.40291461568073,
          86.50292906146925,
          86.99407184356724,
          87.56009247481532,
          88.41531919733404,
          88.95038094951119
         ],
         "yaxis": "y3"
        },
        {
         "legendgroup": "3",
         "line": {
          "color": "red",
          "width": 3
         },
         "mode": "lines",
         "name": "Prediction F80",
         "type": "scatter",
         "x": [
          "2021-02-01T19:15:00",
          "2021-02-01T19:30:00",
          "2021-02-01T19:45:00",
          "2021-02-01T20:00:00",
          "2021-02-01T20:15:00",
          "2021-02-01T20:30:00",
          "2021-02-01T20:45:00",
          "2021-02-01T21:00:00",
          "2021-02-01T21:15:00",
          "2021-02-01T21:30:00",
          "2021-02-01T21:45:00",
          "2021-02-01T22:00:00",
          "2021-02-01T22:15:00",
          "2021-02-01T22:30:00",
          "2021-02-01T22:45:00",
          "2021-02-01T23:00:00",
          "2021-02-01T23:15:00",
          "2021-02-01T23:30:00",
          "2021-02-01T23:45:00",
          "2021-02-02T00:00:00",
          "2021-02-02T00:15:00",
          "2021-02-02T00:15:00",
          "2021-02-02T00:30:00",
          "2021-02-02T00:45:00",
          "2021-02-02T01:00:00",
          "2021-02-02T01:15:00",
          "2021-02-02T01:30:00",
          "2021-02-02T01:45:00",
          "2021-02-02T02:00:00",
          "2021-02-02T02:15:00",
          "2021-02-02T02:30:00",
          "2021-02-02T02:45:00",
          "2021-02-02T03:00:00",
          "2021-02-02T03:15:00"
         ],
         "xaxis": "x3",
         "y": [
          null,
          null,
          null,
          null,
          null,
          null,
          null,
          null,
          null,
          null,
          null,
          null,
          null,
          null,
          null,
          null,
          null,
          null,
          null,
          null,
          null,
          70.59649714941298,
          73.47891826533424,
          75.95031846803049,
          77.32196541168594,
          80.59149854086345,
          80.57191509851032,
          83.35879213112943,
          84.15541459486789,
          84.12218218418481,
          84.76109478814895,
          85.59082632266143,
          86.77400154886143,
          87.63051498050866
         ],
         "yaxis": "y3"
        },
        {
         "legendgroup": "3",
         "line": {
          "color": "yellow",
          "width": 3
         },
         "mode": "lines",
         "name": "Test Data F80",
         "type": "scatter",
         "x": [
          "2021-02-01T19:15:00",
          "2021-02-01T19:30:00",
          "2021-02-01T19:45:00",
          "2021-02-01T20:00:00",
          "2021-02-01T20:15:00",
          "2021-02-01T20:30:00",
          "2021-02-01T20:45:00",
          "2021-02-01T21:00:00",
          "2021-02-01T21:15:00",
          "2021-02-01T21:30:00",
          "2021-02-01T21:45:00",
          "2021-02-01T22:00:00",
          "2021-02-01T22:15:00",
          "2021-02-01T22:30:00",
          "2021-02-01T22:45:00",
          "2021-02-01T23:00:00",
          "2021-02-01T23:15:00",
          "2021-02-01T23:30:00",
          "2021-02-01T23:45:00",
          "2021-02-02T00:00:00",
          "2021-02-02T00:15:00",
          "2021-02-02T00:15:00",
          "2021-02-02T00:30:00",
          "2021-02-02T00:45:00",
          "2021-02-02T01:00:00",
          "2021-02-02T01:15:00",
          "2021-02-02T01:30:00",
          "2021-02-02T01:45:00",
          "2021-02-02T02:00:00",
          "2021-02-02T02:15:00",
          "2021-02-02T02:30:00",
          "2021-02-02T02:45:00",
          "2021-02-02T03:00:00",
          "2021-02-02T03:15:00"
         ],
         "xaxis": "x3",
         "y": [
          null,
          null,
          null,
          null,
          null,
          null,
          null,
          null,
          null,
          null,
          null,
          null,
          null,
          null,
          null,
          null,
          null,
          null,
          null,
          null,
          null,
          70.59649714941297,
          70.91453813124012,
          73.54470996718517,
          72.38899321155576,
          72.76430558226718,
          76.34172806007926,
          73.17046952003183,
          72.35159892118853,
          74.9553842293925,
          74.72801400967195,
          70.76202911731222,
          68.76326259779121,
          67.10078450282006
         ],
         "yaxis": "y3"
        },
        {
         "legendgroup": "3",
         "line": {
          "color": "#0BDEEF",
          "width": 3
         },
         "mode": "lines",
         "name": "Train Data F80",
         "type": "scatter",
         "x": [
          "2021-02-01T19:15:00",
          "2021-02-01T19:30:00",
          "2021-02-01T19:45:00",
          "2021-02-01T20:00:00",
          "2021-02-01T20:15:00",
          "2021-02-01T20:30:00",
          "2021-02-01T20:45:00",
          "2021-02-01T21:00:00",
          "2021-02-01T21:15:00",
          "2021-02-01T21:30:00",
          "2021-02-01T21:45:00",
          "2021-02-01T22:00:00",
          "2021-02-01T22:15:00",
          "2021-02-01T22:30:00",
          "2021-02-01T22:45:00",
          "2021-02-01T23:00:00",
          "2021-02-01T23:15:00",
          "2021-02-01T23:30:00",
          "2021-02-01T23:45:00",
          "2021-02-02T00:00:00",
          "2021-02-02T00:15:00",
          "2021-02-02T00:15:00",
          "2021-02-02T00:30:00",
          "2021-02-02T00:45:00",
          "2021-02-02T01:00:00",
          "2021-02-02T01:15:00",
          "2021-02-02T01:30:00",
          "2021-02-02T01:45:00",
          "2021-02-02T02:00:00",
          "2021-02-02T02:15:00",
          "2021-02-02T02:30:00",
          "2021-02-02T02:45:00",
          "2021-02-02T03:00:00",
          "2021-02-02T03:15:00"
         ],
         "xaxis": "x3",
         "y": [
          69.74981742543868,
          67.87164804819614,
          72.15020154363036,
          73.02671451372144,
          72.5026613631464,
          68.10469568543736,
          66.36916678923615,
          67.60792935801854,
          67.29693266238725,
          67.09616485048699,
          61.20098759399211,
          62.91500175767164,
          64.4439432735556,
          64.65203912697629,
          68.38538974693282,
          66.6071671027739,
          70.76680357308,
          71.12970551502397,
          69.42656597103526,
          69.58435582220461,
          70.59649714941297,
          null,
          null,
          null,
          null,
          null,
          null,
          null,
          null,
          null,
          null,
          null,
          null,
          null
         ],
         "yaxis": "y3"
        },
        {
         "legendgroup": "4",
         "line": {
          "color": "red",
          "width": 3
         },
         "mode": "lines",
         "name": "SPI",
         "type": "scatter",
         "x": [
          "2021-02-01T19:15:00",
          "2021-02-01T19:30:00",
          "2021-02-01T19:45:00",
          "2021-02-01T20:00:00",
          "2021-02-01T20:15:00",
          "2021-02-01T20:30:00",
          "2021-02-01T20:45:00",
          "2021-02-01T21:00:00",
          "2021-02-01T21:15:00",
          "2021-02-01T21:30:00",
          "2021-02-01T21:45:00",
          "2021-02-01T22:00:00",
          "2021-02-01T22:15:00",
          "2021-02-01T22:30:00",
          "2021-02-01T22:45:00",
          "2021-02-01T23:00:00",
          "2021-02-01T23:15:00",
          "2021-02-01T23:30:00",
          "2021-02-01T23:45:00",
          "2021-02-02T00:00:00",
          "2021-02-02T00:15:00",
          "2021-02-02T00:15:00",
          "2021-02-02T00:30:00",
          "2021-02-02T00:45:00",
          "2021-02-02T01:00:00",
          "2021-02-02T01:15:00",
          "2021-02-02T01:30:00",
          "2021-02-02T01:45:00",
          "2021-02-02T02:00:00",
          "2021-02-02T02:15:00",
          "2021-02-02T02:30:00",
          "2021-02-02T02:45:00",
          "2021-02-02T03:00:00",
          "2021-02-02T03:15:00"
         ],
         "xaxis": "x4",
         "y": [
          109.308,
          139.4178,
          139.4178,
          139.4178,
          139.4178,
          135.0856,
          135.0856,
          135.0856,
          135.0856,
          128.3089,
          128.3089,
          128.3089,
          128.3089,
          125.8842,
          125.8842,
          125.8842,
          125.8842,
          129.9453,
          129.9453,
          129.9453,
          129.9453,
          129.9453,
          127.1561,
          127.1561,
          127.1561,
          127.1561,
          119.0093,
          119.0093,
          119.0093,
          119.0093,
          110.9603,
          110.9603,
          110.9603,
          110.9603
         ],
         "yaxis": "y4"
        }
       ],
       "layout": {
        "annotations": [
         {
          "font": {
           "size": 16
          },
          "showarrow": false,
          "text": "TPH y Limite Operario",
          "x": 0.5,
          "xanchor": "center",
          "xref": "paper",
          "y": 1,
          "yanchor": "bottom",
          "yref": "paper"
         },
         {
          "font": {
           "size": 16
          },
          "showarrow": false,
          "text": "Operación Celda de Carga",
          "x": 0.5,
          "xanchor": "center",
          "xref": "paper",
          "y": 0.71875,
          "yanchor": "bottom",
          "yref": "paper"
         },
         {
          "font": {
           "size": 16
          },
          "showarrow": false,
          "text": "Granulometría F80",
          "x": 0.5,
          "xanchor": "center",
          "xref": "paper",
          "y": 0.4375,
          "yanchor": "bottom",
          "yref": "paper"
         },
         {
          "font": {
           "size": 16
          },
          "showarrow": false,
          "text": "SPI 5 hr",
          "x": 0.5,
          "xanchor": "center",
          "xref": "paper",
          "y": 0.15625,
          "yanchor": "bottom",
          "yref": "paper"
         },
         {
          "font": {
           "size": 15
          },
          "showarrow": false,
          "text": "Pasado",
          "x": "2021-02-01T19:15:00",
          "xanchor": "left",
          "xref": "x",
          "y": 0,
          "yanchor": "bottom",
          "yref": "y domain"
         },
         {
          "font": {
           "size": 15
          },
          "showarrow": false,
          "text": "Pasado",
          "x": "2021-02-01T19:15:00",
          "xanchor": "left",
          "xref": "x2",
          "y": 0,
          "yanchor": "bottom",
          "yref": "y2 domain"
         },
         {
          "font": {
           "size": 15
          },
          "showarrow": false,
          "text": "Pasado",
          "x": "2021-02-01T19:15:00",
          "xanchor": "left",
          "xref": "x3",
          "y": 0,
          "yanchor": "bottom",
          "yref": "y3 domain"
         },
         {
          "font": {
           "size": 15
          },
          "showarrow": false,
          "text": "Pasado",
          "x": "2021-02-01T19:15:00",
          "xanchor": "left",
          "xref": "x4",
          "y": 0,
          "yanchor": "bottom",
          "yref": "y4 domain"
         },
         {
          "font": {
           "size": 15
          },
          "showarrow": false,
          "text": "Futuro",
          "x": "2021-02-02T03:15:00",
          "xanchor": "right",
          "xref": "x",
          "y": 0,
          "yanchor": "bottom",
          "yref": "y domain"
         },
         {
          "font": {
           "size": 15
          },
          "showarrow": false,
          "text": "Futuro",
          "x": "2021-02-02T03:15:00",
          "xanchor": "right",
          "xref": "x2",
          "y": 0,
          "yanchor": "bottom",
          "yref": "y2 domain"
         },
         {
          "font": {
           "size": 15
          },
          "showarrow": false,
          "text": "Futuro",
          "x": "2021-02-02T03:15:00",
          "xanchor": "right",
          "xref": "x3",
          "y": 0,
          "yanchor": "bottom",
          "yref": "y3 domain"
         },
         {
          "font": {
           "size": 15
          },
          "showarrow": false,
          "text": "Futuro",
          "x": "2021-02-02T03:15:00",
          "xanchor": "right",
          "xref": "x4",
          "y": 0,
          "yanchor": "bottom",
          "yref": "y4 domain"
         }
        ],
        "font": {
         "color": "white"
        },
        "height": 800,
        "legend": {
         "title": {
          "text": "Leyenda"
         },
         "tracegroupgap": 90
        },
        "shapes": [
         {
          "fillcolor": "#EFE6E6",
          "line": {
           "width": 0
          },
          "opacity": 0.25,
          "type": "rect",
          "x0": "2021-02-01T19:15:00",
          "x1": "2021-02-02T00:15:00",
          "xref": "x",
          "y0": 0,
          "y1": 1,
          "yref": "y domain"
         },
         {
          "fillcolor": "#EFE6E6",
          "line": {
           "width": 0
          },
          "opacity": 0.25,
          "type": "rect",
          "x0": "2021-02-01T19:15:00",
          "x1": "2021-02-02T00:15:00",
          "xref": "x2",
          "y0": 0,
          "y1": 1,
          "yref": "y2 domain"
         },
         {
          "fillcolor": "#EFE6E6",
          "line": {
           "width": 0
          },
          "opacity": 0.25,
          "type": "rect",
          "x0": "2021-02-01T19:15:00",
          "x1": "2021-02-02T00:15:00",
          "xref": "x3",
          "y0": 0,
          "y1": 1,
          "yref": "y3 domain"
         },
         {
          "fillcolor": "#EFE6E6",
          "line": {
           "width": 0
          },
          "opacity": 0.25,
          "type": "rect",
          "x0": "2021-02-01T19:15:00",
          "x1": "2021-02-02T00:15:00",
          "xref": "x4",
          "y0": 0,
          "y1": 1,
          "yref": "y4 domain"
         },
         {
          "fillcolor": "#0EB9B9",
          "line": {
           "width": 0
          },
          "opacity": 0.25,
          "type": "rect",
          "x0": "2021-02-02T00:15:00",
          "x1": "2021-02-02T03:15:00",
          "xref": "x",
          "y0": 0,
          "y1": 1,
          "yref": "y domain"
         },
         {
          "fillcolor": "#0EB9B9",
          "line": {
           "width": 0
          },
          "opacity": 0.25,
          "type": "rect",
          "x0": "2021-02-02T00:15:00",
          "x1": "2021-02-02T03:15:00",
          "xref": "x2",
          "y0": 0,
          "y1": 1,
          "yref": "y2 domain"
         },
         {
          "fillcolor": "#0EB9B9",
          "line": {
           "width": 0
          },
          "opacity": 0.25,
          "type": "rect",
          "x0": "2021-02-02T00:15:00",
          "x1": "2021-02-02T03:15:00",
          "xref": "x3",
          "y0": 0,
          "y1": 1,
          "yref": "y3 domain"
         },
         {
          "fillcolor": "#0EB9B9",
          "line": {
           "width": 0
          },
          "opacity": 0.25,
          "type": "rect",
          "x0": "2021-02-02T00:15:00",
          "x1": "2021-02-02T03:15:00",
          "xref": "x4",
          "y0": 0,
          "y1": 1,
          "yref": "y4 domain"
         }
        ],
        "template": {
         "data": {
          "bar": [
           {
            "error_x": {
             "color": "#f2f5fa"
            },
            "error_y": {
             "color": "#f2f5fa"
            },
            "marker": {
             "line": {
              "color": "rgb(17,17,17)",
              "width": 0.5
             },
             "pattern": {
              "fillmode": "overlay",
              "size": 10,
              "solidity": 0.2
             }
            },
            "type": "bar"
           }
          ],
          "barpolar": [
           {
            "marker": {
             "line": {
              "color": "rgb(17,17,17)",
              "width": 0.5
             },
             "pattern": {
              "fillmode": "overlay",
              "size": 10,
              "solidity": 0.2
             }
            },
            "type": "barpolar"
           }
          ],
          "carpet": [
           {
            "aaxis": {
             "endlinecolor": "#A2B1C6",
             "gridcolor": "#506784",
             "linecolor": "#506784",
             "minorgridcolor": "#506784",
             "startlinecolor": "#A2B1C6"
            },
            "baxis": {
             "endlinecolor": "#A2B1C6",
             "gridcolor": "#506784",
             "linecolor": "#506784",
             "minorgridcolor": "#506784",
             "startlinecolor": "#A2B1C6"
            },
            "type": "carpet"
           }
          ],
          "choropleth": [
           {
            "colorbar": {
             "outlinewidth": 0,
             "ticks": ""
            },
            "type": "choropleth"
           }
          ],
          "contour": [
           {
            "colorbar": {
             "outlinewidth": 0,
             "ticks": ""
            },
            "colorscale": [
             [
              0,
              "#0d0887"
             ],
             [
              0.1111111111111111,
              "#46039f"
             ],
             [
              0.2222222222222222,
              "#7201a8"
             ],
             [
              0.3333333333333333,
              "#9c179e"
             ],
             [
              0.4444444444444444,
              "#bd3786"
             ],
             [
              0.5555555555555556,
              "#d8576b"
             ],
             [
              0.6666666666666666,
              "#ed7953"
             ],
             [
              0.7777777777777778,
              "#fb9f3a"
             ],
             [
              0.8888888888888888,
              "#fdca26"
             ],
             [
              1,
              "#f0f921"
             ]
            ],
            "type": "contour"
           }
          ],
          "contourcarpet": [
           {
            "colorbar": {
             "outlinewidth": 0,
             "ticks": ""
            },
            "type": "contourcarpet"
           }
          ],
          "heatmap": [
           {
            "colorbar": {
             "outlinewidth": 0,
             "ticks": ""
            },
            "colorscale": [
             [
              0,
              "#0d0887"
             ],
             [
              0.1111111111111111,
              "#46039f"
             ],
             [
              0.2222222222222222,
              "#7201a8"
             ],
             [
              0.3333333333333333,
              "#9c179e"
             ],
             [
              0.4444444444444444,
              "#bd3786"
             ],
             [
              0.5555555555555556,
              "#d8576b"
             ],
             [
              0.6666666666666666,
              "#ed7953"
             ],
             [
              0.7777777777777778,
              "#fb9f3a"
             ],
             [
              0.8888888888888888,
              "#fdca26"
             ],
             [
              1,
              "#f0f921"
             ]
            ],
            "type": "heatmap"
           }
          ],
          "heatmapgl": [
           {
            "colorbar": {
             "outlinewidth": 0,
             "ticks": ""
            },
            "colorscale": [
             [
              0,
              "#0d0887"
             ],
             [
              0.1111111111111111,
              "#46039f"
             ],
             [
              0.2222222222222222,
              "#7201a8"
             ],
             [
              0.3333333333333333,
              "#9c179e"
             ],
             [
              0.4444444444444444,
              "#bd3786"
             ],
             [
              0.5555555555555556,
              "#d8576b"
             ],
             [
              0.6666666666666666,
              "#ed7953"
             ],
             [
              0.7777777777777778,
              "#fb9f3a"
             ],
             [
              0.8888888888888888,
              "#fdca26"
             ],
             [
              1,
              "#f0f921"
             ]
            ],
            "type": "heatmapgl"
           }
          ],
          "histogram": [
           {
            "marker": {
             "pattern": {
              "fillmode": "overlay",
              "size": 10,
              "solidity": 0.2
             }
            },
            "type": "histogram"
           }
          ],
          "histogram2d": [
           {
            "colorbar": {
             "outlinewidth": 0,
             "ticks": ""
            },
            "colorscale": [
             [
              0,
              "#0d0887"
             ],
             [
              0.1111111111111111,
              "#46039f"
             ],
             [
              0.2222222222222222,
              "#7201a8"
             ],
             [
              0.3333333333333333,
              "#9c179e"
             ],
             [
              0.4444444444444444,
              "#bd3786"
             ],
             [
              0.5555555555555556,
              "#d8576b"
             ],
             [
              0.6666666666666666,
              "#ed7953"
             ],
             [
              0.7777777777777778,
              "#fb9f3a"
             ],
             [
              0.8888888888888888,
              "#fdca26"
             ],
             [
              1,
              "#f0f921"
             ]
            ],
            "type": "histogram2d"
           }
          ],
          "histogram2dcontour": [
           {
            "colorbar": {
             "outlinewidth": 0,
             "ticks": ""
            },
            "colorscale": [
             [
              0,
              "#0d0887"
             ],
             [
              0.1111111111111111,
              "#46039f"
             ],
             [
              0.2222222222222222,
              "#7201a8"
             ],
             [
              0.3333333333333333,
              "#9c179e"
             ],
             [
              0.4444444444444444,
              "#bd3786"
             ],
             [
              0.5555555555555556,
              "#d8576b"
             ],
             [
              0.6666666666666666,
              "#ed7953"
             ],
             [
              0.7777777777777778,
              "#fb9f3a"
             ],
             [
              0.8888888888888888,
              "#fdca26"
             ],
             [
              1,
              "#f0f921"
             ]
            ],
            "type": "histogram2dcontour"
           }
          ],
          "mesh3d": [
           {
            "colorbar": {
             "outlinewidth": 0,
             "ticks": ""
            },
            "type": "mesh3d"
           }
          ],
          "parcoords": [
           {
            "line": {
             "colorbar": {
              "outlinewidth": 0,
              "ticks": ""
             }
            },
            "type": "parcoords"
           }
          ],
          "pie": [
           {
            "automargin": true,
            "type": "pie"
           }
          ],
          "scatter": [
           {
            "marker": {
             "line": {
              "color": "#283442"
             }
            },
            "type": "scatter"
           }
          ],
          "scatter3d": [
           {
            "line": {
             "colorbar": {
              "outlinewidth": 0,
              "ticks": ""
             }
            },
            "marker": {
             "colorbar": {
              "outlinewidth": 0,
              "ticks": ""
             }
            },
            "type": "scatter3d"
           }
          ],
          "scattercarpet": [
           {
            "marker": {
             "colorbar": {
              "outlinewidth": 0,
              "ticks": ""
             }
            },
            "type": "scattercarpet"
           }
          ],
          "scattergeo": [
           {
            "marker": {
             "colorbar": {
              "outlinewidth": 0,
              "ticks": ""
             }
            },
            "type": "scattergeo"
           }
          ],
          "scattergl": [
           {
            "marker": {
             "line": {
              "color": "#283442"
             }
            },
            "type": "scattergl"
           }
          ],
          "scattermapbox": [
           {
            "marker": {
             "colorbar": {
              "outlinewidth": 0,
              "ticks": ""
             }
            },
            "type": "scattermapbox"
           }
          ],
          "scatterpolar": [
           {
            "marker": {
             "colorbar": {
              "outlinewidth": 0,
              "ticks": ""
             }
            },
            "type": "scatterpolar"
           }
          ],
          "scatterpolargl": [
           {
            "marker": {
             "colorbar": {
              "outlinewidth": 0,
              "ticks": ""
             }
            },
            "type": "scatterpolargl"
           }
          ],
          "scatterternary": [
           {
            "marker": {
             "colorbar": {
              "outlinewidth": 0,
              "ticks": ""
             }
            },
            "type": "scatterternary"
           }
          ],
          "surface": [
           {
            "colorbar": {
             "outlinewidth": 0,
             "ticks": ""
            },
            "colorscale": [
             [
              0,
              "#0d0887"
             ],
             [
              0.1111111111111111,
              "#46039f"
             ],
             [
              0.2222222222222222,
              "#7201a8"
             ],
             [
              0.3333333333333333,
              "#9c179e"
             ],
             [
              0.4444444444444444,
              "#bd3786"
             ],
             [
              0.5555555555555556,
              "#d8576b"
             ],
             [
              0.6666666666666666,
              "#ed7953"
             ],
             [
              0.7777777777777778,
              "#fb9f3a"
             ],
             [
              0.8888888888888888,
              "#fdca26"
             ],
             [
              1,
              "#f0f921"
             ]
            ],
            "type": "surface"
           }
          ],
          "table": [
           {
            "cells": {
             "fill": {
              "color": "#506784"
             },
             "line": {
              "color": "rgb(17,17,17)"
             }
            },
            "header": {
             "fill": {
              "color": "#2a3f5f"
             },
             "line": {
              "color": "rgb(17,17,17)"
             }
            },
            "type": "table"
           }
          ]
         },
         "layout": {
          "annotationdefaults": {
           "arrowcolor": "#f2f5fa",
           "arrowhead": 0,
           "arrowwidth": 1
          },
          "autotypenumbers": "strict",
          "coloraxis": {
           "colorbar": {
            "outlinewidth": 0,
            "ticks": ""
           }
          },
          "colorscale": {
           "diverging": [
            [
             0,
             "#8e0152"
            ],
            [
             0.1,
             "#c51b7d"
            ],
            [
             0.2,
             "#de77ae"
            ],
            [
             0.3,
             "#f1b6da"
            ],
            [
             0.4,
             "#fde0ef"
            ],
            [
             0.5,
             "#f7f7f7"
            ],
            [
             0.6,
             "#e6f5d0"
            ],
            [
             0.7,
             "#b8e186"
            ],
            [
             0.8,
             "#7fbc41"
            ],
            [
             0.9,
             "#4d9221"
            ],
            [
             1,
             "#276419"
            ]
           ],
           "sequential": [
            [
             0,
             "#0d0887"
            ],
            [
             0.1111111111111111,
             "#46039f"
            ],
            [
             0.2222222222222222,
             "#7201a8"
            ],
            [
             0.3333333333333333,
             "#9c179e"
            ],
            [
             0.4444444444444444,
             "#bd3786"
            ],
            [
             0.5555555555555556,
             "#d8576b"
            ],
            [
             0.6666666666666666,
             "#ed7953"
            ],
            [
             0.7777777777777778,
             "#fb9f3a"
            ],
            [
             0.8888888888888888,
             "#fdca26"
            ],
            [
             1,
             "#f0f921"
            ]
           ],
           "sequentialminus": [
            [
             0,
             "#0d0887"
            ],
            [
             0.1111111111111111,
             "#46039f"
            ],
            [
             0.2222222222222222,
             "#7201a8"
            ],
            [
             0.3333333333333333,
             "#9c179e"
            ],
            [
             0.4444444444444444,
             "#bd3786"
            ],
            [
             0.5555555555555556,
             "#d8576b"
            ],
            [
             0.6666666666666666,
             "#ed7953"
            ],
            [
             0.7777777777777778,
             "#fb9f3a"
            ],
            [
             0.8888888888888888,
             "#fdca26"
            ],
            [
             1,
             "#f0f921"
            ]
           ]
          },
          "colorway": [
           "#636efa",
           "#EF553B",
           "#00cc96",
           "#ab63fa",
           "#FFA15A",
           "#19d3f3",
           "#FF6692",
           "#B6E880",
           "#FF97FF",
           "#FECB52"
          ],
          "font": {
           "color": "#f2f5fa"
          },
          "geo": {
           "bgcolor": "rgb(17,17,17)",
           "lakecolor": "rgb(17,17,17)",
           "landcolor": "rgb(17,17,17)",
           "showlakes": true,
           "showland": true,
           "subunitcolor": "#506784"
          },
          "hoverlabel": {
           "align": "left"
          },
          "hovermode": "closest",
          "mapbox": {
           "style": "dark"
          },
          "paper_bgcolor": "rgb(17,17,17)",
          "plot_bgcolor": "rgb(17,17,17)",
          "polar": {
           "angularaxis": {
            "gridcolor": "#506784",
            "linecolor": "#506784",
            "ticks": ""
           },
           "bgcolor": "rgb(17,17,17)",
           "radialaxis": {
            "gridcolor": "#506784",
            "linecolor": "#506784",
            "ticks": ""
           }
          },
          "scene": {
           "xaxis": {
            "backgroundcolor": "rgb(17,17,17)",
            "gridcolor": "#506784",
            "gridwidth": 2,
            "linecolor": "#506784",
            "showbackground": true,
            "ticks": "",
            "zerolinecolor": "#C8D4E3"
           },
           "yaxis": {
            "backgroundcolor": "rgb(17,17,17)",
            "gridcolor": "#506784",
            "gridwidth": 2,
            "linecolor": "#506784",
            "showbackground": true,
            "ticks": "",
            "zerolinecolor": "#C8D4E3"
           },
           "zaxis": {
            "backgroundcolor": "rgb(17,17,17)",
            "gridcolor": "#506784",
            "gridwidth": 2,
            "linecolor": "#506784",
            "showbackground": true,
            "ticks": "",
            "zerolinecolor": "#C8D4E3"
           }
          },
          "shapedefaults": {
           "line": {
            "color": "#f2f5fa"
           }
          },
          "sliderdefaults": {
           "bgcolor": "#C8D4E3",
           "bordercolor": "rgb(17,17,17)",
           "borderwidth": 1,
           "tickwidth": 0
          },
          "ternary": {
           "aaxis": {
            "gridcolor": "#506784",
            "linecolor": "#506784",
            "ticks": ""
           },
           "baxis": {
            "gridcolor": "#506784",
            "linecolor": "#506784",
            "ticks": ""
           },
           "bgcolor": "rgb(17,17,17)",
           "caxis": {
            "gridcolor": "#506784",
            "linecolor": "#506784",
            "ticks": ""
           }
          },
          "title": {
           "x": 0.05
          },
          "updatemenudefaults": {
           "bgcolor": "#506784",
           "borderwidth": 0
          },
          "xaxis": {
           "automargin": true,
           "gridcolor": "#283442",
           "linecolor": "#506784",
           "ticks": "",
           "title": {
            "standoff": 15
           },
           "zerolinecolor": "#283442",
           "zerolinewidth": 2
          },
          "yaxis": {
           "automargin": true,
           "gridcolor": "#283442",
           "linecolor": "#506784",
           "ticks": "",
           "title": {
            "standoff": 15
           },
           "zerolinecolor": "#283442",
           "zerolinewidth": 2
          }
         }
        },
        "title": {
         "text": "[Fecha consulta: 2021-02-02 00:15:00] [Última Instalación Liners: 2021-01-16] [Edad del Molino: Nuevo]"
        },
        "width": 1000,
        "xaxis": {
         "anchor": "y",
         "domain": [
          0,
          1
         ],
         "tickformat": "%H:%M"
        },
        "xaxis2": {
         "anchor": "y2",
         "domain": [
          0,
          1
         ],
         "tickformat": "%H:%M"
        },
        "xaxis3": {
         "anchor": "y3",
         "domain": [
          0,
          1
         ],
         "tickformat": "%H:%M"
        },
        "xaxis4": {
         "anchor": "y4",
         "domain": [
          0,
          1
         ],
         "tickformat": "%H:%M",
         "title": {
          "text": "Tiempo - frecuencia 15 Minutos"
         }
        },
        "yaxis": {
         "anchor": "x",
         "domain": [
          0.84375,
          1
         ],
         "title": {
          "text": "TPH"
         }
        },
        "yaxis2": {
         "anchor": "x2",
         "domain": [
          0.5625,
          0.71875
         ],
         "title": {
          "text": "Celda de Carga"
         }
        },
        "yaxis3": {
         "anchor": "x3",
         "domain": [
          0.28125,
          0.4375
         ],
         "title": {
          "text": "% Pasante"
         }
        },
        "yaxis4": {
         "anchor": "x4",
         "domain": [
          0,
          0.15625
         ],
         "title": {
          "text": "SPI"
         }
        }
       }
      }
     },
     "metadata": {},
     "output_type": "display_data"
    }
   ],
   "source": [
    "# Fechas 15min\n",
    "date_format = \"%Y-%d-%m %H:%M:%S\"\n",
    "start = datetime.strptime(\"2018-01-01 00:00:00\", date_format )\n",
    "end = datetime.strptime( \"2018-02-01 00:00:00\", date_format )\n",
    "timestep = 15\n",
    "time_freq = str(timestep) + 'min'\n",
    "timestamps15 = pd.DataFrame(pd.date_range(start, end, freq=time_freq))\n",
    "timestamps15.rename(columns={0:\"Timestamp\"},\n",
    "               inplace=True)\n",
    "##############\n",
    "\n",
    "# Dia\n",
    "options1 = [i for i in range(0,32)]\n",
    "dia = ipywidgets.Dropdown(\n",
    "    options=options1,\n",
    "    value=options1[1],\n",
    "    description='Día:',\n",
    "    disabled=False,\n",
    "    style={'description_width': 'initial'}\n",
    ")\n",
    "\n",
    "# Mes\n",
    "options2 = [i for i in range(1,13)]\n",
    "mes = ipywidgets.Dropdown(\n",
    "    options=options2,\n",
    "    value=options2[1],\n",
    "    description='Mes:',\n",
    "    disabled=False,\n",
    "    style={'description_width': 'initial'}\n",
    ")\n",
    "\n",
    "# Año\n",
    "options3 = [\"2019\",\"2020\",\"2021\",\"2022\"]\n",
    "anio = ipywidgets.Dropdown(\n",
    "    options=options3,\n",
    "    value=options3[1],\n",
    "    description='Año:',\n",
    "    disabled=False,\n",
    "    style={'description_width': 'initial'}\n",
    ")\n",
    "\n",
    "# Hora\n",
    "horas=pd.Series(timestamps15[\"Timestamp\"]).dt.strftime(' %H:%M ')[0:-1]\n",
    "options4 = horas\n",
    "hora = ipywidgets.Dropdown(\n",
    "    options=options4,\n",
    "    value=options4[1],\n",
    "    description='Hora:',\n",
    "    disabled=False,\n",
    "    style={'description_width': 'initial'}\n",
    ")\n",
    "\n",
    "widget=interactive( widgets_dashboard, dia=dia,mes=mes,anio=anio,hr=hora)\n",
    "items = [anio,mes,dia,hora]\n",
    "left_box = VBox([items[0], items[2]])\n",
    "right_box = VBox([items[1], items[3]])\n",
    "controls=HBox([left_box, right_box])\n",
    "output = widget.children[-1]\n",
    "display(VBox([controls, output]))"
   ]
  }
 ],
 "metadata": {
  "kernelspec": {
   "display_name": "Python 3.9.6 ('Programacion_Cientifica')",
   "language": "python",
   "name": "python3"
  },
  "language_info": {
   "codemirror_mode": {
    "name": "ipython",
    "version": 3
   },
   "file_extension": ".py",
   "mimetype": "text/x-python",
   "name": "python",
   "nbconvert_exporter": "python",
   "pygments_lexer": "ipython3",
   "version": "3.9.6"
  },
  "orig_nbformat": 4,
  "vscode": {
   "interpreter": {
    "hash": "65e97ffa20fbdd895c76c3a1d2c2ade704754874d6e45df701862667e65d73d7"
   }
  }
 },
 "nbformat": 4,
 "nbformat_minor": 2
}
