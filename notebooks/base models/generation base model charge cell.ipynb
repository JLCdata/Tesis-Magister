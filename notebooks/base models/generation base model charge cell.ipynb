{
 "cells": [
  {
   "cell_type": "markdown",
   "id": "3392c8af",
   "metadata": {},
   "source": [
    "# Dashboard with Recommendation"
   ]
  },
  {
   "cell_type": "code",
   "execution_count": 19,
   "id": "fd112713",
   "metadata": {},
   "outputs": [],
   "source": [
    "import pandas as pd\n",
    "import numpy as np\n",
    "import matplotlib.pyplot as plt\n",
    "from mpl_toolkits.mplot3d import Axes3D\n",
    "import seaborn as sns\n",
    "from datetime import datetime\n",
    "from datetime import timedelta\n",
    "import re\n",
    "from dateutil.parser import parse\n",
    "import string\n",
    "import warnings\n",
    "warnings.filterwarnings('ignore')\n",
    "\n",
    "from sklearn.cluster import KMeans\n",
    "\n",
    "import ipywidgets\n",
    "\n",
    "from csaps import csaps\n",
    "\n",
    "import imageio\n",
    "from matplotlib.backends.backend_agg import FigureCanvasAgg as FigureCanvas\n",
    "\n",
    "from statsmodels.nonparametric.smoothers_lowess import lowess\n",
    "\n",
    "from scipy.spatial.transform import Rotation as R\n",
    "from scipy.spatial import distance\n",
    "import pickle\n",
    "pd.set_option('display.max_columns', None)"
   ]
  },
  {
   "cell_type": "markdown",
   "id": "80af5dfa",
   "metadata": {},
   "source": [
    "# Data Loading"
   ]
  },
  {
   "cell_type": "code",
   "execution_count": 4,
   "id": "1adc1e00",
   "metadata": {},
   "outputs": [
    {
     "data": {
      "text/html": [
       "<div>\n",
       "<style scoped>\n",
       "    .dataframe tbody tr th:only-of-type {\n",
       "        vertical-align: middle;\n",
       "    }\n",
       "\n",
       "    .dataframe tbody tr th {\n",
       "        vertical-align: top;\n",
       "    }\n",
       "\n",
       "    .dataframe thead th {\n",
       "        text-align: right;\n",
       "    }\n",
       "</style>\n",
       "<table border=\"1\" class=\"dataframe\">\n",
       "  <thead>\n",
       "    <tr style=\"text-align: right;\">\n",
       "      <th></th>\n",
       "      <th>tag</th>\n",
       "      <th>description</th>\n",
       "      <th>upper bound</th>\n",
       "      <th>lower bound</th>\n",
       "      <th>unit</th>\n",
       "    </tr>\n",
       "  </thead>\n",
       "  <tbody>\n",
       "    <tr>\n",
       "      <th>0</th>\n",
       "      <td>CF:CVB007_S2.PNT.FOX</td>\n",
       "      <td>granulometry</td>\n",
       "      <td>NaN</td>\n",
       "      <td>NaN</td>\n",
       "      <td>NaN</td>\n",
       "    </tr>\n",
       "    <tr>\n",
       "      <th>1</th>\n",
       "      <td>CF:225.WIC8067.MEAS.FOX</td>\n",
       "      <td>charge cell</td>\n",
       "      <td>NaN</td>\n",
       "      <td>NaN</td>\n",
       "      <td>NaN</td>\n",
       "    </tr>\n",
       "    <tr>\n",
       "      <th>2</th>\n",
       "      <td>disp_ley_pirita</td>\n",
       "      <td>pyrite law</td>\n",
       "      <td>NaN</td>\n",
       "      <td>NaN</td>\n",
       "      <td>NaN</td>\n",
       "    </tr>\n",
       "    <tr>\n",
       "      <th>3</th>\n",
       "      <td>disp_ley_calcopirita</td>\n",
       "      <td>chalcopyrite law</td>\n",
       "      <td>NaN</td>\n",
       "      <td>NaN</td>\n",
       "      <td>NaN</td>\n",
       "    </tr>\n",
       "    <tr>\n",
       "      <th>4</th>\n",
       "      <td>disp_ley_calcosina</td>\n",
       "      <td>chalcocite law</td>\n",
       "      <td>NaN</td>\n",
       "      <td>NaN</td>\n",
       "      <td>NaN</td>\n",
       "    </tr>\n",
       "    <tr>\n",
       "      <th>5</th>\n",
       "      <td>disp_crusher_index</td>\n",
       "      <td>crusher index</td>\n",
       "      <td>NaN</td>\n",
       "      <td>NaN</td>\n",
       "      <td>NaN</td>\n",
       "    </tr>\n",
       "    <tr>\n",
       "      <th>6</th>\n",
       "      <td>disp_sag_power_index</td>\n",
       "      <td>sag power index</td>\n",
       "      <td>NaN</td>\n",
       "      <td>NaN</td>\n",
       "      <td>NaN</td>\n",
       "    </tr>\n",
       "    <tr>\n",
       "      <th>7</th>\n",
       "      <td>disp_ball_work_index</td>\n",
       "      <td>ball work index</td>\n",
       "      <td>NaN</td>\n",
       "      <td>NaN</td>\n",
       "      <td>NaN</td>\n",
       "    </tr>\n",
       "    <tr>\n",
       "      <th>8</th>\n",
       "      <td>CF:215.WIC1605A.MEAS.FOX</td>\n",
       "      <td>TPH</td>\n",
       "      <td>NaN</td>\n",
       "      <td>NaN</td>\n",
       "      <td>NaN</td>\n",
       "    </tr>\n",
       "    <tr>\n",
       "      <th>9</th>\n",
       "      <td>CF:EXPERTO:EXP_MS_A.MEAS_5.FOX</td>\n",
       "      <td>HH TPH</td>\n",
       "      <td>NaN</td>\n",
       "      <td>NaN</td>\n",
       "      <td>NaN</td>\n",
       "    </tr>\n",
       "    <tr>\n",
       "      <th>10</th>\n",
       "      <td>CF:EXPERTO:EXP_MS_A.MEAS_1.FOX</td>\n",
       "      <td>LL charge cell</td>\n",
       "      <td>NaN</td>\n",
       "      <td>NaN</td>\n",
       "      <td>NaN</td>\n",
       "    </tr>\n",
       "    <tr>\n",
       "      <th>11</th>\n",
       "      <td>CF:EXPERTO:EXP_MS_A.MEAS_7.FOX</td>\n",
       "      <td>HH charge cell</td>\n",
       "      <td>NaN</td>\n",
       "      <td>NaN</td>\n",
       "      <td>NaN</td>\n",
       "    </tr>\n",
       "    <tr>\n",
       "      <th>12</th>\n",
       "      <td>disp_ley_bornita</td>\n",
       "      <td>bornite law</td>\n",
       "      <td>NaN</td>\n",
       "      <td>NaN</td>\n",
       "      <td>NaN</td>\n",
       "    </tr>\n",
       "    <tr>\n",
       "      <th>13</th>\n",
       "      <td>disp_ley_covelina</td>\n",
       "      <td>covelin law</td>\n",
       "      <td>NaN</td>\n",
       "      <td>NaN</td>\n",
       "      <td>NaN</td>\n",
       "    </tr>\n",
       "    <tr>\n",
       "      <th>14</th>\n",
       "      <td>CF:225.SI8160.PNT.FOX</td>\n",
       "      <td>speed</td>\n",
       "      <td>NaN</td>\n",
       "      <td>NaN</td>\n",
       "      <td>NaN</td>\n",
       "    </tr>\n",
       "    <tr>\n",
       "      <th>15</th>\n",
       "      <td>CF:225:FIC1701CA_RI02.FOX</td>\n",
       "      <td>solid</td>\n",
       "      <td>NaN</td>\n",
       "      <td>NaN</td>\n",
       "      <td>NaN</td>\n",
       "    </tr>\n",
       "    <tr>\n",
       "      <th>16</th>\n",
       "      <td>CF:215.PORC_SOLD.PNT.FOX</td>\n",
       "      <td>solid percentage</td>\n",
       "      <td>NaN</td>\n",
       "      <td>NaN</td>\n",
       "      <td>NaN</td>\n",
       "    </tr>\n",
       "    <tr>\n",
       "      <th>17</th>\n",
       "      <td>CF:225.JI8161.PNT.FOX</td>\n",
       "      <td>power</td>\n",
       "      <td>NaN</td>\n",
       "      <td>NaN</td>\n",
       "      <td>NaN</td>\n",
       "    </tr>\n",
       "    <tr>\n",
       "      <th>18</th>\n",
       "      <td>CF:225.OI8162.PNT.FOX</td>\n",
       "      <td>torque</td>\n",
       "      <td>NaN</td>\n",
       "      <td>NaN</td>\n",
       "      <td>NaN</td>\n",
       "    </tr>\n",
       "    <tr>\n",
       "      <th>19</th>\n",
       "      <td>CF:225.II8163.PNT.FOX</td>\n",
       "      <td>stator current</td>\n",
       "      <td>NaN</td>\n",
       "      <td>NaN</td>\n",
       "      <td>NaN</td>\n",
       "    </tr>\n",
       "    <tr>\n",
       "      <th>20</th>\n",
       "      <td>CF:EXPERTO.HAB_EXP.CO_1.FOX</td>\n",
       "      <td>sag mill expert system</td>\n",
       "      <td>NaN</td>\n",
       "      <td>NaN</td>\n",
       "      <td>NaN</td>\n",
       "    </tr>\n",
       "    <tr>\n",
       "      <th>21</th>\n",
       "      <td>CF:225.FIC1701.MEAS.FOX</td>\n",
       "      <td>water</td>\n",
       "      <td>NaN</td>\n",
       "      <td>NaN</td>\n",
       "      <td>NaN</td>\n",
       "    </tr>\n",
       "  </tbody>\n",
       "</table>\n",
       "</div>"
      ],
      "text/plain": [
       "                               tag             description  upper bound  \\\n",
       "0             CF:CVB007_S2.PNT.FOX            granulometry          NaN   \n",
       "1          CF:225.WIC8067.MEAS.FOX             charge cell          NaN   \n",
       "2                  disp_ley_pirita              pyrite law          NaN   \n",
       "3             disp_ley_calcopirita        chalcopyrite law          NaN   \n",
       "4               disp_ley_calcosina          chalcocite law          NaN   \n",
       "5               disp_crusher_index           crusher index          NaN   \n",
       "6             disp_sag_power_index         sag power index          NaN   \n",
       "7             disp_ball_work_index         ball work index          NaN   \n",
       "8         CF:215.WIC1605A.MEAS.FOX                     TPH          NaN   \n",
       "9   CF:EXPERTO:EXP_MS_A.MEAS_5.FOX                  HH TPH          NaN   \n",
       "10  CF:EXPERTO:EXP_MS_A.MEAS_1.FOX          LL charge cell          NaN   \n",
       "11  CF:EXPERTO:EXP_MS_A.MEAS_7.FOX          HH charge cell          NaN   \n",
       "12                disp_ley_bornita             bornite law          NaN   \n",
       "13               disp_ley_covelina             covelin law          NaN   \n",
       "14           CF:225.SI8160.PNT.FOX                   speed          NaN   \n",
       "15       CF:225:FIC1701CA_RI02.FOX                   solid          NaN   \n",
       "16        CF:215.PORC_SOLD.PNT.FOX        solid percentage          NaN   \n",
       "17           CF:225.JI8161.PNT.FOX                   power          NaN   \n",
       "18           CF:225.OI8162.PNT.FOX                  torque          NaN   \n",
       "19           CF:225.II8163.PNT.FOX          stator current          NaN   \n",
       "20     CF:EXPERTO.HAB_EXP.CO_1.FOX  sag mill expert system          NaN   \n",
       "21         CF:225.FIC1701.MEAS.FOX                   water          NaN   \n",
       "\n",
       "    lower bound  unit  \n",
       "0           NaN   NaN  \n",
       "1           NaN   NaN  \n",
       "2           NaN   NaN  \n",
       "3           NaN   NaN  \n",
       "4           NaN   NaN  \n",
       "5           NaN   NaN  \n",
       "6           NaN   NaN  \n",
       "7           NaN   NaN  \n",
       "8           NaN   NaN  \n",
       "9           NaN   NaN  \n",
       "10          NaN   NaN  \n",
       "11          NaN   NaN  \n",
       "12          NaN   NaN  \n",
       "13          NaN   NaN  \n",
       "14          NaN   NaN  \n",
       "15          NaN   NaN  \n",
       "16          NaN   NaN  \n",
       "17          NaN   NaN  \n",
       "18          NaN   NaN  \n",
       "19          NaN   NaN  \n",
       "20          NaN   NaN  \n",
       "21          NaN   NaN  "
      ]
     },
     "execution_count": 4,
     "metadata": {},
     "output_type": "execute_result"
    }
   ],
   "source": [
    "# read\n",
    "tags=pd.read_excel(\"../../data/meta data/tags_relevantes.xlsx\")\n",
    "tags_cc=tags.tag.to_list()\n",
    "dic={}\n",
    "for i,j in zip(tags.tag,tags.description):\n",
    "    dic[i]=j\n",
    "tags"
   ]
  },
  {
   "cell_type": "code",
   "execution_count": 5,
   "id": "5a4ba807",
   "metadata": {},
   "outputs": [
    {
     "data": {
      "text/html": [
       "<div>\n",
       "<style scoped>\n",
       "    .dataframe tbody tr th:only-of-type {\n",
       "        vertical-align: middle;\n",
       "    }\n",
       "\n",
       "    .dataframe tbody tr th {\n",
       "        vertical-align: top;\n",
       "    }\n",
       "\n",
       "    .dataframe thead th {\n",
       "        text-align: right;\n",
       "    }\n",
       "</style>\n",
       "<table border=\"1\" class=\"dataframe\">\n",
       "  <thead>\n",
       "    <tr style=\"text-align: right;\">\n",
       "      <th></th>\n",
       "      <th>Time 1</th>\n",
       "      <th>TPH</th>\n",
       "      <th>charge cell</th>\n",
       "      <th>granulometry</th>\n",
       "      <th>States</th>\n",
       "      <th>edad_sag</th>\n",
       "      <th>solid percentage</th>\n",
       "      <th>water</th>\n",
       "      <th>speed</th>\n",
       "      <th>crusher index</th>\n",
       "      <th>sag power index</th>\n",
       "      <th>ball work index</th>\n",
       "      <th>chalcopyrite law</th>\n",
       "      <th>pyrite law</th>\n",
       "      <th>chalcocite law</th>\n",
       "      <th>bornite law</th>\n",
       "      <th>covelin law</th>\n",
       "      <th>cluster</th>\n",
       "      <th>cat_small</th>\n",
       "    </tr>\n",
       "  </thead>\n",
       "  <tbody>\n",
       "    <tr>\n",
       "      <th>0</th>\n",
       "      <td>2019-01-01 08:00:00</td>\n",
       "      <td>4018.818142</td>\n",
       "      <td>843.684110</td>\n",
       "      <td>64.022592</td>\n",
       "      <td>D</td>\n",
       "      <td>1.0</td>\n",
       "      <td>70.246111</td>\n",
       "      <td>1704.887646</td>\n",
       "      <td>8.749765</td>\n",
       "      <td>19.6951</td>\n",
       "      <td>143.2197</td>\n",
       "      <td>17.3164</td>\n",
       "      <td>1.14</td>\n",
       "      <td>2.58</td>\n",
       "      <td>0.78</td>\n",
       "      <td>0.0</td>\n",
       "      <td>0.02</td>\n",
       "      <td>3</td>\n",
       "      <td>13</td>\n",
       "    </tr>\n",
       "    <tr>\n",
       "      <th>1</th>\n",
       "      <td>2019-01-01 08:01:00</td>\n",
       "      <td>3976.789547</td>\n",
       "      <td>838.006287</td>\n",
       "      <td>63.920672</td>\n",
       "      <td>D</td>\n",
       "      <td>1.0</td>\n",
       "      <td>70.034488</td>\n",
       "      <td>1700.394278</td>\n",
       "      <td>8.750025</td>\n",
       "      <td>19.6951</td>\n",
       "      <td>143.2197</td>\n",
       "      <td>17.3164</td>\n",
       "      <td>1.14</td>\n",
       "      <td>2.58</td>\n",
       "      <td>0.78</td>\n",
       "      <td>0.0</td>\n",
       "      <td>0.02</td>\n",
       "      <td>3</td>\n",
       "      <td>13</td>\n",
       "    </tr>\n",
       "    <tr>\n",
       "      <th>2</th>\n",
       "      <td>2019-01-01 08:02:00</td>\n",
       "      <td>4047.005457</td>\n",
       "      <td>830.411897</td>\n",
       "      <td>63.789870</td>\n",
       "      <td>D</td>\n",
       "      <td>1.0</td>\n",
       "      <td>70.223170</td>\n",
       "      <td>1720.531756</td>\n",
       "      <td>8.749208</td>\n",
       "      <td>19.6951</td>\n",
       "      <td>143.2197</td>\n",
       "      <td>17.3164</td>\n",
       "      <td>1.14</td>\n",
       "      <td>2.58</td>\n",
       "      <td>0.78</td>\n",
       "      <td>0.0</td>\n",
       "      <td>0.02</td>\n",
       "      <td>3</td>\n",
       "      <td>13</td>\n",
       "    </tr>\n",
       "    <tr>\n",
       "      <th>3</th>\n",
       "      <td>2019-01-01 08:03:00</td>\n",
       "      <td>4072.856177</td>\n",
       "      <td>825.028150</td>\n",
       "      <td>63.983669</td>\n",
       "      <td>D</td>\n",
       "      <td>1.0</td>\n",
       "      <td>70.183939</td>\n",
       "      <td>1732.043406</td>\n",
       "      <td>8.749556</td>\n",
       "      <td>19.6951</td>\n",
       "      <td>143.2197</td>\n",
       "      <td>17.3164</td>\n",
       "      <td>1.14</td>\n",
       "      <td>2.58</td>\n",
       "      <td>0.78</td>\n",
       "      <td>0.0</td>\n",
       "      <td>0.02</td>\n",
       "      <td>3</td>\n",
       "      <td>13</td>\n",
       "    </tr>\n",
       "    <tr>\n",
       "      <th>4</th>\n",
       "      <td>2019-01-01 08:04:00</td>\n",
       "      <td>4118.992273</td>\n",
       "      <td>819.513324</td>\n",
       "      <td>64.460974</td>\n",
       "      <td>E</td>\n",
       "      <td>1.0</td>\n",
       "      <td>70.207796</td>\n",
       "      <td>1749.908282</td>\n",
       "      <td>8.749200</td>\n",
       "      <td>19.6951</td>\n",
       "      <td>143.2197</td>\n",
       "      <td>17.3164</td>\n",
       "      <td>1.14</td>\n",
       "      <td>2.58</td>\n",
       "      <td>0.78</td>\n",
       "      <td>0.0</td>\n",
       "      <td>0.02</td>\n",
       "      <td>3</td>\n",
       "      <td>13</td>\n",
       "    </tr>\n",
       "  </tbody>\n",
       "</table>\n",
       "</div>"
      ],
      "text/plain": [
       "                Time 1          TPH  charge cell  granulometry States  \\\n",
       "0  2019-01-01 08:00:00  4018.818142   843.684110     64.022592      D   \n",
       "1  2019-01-01 08:01:00  3976.789547   838.006287     63.920672      D   \n",
       "2  2019-01-01 08:02:00  4047.005457   830.411897     63.789870      D   \n",
       "3  2019-01-01 08:03:00  4072.856177   825.028150     63.983669      D   \n",
       "4  2019-01-01 08:04:00  4118.992273   819.513324     64.460974      E   \n",
       "\n",
       "   edad_sag  solid percentage        water     speed  crusher index  \\\n",
       "0       1.0         70.246111  1704.887646  8.749765        19.6951   \n",
       "1       1.0         70.034488  1700.394278  8.750025        19.6951   \n",
       "2       1.0         70.223170  1720.531756  8.749208        19.6951   \n",
       "3       1.0         70.183939  1732.043406  8.749556        19.6951   \n",
       "4       1.0         70.207796  1749.908282  8.749200        19.6951   \n",
       "\n",
       "   sag power index  ball work index  chalcopyrite law  pyrite law  \\\n",
       "0         143.2197          17.3164              1.14        2.58   \n",
       "1         143.2197          17.3164              1.14        2.58   \n",
       "2         143.2197          17.3164              1.14        2.58   \n",
       "3         143.2197          17.3164              1.14        2.58   \n",
       "4         143.2197          17.3164              1.14        2.58   \n",
       "\n",
       "   chalcocite law  bornite law  covelin law  cluster cat_small  \n",
       "0            0.78          0.0         0.02        3        13  \n",
       "1            0.78          0.0         0.02        3        13  \n",
       "2            0.78          0.0         0.02        3        13  \n",
       "3            0.78          0.0         0.02        3        13  \n",
       "4            0.78          0.0         0.02        3        13  "
      ]
     },
     "execution_count": 5,
     "metadata": {},
     "output_type": "execute_result"
    }
   ],
   "source": [
    "Z=pd.read_csv(\"../../data/raw data/raw_data_base_model.csv\")\n",
    "Z.sort_index(inplace=True)\n",
    "Z.rename(columns=dic,inplace=True)\n",
    "Z[\"edad_sag\"]=Z[\"edad_sag\"]-1\n",
    "Z[\"cat_small\"]=Z[\"edad_sag\"].astype(int).astype(str)+Z[\"cluster\"].astype(str)\n",
    "Z.head()"
   ]
  },
  {
   "cell_type": "code",
   "execution_count": 6,
   "id": "7992bb30",
   "metadata": {},
   "outputs": [
    {
     "data": {
      "text/plain": [
       "(634918, 19)"
      ]
     },
     "execution_count": 6,
     "metadata": {},
     "output_type": "execute_result"
    }
   ],
   "source": [
    "Z.shape"
   ]
  },
  {
   "cell_type": "code",
   "execution_count": 7,
   "id": "25639ccb",
   "metadata": {},
   "outputs": [
    {
     "data": {
      "text/plain": [
       "array([1., 2., 0.])"
      ]
     },
     "execution_count": 7,
     "metadata": {},
     "output_type": "execute_result"
    }
   ],
   "source": [
    "Z[\"edad_sag\"].unique()"
   ]
  },
  {
   "cell_type": "code",
   "execution_count": 8,
   "id": "b61b28ba",
   "metadata": {},
   "outputs": [
    {
     "data": {
      "text/plain": [
       "array(['13', '11', '10', '12', '22', '23', '20', '21', '03', '00', '02',\n",
       "       '01'], dtype=object)"
      ]
     },
     "execution_count": 8,
     "metadata": {},
     "output_type": "execute_result"
    }
   ],
   "source": [
    "Z[\"cat_small\"].unique()"
   ]
  },
  {
   "cell_type": "code",
   "execution_count": 9,
   "id": "567a9a93",
   "metadata": {},
   "outputs": [
    {
     "data": {
      "text/plain": [
       "['granulometry',\n",
       " 'edad_sag',\n",
       " 'crusher index',\n",
       " 'sag power index',\n",
       " 'ball work index',\n",
       " 'chalcopyrite law',\n",
       " 'pyrite law',\n",
       " 'chalcocite law',\n",
       " 'bornite law',\n",
       " 'covelin law']"
      ]
     },
     "execution_count": 9,
     "metadata": {},
     "output_type": "execute_result"
    }
   ],
   "source": [
    "input_col=['CF:CVB007_S2.PNT.FOX','edad_sag','disp_crusher_index','disp_sag_power_index',\n",
    "         'disp_ball_work_index', 'disp_ley_calcopirita','disp_ley_pirita', 'disp_ley_calcosina',\n",
    "          'disp_ley_bornita','disp_ley_covelina']\n",
    "\n",
    "input_col=list(pd.DataFrame({\"lista\":input_col}).replace(dic)[\"lista\"])\n",
    "input_col"
   ]
  },
  {
   "cell_type": "markdown",
   "id": "5659bd54",
   "metadata": {},
   "source": [
    "# Dispatch Cluster object.\n",
    "\n",
    "The variable `n` sets the number of clusters. We are using `n=4`. Please be aware that for larger n the population of the states gets reduced, and the code might not run until the end."
   ]
  },
  {
   "cell_type": "code",
   "execution_count": 11,
   "id": "b5c0498c",
   "metadata": {},
   "outputs": [
    {
     "name": "stdout",
     "output_type": "stream",
     "text": [
      "Wall time: 982 ms\n"
     ]
    }
   ],
   "source": [
    "%%time\n",
    "n=4\n",
    "kmeans = KMeans(n_clusters=n, random_state=1982).fit(Z[input_col[2:]].drop_duplicates()) \n",
    "Z['cluster']=kmeans.predict(Z[input_col[2:]])\n",
    "\n",
    "pickle.dump(kmeans, open('../../models/Clasificador_dispatch_n_4.pkl', 'wb'))"
   ]
  },
  {
   "cell_type": "markdown",
   "id": "2570e771",
   "metadata": {},
   "source": [
    "# Interactive Widget to explore the raw data."
   ]
  },
  {
   "cell_type": "code",
   "execution_count": 12,
   "id": "ab16a95a",
   "metadata": {},
   "outputs": [
    {
     "data": {
      "application/vnd.jupyter.widget-view+json": {
       "model_id": "c4fc41daf3d34182bc711d402bdd5780",
       "version_major": 2,
       "version_minor": 0
      },
      "text/plain": [
       "interactive(children=(Dropdown(description='Sub-Contexto:', index=1, options=('20', '00', '10', '12', '13', '0…"
      ]
     },
     "metadata": {},
     "output_type": "display_data"
    }
   ],
   "source": [
    "gran = ipywidgets.widgets.BoundedIntText(\n",
    "    value=50,\n",
    "    min=Z['granulometry'].min(),\n",
    "    max=Z['granulometry'].max(),\n",
    "    step=1,\n",
    "    description='Granulometría:',\n",
    "    disabled=False,\n",
    "    style={'description_width': 'initial'}\n",
    ")\n",
    "\n",
    "rango = ipywidgets.FloatSlider(\n",
    "    value=1,\n",
    "    min=0,\n",
    "    max=10.0,\n",
    "    step=0.5,\n",
    "    description='Rango:',\n",
    "    disabled=False,\n",
    "    continuous_update=False,\n",
    "    orientation='horizontal',\n",
    "    readout=True,\n",
    "    readout_format='.1f',\n",
    "    style={'description_width': 'initial'}\n",
    ")\n",
    "\n",
    "cat = ipywidgets.Dropdown(\n",
    "    options=list(Z['cat_small'].value_counts().index),\n",
    "    value=Z['cat_small'].value_counts().index[1],\n",
    "    description='Sub-Contexto:',\n",
    "    disabled=False,\n",
    "    style={'description_width': 'initial'}\n",
    ")\n",
    "\n",
    "\n",
    "\n",
    "\n",
    "\n",
    "\n",
    "\n",
    "\n",
    "def create_scatter(cat, gran, rango):\n",
    "    fig = plt.figure(figsize=(14,4))\n",
    "    ax1 = fig.add_subplot(121)\n",
    "\n",
    "    \n",
    "    tmp=Z[(Z['cat_small']==cat)&(Z['granulometry']>gran-rango)&(Z['granulometry']<gran+rango)]\n",
    "    tmp1=Z[(Z['cat_small']==cat)]\n",
    "\n",
    "    \n",
    "    plt.scatter(x=tmp[tmp['States']=='D']['charge cell'], \n",
    "                y=tmp[tmp['States']=='D']['TPH'], color='blue', alpha=0.6)\n",
    "    plt.scatter(x=tmp[tmp['States']=='E']['charge cell'], \n",
    "                y=tmp[tmp['States']=='E']['TPH'], color='blue', alpha=0.6)\n",
    "    plt.scatter(x=tmp[tmp['States']=='A']['charge cell'], \n",
    "                y=tmp[tmp['States']=='A']['TPH'], color='blue', alpha=0.6)\n",
    "\n",
    "    plt.ylim([tmp1['TPH'].min(),tmp1['TPH'].max()+100])\n",
    "    plt.xlim([tmp1['charge cell'].min(),tmp1['charge cell'].max()+50])\n",
    "    plt.xlabel('Charge Cell')\n",
    "    plt.ylabel('TPH')\n",
    "    \n",
    "    \n",
    "    \n",
    "    \n",
    "    ax2 = fig.add_subplot(122)\n",
    "    d=Z[(Z['cat_small']==cat)][input_col[1:]].rename(columns={'edad_sag':'SAG',\n",
    "                        'disp_crusher_index':'Crusher ind',\n",
    "                        'disp_sag_power_index':'SPI',\n",
    "                        'disp_ball_work_index':'BWI',\n",
    "                        'disp_ley_calcopirita':'Calcopirita',\n",
    "                        'disp_ley_pirita':'Pirita',\n",
    "                        'disp_ley_calcosina':'Calcosina',\n",
    "                        'disp_ley_bornita':'Bornita',\n",
    "                        'disp_ley_covelina':'Covelina'}).describe().T[['mean', 'std']].round(2)\n",
    "    #font_size = 10\n",
    "    bbox = [0.3, 0, 0.7, 1]\n",
    "    ax2.axis('off')\n",
    "    mpl_table = ax2.table(cellText=d.values, rowLabels=d.index, bbox=bbox, colLabels=d.columns, colWidths=[0.3,0.3,0.6])\n",
    "    mpl_table.set_fontsize(10)\n",
    "\n",
    "\n",
    "ipywidgets.interact(create_scatter, cat=cat, rango=rango, gran=gran);"
   ]
  },
  {
   "cell_type": "markdown",
   "id": "70392a84",
   "metadata": {},
   "source": [
    "In this widget we can explore the raw data. In the right pannel, we can see the details of the sub-context. On the top you can select a sub-context, where the first number corresponds to the age of the SAG Mill liners being:\n",
    "\n",
    "- 0: New\n",
    "- 1: Medium\n",
    "- 2: Old\n",
    "\n",
    "As a reminder, each age last for two months.\n",
    "\n",
    "The next widget you can select the granulometry, and vary it. In Rango you can select the range of the granulometry that you want to see, centered on the previous value, e.g., 50 plus minus 1 or 2, etc.\n",
    "\n",
    "The graph corresponds to a curve of TPH vs Charge Cell, and the plots are minute data. The colors corresponds to the type of state, where:\n",
    "\n",
    "- Red : Crossover state between Limited by TPH and Limited by Charge cell.\n",
    "- Yellow or Orange : Limited by TPH.\n",
    "- Blue : Limited by Charge Cell.\n",
    "\n",
    "This is the limited information that we have for the grindability curve for these contexts. Now we need to extract the top shape of this cloud, and use that curve to detect when it starts to decrease, and that is our recommendation.\n"
   ]
  },
  {
   "cell_type": "markdown",
   "id": "004b103e",
   "metadata": {},
   "source": [
    "### 6) Create dictionary with all the images.\n",
    "\n",
    "Please run this next cell, where all the info of the plots will be saved in a dictionary, for later visualuzation."
   ]
  },
  {
   "cell_type": "code",
   "execution_count": 11,
   "id": "5bfbfc3e",
   "metadata": {},
   "outputs": [
    {
     "data": {
      "text/html": [
       "<div>\n",
       "<style scoped>\n",
       "    .dataframe tbody tr th:only-of-type {\n",
       "        vertical-align: middle;\n",
       "    }\n",
       "\n",
       "    .dataframe tbody tr th {\n",
       "        vertical-align: top;\n",
       "    }\n",
       "\n",
       "    .dataframe thead th {\n",
       "        text-align: right;\n",
       "    }\n",
       "</style>\n",
       "<table border=\"1\" class=\"dataframe\">\n",
       "  <thead>\n",
       "    <tr style=\"text-align: right;\">\n",
       "      <th></th>\n",
       "      <th>tag</th>\n",
       "      <th>description</th>\n",
       "      <th>upper bound</th>\n",
       "      <th>lower bound</th>\n",
       "      <th>unit</th>\n",
       "    </tr>\n",
       "  </thead>\n",
       "  <tbody>\n",
       "    <tr>\n",
       "      <th>0</th>\n",
       "      <td>CF:CVB007_S2.PNT.FOX</td>\n",
       "      <td>granulometry</td>\n",
       "      <td>NaN</td>\n",
       "      <td>NaN</td>\n",
       "      <td>NaN</td>\n",
       "    </tr>\n",
       "    <tr>\n",
       "      <th>1</th>\n",
       "      <td>CF:225.WIC8067.MEAS.FOX</td>\n",
       "      <td>charge cell</td>\n",
       "      <td>NaN</td>\n",
       "      <td>NaN</td>\n",
       "      <td>NaN</td>\n",
       "    </tr>\n",
       "    <tr>\n",
       "      <th>2</th>\n",
       "      <td>disp_ley_pirita</td>\n",
       "      <td>pyrite law</td>\n",
       "      <td>NaN</td>\n",
       "      <td>NaN</td>\n",
       "      <td>NaN</td>\n",
       "    </tr>\n",
       "    <tr>\n",
       "      <th>3</th>\n",
       "      <td>disp_ley_calcopirita</td>\n",
       "      <td>chalcopyrite law</td>\n",
       "      <td>NaN</td>\n",
       "      <td>NaN</td>\n",
       "      <td>NaN</td>\n",
       "    </tr>\n",
       "    <tr>\n",
       "      <th>4</th>\n",
       "      <td>disp_ley_calcosina</td>\n",
       "      <td>chalcocite law</td>\n",
       "      <td>NaN</td>\n",
       "      <td>NaN</td>\n",
       "      <td>NaN</td>\n",
       "    </tr>\n",
       "    <tr>\n",
       "      <th>5</th>\n",
       "      <td>disp_crusher_index</td>\n",
       "      <td>crusher index</td>\n",
       "      <td>NaN</td>\n",
       "      <td>NaN</td>\n",
       "      <td>NaN</td>\n",
       "    </tr>\n",
       "    <tr>\n",
       "      <th>6</th>\n",
       "      <td>disp_sag_power_index</td>\n",
       "      <td>sag power index</td>\n",
       "      <td>NaN</td>\n",
       "      <td>NaN</td>\n",
       "      <td>NaN</td>\n",
       "    </tr>\n",
       "    <tr>\n",
       "      <th>7</th>\n",
       "      <td>disp_ball_work_index</td>\n",
       "      <td>ball work index</td>\n",
       "      <td>NaN</td>\n",
       "      <td>NaN</td>\n",
       "      <td>NaN</td>\n",
       "    </tr>\n",
       "    <tr>\n",
       "      <th>8</th>\n",
       "      <td>CF:215.WIC1605A.MEAS.FOX</td>\n",
       "      <td>TPH</td>\n",
       "      <td>NaN</td>\n",
       "      <td>NaN</td>\n",
       "      <td>NaN</td>\n",
       "    </tr>\n",
       "    <tr>\n",
       "      <th>9</th>\n",
       "      <td>CF:EXPERTO:EXP_MS_A.MEAS_5.FOX</td>\n",
       "      <td>HH TPH</td>\n",
       "      <td>NaN</td>\n",
       "      <td>NaN</td>\n",
       "      <td>NaN</td>\n",
       "    </tr>\n",
       "    <tr>\n",
       "      <th>10</th>\n",
       "      <td>CF:EXPERTO:EXP_MS_A.MEAS_1.FOX</td>\n",
       "      <td>LL charge cell</td>\n",
       "      <td>NaN</td>\n",
       "      <td>NaN</td>\n",
       "      <td>NaN</td>\n",
       "    </tr>\n",
       "    <tr>\n",
       "      <th>11</th>\n",
       "      <td>CF:EXPERTO:EXP_MS_A.MEAS_7.FOX</td>\n",
       "      <td>HH charge cell</td>\n",
       "      <td>NaN</td>\n",
       "      <td>NaN</td>\n",
       "      <td>NaN</td>\n",
       "    </tr>\n",
       "    <tr>\n",
       "      <th>12</th>\n",
       "      <td>disp_ley_bornita</td>\n",
       "      <td>bornite law</td>\n",
       "      <td>NaN</td>\n",
       "      <td>NaN</td>\n",
       "      <td>NaN</td>\n",
       "    </tr>\n",
       "    <tr>\n",
       "      <th>13</th>\n",
       "      <td>disp_ley_covelina</td>\n",
       "      <td>covelin law</td>\n",
       "      <td>NaN</td>\n",
       "      <td>NaN</td>\n",
       "      <td>NaN</td>\n",
       "    </tr>\n",
       "    <tr>\n",
       "      <th>14</th>\n",
       "      <td>CF:225.SI8160.PNT.FOX</td>\n",
       "      <td>speed</td>\n",
       "      <td>NaN</td>\n",
       "      <td>NaN</td>\n",
       "      <td>NaN</td>\n",
       "    </tr>\n",
       "    <tr>\n",
       "      <th>15</th>\n",
       "      <td>CF:225:FIC1701CA_RI02.FOX</td>\n",
       "      <td>solid</td>\n",
       "      <td>NaN</td>\n",
       "      <td>NaN</td>\n",
       "      <td>NaN</td>\n",
       "    </tr>\n",
       "    <tr>\n",
       "      <th>16</th>\n",
       "      <td>CF:215.PORC_SOLD.PNT.FOX</td>\n",
       "      <td>solid percentage</td>\n",
       "      <td>NaN</td>\n",
       "      <td>NaN</td>\n",
       "      <td>NaN</td>\n",
       "    </tr>\n",
       "    <tr>\n",
       "      <th>17</th>\n",
       "      <td>CF:225.JI8161.PNT.FOX</td>\n",
       "      <td>power</td>\n",
       "      <td>NaN</td>\n",
       "      <td>NaN</td>\n",
       "      <td>NaN</td>\n",
       "    </tr>\n",
       "    <tr>\n",
       "      <th>18</th>\n",
       "      <td>CF:225.OI8162.PNT.FOX</td>\n",
       "      <td>torque</td>\n",
       "      <td>NaN</td>\n",
       "      <td>NaN</td>\n",
       "      <td>NaN</td>\n",
       "    </tr>\n",
       "    <tr>\n",
       "      <th>19</th>\n",
       "      <td>CF:225.II8163.PNT.FOX</td>\n",
       "      <td>stator current</td>\n",
       "      <td>NaN</td>\n",
       "      <td>NaN</td>\n",
       "      <td>NaN</td>\n",
       "    </tr>\n",
       "    <tr>\n",
       "      <th>20</th>\n",
       "      <td>CF:EXPERTO.HAB_EXP.CO_1.FOX</td>\n",
       "      <td>sag mill expert system</td>\n",
       "      <td>NaN</td>\n",
       "      <td>NaN</td>\n",
       "      <td>NaN</td>\n",
       "    </tr>\n",
       "    <tr>\n",
       "      <th>21</th>\n",
       "      <td>CF:225.FIC1701.MEAS.FOX</td>\n",
       "      <td>water</td>\n",
       "      <td>NaN</td>\n",
       "      <td>NaN</td>\n",
       "      <td>NaN</td>\n",
       "    </tr>\n",
       "  </tbody>\n",
       "</table>\n",
       "</div>"
      ],
      "text/plain": [
       "                               tag             description  upper bound  \\\n",
       "0             CF:CVB007_S2.PNT.FOX            granulometry          NaN   \n",
       "1          CF:225.WIC8067.MEAS.FOX             charge cell          NaN   \n",
       "2                  disp_ley_pirita              pyrite law          NaN   \n",
       "3             disp_ley_calcopirita        chalcopyrite law          NaN   \n",
       "4               disp_ley_calcosina          chalcocite law          NaN   \n",
       "5               disp_crusher_index           crusher index          NaN   \n",
       "6             disp_sag_power_index         sag power index          NaN   \n",
       "7             disp_ball_work_index         ball work index          NaN   \n",
       "8         CF:215.WIC1605A.MEAS.FOX                     TPH          NaN   \n",
       "9   CF:EXPERTO:EXP_MS_A.MEAS_5.FOX                  HH TPH          NaN   \n",
       "10  CF:EXPERTO:EXP_MS_A.MEAS_1.FOX          LL charge cell          NaN   \n",
       "11  CF:EXPERTO:EXP_MS_A.MEAS_7.FOX          HH charge cell          NaN   \n",
       "12                disp_ley_bornita             bornite law          NaN   \n",
       "13               disp_ley_covelina             covelin law          NaN   \n",
       "14           CF:225.SI8160.PNT.FOX                   speed          NaN   \n",
       "15       CF:225:FIC1701CA_RI02.FOX                   solid          NaN   \n",
       "16        CF:215.PORC_SOLD.PNT.FOX        solid percentage          NaN   \n",
       "17           CF:225.JI8161.PNT.FOX                   power          NaN   \n",
       "18           CF:225.OI8162.PNT.FOX                  torque          NaN   \n",
       "19           CF:225.II8163.PNT.FOX          stator current          NaN   \n",
       "20     CF:EXPERTO.HAB_EXP.CO_1.FOX  sag mill expert system          NaN   \n",
       "21         CF:225.FIC1701.MEAS.FOX                   water          NaN   \n",
       "\n",
       "    lower bound  unit  \n",
       "0           NaN   NaN  \n",
       "1           NaN   NaN  \n",
       "2           NaN   NaN  \n",
       "3           NaN   NaN  \n",
       "4           NaN   NaN  \n",
       "5           NaN   NaN  \n",
       "6           NaN   NaN  \n",
       "7           NaN   NaN  \n",
       "8           NaN   NaN  \n",
       "9           NaN   NaN  \n",
       "10          NaN   NaN  \n",
       "11          NaN   NaN  \n",
       "12          NaN   NaN  \n",
       "13          NaN   NaN  \n",
       "14          NaN   NaN  \n",
       "15          NaN   NaN  \n",
       "16          NaN   NaN  \n",
       "17          NaN   NaN  \n",
       "18          NaN   NaN  \n",
       "19          NaN   NaN  \n",
       "20          NaN   NaN  \n",
       "21          NaN   NaN  "
      ]
     },
     "execution_count": 11,
     "metadata": {},
     "output_type": "execute_result"
    }
   ],
   "source": [
    "tags"
   ]
  },
  {
   "cell_type": "code",
   "execution_count": 13,
   "id": "98d9f11a",
   "metadata": {},
   "outputs": [
    {
     "name": "stdout",
     "output_type": "stream",
     "text": [
      "Wall time: 2min 59s\n"
     ]
    }
   ],
   "source": [
    "%%time\n",
    "dic_images={}\n",
    "\n",
    "rango=1\n",
    "\n",
    "for cat in Z['cat_small'].value_counts().index:\n",
    "    \n",
    "    G=np.arange(np.ceil(Z[(Z['cat_small']==cat)]['granulometry'].min()),np.ceil(Z[(Z['cat_small']==cat)]['granulometry'].max()))\n",
    "    \n",
    "    #Generar lista con granulometrias, usaremos el rango pedido, y con los valores enteros.\n",
    "    \n",
    "    dicg={}\n",
    "    \n",
    "    for g in G:\n",
    "    \n",
    "        fig = plt.figure(figsize=(14,4))\n",
    "        ax1 = fig.add_subplot(121)\n",
    "\n",
    "\n",
    "        tmp=Z[(Z['cat_small']==cat)&(Z['granulometry']>g-rango)&(Z['granulometry']<g+rango)]\n",
    "        tmp1=Z[(Z['cat_small']==cat)]\n",
    "\n",
    "\n",
    "        plt.scatter(x=tmp[tmp['States']=='D']['charge cell'], \n",
    "                    y=tmp[tmp['States']=='D']['TPH'], color='blue', alpha=0.6)\n",
    "        plt.scatter(x=tmp[tmp['States']=='E']['charge cell'], \n",
    "                    y=tmp[tmp['States']=='E']['TPH'], color='blue', alpha=0.6)\n",
    "        plt.scatter(x=tmp[tmp['States']=='A']['charge cell'], \n",
    "                    y=tmp[tmp['States']=='A']['TPH'], color='blue', alpha=0.6)\n",
    "\n",
    "        plt.ylim([tmp1['TPH'].min(),tmp1['TPH'].max()+100])\n",
    "        plt.xlim([tmp1['charge cell'].min(),tmp1['charge cell'].max()+50])\n",
    "        plt.xlabel('Charge Cell')\n",
    "        plt.ylabel('TPH')\n",
    "        plt.title('Categoría '+cat+' Granulometría '+str(g))\n",
    "\n",
    "\n",
    "\n",
    "        ax2 = fig.add_subplot(122)\n",
    "        d=Z[(Z['cat_small']==cat)][input_col[1:]].rename(columns={'edad_sag':'SAG',\n",
    "                            'disp_crusher_index':'Crusher ind',\n",
    "                            'disp_sag_power_index':'SPI',\n",
    "                            'disp_ball_work_index':'BWI',\n",
    "                            'disp_ley_calcopirita':'Calcopirita',\n",
    "                            'disp_ley_pirita':'Pirita',\n",
    "                            'disp_ley_calcosina':'Calcosina',\n",
    "                            'disp_ley_bornita':'Bornita',\n",
    "                            'disp_ley_covelina':'Covelina'}).describe().T[['mean', 'std']].round(2)\n",
    "        #font_size = 10\n",
    "        bbox = [0.3, 0, 0.7, 1]\n",
    "        ax2.axis('off')\n",
    "        mpl_table = ax2.table(cellText=d.values, rowLabels=d.index, bbox=bbox, colLabels=d.columns, colWidths=[0.3,0.3,0.6])\n",
    "        mpl_table.set_fontsize(10)\n",
    "        dicg[g]=fig\n",
    "        plt.close()\n",
    "\n",
    "\n",
    "    dic_images[cat]=dicg\n"
   ]
  },
  {
   "cell_type": "markdown",
   "id": "37aebfa7",
   "metadata": {},
   "source": [
    "# Create Gif from previous dictionary."
   ]
  },
  {
   "cell_type": "code",
   "execution_count": 14,
   "id": "94b02a7d",
   "metadata": {},
   "outputs": [],
   "source": [
    "import imageio\n",
    "from matplotlib.backends.backend_agg import FigureCanvasAgg as FigureCanvas"
   ]
  },
  {
   "cell_type": "code",
   "execution_count": 16,
   "id": "c7b1d771",
   "metadata": {},
   "outputs": [
    {
     "name": "stdout",
     "output_type": "stream",
     "text": [
      "Wall time: 2min 26s\n"
     ]
    }
   ],
   "source": [
    "%%time\n",
    "IMAGE=[]\n",
    "for cat in dic_images.keys():\n",
    "    image=[]\n",
    "    for fig in dic_images[cat].values():\n",
    "        canvas = FigureCanvas(fig)\n",
    "        canvas.draw()\n",
    "        width, height = fig.get_size_inches()*fig.get_dpi()\n",
    "        img = np.fromstring(canvas.tostring_rgb(), dtype='uint8').reshape(int(height), int(width), 3)\n",
    "        image.append(img)\n",
    "        IMAGE.append(img)\n",
    "    imageio.mimsave('../../data/meta data/cat_'+cat+'.gif',image)\n",
    "imageio.mimsave('../../data/meta data/ALL_Categories.gif',IMAGE)"
   ]
  },
  {
   "cell_type": "markdown",
   "id": "eb48b3ef",
   "metadata": {},
   "source": [
    "With this code, you can create a gif for all the data. It is quite interesting to obvserve the changes for a given sub-context, as a trend in the maximum charge cell with stable tph is clear."
   ]
  },
  {
   "cell_type": "markdown",
   "id": "bef31acd",
   "metadata": {},
   "source": [
    "### 8) Extract top of grindability curve.\n",
    "\n",
    "This next cell extracts the top of each grindability curve, from which the recommendation will be obtained later.\n",
    "\n",
    "The dictionaries have the following info:\n",
    "\n",
    "- dic2: All the data with scaled TPH for the sub-context in the form of a pandas dataframe with charge cell, tph_scaled and granulometry\n",
    "- dic3: The recommendation for a sub context vs the granulometry."
   ]
  },
  {
   "cell_type": "code",
   "execution_count": 20,
   "id": "c7ada412",
   "metadata": {},
   "outputs": [
    {
     "name": "stdout",
     "output_type": "stream",
     "text": [
      "20\n",
      "00\n",
      "10\n",
      "12\n",
      "13\n",
      "03\n",
      "23\n",
      "02\n",
      "22\n",
      "11\n",
      "21\n",
      "01\n",
      "Wall time: 21min 47s\n"
     ]
    }
   ],
   "source": [
    "%%time\n",
    "dic2={}\n",
    "dic3={}\n",
    "\n",
    "for cat in Z['cat_small'].value_counts().index:\n",
    "\n",
    "    rango=1\n",
    "    G=np.arange(np.ceil(Z[(Z['cat_small']==cat)]['granulometry'].min()),np.ceil(Z[(Z['cat_small']==cat)]['granulometry'].max()))\n",
    "\n",
    "    data=pd.DataFrame({'cc':np.nan, 'tph_scaled':np.nan, 'gran':np.nan}, index=[0])\n",
    "    data2=pd.DataFrame({'cc':np.nan, 'gran':np.nan}, index=[0])\n",
    "    for gran in G[4:-4]:\n",
    "\n",
    "\n",
    "        tmp1=Z[(Z['cat_small']==cat)&(Z['granulometry']>gran-rango)&(Z['granulometry']<gran+rango)&\n",
    "               ((Z['States']=='D')|(Z['States']=='E')|(Z['States']=='A'))\n",
    "               ][['charge cell','TPH']]\n",
    "\n",
    "        #Hay que extraer los puntos sueltos locos nomas, no tenemos otra. No podemos sacarnos la limpieza de datos.\n",
    "\n",
    "        f1=0.5\n",
    "\n",
    "        t=tmp1[(tmp1['charge cell']>tmp1['charge cell'].quantile(f1))&\n",
    "              (tmp1['TPH']>tmp1['TPH'].quantile(f1))].apply(lambda x: (np.sqrt( (tmp1[tmp1['charge cell']>\n",
    "                    tmp1['charge cell'].quantile(f1)]['charge cell']-x[0])**2 +\n",
    "                    (tmp1[tmp1['charge cell']>\n",
    "                    tmp1['charge cell'].quantile(f1)]['TPH']-x[1])**2/10000\n",
    "                              )).mean(), axis=1)\n",
    "\n",
    "        idx=(t.sort_values()-t.sort_values().shift(1)).replace(np.nan, 0).idxmax()\n",
    "        tmp1.drop((t<t.sort_values().loc[idx]).replace(True,np.nan).dropna().index, inplace=True)\n",
    "\n",
    "\n",
    "        df_test=tmp1.round(5)\n",
    "\n",
    "        l9=pd.concat([df_test['TPH'],pd.cut(df_test['charge cell'],\n",
    "            bins=np.linspace(Z[(Z['cat_small']==cat)]['charge cell'].min(),Z[(Z['cat_small']==cat)]['charge cell'].max(), 200),\n",
    "                                                              precision=40).rename('C')],\n",
    "        axis=1).groupby(['C']).quantile(0.95)\n",
    "\n",
    "        l8=pd.concat([df_test['TPH'],pd.cut(df_test['charge cell'],\n",
    "            bins=np.linspace(Z[(Z['cat_small']==cat)]['charge cell'].min(),Z[(Z['cat_small']==cat)]['charge cell'].max(), 200),\n",
    "                                                              precision=40).rename('C')],\n",
    "        axis=1).groupby(['C']).quantile(0.85)\n",
    "\n",
    "\n",
    "        test=pd.Series([(x[0]+y[0])*0.5 for x,y in zip(l9.values,l8.values)],index=[(i.left+i.right)*0.5 for i in l9.index])\n",
    "\n",
    "        tph_min=Z[(Z['cat_small']==cat)]['TPH'].min()\n",
    "\n",
    "        #test.loc[:test.dropna().index[0]].iloc[:-1]=test.max()\n",
    "\n",
    "        test[:tmp1['charge cell'].quantile(0.3)]=test.max()\n",
    "\n",
    "        test.loc[test.dropna().index[-1]:].iloc[1:]=tph_min\n",
    "\n",
    "        test.dropna(inplace=True)\n",
    "\n",
    "        cs=csaps(test.index, test.values, smooth=0.05)\n",
    "\n",
    "        test.loc[:pd.Series(cs(test[tmp1['charge cell'].quantile(0.4):].index), index=test[tmp1['charge cell'].quantile(0.4):].index).idxmax()]=pd.Series(cs(test[tmp1['charge cell'].quantile(0.4):].index), index=test[tmp1['charge cell'].quantile(0.4):].index).max()\n",
    "        test[pd.Series(cs(test[tmp1['charge cell'].quantile(0.4):].index), index=test[tmp1['charge cell'].quantile(0.4):].index).idxmax():]=cs(test[pd.Series(cs(test[tmp1['charge cell'].quantile(0.4):].index), index=test[tmp1['charge cell'].quantile(0.4):].index).idxmax():].index)\n",
    "\n",
    "        #Aca hay que poner el smoothing y lo de la convolución, y guardarlo de manera apropiada.\n",
    "        \n",
    "        step = np.hstack((np.ones(len(test)), -1*np.ones(len(test))))\n",
    "        filtered = lowess(test.values, test.index, is_sorted=True, frac=0.1, it=0)\n",
    "        test2 = pd.Series([x[1] for x in filtered], index=test.index)\n",
    "        resto=test2.max()*0.95\n",
    "        cc_max=pd.Series(pd.Series(np.convolve((test2-resto), step), index=np.arange(len(np.convolve(test2, step))))[:len(test2)].values,\n",
    "          index=test2.index).idxmax()\n",
    "        \n",
    "        data2=pd.concat([data2,\n",
    "                        pd.DataFrame({'cc':cc_max, 'gran':gran}, index=[0])]).dropna().reset_index(drop=True)\n",
    "        \n",
    "        test=test/max(cs(test[tmp1['charge cell'].quantile(0.4):].index))\n",
    "\n",
    "\n",
    "        data=pd.concat([data,\n",
    "            pd.DataFrame({'cc':test.index, 'tph_scaled':test.values, 'gran':gran})]).dropna().reset_index(drop=True)\n",
    "    \n",
    "    \n",
    "\n",
    "    #    test.loc[:pd.Series(cs(test[tmp1['charge cell'].quantile(0.4):].index), index=test[tmp1['charge cell'].quantile(0.4):].index).idxmax()]=pd.Series(cs(test[tmp1['charge cell'].quantile(0.4):].index), index=test[tmp1['charge cell'].quantile(0.4):].index).max()\n",
    "    #    test[pd.Series(cs(test[tmp1['charge cell'].quantile(0.4):].index), index=test[tmp1['charge cell'].quantile(0.4):].index).idxmax():]=cs(test[pd.Series(cs(test[tmp1['charge cell'].quantile(0.4):].index), index=test[tmp1['charge cell'].quantile(0.4):].index).idxmax():].index)\n",
    "\n",
    "    #    plt.plot(test.index, test.values, color='blue', lw=3)\n",
    "\n",
    "        #plt.close()\n",
    "        #dic_08.append(fig)\n",
    "    print(cat)\n",
    "        \n",
    "    dic2[cat]=data \n",
    "    dic3[cat]=data2"
   ]
  },
  {
   "cell_type": "code",
   "execution_count": 21,
   "id": "f6ad1af1",
   "metadata": {},
   "outputs": [
    {
     "name": "stdout",
     "output_type": "stream",
     "text": [
      "20\n"
     ]
    },
    {
     "data": {
      "image/png": "[encoded data removed]",
      "text/plain": [
       "<Figure size 432x288 with 1 Axes>"
      ]
     },
     "metadata": {
      "needs_background": "light"
     },
     "output_type": "display_data"
    },
    {
     "name": "stdout",
     "output_type": "stream",
     "text": [
      "00\n"
     ]
    },
    {
     "data": {
      "image/png": "[encoded data removed]",
      "text/plain": [
       "<Figure size 432x288 with 1 Axes>"
      ]
     },
     "metadata": {
      "needs_background": "light"
     },
     "output_type": "display_data"
    },
    {
     "name": "stdout",
     "output_type": "stream",
     "text": [
      "10\n"
     ]
    },
    {
     "data": {
      "image/png": "[encoded data removed]",
      "text/plain": [
       "<Figure size 432x288 with 1 Axes>"
      ]
     },
     "metadata": {
      "needs_background": "light"
     },
     "output_type": "display_data"
    },
    {
     "name": "stdout",
     "output_type": "stream",
     "text": [
      "12\n"
     ]
    },
    {
     "data": {
      "image/png": "[encoded data removed]",
      "text/plain": [
       "<Figure size 432x288 with 1 Axes>"
      ]
     },
     "metadata": {
      "needs_background": "light"
     },
     "output_type": "display_data"
    },
    {
     "name": "stdout",
     "output_type": "stream",
     "text": [
      "13\n"
     ]
    },
    {
     "data": {
      "image/png": "[encoded data removed]",
      "text/plain": [
       "<Figure size 432x288 with 1 Axes>"
      ]
     },
     "metadata": {
      "needs_background": "light"
     },
     "output_type": "display_data"
    },
    {
     "name": "stdout",
     "output_type": "stream",
     "text": [
      "03\n"
     ]
    },
    {
     "data": {
      "image/png": "[encoded data removed]",
      "text/plain": [
       "<Figure size 432x288 with 1 Axes>"
      ]
     },
     "metadata": {
      "needs_background": "light"
     },
     "output_type": "display_data"
    },
    {
     "name": "stdout",
     "output_type": "stream",
     "text": [
      "23\n"
     ]
    },
    {
     "data": {
      "image/png": "[encoded data removed]",
      "text/plain": [
       "<Figure size 432x288 with 1 Axes>"
      ]
     },
     "metadata": {
      "needs_background": "light"
     },
     "output_type": "display_data"
    },
    {
     "name": "stdout",
     "output_type": "stream",
     "text": [
      "02\n"
     ]
    },
    {
     "data": {
      "image/png": "[encoded data removed]",
      "text/plain": [
       "<Figure size 432x288 with 1 Axes>"
      ]
     },
     "metadata": {
      "needs_background": "light"
     },
     "output_type": "display_data"
    },
    {
     "name": "stdout",
     "output_type": "stream",
     "text": [
      "22\n"
     ]
    },
    {
     "data": {
      "image/png": "[encoded data removed]",
      "text/plain": [
       "<Figure size 432x288 with 1 Axes>"
      ]
     },
     "metadata": {
      "needs_background": "light"
     },
     "output_type": "display_data"
    },
    {
     "name": "stdout",
     "output_type": "stream",
     "text": [
      "11\n"
     ]
    },
    {
     "data": {
      "image/png": "[encoded data removed]",
      "text/plain": [
       "<Figure size 432x288 with 1 Axes>"
      ]
     },
     "metadata": {
      "needs_background": "light"
     },
     "output_type": "display_data"
    },
    {
     "name": "stdout",
     "output_type": "stream",
     "text": [
      "21\n"
     ]
    },
    {
     "data": {
      "image/png": "[encoded data removed]",
      "text/plain": [
       "<Figure size 432x288 with 1 Axes>"
      ]
     },
     "metadata": {
      "needs_background": "light"
     },
     "output_type": "display_data"
    },
    {
     "name": "stdout",
     "output_type": "stream",
     "text": [
      "01\n"
     ]
    },
    {
     "data": {
      "image/png": "[encoded data removed]",
      "text/plain": [
       "<Figure size 432x288 with 1 Axes>"
      ]
     },
     "metadata": {
      "needs_background": "light"
     },
     "output_type": "display_data"
    }
   ],
   "source": [
    "for i in dic3.keys():\n",
    "    print(i)\n",
    "    dic3[i].set_index('gran').plot()\n",
    "    plt.show()"
   ]
  },
  {
   "cell_type": "markdown",
   "id": "f9beb0c2",
   "metadata": {},
   "source": [
    "With the following cell you can save the dictionary of curves as a pickle object."
   ]
  },
  {
   "cell_type": "code",
   "execution_count": 23,
   "id": "39bd69f8",
   "metadata": {},
   "outputs": [],
   "source": [
    "pickle.dump(dic3, open('../../models/Curvas de celda de carga vs granulometria actualizado.pkl', 'wb'))"
   ]
  },
  {
   "cell_type": "markdown",
   "id": "7ca2378b",
   "metadata": {},
   "source": [
    "### 9) Final Dashboard"
   ]
  },
  {
   "cell_type": "code",
   "execution_count": 65,
   "id": "81e20203",
   "metadata": {
    "scrolled": false
   },
   "outputs": [
    {
     "data": {
      "application/vnd.jupyter.widget-view+json": {
       "model_id": "fad0b1c7b092415ab0cecb8cb3b09073",
       "version_major": 2,
       "version_minor": 0
      },
      "text/plain": [
       "interactive(children=(Dropdown(description='Sub-Contexto:', index=1, options=('20', '00', '10', '12', '13', '0…"
      ]
     },
     "metadata": {},
     "output_type": "display_data"
    }
   ],
   "source": [
    "cat = ipywidgets.Dropdown(\n",
    "    options=list(Z['cat_small'].value_counts().index),\n",
    "    value=Z['cat_small'].value_counts().index[1],\n",
    "    description='Sub-Contexto:',\n",
    "    disabled=False,\n",
    "    style={'description_width': 'initial'}\n",
    "\n",
    ")\n",
    "\n",
    "gran = ipywidgets.widgets.BoundedIntText(\n",
    "    value=50,\n",
    "    min=Z['granulometry'].min(),\n",
    "    max=Z['granulometry'].max(),\n",
    "    step=1,\n",
    "    description='Granulometría:',\n",
    "    disabled=False,\n",
    "    style={'description_width': 'initial'}\n",
    ")\n",
    "\n",
    "\n",
    "\n",
    "\n",
    "def create_scatter(cat, gran):\n",
    "    fig = plt.figure(figsize=(14,8))\n",
    "    ax1 = fig.add_subplot(221)\n",
    "    data=dic2[cat]\n",
    "    \n",
    "\n",
    "    #plt.scatter(y=tmp['cc'], x=tmp['gran'], color='black')\n",
    "\n",
    "    plt.ylim([data['cc'].quantile(0.5),data['cc'].max()])\n",
    "    plt.xlim([data['gran'].min(),data['gran'].max()])\n",
    "    plt.axvline(x=gran, lw=3, color='red')\n",
    "    dic3[cat].set_index('gran').plot(ax=ax1, color='green', lw=4)\n",
    "    plt.ylabel('Charge Cell')\n",
    "    plt.xlabel('Granulometry')\n",
    "    plt.title('Sub Context '+cat)\n",
    "    \n",
    "    test=dic3[cat].set_index('cc')\n",
    "    filtered = lowess( test.index,[x[0] for x in test.values], is_sorted=True, frac=0.3, it=0)\n",
    "\n",
    "    #pd.Series([x[1] for x in filtered], index=[x[0] for x in filtered]).plot(ax=ax1, color='red', lw=4, style='--')\n",
    "\n",
    "    \n",
    "    ax2 = fig.add_subplot(222)\n",
    "    d=Z[(Z['cat_small']==cat)][input_col[1:]].rename(columns={'edad_sag':'SAG',\n",
    "                        'disp_crusher_index':'Crusher ind',\n",
    "                        'disp_sag_power_index':'SPI',\n",
    "                        'disp_ball_work_index':'BWI',\n",
    "                        'disp_ley_calcopirita':'Calcopirita',\n",
    "                        'disp_ley_pirita':'Pirita',\n",
    "                        'disp_ley_calcosina':'Calcosina',\n",
    "                        'disp_ley_bornita':'Bornita',\n",
    "                        'disp_ley_covelina':'Covelina'}).describe().T[['mean', 'std']].round(2)\n",
    "    #font_size = 10\n",
    "    bbox = [0.3, 0, 0.7, 1]\n",
    "    ax2.axis('off')\n",
    "    mpl_table = ax2.table(cellText=d.values, rowLabels=d.index, bbox=bbox, colLabels=d.columns, colWidths=[0.3,0.3,0.6])\n",
    "    mpl_table.set_fontsize(10)\n",
    "    \n",
    "    ax1 = fig.add_subplot(223)\n",
    "    tmp1=Z[(Z['cat_small']==cat)&(Z['granulometry']>gran-rango)&(Z['granulometry']<gran+rango)&\n",
    "       ((Z['States']=='D')|(Z['States']=='E')|(Z['States']=='A'))\n",
    "       ][['charge cell','TPH']]\n",
    "\n",
    "#Hay que extraer los puntos sueltos locos nomas, no tenemos otra. No podemos sacarnos la limpieza de datos.\n",
    "\n",
    "    f1=0.5\n",
    "\n",
    "    t=tmp1[(tmp1['charge cell']>tmp1['charge cell'].quantile(f1))&\n",
    "          (tmp1['TPH']>tmp1['TPH'].quantile(f1))].apply(lambda x: (np.sqrt( (tmp1[tmp1['charge cell']>\n",
    "                tmp1['charge cell'].quantile(f1)]['charge cell']-x[0])**2 +\n",
    "                (tmp1[tmp1['charge cell']>\n",
    "                tmp1['charge cell'].quantile(f1)]['TPH']-x[1])**2/10000\n",
    "                          )).mean(), axis=1)\n",
    "\n",
    "    idx=(t.sort_values()-t.sort_values().shift(1)).idxmax()\n",
    "    tmp1.drop((t<t.sort_values().loc[idx]).replace(True,np.nan).dropna().index, inplace=True)\n",
    "    tmp1['States']=Z['States'].loc[tmp1.index]\n",
    "    \n",
    "    plt.scatter(x=tmp1[tmp1['States']=='D']['charge cell'], y=tmp1[tmp1['States']=='D']['TPH'], color='blue')\n",
    "    plt.scatter(x=tmp1[tmp1['States']=='E']['charge cell'], y=tmp1[tmp1['States']=='E']['TPH'], color='blue', alpha=0.5)\n",
    "    plt.scatter(x=tmp1[tmp1['States']=='A']['charge cell'], y=tmp1[tmp1['States']=='A']['TPH'], color='blue')\n",
    "\n",
    "\n",
    "    df_test=tmp1.round(5)\n",
    "\n",
    "    l9=pd.concat([df_test['TPH'],pd.cut(df_test['charge cell'],\n",
    "        bins=np.linspace(Z[(Z['cat_small']==cat)]['charge cell'].min(),Z[(Z['cat_small']==cat)]['charge cell'].max(), 200),\n",
    "                                                          precision=40).rename('C')],\n",
    "    axis=1).groupby(['C']).quantile(0.95)\n",
    "\n",
    "    l8=pd.concat([df_test['TPH'],pd.cut(df_test['charge cell'],\n",
    "        bins=np.linspace(Z[(Z['cat_small']==cat)]['charge cell'].min(),Z[(Z['cat_small']==cat)]['charge cell'].max(), 200),\n",
    "                                                          precision=40).rename('C')],\n",
    "    axis=1).groupby(['C']).quantile(0.85)\n",
    "\n",
    "\n",
    "    test=pd.Series([(x[0]+y[0])*0.5 for x,y in zip(l9.values,l8.values)],index=[(i.left+i.right)*0.5 for i in l9.index])\n",
    "\n",
    "    tph_min=Z[(Z['cat_small']==cat)]['TPH'].min()\n",
    "\n",
    "    #test.loc[:test.dropna().index[0]].iloc[:-1]=test.max()\n",
    "\n",
    "    test[:tmp1['charge cell'].quantile(0.3)]=test.max()\n",
    "\n",
    "    test.loc[test.dropna().index[-1]:].iloc[1:]=tph_min\n",
    "\n",
    "    test.dropna(inplace=True)\n",
    "\n",
    "    cs=csaps(test.index, test.values, smooth=0.05)\n",
    "\n",
    "    test.loc[:pd.Series(cs(test[tmp1['charge cell'].quantile(0.4):].index), index=test[tmp1['charge cell'].quantile(0.4):].index).idxmax()]=pd.Series(cs(test[tmp1['charge cell'].quantile(0.4):].index), index=test[tmp1['charge cell'].quantile(0.4):].index).max()\n",
    "    test[pd.Series(cs(test[tmp1['charge cell'].quantile(0.4):].index), index=test[tmp1['charge cell'].quantile(0.4):].index).idxmax():]=cs(test[pd.Series(cs(test[tmp1['charge cell'].quantile(0.4):].index), index=test[tmp1['charge cell'].quantile(0.4):].index).idxmax():].index)\n",
    "\n",
    "    plt.plot(test.index, test.values, color='black', lw=3)\n",
    "    plt.xlim((test.index[0], test.index[-1]))\n",
    "    plt.ylim(test.min())\n",
    "\n",
    "    plt.title('Granulometry '+ str(gran))\n",
    "    plt.ylabel('TPH')\n",
    "    plt.xlabel('Charge Cell')\n",
    "    plt.axvline(x=dic3[cat].set_index('gran').loc[gran]['cc'], color='green', lw=5)\n",
    "    plt.tight_layout()\n",
    "\n",
    "    ax3=fig.add_subplot(224)\n",
    "    tmpx=Z[(Z['cat_small']==cat)]\n",
    "    tmpx['gran']=tmpx['granulometry'].round()\n",
    "    #tmpx.groupby('gran')['States'].value_counts().unstack().plot.area(color={'A':'red','D':'blue', 'E':'orange'}, ax=ax3)\n",
    "    #plt.ylabel('Conteo')\n",
    "    #plt.xlabel('Granulometría')\n",
    "    \n",
    "    \n",
    "    ax4=ax3.twinx()\n",
    "\n",
    "    tmpx.groupby('gran')['States'].value_counts().unstack().fillna(0).div(\n",
    "    tmpx.groupby('gran')['States'].value_counts().unstack().fillna(0).sum(axis=1), axis=0).mul(\n",
    "    100).plot.area(color={'A':'blue','D':'blue', 'E':'blue'},\n",
    "     ax=ax3, ylabel='Percentage', xlabel='Granulometry')\n",
    "    tmpx.groupby('gran')['States'].value_counts().unstack().fillna(0).sum(axis=1).plot(ax=ax4, color='white', lw=5, style='--',\n",
    "                ylabel='Total Count', xlabel='Granulometry')\n",
    "    plt.title('State Fraction and total count')\n",
    "    plt.ylim(0);\n",
    "    plt.tight_layout()\n",
    "\n",
    "ipywidgets.interact(create_scatter, cat=cat, gran=gran);"
   ]
  },
  {
   "cell_type": "markdown",
   "id": "2749932c",
   "metadata": {},
   "source": [
    "### 10) Dashboard explanation\n",
    "\n",
    "- Widgets allow you to select a sub-context (age of the mill plus dispatch cluster) and a granulometry.\n",
    "- Top left graph: High limit for the charge cell vs granulometry for the sub-context selected.\n",
    "- Top right table: Table with information about the sub context\n",
    "- Bottom left graph: Colored raw data, with a black line that indicates the top edge of the curve, and a green curve that is the selected point where the TPH starts to decrease.\n",
    "- Bottom right graph: This graph has two pieces of information. The colored plot shows the percentage of each state of the given granulometry + sub-context, and the white line the total count of states for each granulometry. This graph, specially requested by Felipe Contreras (felipe.contreras@angloamerican.com), shows how the mill operates for changes in granulometry, being able to recognize when the Mill was used more with limited TPH, etc.\n",
    "\n",
    "### 11) Final comments on Dashboard\n",
    "\n",
    "This dashboard proposal, gives the operator an enourmous amount of information, that from my naive point of view, give him all the information needed to be prepared for a particular sub-context. As he now knows how the maximum TPH behaves with the granulometry, he has a tool understand his operation. Please note that this dashboard has not been reviewed by anyone from the operation, and it only takes into account my current knowledge about the SAG Mill operation, which is very limited. As for a given sub-context I can have so much information, the only requirement that I am missing is a forecast of the granulometry, hence we raise the need for such project. There are many open questions about this project, which will be listed on a different notebook, but if all works out, the next step will be just to replace the input of a HH for the charge cell, for the recommendation given by this approach. And, as it does not involve any modelling, this approach can be translated to other SAG or AG Mills naturally. Please refer to my email for further questions and thanks for reading."
   ]
  }
 ],
 "metadata": {
  "kernelspec": {
   "display_name": "Python 3.9.6 ('Programacion_Cientifica')",
   "language": "python",
   "name": "python3"
  },
  "language_info": {
   "codemirror_mode": {
    "name": "ipython",
    "version": 3
   },
   "file_extension": ".py",
   "mimetype": "text/x-python",
   "name": "python",
   "nbconvert_exporter": "python",
   "pygments_lexer": "ipython3",
   "version": "3.6.13"
  },
  "vscode": {
   "interpreter": {
    "hash": "65e97ffa20fbdd895c76c3a1d2c2ade704754874d6e45df701862667e65d73d7"
   }
  }
 },
 "nbformat": 4,
 "nbformat_minor": 5
}
